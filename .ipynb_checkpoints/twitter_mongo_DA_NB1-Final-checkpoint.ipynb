{
 "cells": [
  {
   "cell_type": "code",
   "execution_count": 1,
   "metadata": {},
   "outputs": [],
   "source": [
    "#!conda install --yes --quiet pymongo"
   ]
  },
  {
   "cell_type": "code",
   "execution_count": 2,
   "metadata": {},
   "outputs": [
    {
     "name": "stdout",
     "output_type": "stream",
     "text": [
      "Collecting twitter\n",
      "  Using cached twitter-1.18.0-py2.py3-none-any.whl\n",
      "Installing collected packages: twitter\n",
      "Successfully installed twitter-1.18.0\n"
     ]
    }
   ],
   "source": [
    "#!pip install twitter"
   ]
  },
  {
   "cell_type": "code",
   "execution_count": 1,
   "metadata": {},
   "outputs": [],
   "source": [
    "import lib.mongo_utilities as mongo\n",
    "import pymongo\n",
    "import twitter\n",
    "from twitter import OAuth \n",
    "from twitter import TwitterStream \n",
    "import pandas as pd\n",
    "from tqdm import tqdm\n",
    "from time import sleep\n",
    "\n",
    "# my authentication\n",
    "my_auth_dict={\n",
    "               'CONSUMER_KEY':'vSDP5sxilw6chhuD2CwtEyOmw',\n",
    "               'CONSUMER_SECRET':'burFncmKxLlZme9IHwukubgXSi8CqHrTzg7ui0x09M2tQ7nOUb',\n",
    "               'ACCESS_TOKEN':'930880332827521024-isEVd6n420hBVlriG5eRQaFA0PIu6bD',\n",
    "               'ACCESS_SECRET':'klQlKPoVHVBWAa2XL0pmM7DBzLBcb42sUPhlzN8hgugvU'\n",
    "             }\n",
    "\n",
    "# twitter authentication\n",
    "oauth = OAuth(my_auth_dict['ACCESS_TOKEN'],\n",
    "              my_auth_dict['ACCESS_SECRET'],\n",
    "              my_auth_dict['CONSUMER_KEY'],\n",
    "              my_auth_dict['CONSUMER_SECRET'])\n"
   ]
  },
  {
   "cell_type": "code",
   "execution_count": 2,
   "metadata": {},
   "outputs": [],
   "source": [
    "#**************** Twitter streamer for realtime tweets. ********************"
   ]
  },
  {
   "cell_type": "code",
   "execution_count": 31,
   "metadata": {},
   "outputs": [],
   "source": [
    "def twit_pullby_geoloc(geo_box):\n",
    "    \n",
    "    # Pull a tweet from the twitter stream.\n",
    "    twitter_stream = TwitterStream(auth=oauth) \n",
    "    twitterator = twitter_stream.statuses.filter(track='RT', locations=geo_box, language='en', tweet_mode='extended')\n",
    "    # get tweet\n",
    "    this_tweet = next(twitterator)\n",
    "    \n",
    "    return(this_tweet)"
   ]
  },
  {
   "cell_type": "code",
   "execution_count": 5,
   "metadata": {},
   "outputs": [],
   "source": [
    "def twit_pullby_track(track_param):\n",
    "    \n",
    "    # Pull a tweet from the twitter stream.\n",
    "    twitter_stream = TwitterStream(auth=oauth) \n",
    "    twitterator = twitter_stream.statuses.filter(track=track_param, language='en', tweet_mode='extended')\n",
    "    # get tweet\n",
    "    this_tweet = next(twitterator)\n",
    "    \n",
    "    return(this_tweet)"
   ]
  },
  {
   "cell_type": "code",
   "execution_count": 6,
   "metadata": {},
   "outputs": [
    {
     "data": {
      "text/plain": [
       "'RT @LaughingLatina: #RT if you Face belong deep in my Big #Latina #Ass\\n@ https://t.co/0o2K75zqik\\n\\n#FaceSitting #AssWorship #BigButts… '"
      ]
     },
     "execution_count": 6,
     "metadata": {},
     "output_type": "execute_result"
    }
   ],
   "source": [
    "# pull retweets by specifying track_param='RT'\n",
    "this_tweet = twit_pullby_track(track_param='RT @')\n",
    "this_tweet['text']"
   ]
  },
  {
   "cell_type": "code",
   "execution_count": 7,
   "metadata": {},
   "outputs": [
    {
     "data": {
      "text/plain": [
       "{'contributors': None,\n",
       " 'coordinates': None,\n",
       " 'created_at': 'Mon Nov 27 16:16:03 +0000 2017',\n",
       " 'entities': {'hashtags': [{'indices': [20, 23], 'text': 'RT'},\n",
       "   {'indices': [58, 65], 'text': 'Latina'},\n",
       "   {'indices': [66, 70], 'text': 'Ass'},\n",
       "   {'indices': [98, 110], 'text': 'FaceSitting'},\n",
       "   {'indices': [111, 122], 'text': 'AssWorship'},\n",
       "   {'indices': [123, 132], 'text': 'BigButts'}],\n",
       "  'symbols': [],\n",
       "  'urls': [{'display_url': 'LaughingLatina.com',\n",
       "    'expanded_url': 'http://LaughingLatina.com',\n",
       "    'indices': [73, 96],\n",
       "    'url': 'https://t.co/0o2K75zqik'}],\n",
       "  'user_mentions': [{'id': 191989793,\n",
       "    'id_str': '191989793',\n",
       "    'indices': [3, 18],\n",
       "    'name': '♀Jasmine Mendez♀🔥',\n",
       "    'screen_name': 'LaughingLatina'}]},\n",
       " 'favorite_count': 0,\n",
       " 'favorited': False,\n",
       " 'filter_level': 'low',\n",
       " 'geo': None,\n",
       " 'id': 935180429665038336,\n",
       " 'id_str': '935180429665038336',\n",
       " 'in_reply_to_screen_name': None,\n",
       " 'in_reply_to_status_id': None,\n",
       " 'in_reply_to_status_id_str': None,\n",
       " 'in_reply_to_user_id': None,\n",
       " 'in_reply_to_user_id_str': None,\n",
       " 'is_quote_status': False,\n",
       " 'lang': 'en',\n",
       " 'place': None,\n",
       " 'possibly_sensitive': False,\n",
       " 'quote_count': 0,\n",
       " 'reply_count': 0,\n",
       " 'retweet_count': 0,\n",
       " 'retweeted': False,\n",
       " 'retweeted_status': {'contributors': None,\n",
       "  'coordinates': None,\n",
       "  'created_at': 'Sun Oct 15 16:55:04 +0000 2017',\n",
       "  'display_text_range': [0, 140],\n",
       "  'entities': {'hashtags': [{'indices': [0, 3], 'text': 'RT'},\n",
       "    {'indices': [38, 45], 'text': 'Latina'},\n",
       "    {'indices': [46, 50], 'text': 'Ass'},\n",
       "    {'indices': [78, 90], 'text': 'FaceSitting'},\n",
       "    {'indices': [91, 102], 'text': 'AssWorship'},\n",
       "    {'indices': [103, 112], 'text': 'BigButts'}],\n",
       "   'symbols': [],\n",
       "   'urls': [{'display_url': 'LaughingLatina.com',\n",
       "     'expanded_url': 'http://LaughingLatina.com',\n",
       "     'indices': [53, 76],\n",
       "     'url': 'https://t.co/0o2K75zqik'},\n",
       "    {'display_url': 'twitter.com/i/web/status/9…',\n",
       "     'expanded_url': 'https://twitter.com/i/web/status/919607570049875968',\n",
       "     'indices': [114, 137],\n",
       "     'url': 'https://t.co/nbMg3zzCvS'}],\n",
       "   'user_mentions': []},\n",
       "  'extended_tweet': {'display_text_range': [0, 135],\n",
       "   'entities': {'hashtags': [{'indices': [0, 3], 'text': 'RT'},\n",
       "     {'indices': [38, 45], 'text': 'Latina'},\n",
       "     {'indices': [46, 50], 'text': 'Ass'},\n",
       "     {'indices': [78, 90], 'text': 'FaceSitting'},\n",
       "     {'indices': [91, 102], 'text': 'AssWorship'},\n",
       "     {'indices': [103, 112], 'text': 'BigButts'},\n",
       "     {'indices': [113, 120], 'text': 'Culote'},\n",
       "     {'indices': [121, 135], 'text': 'AssSmothering'}],\n",
       "    'media': [{'display_url': 'pic.twitter.com/R2reiNHEDv',\n",
       "      'expanded_url': 'https://twitter.com/LaughingLatina/status/919607570049875968/video/1',\n",
       "      'id': 919606169722798080,\n",
       "      'id_str': '919606169722798080',\n",
       "      'indices': [136, 159],\n",
       "      'media_url': 'http://pbs.twimg.com/ext_tw_video_thumb/919606169722798080/pu/img/Yf7L4uaOhrHWqMc7.jpg',\n",
       "      'media_url_https': 'https://pbs.twimg.com/ext_tw_video_thumb/919606169722798080/pu/img/Yf7L4uaOhrHWqMc7.jpg',\n",
       "      'sizes': {'large': {'h': 720, 'resize': 'fit', 'w': 1280},\n",
       "       'medium': {'h': 675, 'resize': 'fit', 'w': 1200},\n",
       "       'small': {'h': 383, 'resize': 'fit', 'w': 680},\n",
       "       'thumb': {'h': 150, 'resize': 'crop', 'w': 150}},\n",
       "      'type': 'video',\n",
       "      'url': 'https://t.co/R2reiNHEDv',\n",
       "      'video_info': {'aspect_ratio': [16, 9],\n",
       "       'duration_millis': 34935,\n",
       "       'variants': [{'bitrate': 320000,\n",
       "         'content_type': 'video/mp4',\n",
       "         'url': 'https://video.twimg.com/ext_tw_video/919606169722798080/pu/vid/320x180/1v3B_UGeaW-oTHO3.mp4'},\n",
       "        {'content_type': 'application/x-mpegURL',\n",
       "         'url': 'https://video.twimg.com/ext_tw_video/919606169722798080/pu/pl/nQ5N0nwYvabAWYSD.m3u8'},\n",
       "        {'bitrate': 832000,\n",
       "         'content_type': 'video/mp4',\n",
       "         'url': 'https://video.twimg.com/ext_tw_video/919606169722798080/pu/vid/640x360/aABoixUtJ3F-D_CQ.mp4'},\n",
       "        {'bitrate': 2176000,\n",
       "         'content_type': 'video/mp4',\n",
       "         'url': 'https://video.twimg.com/ext_tw_video/919606169722798080/pu/vid/1280x720/anEX1j2rq57bT0fF.mp4'}]}}],\n",
       "    'symbols': [],\n",
       "    'urls': [{'display_url': 'LaughingLatina.com',\n",
       "      'expanded_url': 'http://LaughingLatina.com',\n",
       "      'indices': [53, 76],\n",
       "      'url': 'https://t.co/0o2K75zqik'}],\n",
       "    'user_mentions': []},\n",
       "   'extended_entities': {'media': [{'display_url': 'pic.twitter.com/R2reiNHEDv',\n",
       "      'expanded_url': 'https://twitter.com/LaughingLatina/status/919607570049875968/video/1',\n",
       "      'id': 919606169722798080,\n",
       "      'id_str': '919606169722798080',\n",
       "      'indices': [136, 159],\n",
       "      'media_url': 'http://pbs.twimg.com/ext_tw_video_thumb/919606169722798080/pu/img/Yf7L4uaOhrHWqMc7.jpg',\n",
       "      'media_url_https': 'https://pbs.twimg.com/ext_tw_video_thumb/919606169722798080/pu/img/Yf7L4uaOhrHWqMc7.jpg',\n",
       "      'sizes': {'large': {'h': 720, 'resize': 'fit', 'w': 1280},\n",
       "       'medium': {'h': 675, 'resize': 'fit', 'w': 1200},\n",
       "       'small': {'h': 383, 'resize': 'fit', 'w': 680},\n",
       "       'thumb': {'h': 150, 'resize': 'crop', 'w': 150}},\n",
       "      'type': 'video',\n",
       "      'url': 'https://t.co/R2reiNHEDv',\n",
       "      'video_info': {'aspect_ratio': [16, 9],\n",
       "       'duration_millis': 34935,\n",
       "       'variants': [{'bitrate': 320000,\n",
       "         'content_type': 'video/mp4',\n",
       "         'url': 'https://video.twimg.com/ext_tw_video/919606169722798080/pu/vid/320x180/1v3B_UGeaW-oTHO3.mp4'},\n",
       "        {'content_type': 'application/x-mpegURL',\n",
       "         'url': 'https://video.twimg.com/ext_tw_video/919606169722798080/pu/pl/nQ5N0nwYvabAWYSD.m3u8'},\n",
       "        {'bitrate': 832000,\n",
       "         'content_type': 'video/mp4',\n",
       "         'url': 'https://video.twimg.com/ext_tw_video/919606169722798080/pu/vid/640x360/aABoixUtJ3F-D_CQ.mp4'},\n",
       "        {'bitrate': 2176000,\n",
       "         'content_type': 'video/mp4',\n",
       "         'url': 'https://video.twimg.com/ext_tw_video/919606169722798080/pu/vid/1280x720/anEX1j2rq57bT0fF.mp4'}]}}]},\n",
       "   'full_text': '#RT if you Face belong deep in my Big #Latina #Ass\\n@ https://t.co/0o2K75zqik\\n\\n#FaceSitting #AssWorship #BigButts #Culote #AssSmothering https://t.co/R2reiNHEDv'},\n",
       "  'favorite_count': 488,\n",
       "  'favorited': False,\n",
       "  'filter_level': 'low',\n",
       "  'geo': None,\n",
       "  'id': 919607570049875968,\n",
       "  'id_str': '919607570049875968',\n",
       "  'in_reply_to_screen_name': None,\n",
       "  'in_reply_to_status_id': None,\n",
       "  'in_reply_to_status_id_str': None,\n",
       "  'in_reply_to_user_id': None,\n",
       "  'in_reply_to_user_id_str': None,\n",
       "  'is_quote_status': False,\n",
       "  'lang': 'en',\n",
       "  'place': None,\n",
       "  'possibly_sensitive': False,\n",
       "  'quote_count': 6,\n",
       "  'reply_count': 16,\n",
       "  'retweet_count': 223,\n",
       "  'retweeted': False,\n",
       "  'source': '<a href=\"http://twitter.com\" rel=\"nofollow\">Twitter Web Client</a>',\n",
       "  'text': '#RT if you Face belong deep in my Big #Latina #Ass\\n@ https://t.co/0o2K75zqik\\n\\n#FaceSitting #AssWorship #BigButts… https://t.co/nbMg3zzCvS',\n",
       "  'truncated': True,\n",
       "  'user': {'contributors_enabled': False,\n",
       "   'created_at': 'Fri Sep 17 22:06:29 +0000 2010',\n",
       "   'default_profile': False,\n",
       "   'default_profile_image': False,\n",
       "   'description': 'Pro LatinaDominatrix & FinDom Boss - Spoil: http://SpoilJasmineMendez.com Skype: http://SkypeJasmine.com',\n",
       "   'favourites_count': 48623,\n",
       "   'follow_request_sent': None,\n",
       "   'followers_count': 80653,\n",
       "   'following': None,\n",
       "   'friends_count': 2088,\n",
       "   'geo_enabled': True,\n",
       "   'id': 191989793,\n",
       "   'id_str': '191989793',\n",
       "   'is_translator': False,\n",
       "   'lang': 'en',\n",
       "   'listed_count': 552,\n",
       "   'location': 'Oregon, Boston , NYC ',\n",
       "   'name': '♀Jasmine Mendez♀🔥',\n",
       "   'notifications': None,\n",
       "   'profile_background_color': 'FF6699',\n",
       "   'profile_background_image_url': 'http://pbs.twimg.com/profile_background_images/154922465/jmtwitter.jpg',\n",
       "   'profile_background_image_url_https': 'https://pbs.twimg.com/profile_background_images/154922465/jmtwitter.jpg',\n",
       "   'profile_background_tile': True,\n",
       "   'profile_banner_url': 'https://pbs.twimg.com/profile_banners/191989793/1466282665',\n",
       "   'profile_image_url': 'http://pbs.twimg.com/profile_images/729543156471992321/HtpaBGml_normal.jpg',\n",
       "   'profile_image_url_https': 'https://pbs.twimg.com/profile_images/729543156471992321/HtpaBGml_normal.jpg',\n",
       "   'profile_link_color': 'DD2E44',\n",
       "   'profile_sidebar_border_color': 'CC3366',\n",
       "   'profile_sidebar_fill_color': 'E5507E',\n",
       "   'profile_text_color': '362720',\n",
       "   'profile_use_background_image': False,\n",
       "   'protected': False,\n",
       "   'screen_name': 'LaughingLatina',\n",
       "   'statuses_count': 79606,\n",
       "   'time_zone': 'Pacific Time (US & Canada)',\n",
       "   'translator_type': 'none',\n",
       "   'url': 'https://clips4sale.com/39415/the-laughing-latina/cidefe62c9f8b8d98ba86fa7d0095',\n",
       "   'utc_offset': -28800,\n",
       "   'verified': False}},\n",
       " 'source': '<a href=\"http://twitter.com/download/android\" rel=\"nofollow\">Twitter for Android</a>',\n",
       " 'text': 'RT @LaughingLatina: #RT if you Face belong deep in my Big #Latina #Ass\\n@ https://t.co/0o2K75zqik\\n\\n#FaceSitting #AssWorship #BigButts… ',\n",
       " 'timestamp_ms': '1511799363901',\n",
       " 'truncated': False,\n",
       " 'user': {'contributors_enabled': False,\n",
       "  'created_at': 'Fri Nov 03 15:27:35 +0000 2017',\n",
       "  'default_profile': True,\n",
       "  'default_profile_image': False,\n",
       "  'description': 'currently in Malaysia',\n",
       "  'favourites_count': 251,\n",
       "  'follow_request_sent': None,\n",
       "  'followers_count': 44,\n",
       "  'following': None,\n",
       "  'friends_count': 245,\n",
       "  'geo_enabled': False,\n",
       "  'id': 926470922365681664,\n",
       "  'id_str': '926470922365681664',\n",
       "  'is_translator': False,\n",
       "  'lang': 'en',\n",
       "  'listed_count': 0,\n",
       "  'location': None,\n",
       "  'name': 'Manvip1',\n",
       "  'notifications': None,\n",
       "  'profile_background_color': 'F5F8FA',\n",
       "  'profile_background_image_url': '',\n",
       "  'profile_background_image_url_https': '',\n",
       "  'profile_background_tile': False,\n",
       "  'profile_image_url': 'http://pbs.twimg.com/profile_images/926472316866797569/D-wlZgyc_normal.jpg',\n",
       "  'profile_image_url_https': 'https://pbs.twimg.com/profile_images/926472316866797569/D-wlZgyc_normal.jpg',\n",
       "  'profile_link_color': '1DA1F2',\n",
       "  'profile_sidebar_border_color': 'C0DEED',\n",
       "  'profile_sidebar_fill_color': 'DDEEF6',\n",
       "  'profile_text_color': '333333',\n",
       "  'profile_use_background_image': True,\n",
       "  'protected': False,\n",
       "  'screen_name': 'Manvip110',\n",
       "  'statuses_count': 233,\n",
       "  'time_zone': None,\n",
       "  'translator_type': 'none',\n",
       "  'url': None,\n",
       "  'utc_offset': None,\n",
       "  'verified': False}}"
      ]
     },
     "execution_count": 7,
     "metadata": {},
     "output_type": "execute_result"
    }
   ],
   "source": [
    "this_tweet"
   ]
  },
  {
   "cell_type": "code",
   "execution_count": 59,
   "metadata": {},
   "outputs": [
    {
     "data": {
      "text/plain": [
       "'@RealMattCouch you get your information from #Trump, breitbart &amp; infowars but MSM is out of date? 😂\\n\\ngot any update… https://t.co/zjCkvLlQGd'"
      ]
     },
     "execution_count": 59,
     "metadata": {},
     "output_type": "execute_result"
    }
   ],
   "source": [
    "# pull retweets by specifying track_param\n",
    "this_tweet = twit_pullby_track(track_param='weather')\n",
    "this_tweet['text']"
   ]
  },
  {
   "cell_type": "code",
   "execution_count": 32,
   "metadata": {},
   "outputs": [
    {
     "data": {
      "text/plain": [
       "'RT @AUdebm: RT Please!\\n⏰Alabama TODAY is the LAST DAY to Register to Vote 👉🏻 U.S. Senate Election\\n\\n⏰Voter Registration Deadline… '"
      ]
     },
     "execution_count": 32,
     "metadata": {},
     "output_type": "execute_result"
    }
   ],
   "source": [
    "# pull a tweet from geolocation.\n",
    "\n",
    "# geo_box = \"-122.6019287109,37.6283719398,-122.299118042,37.831480145\"  # SF\n",
    "geo_box = \"-126.123046875,18.2710861096,-68.203125,52.8823912223\"        # USA\n",
    "\n",
    "this_tweet = twit_pullby_geoloc(geo_box)\n",
    "this_tweet['text']"
   ]
  },
  {
   "cell_type": "code",
   "execution_count": 33,
   "metadata": {},
   "outputs": [
    {
     "data": {
      "text/plain": [
       "{'contributors': None,\n",
       " 'coordinates': None,\n",
       " 'created_at': 'Mon Nov 27 16:26:41 +0000 2017',\n",
       " 'entities': {'hashtags': [],\n",
       "  'symbols': [],\n",
       "  'urls': [],\n",
       "  'user_mentions': [{'id': 75674315,\n",
       "    'id_str': '75674315',\n",
       "    'indices': [3, 10],\n",
       "    'name': 'Deb M. 💪🏻',\n",
       "    'screen_name': 'AUdebm'}]},\n",
       " 'favorite_count': 0,\n",
       " 'favorited': False,\n",
       " 'filter_level': 'low',\n",
       " 'geo': None,\n",
       " 'id': 935183103047487488,\n",
       " 'id_str': '935183103047487488',\n",
       " 'in_reply_to_screen_name': None,\n",
       " 'in_reply_to_status_id': None,\n",
       " 'in_reply_to_status_id_str': None,\n",
       " 'in_reply_to_user_id': None,\n",
       " 'in_reply_to_user_id_str': None,\n",
       " 'is_quote_status': False,\n",
       " 'lang': 'en',\n",
       " 'place': None,\n",
       " 'quote_count': 0,\n",
       " 'reply_count': 0,\n",
       " 'retweet_count': 0,\n",
       " 'retweeted': False,\n",
       " 'retweeted_status': {'contributors': None,\n",
       "  'coordinates': None,\n",
       "  'created_at': 'Mon Nov 27 07:38:09 +0000 2017',\n",
       "  'display_text_range': [0, 140],\n",
       "  'entities': {'hashtags': [],\n",
       "   'symbols': [],\n",
       "   'urls': [{'display_url': 'twitter.com/i/web/status/9…',\n",
       "     'expanded_url': 'https://twitter.com/i/web/status/935050092343676929',\n",
       "     'indices': [117, 140],\n",
       "     'url': 'https://t.co/gfzO4LvZKJ'}],\n",
       "   'user_mentions': []},\n",
       "  'extended_tweet': {'display_text_range': [0, 271],\n",
       "   'entities': {'hashtags': [{'indices': [252, 271],\n",
       "      'text': 'DougJonesforSenate'}],\n",
       "    'media': [{'display_url': 'pic.twitter.com/F0FHLQTKdz',\n",
       "      'expanded_url': 'https://twitter.com/AUdebm/status/935050092343676929/video/1',\n",
       "      'id': 935050050719248385,\n",
       "      'id_str': '935050050719248385',\n",
       "      'indices': [272, 295],\n",
       "      'media_url': 'http://pbs.twimg.com/ext_tw_video_thumb/935050050719248385/pu/img/guIDg6I5DxVaVBy-.jpg',\n",
       "      'media_url_https': 'https://pbs.twimg.com/ext_tw_video_thumb/935050050719248385/pu/img/guIDg6I5DxVaVBy-.jpg',\n",
       "      'sizes': {'large': {'h': 480, 'resize': 'fit', 'w': 480},\n",
       "       'medium': {'h': 480, 'resize': 'fit', 'w': 480},\n",
       "       'small': {'h': 480, 'resize': 'fit', 'w': 480},\n",
       "       'thumb': {'h': 150, 'resize': 'crop', 'w': 150}},\n",
       "      'type': 'video',\n",
       "      'url': 'https://t.co/F0FHLQTKdz',\n",
       "      'video_info': {'aspect_ratio': [1, 1],\n",
       "       'duration_millis': 12000,\n",
       "       'variants': [{'bitrate': 320000,\n",
       "         'content_type': 'video/mp4',\n",
       "         'url': 'https://video.twimg.com/ext_tw_video/935050050719248385/pu/vid/240x240/f1FkV1v0MMxXpHKU.mp4'},\n",
       "        {'content_type': 'application/x-mpegURL',\n",
       "         'url': 'https://video.twimg.com/ext_tw_video/935050050719248385/pu/pl/esbSZqh2Znqc7AVH.m3u8'},\n",
       "        {'bitrate': 832000,\n",
       "         'content_type': 'video/mp4',\n",
       "         'url': 'https://video.twimg.com/ext_tw_video/935050050719248385/pu/vid/480x480/g7CYhzwEbdtcWBC8.mp4'}]}}],\n",
       "    'symbols': [],\n",
       "    'urls': [{'display_url': 'sos.alabama.gov/alabama-votes/…',\n",
       "      'expanded_url': 'http://sos.alabama.gov/alabama-votes/voter/register-to-vote',\n",
       "      'indices': [145, 168],\n",
       "      'url': 'https://t.co/MG1O4gz0uX'},\n",
       "     {'display_url': 'myinfo.alabamavotes.gov/VoterView/Regi…',\n",
       "      'expanded_url': 'https://myinfo.alabamavotes.gov/VoterView/RegistrantSearch.do',\n",
       "      'indices': [203, 226],\n",
       "      'url': 'https://t.co/rNhlUFjBVg'}],\n",
       "    'user_mentions': []},\n",
       "   'extended_entities': {'media': [{'display_url': 'pic.twitter.com/F0FHLQTKdz',\n",
       "      'expanded_url': 'https://twitter.com/AUdebm/status/935050092343676929/video/1',\n",
       "      'id': 935050050719248385,\n",
       "      'id_str': '935050050719248385',\n",
       "      'indices': [272, 295],\n",
       "      'media_url': 'http://pbs.twimg.com/ext_tw_video_thumb/935050050719248385/pu/img/guIDg6I5DxVaVBy-.jpg',\n",
       "      'media_url_https': 'https://pbs.twimg.com/ext_tw_video_thumb/935050050719248385/pu/img/guIDg6I5DxVaVBy-.jpg',\n",
       "      'sizes': {'large': {'h': 480, 'resize': 'fit', 'w': 480},\n",
       "       'medium': {'h': 480, 'resize': 'fit', 'w': 480},\n",
       "       'small': {'h': 480, 'resize': 'fit', 'w': 480},\n",
       "       'thumb': {'h': 150, 'resize': 'crop', 'w': 150}},\n",
       "      'type': 'video',\n",
       "      'url': 'https://t.co/F0FHLQTKdz',\n",
       "      'video_info': {'aspect_ratio': [1, 1],\n",
       "       'duration_millis': 12000,\n",
       "       'variants': [{'bitrate': 320000,\n",
       "         'content_type': 'video/mp4',\n",
       "         'url': 'https://video.twimg.com/ext_tw_video/935050050719248385/pu/vid/240x240/f1FkV1v0MMxXpHKU.mp4'},\n",
       "        {'content_type': 'application/x-mpegURL',\n",
       "         'url': 'https://video.twimg.com/ext_tw_video/935050050719248385/pu/pl/esbSZqh2Znqc7AVH.m3u8'},\n",
       "        {'bitrate': 832000,\n",
       "         'content_type': 'video/mp4',\n",
       "         'url': 'https://video.twimg.com/ext_tw_video/935050050719248385/pu/vid/480x480/g7CYhzwEbdtcWBC8.mp4'}]}}]},\n",
       "   'full_text': 'RT Please!\\n⏰Alabama TODAY is the LAST DAY to Register to Vote 👉🏻 U.S. Senate Election\\n\\n⏰Voter Registration Deadline: TODAY Nov. 27!! \\n\\n💥Register\\nhttps://t.co/MG1O4gz0uX\\n\\n💥Verify that you are registered!\\nhttps://t.co/rNhlUFjBVg\\n\\n🗳️December 12th - VOTE \\n#DougJonesforSenate https://t.co/F0FHLQTKdz'},\n",
       "  'favorite_count': 268,\n",
       "  'favorited': False,\n",
       "  'filter_level': 'low',\n",
       "  'geo': None,\n",
       "  'id': 935050092343676929,\n",
       "  'id_str': '935050092343676929',\n",
       "  'in_reply_to_screen_name': None,\n",
       "  'in_reply_to_status_id': None,\n",
       "  'in_reply_to_status_id_str': None,\n",
       "  'in_reply_to_user_id': None,\n",
       "  'in_reply_to_user_id_str': None,\n",
       "  'is_quote_status': False,\n",
       "  'lang': 'en',\n",
       "  'place': None,\n",
       "  'possibly_sensitive': False,\n",
       "  'quote_count': 13,\n",
       "  'reply_count': 9,\n",
       "  'retweet_count': 429,\n",
       "  'retweeted': False,\n",
       "  'source': '<a href=\"http://twitter.com/download/iphone\" rel=\"nofollow\">Twitter for iPhone</a>',\n",
       "  'text': 'RT Please!\\n⏰Alabama TODAY is the LAST DAY to Register to Vote 👉🏻 U.S. Senate Election\\n\\n⏰Voter Registration Deadline… https://t.co/gfzO4LvZKJ',\n",
       "  'truncated': True,\n",
       "  'user': {'contributors_enabled': False,\n",
       "   'created_at': 'Sun Sep 20 00:01:54 +0000 2009',\n",
       "   'default_profile': True,\n",
       "   'default_profile_image': False,\n",
       "   'description': \"Christian.Wife.Mother.Southern Belle.Opinionated. Crafter Extraordinaire.Junkin' Queen.Auburn.War Eagle #UniteBlue #TheResistance #BoF #DougJonesForSenate\",\n",
       "   'favourites_count': 43253,\n",
       "   'follow_request_sent': None,\n",
       "   'followers_count': 3111,\n",
       "   'following': None,\n",
       "   'friends_count': 4933,\n",
       "   'geo_enabled': True,\n",
       "   'id': 75674315,\n",
       "   'id_str': '75674315',\n",
       "   'is_translator': False,\n",
       "   'lang': 'en',\n",
       "   'listed_count': 20,\n",
       "   'location': 'Alabama, USA',\n",
       "   'name': 'Deb M. 💪🏻',\n",
       "   'notifications': None,\n",
       "   'profile_background_color': 'C0DEED',\n",
       "   'profile_background_image_url': 'http://abs.twimg.com/images/themes/theme1/bg.png',\n",
       "   'profile_background_image_url_https': 'https://abs.twimg.com/images/themes/theme1/bg.png',\n",
       "   'profile_background_tile': False,\n",
       "   'profile_banner_url': 'https://pbs.twimg.com/profile_banners/75674315/1502918216',\n",
       "   'profile_image_url': 'http://pbs.twimg.com/profile_images/935080341806645249/1S4au08C_normal.jpg',\n",
       "   'profile_image_url_https': 'https://pbs.twimg.com/profile_images/935080341806645249/1S4au08C_normal.jpg',\n",
       "   'profile_link_color': '1DA1F2',\n",
       "   'profile_sidebar_border_color': 'C0DEED',\n",
       "   'profile_sidebar_fill_color': 'DDEEF6',\n",
       "   'profile_text_color': '333333',\n",
       "   'profile_use_background_image': True,\n",
       "   'protected': False,\n",
       "   'screen_name': 'AUdebm',\n",
       "   'statuses_count': 15528,\n",
       "   'time_zone': None,\n",
       "   'translator_type': 'none',\n",
       "   'url': None,\n",
       "   'utc_offset': None,\n",
       "   'verified': False}},\n",
       " 'source': '<a href=\"http://twitter.com/download/android\" rel=\"nofollow\">Twitter for Android</a>',\n",
       " 'text': 'RT @AUdebm: RT Please!\\n⏰Alabama TODAY is the LAST DAY to Register to Vote 👉🏻 U.S. Senate Election\\n\\n⏰Voter Registration Deadline… ',\n",
       " 'timestamp_ms': '1511800001285',\n",
       " 'truncated': False,\n",
       " 'user': {'contributors_enabled': False,\n",
       "  'created_at': 'Thu Jun 11 13:22:27 +0000 2015',\n",
       "  'default_profile': False,\n",
       "  'default_profile_image': False,\n",
       "  'description': None,\n",
       "  'favourites_count': 50523,\n",
       "  'follow_request_sent': None,\n",
       "  'followers_count': 286,\n",
       "  'following': None,\n",
       "  'friends_count': 415,\n",
       "  'geo_enabled': False,\n",
       "  'id': 3318901329,\n",
       "  'id_str': '3318901329',\n",
       "  'is_translator': False,\n",
       "  'lang': 'en',\n",
       "  'listed_count': 2,\n",
       "  'location': None,\n",
       "  'name': 'Ivan Offalich',\n",
       "  'notifications': None,\n",
       "  'profile_background_color': '000000',\n",
       "  'profile_background_image_url': 'http://abs.twimg.com/images/themes/theme1/bg.png',\n",
       "  'profile_background_image_url_https': 'https://abs.twimg.com/images/themes/theme1/bg.png',\n",
       "  'profile_background_tile': False,\n",
       "  'profile_banner_url': 'https://pbs.twimg.com/profile_banners/3318901329/1460414971',\n",
       "  'profile_image_url': 'http://pbs.twimg.com/profile_images/719658506027012096/TSL5OuUX_normal.jpg',\n",
       "  'profile_image_url_https': 'https://pbs.twimg.com/profile_images/719658506027012096/TSL5OuUX_normal.jpg',\n",
       "  'profile_link_color': '981CEB',\n",
       "  'profile_sidebar_border_color': '000000',\n",
       "  'profile_sidebar_fill_color': '000000',\n",
       "  'profile_text_color': '000000',\n",
       "  'profile_use_background_image': False,\n",
       "  'protected': False,\n",
       "  'screen_name': 'IvanOffalich',\n",
       "  'statuses_count': 3825,\n",
       "  'time_zone': 'Mountain Time (US & Canada)',\n",
       "  'translator_type': 'none',\n",
       "  'url': 'http://www.twitch.tv/ivanoffalich',\n",
       "  'utc_offset': -25200,\n",
       "  'verified': False}}"
      ]
     },
     "execution_count": 33,
     "metadata": {},
     "output_type": "execute_result"
    }
   ],
   "source": [
    "this_tweet"
   ]
  },
  {
   "cell_type": "code",
   "execution_count": null,
   "metadata": {},
   "outputs": [],
   "source": [
    "#*************************** Insert tweets into database. *******************************"
   ]
  },
  {
   "cell_type": "code",
   "execution_count": 13,
   "metadata": {},
   "outputs": [],
   "source": [
    "# Instantiate client to our Mongo Server\n",
    "client = pymongo.MongoClient('35.163.170.219', 27016)"
   ]
  },
  {
   "cell_type": "code",
   "execution_count": 14,
   "metadata": {},
   "outputs": [
    {
     "data": {
      "text/plain": [
       "['admin', 'local', 'test', 'twit_database', 'wiki_database']"
      ]
     },
     "execution_count": 14,
     "metadata": {},
     "output_type": "execute_result"
    }
   ],
   "source": [
    "# Databases on our MongoDB Server.\n",
    "client.database_names()"
   ]
  },
  {
   "cell_type": "code",
   "execution_count": 15,
   "metadata": {},
   "outputs": [
    {
     "data": {
      "text/plain": [
       "Database(MongoClient(host=['35.163.170.219:27016'], document_class=dict, tz_aware=False, connect=True), 'twit_database')"
      ]
     },
     "execution_count": 15,
     "metadata": {},
     "output_type": "execute_result"
    }
   ],
   "source": [
    "# get a handle to the twitter database\n",
    "db_ref = client['twit_database']\n",
    "db_ref"
   ]
  },
  {
   "cell_type": "code",
   "execution_count": 16,
   "metadata": {},
   "outputs": [
    {
     "data": {
      "text/plain": [
       "['twitter_raw_collection', 'twitter_RT_raw_collection']"
      ]
     },
     "execution_count": 16,
     "metadata": {},
     "output_type": "execute_result"
    }
   ],
   "source": [
    "# display available collections in 'twit_database'.\n",
    "db_ref.collection_names()"
   ]
  },
  {
   "cell_type": "code",
   "execution_count": 35,
   "metadata": {},
   "outputs": [],
   "source": [
    "#geo_box = \"-126.123046875,18.2710861096,-68.203125,52.8823912223\"        # USA\n",
    "geo_box = \"-127.6171875,28.0719803018,-68.5546875,48.4000324961\""
   ]
  },
  {
   "cell_type": "code",
   "execution_count": 36,
   "metadata": {},
   "outputs": [],
   "source": [
    "def twit_pull_and_store_tweets(db_name, collec_name, pull_tw_by, num_tw_to_pull, geo_box='', track_param=''):\n",
    "    \n",
    "    # Instantiate client to our Mongo Server\n",
    "    client = pymongo.MongoClient('35.163.170.219', 27016)\n",
    "    \n",
    "    # get a handle to specified database\n",
    "    db_ref = client[db_name]\n",
    "    \n",
    "    # get a reference to specified collection. If it does not exist, it will be created.\n",
    "    coll_ref = db_ref[collec_name]\n",
    "    \n",
    "    # pull new tweets and insert into mongo collection.\n",
    "    if (pull_tw_by == 'geo'):\n",
    "        \n",
    "        for i in tqdm(range(num_tw_to_pull)):\n",
    "            \n",
    "            sleep(5)\n",
    "            try:\n",
    "                next_tweet = next(twitterator)\n",
    "                coll_ref.insert_one(next_tweet)\n",
    "            except:\n",
    "                twitter_stream = TwitterStream(auth=oauth)\n",
    "                twitterator = twitter_stream.statuses.filter(locations=geo_box, language='en', tweet_mode='extended')\n",
    "                \n",
    "    elif (pull_tw_by == 'track'):\n",
    "        \n",
    "        sleep(5)\n",
    "        for i in tqdm(range(num_tw_to_pull)):\n",
    "            try:\n",
    "                next_tweet = next(twitterator)\n",
    "                coll_ref.insert_one(next_tweet)\n",
    "            except:\n",
    "                twitter_stream = TwitterStream(auth=oauth)\n",
    "                twitterator = twitter_stream.statuses.filter(track=track_param, language='en', tweet_mode='extended')\n",
    "    \n",
    "    elif (pull_tw_by == 'geo_and_track'):\n",
    "        \n",
    "        sleep(5)\n",
    "        for i in tqdm(range(num_tw_to_pull)):\n",
    "            try:\n",
    "                next_tweet = next(twitterator)\n",
    "                coll_ref.insert_one(next_tweet)\n",
    "            except:\n",
    "                twitter_stream = TwitterStream(auth=oauth)\n",
    "                twitterator = twitter_stream.statuses.filter(locations=geo_box, track=track_param, language='en', tweet_mode='extended')\n",
    "        \n",
    "    return(coll_ref)"
   ]
  },
  {
   "cell_type": "code",
   "execution_count": 17,
   "metadata": {},
   "outputs": [],
   "source": [
    "# pull tweets and store in database. \n",
    "coll_ref = twit_pull_and_store_tweets(db_name='twit_database', \n",
    "                                      collec_name='twitter_RT_geo_raw_collection', \n",
    "                                      pull_tw_by='geo_and_track',\n",
    "                                      num_tw_to_pull=5000,\n",
    "                                      geo_box=geo_box, \n",
    "                                      track_param='RT')"
   ]
  },
  {
   "cell_type": "code",
   "execution_count": 19,
   "metadata": {},
   "outputs": [
    {
     "data": {
      "text/plain": [
       "10037"
      ]
     },
     "execution_count": 19,
     "metadata": {},
     "output_type": "execute_result"
    }
   ],
   "source": [
    "# Create a reference to twitter collection\n",
    "coll_ref = db_ref['twitter_RT_raw_collection']\n",
    "coll_ref.count()"
   ]
  },
  {
   "cell_type": "code",
   "execution_count": 21,
   "metadata": {},
   "outputs": [],
   "source": [
    "# read collection of pulled retweets.\n",
    "coll_lst = mongo.mongoDB_read_collection('twit_database','twitter_RT_raw_collection')"
   ]
  },
  {
   "cell_type": "code",
   "execution_count": 22,
   "metadata": {},
   "outputs": [],
   "source": [
    "# load. collection of tweets into a dataframe.\n",
    "df_rt = pd.DataFrame(coll_lst)"
   ]
  },
  {
   "cell_type": "code",
   "execution_count": 23,
   "metadata": {},
   "outputs": [
    {
     "data": {
      "text/plain": [
       "(10037, 39)"
      ]
     },
     "execution_count": 23,
     "metadata": {},
     "output_type": "execute_result"
    }
   ],
   "source": [
    "# shape of dataframe with rows(retweets) and cols(features).\n",
    "df_rt.shape"
   ]
  },
  {
   "cell_type": "code",
   "execution_count": 24,
   "metadata": {},
   "outputs": [],
   "source": [
    "# write to csv\n",
    "df_rt.to_csv('data/retweets.csv')"
   ]
  }
 ],
 "metadata": {
  "kernelspec": {
   "display_name": "Python 3",
   "language": "python",
   "name": "python3"
  },
  "language_info": {
   "codemirror_mode": {
    "name": "ipython",
    "version": 3
   },
   "file_extension": ".py",
   "mimetype": "text/x-python",
   "name": "python",
   "nbconvert_exporter": "python",
   "pygments_lexer": "ipython3",
   "version": "3.6.2"
  }
 },
 "nbformat": 4,
 "nbformat_minor": 2
}
