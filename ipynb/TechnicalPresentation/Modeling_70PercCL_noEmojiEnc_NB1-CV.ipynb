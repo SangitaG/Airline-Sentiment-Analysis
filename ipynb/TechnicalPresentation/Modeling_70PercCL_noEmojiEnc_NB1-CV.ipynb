{
 "cells": [
  {
   "cell_type": "code",
   "execution_count": 2,
   "metadata": {},
   "outputs": [
    {
     "name": "stdout",
     "output_type": "stream",
     "text": [
      "/home/jovyan/GA_DSI/Projects/capstone\n"
     ]
    }
   ],
   "source": [
    "cd /home/jovyan/GA_DSI/Projects/capstone"
   ]
  },
  {
   "cell_type": "code",
   "execution_count": 3,
   "metadata": {},
   "outputs": [],
   "source": [
    "import re\n",
    "import numpy as np\n",
    "import pandas as pd\n",
    "import matplotlib.pyplot as plt\n",
    "import lib.general_utilities as gu\n",
    "\n",
    "from sklearn.naive_bayes import MultinomialNB\n",
    "from sklearn.linear_model import LogisticRegression, RidgeClassifier, SGDClassifier\n",
    "from sklearn.ensemble import RandomForestClassifier, ExtraTreesClassifier\n",
    "from sklearn.svm import SVC\n",
    "from sklearn.tree import DecisionTreeClassifier\n",
    "from sklearn.neighbors import KNeighborsClassifier\n",
    "\n",
    "from sklearn.model_selection import GridSearchCV, StratifiedShuffleSplit, train_test_split, cross_val_score\n",
    "from sklearn.feature_extraction.text import CountVectorizer, TfidfVectorizer\n",
    "from sklearn.preprocessing import LabelEncoder\n",
    "\n",
    "from sklearn.pipeline import make_pipeline, Pipeline\n",
    "\n",
    "from collections import Counter\n",
    "import itertools\n",
    "from wordcloud import WordCloud\n",
    "import seaborn as sns\n",
    "\n",
    "from sklearn.metrics import classification_report,precision_recall_curve,confusion_matrix \n",
    "from sklearn.metrics import (precision_score,accuracy_score,roc_auc_score,roc_curve, \n",
    "                             precision_recall_curve,recall_score,make_scorer,auc)\n",
    "from tqdm import tqdm\n",
    "\n",
    "# storing data directories for this notebook.\n",
    "img_out_dir = 'data/images/Benchmark_NB3_70PercConf_noEmojiEncoding/CrossVal/'\n",
    "data_out_dir = 'data/pickled/Benchmark_NB3_70PercConf_noEmojiEncoding/CrossVal/'\n",
    "\n",
    "%matplotlib inline"
   ]
  },
  {
   "cell_type": "markdown",
   "metadata": {},
   "source": [
    "## Let's run our text data, through some models and see how they predict.\n",
    "\n",
    "```At this point I have the following data that I want to compare results for:```\n",
    "```\n",
    "1. raw text\n",
    "2. cleaned text\n",
    "3. stopwords processed and cleaned text\n",
    "4. stemmed, stopwords processed and cleaned text```"
   ]
  },
  {
   "cell_type": "code",
   "execution_count": 3,
   "metadata": {},
   "outputs": [],
   "source": [
    "#***********************************************************************************"
   ]
  },
  {
   "cell_type": "code",
   "execution_count": 4,
   "metadata": {},
   "outputs": [],
   "source": [
    "# Load pickled dataset.\n",
    "filename = 'data/processed_dataset_df/airline_proc_dataset_70percCL_noEmEnc_df'\n",
    "air_full_df = gu.read_pickle_obj(filename)"
   ]
  },
  {
   "cell_type": "code",
   "execution_count": 5,
   "metadata": {},
   "outputs": [
    {
     "data": {
      "text/html": [
       "<div>\n",
       "<table border=\"1\" class=\"dataframe\">\n",
       "  <thead>\n",
       "    <tr style=\"text-align: right;\">\n",
       "      <th></th>\n",
       "      <th>airline</th>\n",
       "      <th>airline_sentiment</th>\n",
       "      <th>text</th>\n",
       "      <th>clean_text</th>\n",
       "      <th>stopw_clean_text</th>\n",
       "      <th>stem_stopw_clean_text</th>\n",
       "      <th>negativereason</th>\n",
       "      <th>airline_sentiment_confidence</th>\n",
       "    </tr>\n",
       "  </thead>\n",
       "  <tbody>\n",
       "    <tr>\n",
       "      <th>0</th>\n",
       "      <td>Virgin America</td>\n",
       "      <td>neutral</td>\n",
       "      <td>@VirginAmerica What @dhepburn said.</td>\n",
       "      <td>what said</td>\n",
       "      <td>said</td>\n",
       "      <td>said</td>\n",
       "      <td>NaN</td>\n",
       "      <td>1.0</td>\n",
       "    </tr>\n",
       "    <tr>\n",
       "      <th>1</th>\n",
       "      <td>Virgin America</td>\n",
       "      <td>negative</td>\n",
       "      <td>@VirginAmerica it's really aggressive to blast...</td>\n",
       "      <td>its really aggressive to blast obnoxious enter...</td>\n",
       "      <td>really aggressive blast obnoxious entertainmen...</td>\n",
       "      <td>realli aggress blast obnoxi entertain guest fa...</td>\n",
       "      <td>Bad Flight</td>\n",
       "      <td>1.0</td>\n",
       "    </tr>\n",
       "    <tr>\n",
       "      <th>2</th>\n",
       "      <td>Virgin America</td>\n",
       "      <td>negative</td>\n",
       "      <td>@VirginAmerica and it's a really big bad thing...</td>\n",
       "      <td>and its a really big bad thing about it</td>\n",
       "      <td>really big bad thing</td>\n",
       "      <td>realli big bad thing</td>\n",
       "      <td>Can't Tell</td>\n",
       "      <td>1.0</td>\n",
       "    </tr>\n",
       "    <tr>\n",
       "      <th>3</th>\n",
       "      <td>Virgin America</td>\n",
       "      <td>negative</td>\n",
       "      <td>@VirginAmerica seriously would pay $30 a fligh...</td>\n",
       "      <td>seriously would pay 30 a flight for seats that...</td>\n",
       "      <td>seriously pay 30 seats didnt playing really ba...</td>\n",
       "      <td>serious pay 30 seat didnt play realli bad thin...</td>\n",
       "      <td>Can't Tell</td>\n",
       "      <td>1.0</td>\n",
       "    </tr>\n",
       "    <tr>\n",
       "      <th>4</th>\n",
       "      <td>Virgin America</td>\n",
       "      <td>positive</td>\n",
       "      <td>@VirginAmerica it was amazing, and arrived an ...</td>\n",
       "      <td>it was amazing and arrived an hour early youre...</td>\n",
       "      <td>amazing arrived hour early youre good</td>\n",
       "      <td>amaz arriv hour earli your good</td>\n",
       "      <td>NaN</td>\n",
       "      <td>1.0</td>\n",
       "    </tr>\n",
       "    <tr>\n",
       "      <th>5</th>\n",
       "      <td>Virgin America</td>\n",
       "      <td>positive</td>\n",
       "      <td>@VirginAmerica I &amp;lt;3 pretty graphics. so muc...</td>\n",
       "      <td>i lt3 pretty graphics so much better than mini...</td>\n",
       "      <td>lt3 pretty graphics better minimal iconography d</td>\n",
       "      <td>lt3 pretti graphic better minim iconographi d</td>\n",
       "      <td>NaN</td>\n",
       "      <td>1.0</td>\n",
       "    </tr>\n",
       "    <tr>\n",
       "      <th>6</th>\n",
       "      <td>Virgin America</td>\n",
       "      <td>positive</td>\n",
       "      <td>@VirginAmerica This is such a great deal! Alre...</td>\n",
       "      <td>this is such a great deal already thinking abo...</td>\n",
       "      <td>great deal thinking 2nd trip amp havent gone 1...</td>\n",
       "      <td>great deal think 2nd trip amp havent gone 1st ...</td>\n",
       "      <td>NaN</td>\n",
       "      <td>1.0</td>\n",
       "    </tr>\n",
       "    <tr>\n",
       "      <th>7</th>\n",
       "      <td>Virgin America</td>\n",
       "      <td>positive</td>\n",
       "      <td>@VirginAmerica Thanks!</td>\n",
       "      <td>thanks</td>\n",
       "      <td>thanks</td>\n",
       "      <td>thank</td>\n",
       "      <td>NaN</td>\n",
       "      <td>1.0</td>\n",
       "    </tr>\n",
       "    <tr>\n",
       "      <th>8</th>\n",
       "      <td>Virgin America</td>\n",
       "      <td>positive</td>\n",
       "      <td>@VirginAmerica So excited for my first cross c...</td>\n",
       "      <td>so excited for my first cross country flight l...</td>\n",
       "      <td>excited cross country lax mco ive heard great ...</td>\n",
       "      <td>excit cross countri lax mco ive heard great th...</td>\n",
       "      <td>NaN</td>\n",
       "      <td>1.0</td>\n",
       "    </tr>\n",
       "    <tr>\n",
       "      <th>9</th>\n",
       "      <td>Virgin America</td>\n",
       "      <td>negative</td>\n",
       "      <td>@VirginAmerica  I flew from NYC to SFO last we...</td>\n",
       "      <td>i flew from nyc to sfo last week and couldnt f...</td>\n",
       "      <td>flew nyc sfo week fully sit seat large gentlem...</td>\n",
       "      <td>flew nyc sfo week fulli sit seat larg gentlema...</td>\n",
       "      <td>Bad Flight</td>\n",
       "      <td>1.0</td>\n",
       "    </tr>\n",
       "    <tr>\n",
       "      <th>10</th>\n",
       "      <td>Virgin America</td>\n",
       "      <td>positive</td>\n",
       "      <td>I ❤️ flying @VirginAmerica. ☺️👍</td>\n",
       "      <td>i ❤️ flying ☺️👍</td>\n",
       "      <td>❤️ flying ☺️👍</td>\n",
       "      <td>❤️ fli ☺️👍</td>\n",
       "      <td>NaN</td>\n",
       "      <td>1.0</td>\n",
       "    </tr>\n",
       "  </tbody>\n",
       "</table>\n",
       "</div>"
      ],
      "text/plain": [
       "           airline airline_sentiment  \\\n",
       "0   Virgin America           neutral   \n",
       "1   Virgin America          negative   \n",
       "2   Virgin America          negative   \n",
       "3   Virgin America          negative   \n",
       "4   Virgin America          positive   \n",
       "5   Virgin America          positive   \n",
       "6   Virgin America          positive   \n",
       "7   Virgin America          positive   \n",
       "8   Virgin America          positive   \n",
       "9   Virgin America          negative   \n",
       "10  Virgin America          positive   \n",
       "\n",
       "                                                 text  \\\n",
       "0                 @VirginAmerica What @dhepburn said.   \n",
       "1   @VirginAmerica it's really aggressive to blast...   \n",
       "2   @VirginAmerica and it's a really big bad thing...   \n",
       "3   @VirginAmerica seriously would pay $30 a fligh...   \n",
       "4   @VirginAmerica it was amazing, and arrived an ...   \n",
       "5   @VirginAmerica I &lt;3 pretty graphics. so muc...   \n",
       "6   @VirginAmerica This is such a great deal! Alre...   \n",
       "7                              @VirginAmerica Thanks!   \n",
       "8   @VirginAmerica So excited for my first cross c...   \n",
       "9   @VirginAmerica  I flew from NYC to SFO last we...   \n",
       "10                    I ❤️ flying @VirginAmerica. ☺️👍   \n",
       "\n",
       "                                           clean_text  \\\n",
       "0                                           what said   \n",
       "1   its really aggressive to blast obnoxious enter...   \n",
       "2             and its a really big bad thing about it   \n",
       "3   seriously would pay 30 a flight for seats that...   \n",
       "4   it was amazing and arrived an hour early youre...   \n",
       "5   i lt3 pretty graphics so much better than mini...   \n",
       "6   this is such a great deal already thinking abo...   \n",
       "7                                              thanks   \n",
       "8   so excited for my first cross country flight l...   \n",
       "9   i flew from nyc to sfo last week and couldnt f...   \n",
       "10                                    i ❤️ flying ☺️👍   \n",
       "\n",
       "                                     stopw_clean_text  \\\n",
       "0                                                said   \n",
       "1   really aggressive blast obnoxious entertainmen...   \n",
       "2                                really big bad thing   \n",
       "3   seriously pay 30 seats didnt playing really ba...   \n",
       "4               amazing arrived hour early youre good   \n",
       "5    lt3 pretty graphics better minimal iconography d   \n",
       "6   great deal thinking 2nd trip amp havent gone 1...   \n",
       "7                                              thanks   \n",
       "8   excited cross country lax mco ive heard great ...   \n",
       "9   flew nyc sfo week fully sit seat large gentlem...   \n",
       "10                                      ❤️ flying ☺️👍   \n",
       "\n",
       "                                stem_stopw_clean_text negativereason  \\\n",
       "0                                                said            NaN   \n",
       "1   realli aggress blast obnoxi entertain guest fa...     Bad Flight   \n",
       "2                                realli big bad thing     Can't Tell   \n",
       "3   serious pay 30 seat didnt play realli bad thin...     Can't Tell   \n",
       "4                     amaz arriv hour earli your good            NaN   \n",
       "5       lt3 pretti graphic better minim iconographi d            NaN   \n",
       "6   great deal think 2nd trip amp havent gone 1st ...            NaN   \n",
       "7                                               thank            NaN   \n",
       "8   excit cross countri lax mco ive heard great th...            NaN   \n",
       "9   flew nyc sfo week fulli sit seat larg gentlema...     Bad Flight   \n",
       "10                                         ❤️ fli ☺️👍            NaN   \n",
       "\n",
       "    airline_sentiment_confidence  \n",
       "0                            1.0  \n",
       "1                            1.0  \n",
       "2                            1.0  \n",
       "3                            1.0  \n",
       "4                            1.0  \n",
       "5                            1.0  \n",
       "6                            1.0  \n",
       "7                            1.0  \n",
       "8                            1.0  \n",
       "9                            1.0  \n",
       "10                           1.0  "
      ]
     },
     "execution_count": 5,
     "metadata": {},
     "output_type": "execute_result"
    }
   ],
   "source": [
    "air_full_df.head(11)"
   ]
  },
  {
   "cell_type": "code",
   "execution_count": null,
   "metadata": {},
   "outputs": [],
   "source": [
    "# Data has not emoji encoding. They will be ingnored by data transformer."
   ]
  },
  {
   "cell_type": "code",
   "execution_count": 9,
   "metadata": {},
   "outputs": [
    {
     "data": {
      "text/plain": [
       "(10768, 8)"
      ]
     },
     "execution_count": 9,
     "metadata": {},
     "output_type": "execute_result"
    }
   ],
   "source": [
    "# dataset size.\n",
    "air_full_df.shape"
   ]
  },
  {
   "cell_type": "code",
   "execution_count": 10,
   "metadata": {},
   "outputs": [
    {
     "data": {
      "text/plain": [
       "Index(['airline', 'airline_sentiment', 'text', 'clean_text',\n",
       "       'stopw_clean_text', 'stem_stopw_clean_text', 'negativereason',\n",
       "       'airline_sentiment_confidence'],\n",
       "      dtype='object')"
      ]
     },
     "execution_count": 10,
     "metadata": {},
     "output_type": "execute_result"
    }
   ],
   "source": [
    "# column names\n",
    "air_full_df.columns"
   ]
  },
  {
   "cell_type": "code",
   "execution_count": 11,
   "metadata": {},
   "outputs": [
    {
     "data": {
      "text/plain": [
       "array(['Virgin America', 'United', 'Southwest', 'Delta', 'US Airways',\n",
       "       'American'], dtype=object)"
      ]
     },
     "execution_count": 11,
     "metadata": {},
     "output_type": "execute_result"
    }
   ],
   "source": [
    "# airlines.\n",
    "air_full_df.airline.unique()"
   ]
  },
  {
   "cell_type": "code",
   "execution_count": 14,
   "metadata": {},
   "outputs": [
    {
     "data": {
      "text/plain": [
       "<matplotlib.axes._subplots.AxesSubplot at 0x7fa3528995f8>"
      ]
     },
     "execution_count": 14,
     "metadata": {},
     "output_type": "execute_result"
    },
    {
     "data": {
      "image/png": "[encoded data removed]",
      "text/plain": [
       "<matplotlib.figure.Figure at 0x7fa3528820f0>"
      ]
     },
     "metadata": {},
     "output_type": "display_data"
    }
   ],
   "source": [
    "air_full_df.airline_sentiment.value_counts().plot(kind='bar')"
   ]
  },
  {
   "cell_type": "code",
   "execution_count": 15,
   "metadata": {},
   "outputs": [],
   "source": [
    "#****** Highly imbalanced. "
   ]
  },
  {
   "cell_type": "code",
   "execution_count": 6,
   "metadata": {},
   "outputs": [],
   "source": [
    "def log_output(dataset_name, model_name, sc_output, pipe):\n",
    "    '''\n",
    "    This method logs the output of a model pipeline.\n",
    "    '''\n",
    "    \n",
    "    entry = {                \n",
    "                'dataset'        :  dataset_name,\n",
    "                'model'          :  model_name,\n",
    "                'tr_acc_score'   :  sc_output['train_score'],\n",
    "                'tst_acc_score'  :  sc_output['test_score'],\n",
    "                'pipe_object'    :  pipe,\n",
    "                'y_pred'         :  sc_output['y_pred'],\n",
    "                'ypred_proba'    :  sc_output['ypred_proba'],\n",
    "                'ytest'          :  sc_output['ytest']\n",
    "            }\n",
    "    return(entry)"
   ]
  },
  {
   "cell_type": "code",
   "execution_count": 7,
   "metadata": {},
   "outputs": [],
   "source": [
    "# Gridsearch to find best model.\n",
    "def gs_fit_score_pipeline(pipe, Xtrain, Xtest, ytrain, ytest, param_grid, target_names):\n",
    "    '''\n",
    "    This method grid searches a pipeline, with parameters in the param_grid, \n",
    "    to find best model with tuned hyper paramters.\n",
    "    '''\n",
    "    \n",
    "    gs = GridSearchCV(pipe, cv = 5, param_grid=param_grid)\n",
    "  \n",
    "    # Fit and score pipeline.\n",
    "    gs.fit(Xtrain, ytrain) \n",
    "    \n",
    "    # Mean accuracy score is returned.\n",
    "    train_score = gs.score(Xtrain,ytrain)\n",
    "    test_score = gs.score(Xtest,ytest)  \n",
    "    y_pred = gs.predict(Xtest)\n",
    "    \n",
    "       \n",
    "    output = {'train_score':train_score, \n",
    "              'test_score':test_score,\n",
    "              }\n",
    "    \n",
    "    #classification reports. \n",
    "    class_report_str = classification_report(ytest, y_pred, target_names=target_names)\n",
    "    \n",
    "    #confusion matrix.\n",
    "    conf_matrix_raw = confusion_matrix(ytest, y_pred)\n",
    "    \n",
    "    return(output, class_report_str, conf_matrix_raw)"
   ]
  },
  {
   "cell_type": "code",
   "execution_count": 8,
   "metadata": {},
   "outputs": [],
   "source": [
    "# fit score pipeline of models. Good for benchmarking.\n",
    "def fit_score_pipeline(pipe, X, y, target_names):\n",
    "    '''\n",
    "    This method fits and scores pipeline of models. Its good for benchmarking.\n",
    "    '''    \n",
    "  \n",
    "    # train test split our X and y.\n",
    "    Xtrain, Xtest, ytrain, ytest = train_test_split(X, \n",
    "                                                    y, \n",
    "                                                    test_size=.2, \n",
    "                                                    random_state=42)\n",
    "    # Fit and score pipeline.\n",
    "    pipe.fit(Xtrain, ytrain) \n",
    "    \n",
    "    # Use cross validation to get a mean accuracy score of model.\n",
    "    scores = []\n",
    "    scores = cross_val_score(pipe, Xtrain, ytrain, cv=5, scoring='accuracy')\n",
    "    train_score = scores.mean()\n",
    "    \n",
    "    scores = []\n",
    "    scores = cross_val_score(pipe, Xtest, ytest, cv=5, scoring='accuracy')\n",
    "    test_score = scores.mean()\n",
    "    y_pred = pipe.predict(Xtest)\n",
    "    ypred_proba = pipe.predict_proba(Xtest)\n",
    "        \n",
    "    output = {'train_score':train_score, \n",
    "              'test_score' :test_score,\n",
    "              'y_pred'     :y_pred,\n",
    "              'ytest'      :ytest,\n",
    "              'ypred_proba':ypred_proba \n",
    "              }  \n",
    "    \n",
    "    #classification reports. \n",
    "    class_report_str = classification_report(ytest, y_pred, target_names=target_names)\n",
    "    \n",
    "    #confusion matrix.\n",
    "    conf_matrix_raw = confusion_matrix(ytest, y_pred)\n",
    "    \n",
    "    return(output, class_report_str, conf_matrix_raw)"
   ]
  },
  {
   "cell_type": "code",
   "execution_count": 9,
   "metadata": {},
   "outputs": [],
   "source": [
    "def execute_pipeline(pipe, param_grid, X, y, target_names, model_results, model_name,\n",
    "                     classification_rep, confusion_mtx, data_desc):\n",
    "    '''\n",
    "    This method manages the pipeline fit and score execution, and keeps track of logging\n",
    "    the results.  \n",
    "    '''\n",
    "                                    \n",
    "    # Fit, score and get model stats.                                           \n",
    "    sc_output, cl_report_str, conf_mtx = fit_score_pipeline(pipe, \n",
    "                                                            X,\n",
    "                                                            y,\n",
    "                                                            target_names=target_names)\n",
    "       \n",
    "    # Save classification report and confusion matrix, scaled data.\n",
    "    key = model_name+\" \"+data_desc\n",
    "    classification_rep[key] = cl_report_str\n",
    "    key = model_name+\" \"+data_desc\n",
    "    confusion_mtx[key] = conf_mtx\n",
    "    \n",
    "    # Log results.\n",
    "    entry = log_output( dataset_name = data_desc, \n",
    "                        model_name   = model_name, \n",
    "                        sc_output    = sc_output,\n",
    "                        pipe         = pipe)\n",
    "\n",
    "    # Append the output for this model to a list.\n",
    "    model_results.append(entry)"
   ]
  },
  {
   "cell_type": "code",
   "execution_count": 10,
   "metadata": {},
   "outputs": [],
   "source": [
    "def plot_confusion_matrix(cm, classes,\n",
    "                          title='Confusion matrix',\n",
    "                          cmap=plt.cm.Blues,\n",
    "                          isNorm = False):\n",
    "    '''\n",
    "    This function plots and saves the confusion matrix.\n",
    "    '''\n",
    "    \n",
    "    plt.imshow(cm, interpolation='nearest', cmap=cmap)\n",
    "    plt.title(title)\n",
    "    plt.colorbar()\n",
    "    tick_marks = np.arange(len(classes))\n",
    "    plt.xticks(tick_marks, classes, rotation=45)\n",
    "    plt.yticks(tick_marks, classes)\n",
    "    plt.grid('off')\n",
    "\n",
    "    if (isNorm):\n",
    "        cm = np.round(cm.astype('float') / cm.sum(axis=1)[:, np.newaxis], 2)\n",
    "        print(\"Normalized confusion matrix\")\n",
    "        print(cm)\n",
    "\n",
    "    thresh = cm.max() / 2.\n",
    "    for i, j in itertools.product(range(cm.shape[0]), range(cm.shape[1])):\n",
    "        plt.text(j, i, cm[i, j],\n",
    "                 horizontalalignment=\"center\",\n",
    "                 color=\"red\")\n",
    "\n",
    "    plt.tight_layout()\n",
    "    plt.ylabel('True label')\n",
    "    plt.xlabel('Predicted label')    \n",
    "    plt.savefig(img_out_dir+'BM_'+title+'.png')   \n",
    "    plt.show()"
   ]
  },
  {
   "cell_type": "code",
   "execution_count": 11,
   "metadata": {},
   "outputs": [],
   "source": [
    "def classifaction_report_df(report):\n",
    "    report_data = []\n",
    "    lines = report.split('\\n')\n",
    "    for line in lines[2:-3]:\n",
    "        row = {}\n",
    "        row_data = line.split('      ')\n",
    "        row['class'] = row_data[0]\n",
    "        row['precision'] = float(row_data[1])\n",
    "        row['recall'] = float(row_data[2])\n",
    "        row['f1_score'] = float(row_data[3])\n",
    "        row['support'] = float(row_data[4])\n",
    "        report_data.append(row)\n",
    "    dataframe = pd.DataFrame.from_dict(report_data)\n",
    "    return(dataframe)"
   ]
  },
  {
   "cell_type": "code",
   "execution_count": 12,
   "metadata": {},
   "outputs": [],
   "source": [
    "def plot_point(data, x, y, hue, title):    \n",
    "    plt.figure(figsize=(8, 6))\n",
    "    sns.pointplot(x=x, y=y, hue=hue, data=data)\n",
    "    plt.xticks(rotation=90, fontsize=12)\n",
    "    plt.xlabel(x, fontsize=12)\n",
    "    plt.ylabel(y, fontsize=12)\n",
    "    plt.title(title)\n",
    "    plt.tight_layout()"
   ]
  },
  {
   "cell_type": "code",
   "execution_count": 13,
   "metadata": {},
   "outputs": [],
   "source": [
    "def plot_bar(data, x, y, hue, title):    \n",
    "    plt.figure(figsize=(8, 6))\n",
    "    sns.barplot(x=x, y=y, hue=hue, data=data)\n",
    "    plt.xticks(rotation=90, fontsize=12)\n",
    "    plt.xlabel(x, fontsize=12)\n",
    "    plt.ylabel(y, fontsize=12)\n",
    "    plt.title(title)\n",
    "    plt.tight_layout()"
   ]
  },
  {
   "cell_type": "code",
   "execution_count": 14,
   "metadata": {},
   "outputs": [],
   "source": [
    "def plot_ROC(fpr,tpr,title, roc_auc):\n",
    "    plt.title('Receiver Operating Characteristic '+title)\n",
    "    plt.plot(fpr, tpr, 'b',\n",
    "    label='AUC = %0.2f'% roc_auc)\n",
    "    plt.legend(loc='lower right')\n",
    "    plt.plot([0,1],[0,1],'r--')\n",
    "    plt.xlim([-0.1,1.2])\n",
    "    plt.ylim([-0.1,1.2])\n",
    "    plt.ylabel('True Positive Rate')\n",
    "    plt.xlabel('False Positive Rate')\n",
    "    plt.savefig(img_out_dir+'BM_ROC_'+title+'.png')\n",
    "    plt.show()"
   ]
  },
  {
   "cell_type": "markdown",
   "metadata": {},
   "source": [
    "### Let's see what is the accuracy that could be achieved by simply always predicting the most frequent class.\n",
    "Target is ```airline sentiment```"
   ]
  },
  {
   "cell_type": "code",
   "execution_count": 15,
   "metadata": {},
   "outputs": [],
   "source": [
    "y = air_full_df['airline_sentiment']"
   ]
  },
  {
   "cell_type": "code",
   "execution_count": 16,
   "metadata": {},
   "outputs": [
    {
     "data": {
      "text/plain": [
       "negative    7552\n",
       "neutral     1634\n",
       "positive    1582\n",
       "Name: airline_sentiment, dtype: int64"
      ]
     },
     "execution_count": 16,
     "metadata": {},
     "output_type": "execute_result"
    }
   ],
   "source": [
    "y.value_counts()"
   ]
  },
  {
   "cell_type": "code",
   "execution_count": 17,
   "metadata": {},
   "outputs": [
    {
     "data": {
      "text/plain": [
       "0.70133729569093606"
      ]
     },
     "execution_count": 17,
     "metadata": {},
     "output_type": "execute_result"
    }
   ],
   "source": [
    "yvalcnts = y.value_counts()\n",
    "yvalcnts[0]/sum(yvalcnts)"
   ]
  },
  {
   "cell_type": "markdown",
   "metadata": {},
   "source": [
    "```Since this is a highly imbalanced dataset we see that:\n",
    "A naive model that always predicts the'negative class' would be right 70% of the time.\n",
    "This shows how classification accuracy may not be the best metric to score our model.\n",
    "However it gives us a baseline of the least we should expect from our models.```"
   ]
  },
  {
   "cell_type": "markdown",
   "metadata": {},
   "source": [
    "### Encode the target labels. "
   ]
  },
  {
   "cell_type": "code",
   "execution_count": 18,
   "metadata": {},
   "outputs": [],
   "source": [
    "# target.\n",
    "y = air_full_df['airline_sentiment']"
   ]
  },
  {
   "cell_type": "code",
   "execution_count": 19,
   "metadata": {},
   "outputs": [
    {
     "data": {
      "text/plain": [
       "array(['neutral', 'negative', 'positive'], dtype=object)"
      ]
     },
     "execution_count": 19,
     "metadata": {},
     "output_type": "execute_result"
    }
   ],
   "source": [
    "y.unique()"
   ]
  },
  {
   "cell_type": "code",
   "execution_count": 20,
   "metadata": {},
   "outputs": [],
   "source": [
    "# Encode the target categories to a numeric number, using one hot encoding.\n",
    "encoder = LabelEncoder()\n",
    "y = encoder.fit_transform(air_full_df['airline_sentiment'])"
   ]
  },
  {
   "cell_type": "code",
   "execution_count": 21,
   "metadata": {},
   "outputs": [
    {
     "data": {
      "text/plain": [
       "array(['negative', 'neutral', 'positive'], dtype=object)"
      ]
     },
     "execution_count": 21,
     "metadata": {},
     "output_type": "execute_result"
    }
   ],
   "source": [
    "encoder.classes_"
   ]
  },
  {
   "cell_type": "code",
   "execution_count": 22,
   "metadata": {},
   "outputs": [
    {
     "data": {
      "text/plain": [
       "Counter({0: 7552, 1: 1634, 2: 1582})"
      ]
     },
     "execution_count": 22,
     "metadata": {},
     "output_type": "execute_result"
    }
   ],
   "source": [
    "# value counts of each class.\n",
    "Counter(y)"
   ]
  },
  {
   "cell_type": "code",
   "execution_count": 23,
   "metadata": {},
   "outputs": [],
   "source": [
    "# 0:Negative, 1:neutral, 2:positive\n",
    "# Classes of training data are imbalanced. "
   ]
  },
  {
   "cell_type": "code",
   "execution_count": 24,
   "metadata": {},
   "outputs": [],
   "source": [
    "# Create a document token matrix with CountVectorizer here. We are creating a numerical \n",
    "# representation of the words based on their count frequency in the \n",
    "# documents(in this case tweets)"
   ]
  },
  {
   "cell_type": "code",
   "execution_count": 25,
   "metadata": {},
   "outputs": [],
   "source": [
    "# NOTE: RUN MODELS WITH CLEAN, STOPW_CLEAN and STEM_STOPW_CLEAN, text. Is there a difference\n",
    "# in accuracy?"
   ]
  },
  {
   "cell_type": "code",
   "execution_count": 26,
   "metadata": {},
   "outputs": [],
   "source": [
    "# NOTE: Analyze why I selected to run these."
   ]
  },
  {
   "cell_type": "markdown",
   "metadata": {},
   "source": [
    "## Create pipeline for benchmarking naive models."
   ]
  },
  {
   "cell_type": "code",
   "execution_count": 27,
   "metadata": {},
   "outputs": [],
   "source": [
    "# Make a dictionary of models to run.\n",
    "# Using high C value for SVC and LR to provide minimal regularization.\n",
    "modelsToexecute_dict = {'NaiveBayes': {'model':MultinomialNB(),\n",
    "                                        'param_grid': ''},\n",
    "                 'LogisticRegression': {'model':LogisticRegression(C=1000),\n",
    "                                        'param_grid':''}                     \n",
    "                       }"
   ]
  },
  {
   "cell_type": "code",
   "execution_count": 31,
   "metadata": {},
   "outputs": [],
   "source": [
    "# Save mean accuracy scores, classification reports and confusion matrix.\n",
    "model_results = []\n",
    "confusion_mtx = {}\n",
    "classification_rep = {}\n",
    "cv_vectorizers = []\n",
    "target_names=['negative', 'neutral', 'positive']"
   ]
  },
  {
   "cell_type": "code",
   "execution_count": 32,
   "metadata": {},
   "outputs": [],
   "source": [
    "data_to_use = ['clean_text', 'stopw_clean_text', 'stem_stopw_clean_text']\n",
    "data_desc = [\"clean text\", \"remove stopwords\", \"applied stemming\"]"
   ]
  },
  {
   "cell_type": "code",
   "execution_count": 33,
   "metadata": {},
   "outputs": [
    {
     "name": "stderr",
     "output_type": "stream",
     "text": [
      "\r",
      "0it [00:00, ?it/s]"
     ]
    },
    {
     "name": "stdout",
     "output_type": "stream",
     "text": [
      "text data used for this iteration: clean_text\n",
      "trainiing model: NaiveBayes\n",
      "trainiing model: LogisticRegression\n"
     ]
    },
    {
     "name": "stderr",
     "output_type": "stream",
     "text": [
      "\r",
      "1it [00:05,  5.43s/it]"
     ]
    },
    {
     "name": "stdout",
     "output_type": "stream",
     "text": [
      "text data used for this iteration: stopw_clean_text\n",
      "trainiing model: NaiveBayes\n",
      "trainiing model: LogisticRegression\n"
     ]
    },
    {
     "name": "stderr",
     "output_type": "stream",
     "text": [
      "\r",
      "2it [00:09,  4.60s/it]"
     ]
    },
    {
     "name": "stdout",
     "output_type": "stream",
     "text": [
      "text data used for this iteration: stem_stopw_clean_text\n",
      "trainiing model: NaiveBayes\n",
      "trainiing model: LogisticRegression\n"
     ]
    },
    {
     "name": "stderr",
     "output_type": "stream",
     "text": [
      "3it [00:12,  4.20s/it]\n"
     ]
    }
   ],
   "source": [
    "for ind, text_set in tqdm(enumerate(data_to_use)):\n",
    "    print(\"text data used for this iteration: \"+ text_set)\n",
    "    X = air_full_df[text_set] \n",
    "    \n",
    "    for model_name, params in modelsToexecute_dict.items():  \n",
    "        print(\"trainiing model: \"+ model_name)\n",
    "        model = params['model']\n",
    "        param_grid = params['param_grid']\n",
    "        \n",
    "        # Create a pipeline for the model.\n",
    "        #pipe = make_pipeline(model)\n",
    "        pipe = Pipeline([\n",
    "                          ('vec', CountVectorizer()),\n",
    "                          ('model', model)\n",
    "                        ])\n",
    "\n",
    "                \n",
    "        execute_pipeline(pipe, param_grid, X, y, target_names, model_results, model_name,\n",
    "                         classification_rep, confusion_mtx, data_desc[ind])\n",
    "        "
   ]
  },
  {
   "cell_type": "code",
   "execution_count": 34,
   "metadata": {},
   "outputs": [],
   "source": [
    "# Put all modelling results in a dataframe.\n",
    "model_results_df = pd.DataFrame(model_results)\n",
    "\n",
    "# I am specifying the column arrangements.\n",
    "model_results_df = model_results_df[['dataset', 'model', 'tr_acc_score', 'tst_acc_score',\n",
    "                                     'pipe_object', 'y_pred', 'ytest', 'ypred_proba']]"
   ]
  },
  {
   "cell_type": "code",
   "execution_count": 35,
   "metadata": {},
   "outputs": [],
   "source": [
    "# classification reports are returned by sklearn as a string.\n",
    "# make it into a dataframe.\n",
    "cl_report_df = pd.DataFrame()\n",
    "dframes = []\n",
    "for k,v in classification_rep.items():\n",
    "\n",
    "    df = classifaction_report_df(v)    \n",
    "    modname_desc = k.split()\n",
    "    \n",
    "    df['model'] = str(modname_desc[0])\n",
    "    df['data_desc'] = str(' '.join(modname_desc[1:]))\n",
    "    dframes.append(df)\n",
    "    #print('*****  ' + k + '  Classification Report *****', '\\n\\n', v, '\\n')\n",
    "    \n",
    "cl_report_df = pd.concat(dframes)\n",
    "cl_report_df.reset_index(inplace=True)\n",
    "cl_report_df.drop(\"index\", axis=1, inplace=True)"
   ]
  },
  {
   "cell_type": "code",
   "execution_count": 37,
   "metadata": {},
   "outputs": [],
   "source": [
    "# pickle benchmark results.\n",
    "\n",
    "gu.pickle_obj(data_out_dir+'benchmark_model_results_ngrams1_1_df', model_results_df)\n",
    "gu.pickle_obj(data_out_dir+'benchmark_count_vectorizers_ngrams1_1.obj', cv_vectorizers)\n",
    "gu.pickle_obj(data_out_dir+'benchmark_class_report_ngrams1_1_df.obj', cl_report_df)\n",
    "gu.pickle_obj(data_out_dir+'benchmark_class_report_sklearn_ngrams1_1.obj', classification_rep)"
   ]
  },
  {
   "cell_type": "code",
   "execution_count": 38,
   "metadata": {},
   "outputs": [
    {
     "data": {
      "text/html": [
       "<div>\n",
       "<table border=\"1\" class=\"dataframe\">\n",
       "  <thead>\n",
       "    <tr style=\"text-align: right;\">\n",
       "      <th></th>\n",
       "      <th>dataset</th>\n",
       "      <th>model</th>\n",
       "      <th>tr_acc_score</th>\n",
       "      <th>tst_acc_score</th>\n",
       "      <th>pipe_object</th>\n",
       "      <th>y_pred</th>\n",
       "      <th>ytest</th>\n",
       "      <th>ypred_proba</th>\n",
       "    </tr>\n",
       "  </thead>\n",
       "  <tbody>\n",
       "    <tr>\n",
       "      <th>0</th>\n",
       "      <td>clean text</td>\n",
       "      <td>NaiveBayes</td>\n",
       "      <td>0.818670</td>\n",
       "      <td>0.757203</td>\n",
       "      <td>Pipeline(steps=[('vec', CountVectorizer(analyz...</td>\n",
       "      <td>[1, 0, 2, 0, 0, 0, 0, 0, 0, 0, 0, 1, 0, 2, 0, ...</td>\n",
       "      <td>[1, 1, 2, 0, 0, 0, 0, 2, 0, 0, 0, 1, 0, 2, 0, ...</td>\n",
       "      <td>[[0.276986055823, 0.70136884721, 0.02164509696...</td>\n",
       "    </tr>\n",
       "    <tr>\n",
       "      <th>1</th>\n",
       "      <td>clean text</td>\n",
       "      <td>LogisticRegression</td>\n",
       "      <td>0.841074</td>\n",
       "      <td>0.814769</td>\n",
       "      <td>Pipeline(steps=[('vec', CountVectorizer(analyz...</td>\n",
       "      <td>[1, 0, 2, 0, 0, 0, 0, 2, 0, 0, 2, 1, 2, 2, 0, ...</td>\n",
       "      <td>[1, 1, 2, 0, 0, 0, 0, 2, 0, 0, 0, 1, 0, 2, 0, ...</td>\n",
       "      <td>[[0.000141924008874, 0.999842745823, 1.5330167...</td>\n",
       "    </tr>\n",
       "    <tr>\n",
       "      <th>2</th>\n",
       "      <td>remove stopwords</td>\n",
       "      <td>NaiveBayes</td>\n",
       "      <td>0.819714</td>\n",
       "      <td>0.779946</td>\n",
       "      <td>Pipeline(steps=[('vec', CountVectorizer(analyz...</td>\n",
       "      <td>[1, 0, 2, 0, 0, 0, 0, 2, 0, 0, 0, 1, 0, 2, 0, ...</td>\n",
       "      <td>[1, 1, 2, 0, 0, 0, 0, 2, 0, 0, 0, 1, 0, 2, 0, ...</td>\n",
       "      <td>[[0.2546868438, 0.589602028781, 0.155711127419...</td>\n",
       "    </tr>\n",
       "    <tr>\n",
       "      <th>3</th>\n",
       "      <td>remove stopwords</td>\n",
       "      <td>LogisticRegression</td>\n",
       "      <td>0.810656</td>\n",
       "      <td>0.784582</td>\n",
       "      <td>Pipeline(steps=[('vec', CountVectorizer(analyz...</td>\n",
       "      <td>[1, 0, 2, 0, 0, 1, 0, 2, 0, 0, 2, 1, 2, 2, 0, ...</td>\n",
       "      <td>[1, 1, 2, 0, 0, 0, 0, 2, 0, 0, 0, 1, 0, 2, 0, ...</td>\n",
       "      <td>[[0.122244915004, 0.87010519278, 0.00764989221...</td>\n",
       "    </tr>\n",
       "    <tr>\n",
       "      <th>4</th>\n",
       "      <td>applied stemming</td>\n",
       "      <td>NaiveBayes</td>\n",
       "      <td>0.813908</td>\n",
       "      <td>0.780409</td>\n",
       "      <td>Pipeline(steps=[('vec', CountVectorizer(analyz...</td>\n",
       "      <td>[1, 0, 2, 0, 0, 0, 0, 2, 0, 0, 0, 1, 0, 2, 0, ...</td>\n",
       "      <td>[1, 1, 2, 0, 0, 0, 0, 2, 0, 0, 0, 1, 0, 2, 0, ...</td>\n",
       "      <td>[[0.204935495019, 0.634149659528, 0.1609148454...</td>\n",
       "    </tr>\n",
       "    <tr>\n",
       "      <th>5</th>\n",
       "      <td>applied stemming</td>\n",
       "      <td>LogisticRegression</td>\n",
       "      <td>0.799511</td>\n",
       "      <td>0.760912</td>\n",
       "      <td>Pipeline(steps=[('vec', CountVectorizer(analyz...</td>\n",
       "      <td>[1, 0, 1, 0, 0, 0, 0, 0, 0, 0, 2, 1, 0, 2, 0, ...</td>\n",
       "      <td>[1, 1, 2, 0, 0, 0, 0, 2, 0, 0, 0, 1, 0, 2, 0, ...</td>\n",
       "      <td>[[0.0574213565036, 0.930900800323, 0.011677843...</td>\n",
       "    </tr>\n",
       "  </tbody>\n",
       "</table>\n",
       "</div>"
      ],
      "text/plain": [
       "            dataset               model  tr_acc_score  tst_acc_score  \\\n",
       "0        clean text          NaiveBayes      0.818670       0.757203   \n",
       "1        clean text  LogisticRegression      0.841074       0.814769   \n",
       "2  remove stopwords          NaiveBayes      0.819714       0.779946   \n",
       "3  remove stopwords  LogisticRegression      0.810656       0.784582   \n",
       "4  applied stemming          NaiveBayes      0.813908       0.780409   \n",
       "5  applied stemming  LogisticRegression      0.799511       0.760912   \n",
       "\n",
       "                                         pipe_object  \\\n",
       "0  Pipeline(steps=[('vec', CountVectorizer(analyz...   \n",
       "1  Pipeline(steps=[('vec', CountVectorizer(analyz...   \n",
       "2  Pipeline(steps=[('vec', CountVectorizer(analyz...   \n",
       "3  Pipeline(steps=[('vec', CountVectorizer(analyz...   \n",
       "4  Pipeline(steps=[('vec', CountVectorizer(analyz...   \n",
       "5  Pipeline(steps=[('vec', CountVectorizer(analyz...   \n",
       "\n",
       "                                              y_pred  \\\n",
       "0  [1, 0, 2, 0, 0, 0, 0, 0, 0, 0, 0, 1, 0, 2, 0, ...   \n",
       "1  [1, 0, 2, 0, 0, 0, 0, 2, 0, 0, 2, 1, 2, 2, 0, ...   \n",
       "2  [1, 0, 2, 0, 0, 0, 0, 2, 0, 0, 0, 1, 0, 2, 0, ...   \n",
       "3  [1, 0, 2, 0, 0, 1, 0, 2, 0, 0, 2, 1, 2, 2, 0, ...   \n",
       "4  [1, 0, 2, 0, 0, 0, 0, 2, 0, 0, 0, 1, 0, 2, 0, ...   \n",
       "5  [1, 0, 1, 0, 0, 0, 0, 0, 0, 0, 2, 1, 0, 2, 0, ...   \n",
       "\n",
       "                                               ytest  \\\n",
       "0  [1, 1, 2, 0, 0, 0, 0, 2, 0, 0, 0, 1, 0, 2, 0, ...   \n",
       "1  [1, 1, 2, 0, 0, 0, 0, 2, 0, 0, 0, 1, 0, 2, 0, ...   \n",
       "2  [1, 1, 2, 0, 0, 0, 0, 2, 0, 0, 0, 1, 0, 2, 0, ...   \n",
       "3  [1, 1, 2, 0, 0, 0, 0, 2, 0, 0, 0, 1, 0, 2, 0, ...   \n",
       "4  [1, 1, 2, 0, 0, 0, 0, 2, 0, 0, 0, 1, 0, 2, 0, ...   \n",
       "5  [1, 1, 2, 0, 0, 0, 0, 2, 0, 0, 0, 1, 0, 2, 0, ...   \n",
       "\n",
       "                                         ypred_proba  \n",
       "0  [[0.276986055823, 0.70136884721, 0.02164509696...  \n",
       "1  [[0.000141924008874, 0.999842745823, 1.5330167...  \n",
       "2  [[0.2546868438, 0.589602028781, 0.155711127419...  \n",
       "3  [[0.122244915004, 0.87010519278, 0.00764989221...  \n",
       "4  [[0.204935495019, 0.634149659528, 0.1609148454...  \n",
       "5  [[0.0574213565036, 0.930900800323, 0.011677843...  "
      ]
     },
     "execution_count": 38,
     "metadata": {},
     "output_type": "execute_result"
    }
   ],
   "source": [
    "model_results_df"
   ]
  },
  {
   "cell_type": "code",
   "execution_count": 39,
   "metadata": {},
   "outputs": [
    {
     "data": {
      "text/html": [
       "<div>\n",
       "<table border=\"1\" class=\"dataframe\">\n",
       "  <thead>\n",
       "    <tr style=\"text-align: right;\">\n",
       "      <th></th>\n",
       "      <th>class</th>\n",
       "      <th>f1_score</th>\n",
       "      <th>precision</th>\n",
       "      <th>recall</th>\n",
       "      <th>support</th>\n",
       "      <th>model</th>\n",
       "      <th>data_desc</th>\n",
       "    </tr>\n",
       "  </thead>\n",
       "  <tbody>\n",
       "    <tr>\n",
       "      <th>0</th>\n",
       "      <td>negative</td>\n",
       "      <td>0.89</td>\n",
       "      <td>0.80</td>\n",
       "      <td>0.99</td>\n",
       "      <td>1500.0</td>\n",
       "      <td>NaiveBayes</td>\n",
       "      <td>clean text</td>\n",
       "    </tr>\n",
       "    <tr>\n",
       "      <th>1</th>\n",
       "      <td>neutral</td>\n",
       "      <td>0.46</td>\n",
       "      <td>0.87</td>\n",
       "      <td>0.31</td>\n",
       "      <td>350.0</td>\n",
       "      <td>NaiveBayes</td>\n",
       "      <td>clean text</td>\n",
       "    </tr>\n",
       "    <tr>\n",
       "      <th>2</th>\n",
       "      <td>positive</td>\n",
       "      <td>0.68</td>\n",
       "      <td>0.90</td>\n",
       "      <td>0.55</td>\n",
       "      <td>304.0</td>\n",
       "      <td>NaiveBayes</td>\n",
       "      <td>clean text</td>\n",
       "    </tr>\n",
       "    <tr>\n",
       "      <th>3</th>\n",
       "      <td>negative</td>\n",
       "      <td>0.90</td>\n",
       "      <td>0.90</td>\n",
       "      <td>0.90</td>\n",
       "      <td>1500.0</td>\n",
       "      <td>LogisticRegression</td>\n",
       "      <td>clean text</td>\n",
       "    </tr>\n",
       "    <tr>\n",
       "      <th>4</th>\n",
       "      <td>neutral</td>\n",
       "      <td>0.65</td>\n",
       "      <td>0.65</td>\n",
       "      <td>0.65</td>\n",
       "      <td>350.0</td>\n",
       "      <td>LogisticRegression</td>\n",
       "      <td>clean text</td>\n",
       "    </tr>\n",
       "  </tbody>\n",
       "</table>\n",
       "</div>"
      ],
      "text/plain": [
       "         class  f1_score  precision  recall  support               model  \\\n",
       "0     negative      0.89       0.80    0.99   1500.0          NaiveBayes   \n",
       "1      neutral      0.46       0.87    0.31    350.0          NaiveBayes   \n",
       "2     positive      0.68       0.90    0.55    304.0          NaiveBayes   \n",
       "3     negative      0.90       0.90    0.90   1500.0  LogisticRegression   \n",
       "4      neutral      0.65       0.65    0.65    350.0  LogisticRegression   \n",
       "\n",
       "    data_desc  \n",
       "0  clean text  \n",
       "1  clean text  \n",
       "2  clean text  \n",
       "3  clean text  \n",
       "4  clean text  "
      ]
     },
     "execution_count": 39,
     "metadata": {},
     "output_type": "execute_result"
    }
   ],
   "source": [
    "cl_report_df.head(5)"
   ]
  },
  {
   "cell_type": "markdown",
   "metadata": {},
   "source": [
    "## Visualize Classification Report Metrics."
   ]
  },
  {
   "cell_type": "markdown",
   "metadata": {},
   "source": [
    "### Accuracy of model for the different feature dimensions of the text data\n",
    "```text data: cleaned only, stopwords added, stemming added.```"
   ]
  },
  {
   "cell_type": "code",
   "execution_count": 40,
   "metadata": {},
   "outputs": [
    {
     "data": {
      "image/png": "[encoded data removed]",
      "text/plain": [
       "<matplotlib.figure.Figure at 0x7f23ad66bc18>"
      ]
     },
     "metadata": {},
     "output_type": "display_data"
    }
   ],
   "source": [
    "plt.figure(figsize=(6,6))\n",
    "sns.pointplot(x=\"dataset\", y= \"tst_acc_score\", hue=\"model\", data=model_results_df)\n",
    "plt.title('Text data dimensionality reduction vs. accuracy score for each model',\n",
    "          fontsize=14)\n",
    "plt.xlabel('text data', fontsize=12)\n",
    "plt.xticks(fontsize=12)\n",
    "plt.ylabel('accuracy score', fontsize=12)\n",
    "plt.tight_layout()\n",
    "plt.savefig(img_out_dir+'BM_model_accuracy_vs_feat_dim_reduction.png')"
   ]
  },
  {
   "cell_type": "markdown",
   "metadata": {},
   "source": [
    "### Let's look at the classification report metrics: precision and recall, and confusion matrix"
   ]
  },
  {
   "cell_type": "code",
   "execution_count": 41,
   "metadata": {},
   "outputs": [],
   "source": [
    "def plot_model_precision_recall(data, filename, data_type):\n",
    "    plt.figure(figsize=(12,6))\n",
    "    \n",
    "    # plot precision.\n",
    "    plt.subplot(1,2,1)\n",
    "    sns.pointplot(x=\"model\", y= \"precision\", hue=\"class\", data=data)\n",
    "    plt.title('Text data: ('+data_type+') vs. precision score for each model',\n",
    "              fontsize=14)\n",
    "    plt.xlabel('models', fontsize=12)\n",
    "    plt.xticks(rotation=90,fontsize=12)\n",
    "    plt.ylabel('precision score', fontsize=12)\n",
    "\n",
    "    # plot recall.\n",
    "    plt.subplot(1,2,2)\n",
    "    sns.pointplot(x=\"model\", y= \"recall\", hue=\"class\", data=data)\n",
    "    plt.title('Text data: ('+data_type+') vs. recall score for each model',\n",
    "              fontsize=14)\n",
    "    plt.xlabel('models', fontsize=12)\n",
    "    plt.xticks(rotation=90,fontsize=12)\n",
    "    plt.ylabel('recall score', fontsize=12)\n",
    "\n",
    "    plt.tight_layout()\n",
    "    plt.savefig(img_out_dir+filename)"
   ]
  },
  {
   "cell_type": "code",
   "execution_count": 42,
   "metadata": {},
   "outputs": [],
   "source": [
    "data_desc = [\"clean text\", \"remove stopwords\", \"applied stemming\"]"
   ]
  },
  {
   "cell_type": "code",
   "execution_count": 43,
   "metadata": {},
   "outputs": [
    {
     "data": {
      "image/png": "[encoded data removed]",
      "text/plain": [
       "<matplotlib.figure.Figure at 0x7f23ac3230b8>"
      ]
     },
     "metadata": {},
     "output_type": "display_data"
    },
    {
     "data": {
      "image/png": "[encoded data removed]",
      "text/plain": [
       "<matplotlib.figure.Figure at 0x7f23a73991d0>"
      ]
     },
     "metadata": {},
     "output_type": "display_data"
    },
    {
     "data": {
      "image/png": "[encoded data removed]",
      "text/plain": [
       "<matplotlib.figure.Figure at 0x7f23a7449208>"
      ]
     },
     "metadata": {},
     "output_type": "display_data"
    }
   ],
   "source": [
    "for data_type in data_desc:\n",
    "    filename = 'BM_model_prec_recall_vs_models_'+data_type.replace(' ','')+'.png'\n",
    "    data = cl_report_df[cl_report_df.data_desc==data_type]\n",
    "    plot_model_precision_recall(data, filename, data_type)"
   ]
  },
  {
   "cell_type": "code",
   "execution_count": 44,
   "metadata": {},
   "outputs": [],
   "source": [
    "# confusion matrix is used to evaluate the quality of the output of a classifier.\n",
    "# The diagonal elements represent the number of points for which the predicted label \n",
    "# is equal to the true label, while off-diagonal elements are those that are mislabeled\n",
    "# by the classifier."
   ]
  },
  {
   "cell_type": "code",
   "execution_count": 45,
   "metadata": {},
   "outputs": [],
   "source": [
    "# Metrics computed from a confusion matrix:\n",
    "\n",
    "#    Classification Accuracy: Overall, how often is the classifier correct?\n",
    "#    (TP + TN) / (TP + TN + FP + FN)\n",
    "\n",
    "#    Classification Error: Overall, how often is the classifier incorrect?\n",
    "#    (FP + FN) / (TP + TN + FP + FN)\n",
    "\n",
    "#    Sensitivity: When the actual value is positive, how often is the prediction correct?\n",
    "#    out of all positives, how many were true positives.\n",
    "#    ***** This is Something we want to maximize. *****\n",
    "#           How \"sensitive\" is the classifier to detecting positive instances?\n",
    "#           Also known as \"True Positive Rate\" or \"RECALL\"\n",
    "#                 TP / all positive\n",
    "#                 all positive = TP + FN\n",
    "\n",
    "#     Specificity: When the actual value is negative, how often is the prediction correct?\n",
    "#     ***** This is Something we want to maximize. *****\n",
    "#             How \"specific\" (or \"selective\") is the classifier in predicting positive instances?\n",
    "#                 TN / all negative\n",
    "#                 all negative = TN + FP\n",
    "\n",
    "#     Precision: When a positive value is predicted, how often is the prediction correct?\n",
    "#             How \"precise\" is the classifier when predicting positive instances?\n"
   ]
  },
  {
   "cell_type": "code",
   "execution_count": 46,
   "metadata": {},
   "outputs": [
    {
     "name": "stdout",
     "output_type": "stream",
     "text": [
      "Normalized confusion matrix\n",
      "[[ 0.99  0.01  0.  ]\n",
      " [ 0.65  0.31  0.03]\n",
      " [ 0.44  0.02  0.55]]\n"
     ]
    },
    {
     "data": {
      "image/png": "[encoded data removed]",
      "text/plain": [
       "<matplotlib.figure.Figure at 0x7f23a767ac50>"
      ]
     },
     "metadata": {},
     "output_type": "display_data"
    },
    {
     "name": "stdout",
     "output_type": "stream",
     "text": [
      "Normalized confusion matrix\n",
      "[[ 0.9   0.07  0.03]\n",
      " [ 0.29  0.65  0.06]\n",
      " [ 0.17  0.07  0.76]]\n"
     ]
    },
    {
     "data": {
      "image/png": "[encoded data removed]",
      "text/plain": [
       "<matplotlib.figure.Figure at 0x7f23a76858d0>"
      ]
     },
     "metadata": {},
     "output_type": "display_data"
    },
    {
     "name": "stdout",
     "output_type": "stream",
     "text": [
      "Normalized confusion matrix\n",
      "[[ 0.98  0.01  0.01]\n",
      " [ 0.63  0.31  0.05]\n",
      " [ 0.36  0.03  0.62]]\n"
     ]
    },
    {
     "data": {
      "image/png": "[encoded data removed]",
      "text/plain": [
       "<matplotlib.figure.Figure at 0x7f23a52f50f0>"
      ]
     },
     "metadata": {},
     "output_type": "display_data"
    },
    {
     "name": "stdout",
     "output_type": "stream",
     "text": [
      "Normalized confusion matrix\n",
      "[[ 0.89  0.08  0.03]\n",
      " [ 0.35  0.55  0.1 ]\n",
      " [ 0.18  0.07  0.75]]\n"
     ]
    },
    {
     "data": {
      "image/png": "[encoded data removed]",
      "text/plain": [
       "<matplotlib.figure.Figure at 0x7f23ac0ae7f0>"
      ]
     },
     "metadata": {},
     "output_type": "display_data"
    },
    {
     "name": "stdout",
     "output_type": "stream",
     "text": [
      "Normalized confusion matrix\n",
      "[[ 0.98  0.01  0.01]\n",
      " [ 0.63  0.31  0.06]\n",
      " [ 0.35  0.03  0.62]]\n"
     ]
    },
    {
     "data": {
      "image/png": "[encoded data removed]",
      "text/plain": [
       "<matplotlib.figure.Figure at 0x7f23a74a3a20>"
      ]
     },
     "metadata": {},
     "output_type": "display_data"
    },
    {
     "name": "stdout",
     "output_type": "stream",
     "text": [
      "Normalized confusion matrix\n",
      "[[ 0.88  0.08  0.04]\n",
      " [ 0.31  0.58  0.1 ]\n",
      " [ 0.19  0.09  0.72]]\n"
     ]
    },
    {
     "data": {
      "image/png": "[encoded data removed]",
      "text/plain": [
       "<matplotlib.figure.Figure at 0x7f23a7470240>"
      ]
     },
     "metadata": {},
     "output_type": "display_data"
    }
   ],
   "source": [
    "# Plot confusion matrices, for all models. Table that describes the performance of a classification model.\n",
    "for k,conf_mtx in confusion_mtx.items():\n",
    "    plot_confusion_matrix(conf_mtx, classes=target_names,\n",
    "                          title= 'confusion_matrix_'+k,\n",
    "                          isNorm='True')    "
   ]
  },
  {
   "cell_type": "code",
   "execution_count": 50,
   "metadata": {},
   "outputs": [
    {
     "data": {
      "text/plain": [
       "Index(['dataset', 'model', 'tr_acc_score', 'tst_acc_score', 'pipe_object',\n",
       "       'y_pred', 'ytest', 'ypred_proba'],\n",
       "      dtype='object')"
      ]
     },
     "execution_count": 50,
     "metadata": {},
     "output_type": "execute_result"
    }
   ],
   "source": [
    "model_results_df.columns"
   ]
  },
  {
   "cell_type": "code",
   "execution_count": 51,
   "metadata": {},
   "outputs": [],
   "source": [
    "y_pred_prob = model_results_df.ypred_proba[0]"
   ]
  },
  {
   "cell_type": "code",
   "execution_count": 52,
   "metadata": {},
   "outputs": [
    {
     "data": {
      "text/plain": [
       "(1765, 168, 221)"
      ]
     },
     "execution_count": 52,
     "metadata": {},
     "output_type": "execute_result"
    }
   ],
   "source": [
    "(model_results_df.y_pred[0]==0).sum(), (model_results_df.y_pred[0]==1).sum(), (model_results_df.y_pred[0]==2).sum()"
   ]
  },
  {
   "cell_type": "code",
   "execution_count": 53,
   "metadata": {},
   "outputs": [
    {
     "data": {
      "text/plain": [
       "(1500, 350, 304)"
      ]
     },
     "execution_count": 53,
     "metadata": {},
     "output_type": "execute_result"
    }
   ],
   "source": [
    "(model_results_df.ytest[0]==0).sum(), (model_results_df.ytest[0]==1).sum(), (model_results_df.ytest[0]==2).sum()"
   ]
  },
  {
   "cell_type": "code",
   "execution_count": 54,
   "metadata": {},
   "outputs": [],
   "source": [
    "y_test = model_results_df.ytest[0]"
   ]
  },
  {
   "cell_type": "code",
   "execution_count": 55,
   "metadata": {},
   "outputs": [
    {
     "data": {
      "text/plain": [
       "'NaiveBayes'"
      ]
     },
     "execution_count": 55,
     "metadata": {},
     "output_type": "execute_result"
    }
   ],
   "source": [
    "model_results_df.model[0]"
   ]
  },
  {
   "cell_type": "code",
   "execution_count": 56,
   "metadata": {},
   "outputs": [],
   "source": [
    "# Predict sentiment of text."
   ]
  },
  {
   "cell_type": "code",
   "execution_count": 57,
   "metadata": {},
   "outputs": [],
   "source": [
    "nb_pipe = model_results_df.pipe_object[0]"
   ]
  },
  {
   "cell_type": "code",
   "execution_count": 58,
   "metadata": {},
   "outputs": [
    {
     "data": {
      "text/plain": [
       "array([0, 1, 2])"
      ]
     },
     "execution_count": 58,
     "metadata": {},
     "output_type": "execute_result"
    }
   ],
   "source": [
    "nb_pipe.classes_"
   ]
  },
  {
   "cell_type": "code",
   "execution_count": 59,
   "metadata": {},
   "outputs": [],
   "source": [
    "X_in = cv.transform([\"it was amazing\"])"
   ]
  },
  {
   "cell_type": "code",
   "execution_count": 60,
   "metadata": {},
   "outputs": [
    {
     "data": {
      "text/plain": [
       "array([2])"
      ]
     },
     "execution_count": 60,
     "metadata": {},
     "output_type": "execute_result"
    }
   ],
   "source": [
    "nb_pipe.predict(X_in)"
   ]
  },
  {
   "cell_type": "code",
   "execution_count": 61,
   "metadata": {},
   "outputs": [],
   "source": [
    "prob = nb_pipe.predict_proba(X_in)"
   ]
  },
  {
   "cell_type": "code",
   "execution_count": 62,
   "metadata": {},
   "outputs": [
    {
     "data": {
      "text/plain": [
       "array([ 0.30106953,  0.23759203,  0.46133844])"
      ]
     },
     "execution_count": 62,
     "metadata": {},
     "output_type": "execute_result"
    }
   ],
   "source": [
    "prob[0]"
   ]
  },
  {
   "cell_type": "code",
   "execution_count": 63,
   "metadata": {},
   "outputs": [
    {
     "data": {
      "text/plain": [
       "0.3010695347362618"
      ]
     },
     "execution_count": 63,
     "metadata": {},
     "output_type": "execute_result"
    }
   ],
   "source": [
    "prob[0][0]"
   ]
  },
  {
   "cell_type": "code",
   "execution_count": 64,
   "metadata": {},
   "outputs": [
    {
     "data": {
      "text/plain": [
       "'i ❤️ flying ☺️👍'"
      ]
     },
     "execution_count": 64,
     "metadata": {},
     "output_type": "execute_result"
    }
   ],
   "source": [
    "text = air_full_df[air_full_df.airline_sentiment == 'positive']['clean_text'].values[5]\n",
    "text"
   ]
  },
  {
   "cell_type": "code",
   "execution_count": 65,
   "metadata": {},
   "outputs": [
    {
     "data": {
      "text/plain": [
       "(array([[ 0.7025772 ,  0.14905967,  0.14836313]]), array([0]))"
      ]
     },
     "execution_count": 65,
     "metadata": {},
     "output_type": "execute_result"
    }
   ],
   "source": [
    "X_in = cv.transform([text])\n",
    "prob = nb_pipe.predict_proba(X_in)\n",
    "prob, nb_pipe.predict(X_in)"
   ]
  },
  {
   "cell_type": "code",
   "execution_count": 66,
   "metadata": {},
   "outputs": [],
   "source": [
    "# We see that text is clearly positive and the model mispredicts as negative.\n",
    "# emojis are not being used as features yet. I will explore that next. It should help\n",
    "# as a strong predictor, specially for positive tweets."
   ]
  },
  {
   "cell_type": "code",
   "execution_count": 67,
   "metadata": {},
   "outputs": [
    {
     "data": {
      "text/plain": [
       "'and now the flight flight booking problems site is totally down folks what is the problem'"
      ]
     },
     "execution_count": 67,
     "metadata": {},
     "output_type": "execute_result"
    }
   ],
   "source": [
    "text = air_full_df[air_full_df.airline_sentiment == 'negative']['clean_text'].values[35]\n",
    "text"
   ]
  },
  {
   "cell_type": "code",
   "execution_count": 68,
   "metadata": {},
   "outputs": [
    {
     "data": {
      "text/plain": [
       "(array([[  9.93448823e-01,   6.53235992e-03,   1.88168462e-05]]), array([0]))"
      ]
     },
     "execution_count": 68,
     "metadata": {},
     "output_type": "execute_result"
    }
   ],
   "source": [
    "X_in = cv.transform([text])\n",
    "prob = nb_pipe.predict_proba(X_in)\n",
    "prob, nb_pipe.predict(X_in)"
   ]
  },
  {
   "cell_type": "code",
   "execution_count": 69,
   "metadata": {},
   "outputs": [],
   "source": [
    "# model predicts negative with strong class probability, as expected."
   ]
  },
  {
   "cell_type": "code",
   "execution_count": 70,
   "metadata": {},
   "outputs": [
    {
     "data": {
      "text/plain": [
       "'to begin dallasaustin flights in april  889 ketr'"
      ]
     },
     "execution_count": 70,
     "metadata": {},
     "output_type": "execute_result"
    }
   ],
   "source": [
    "text = air_full_df[air_full_df.airline_sentiment == 'neutral']['clean_text'].values[35]\n",
    "text"
   ]
  },
  {
   "cell_type": "code",
   "execution_count": 71,
   "metadata": {},
   "outputs": [
    {
     "data": {
      "text/plain": [
       "(array([[  2.98039655e-05,   9.96230106e-01,   3.74009013e-03]]), array([1]))"
      ]
     },
     "execution_count": 71,
     "metadata": {},
     "output_type": "execute_result"
    }
   ],
   "source": [
    "X_in = cv.transform([text])\n",
    "prob = nb_pipe.predict_proba(X_in)\n",
    "prob, nb_pipe.predict(X_in)"
   ]
  },
  {
   "cell_type": "code",
   "execution_count": null,
   "metadata": {},
   "outputs": [],
   "source": []
  }
 ],
 "metadata": {
  "anaconda-cloud": {},
  "kernelspec": {
   "display_name": "Python 3",
   "language": "python",
   "name": "python3"
  },
  "language_info": {
   "codemirror_mode": {
    "name": "ipython",
    "version": 3
   },
   "file_extension": ".py",
   "mimetype": "text/x-python",
   "name": "python",
   "nbconvert_exporter": "python",
   "pygments_lexer": "ipython3",
   "version": "3.6.2"
  }
 },
 "nbformat": 4,
 "nbformat_minor": 1
}
