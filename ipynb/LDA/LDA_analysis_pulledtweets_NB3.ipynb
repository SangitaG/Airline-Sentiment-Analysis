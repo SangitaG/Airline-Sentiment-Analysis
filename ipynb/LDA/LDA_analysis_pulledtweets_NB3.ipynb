{
 "cells": [
  {
   "cell_type": "code",
   "execution_count": 1,
   "metadata": {},
   "outputs": [
    {
     "name": "stdout",
     "output_type": "stream",
     "text": [
      "/home/jovyan/GA_DSI/Projects/capstone\n"
     ]
    }
   ],
   "source": [
    "cd /home/jovyan/GA_DSI/Projects/capstone"
   ]
  },
  {
   "cell_type": "code",
   "execution_count": 2,
   "metadata": {},
   "outputs": [],
   "source": [
    "from sklearn.decomposition import LatentDirichletAllocation\n",
    "from sklearn.feature_extraction.text import CountVectorizer, TfidfVectorizer\n",
    "import pandas as pd\n",
    "import numpy as np\n",
    "import seaborn as sns\n",
    "import matplotlib.pyplot as plt\n",
    "\n",
    "import lib.general_utilities as gu\n",
    "\n",
    "# storing data directories for this notebook.\n",
    "img_out_dir = 'data/images/LDA_analysis_NB5/'\n",
    "data_out_dir = 'data/pickled/LDA_analysis_NB5/'\n",
    "\n",
    "%matplotlib inline"
   ]
  },
  {
   "cell_type": "code",
   "execution_count": 3,
   "metadata": {},
   "outputs": [],
   "source": [
    "filename = 'data/processed_dataset_df/pulledTweetsProcessedAndClassified_df'\n",
    "air_df = gu.read_pickle_obj(filename)"
   ]
  },
  {
   "cell_type": "code",
   "execution_count": 4,
   "metadata": {},
   "outputs": [
    {
     "data": {
      "text/plain": [
       "Index(['airline', 'date', 'text', 'Processed_tweet', 'emoji_enc_text',\n",
       "       'emojis', 'sentiment_predicted_nb', 'sentiment_predicted_lr'],\n",
       "      dtype='object')"
      ]
     },
     "execution_count": 4,
     "metadata": {},
     "output_type": "execute_result"
    }
   ],
   "source": [
    "air_df.columns"
   ]
  },
  {
   "cell_type": "code",
   "execution_count": 5,
   "metadata": {},
   "outputs": [
    {
     "data": {
      "text/html": [
       "<div>\n",
       "<table border=\"1\" class=\"dataframe\">\n",
       "  <thead>\n",
       "    <tr style=\"text-align: right;\">\n",
       "      <th></th>\n",
       "      <th>airline</th>\n",
       "      <th>date</th>\n",
       "      <th>text</th>\n",
       "      <th>Processed_tweet</th>\n",
       "      <th>emoji_enc_text</th>\n",
       "      <th>emojis</th>\n",
       "      <th>sentiment_predicted_nb</th>\n",
       "      <th>sentiment_predicted_lr</th>\n",
       "    </tr>\n",
       "  </thead>\n",
       "  <tbody>\n",
       "    <tr>\n",
       "      <th>0</th>\n",
       "      <td>UnitedAirlines</td>\n",
       "      <td>2018-01-09 21:19:36</td>\n",
       "      <td>Kudos to the #unitedairlines staff for helping...</td>\n",
       "      <td>kudos staff helping crazy reservation nice sen...</td>\n",
       "      <td>kudos staff helping crazy reservation nice sen...</td>\n",
       "      <td></td>\n",
       "      <td>positive</td>\n",
       "      <td>positive</td>\n",
       "    </tr>\n",
       "    <tr>\n",
       "      <th>1</th>\n",
       "      <td>UnitedAirlines</td>\n",
       "      <td>2018-01-09 21:06:39</td>\n",
       "      <td>And the painful experience with  @united conti...</td>\n",
       "      <td>painful experience continues ask time lengthy ...</td>\n",
       "      <td>painful experience continues ask time lengthy ...</td>\n",
       "      <td></td>\n",
       "      <td>negative</td>\n",
       "      <td>negative</td>\n",
       "    </tr>\n",
       "    <tr>\n",
       "      <th>2</th>\n",
       "      <td>UnitedAirlines</td>\n",
       "      <td>2018-01-09 21:02:07</td>\n",
       "      <td>@united is the shittiest airline company I hav...</td>\n",
       "      <td>shittiest airline company experienced fuck nev...</td>\n",
       "      <td>shittiest airline company experienced fuck nev...</td>\n",
       "      <td></td>\n",
       "      <td>negative</td>\n",
       "      <td>negative</td>\n",
       "    </tr>\n",
       "    <tr>\n",
       "      <th>3</th>\n",
       "      <td>UnitedAirlines</td>\n",
       "      <td>2018-01-09 20:56:00</td>\n",
       "      <td>Oh joy. You came home. #lostluggage #unitedair...</td>\n",
       "      <td>oh joy came home lostluggage</td>\n",
       "      <td>oh joy came home lostluggage</td>\n",
       "      <td></td>\n",
       "      <td>negative</td>\n",
       "      <td>negative</td>\n",
       "    </tr>\n",
       "    <tr>\n",
       "      <th>4</th>\n",
       "      <td>UnitedAirlines</td>\n",
       "      <td>2018-01-09 20:49:48</td>\n",
       "      <td>RT @officiParas: #UnitedAirlines Offers Custom...</td>\n",
       "      <td>rt offer customer free checked bag travel tofr...</td>\n",
       "      <td>rt offer customer free checked bag travel tofr...</td>\n",
       "      <td></td>\n",
       "      <td>neutral</td>\n",
       "      <td>negative</td>\n",
       "    </tr>\n",
       "    <tr>\n",
       "      <th>5</th>\n",
       "      <td>UnitedAirlines</td>\n",
       "      <td>2018-01-09 20:41:02</td>\n",
       "      <td>#UnitedAirlines - still can’t understand why a...</td>\n",
       "      <td>can’t understand 1 million miler 2mm board grp...</td>\n",
       "      <td>can’t understand 1 million miler 2mm board grp...</td>\n",
       "      <td></td>\n",
       "      <td>negative</td>\n",
       "      <td>negative</td>\n",
       "    </tr>\n",
       "    <tr>\n",
       "      <th>6</th>\n",
       "      <td>UnitedAirlines</td>\n",
       "      <td>2018-01-09 20:33:20</td>\n",
       "      <td>My knees #unitedAIRLINES https://t.co/qErdox2Cht</td>\n",
       "      <td>knee</td>\n",
       "      <td>knee</td>\n",
       "      <td></td>\n",
       "      <td>negative</td>\n",
       "      <td>neutral</td>\n",
       "    </tr>\n",
       "    <tr>\n",
       "      <th>7</th>\n",
       "      <td>UnitedAirlines</td>\n",
       "      <td>2018-01-09 20:24:22</td>\n",
       "      <td>@theweeknd cuts ties with H&amp;amp;M over 'monkey...</td>\n",
       "      <td>cut tie hampm monkey ad blm equality4all monke...</td>\n",
       "      <td>cut tie hampm monkey ad blm equality4all monke...</td>\n",
       "      <td></td>\n",
       "      <td>negative</td>\n",
       "      <td>negative</td>\n",
       "    </tr>\n",
       "    <tr>\n",
       "      <th>8</th>\n",
       "      <td>UnitedAirlines</td>\n",
       "      <td>2018-01-09 20:15:15</td>\n",
       "      <td>A peek inside Classified, where CEOs and celeb...</td>\n",
       "      <td>peek inside classified ceo celebrity dine hidd...</td>\n",
       "      <td>peek inside classified ceo celebrity dine hidd...</td>\n",
       "      <td></td>\n",
       "      <td>neutral</td>\n",
       "      <td>neutral</td>\n",
       "    </tr>\n",
       "    <tr>\n",
       "      <th>9</th>\n",
       "      <td>UnitedAirlines</td>\n",
       "      <td>2018-01-09 19:48:04</td>\n",
       "      <td>Montreal, Canada to Phoenix, Arizona for only ...</td>\n",
       "      <td>montreal canada phoenix arizona 271 cad roundt...</td>\n",
       "      <td>montreal canada phoenix arizona 271 cad roundt...</td>\n",
       "      <td></td>\n",
       "      <td>negative</td>\n",
       "      <td>neutral</td>\n",
       "    </tr>\n",
       "  </tbody>\n",
       "</table>\n",
       "</div>"
      ],
      "text/plain": [
       "          airline                date  \\\n",
       "0  UnitedAirlines 2018-01-09 21:19:36   \n",
       "1  UnitedAirlines 2018-01-09 21:06:39   \n",
       "2  UnitedAirlines 2018-01-09 21:02:07   \n",
       "3  UnitedAirlines 2018-01-09 20:56:00   \n",
       "4  UnitedAirlines 2018-01-09 20:49:48   \n",
       "5  UnitedAirlines 2018-01-09 20:41:02   \n",
       "6  UnitedAirlines 2018-01-09 20:33:20   \n",
       "7  UnitedAirlines 2018-01-09 20:24:22   \n",
       "8  UnitedAirlines 2018-01-09 20:15:15   \n",
       "9  UnitedAirlines 2018-01-09 19:48:04   \n",
       "\n",
       "                                                text  \\\n",
       "0  Kudos to the #unitedairlines staff for helping...   \n",
       "1  And the painful experience with  @united conti...   \n",
       "2  @united is the shittiest airline company I hav...   \n",
       "3  Oh joy. You came home. #lostluggage #unitedair...   \n",
       "4  RT @officiParas: #UnitedAirlines Offers Custom...   \n",
       "5  #UnitedAirlines - still can’t understand why a...   \n",
       "6   My knees #unitedAIRLINES https://t.co/qErdox2Cht   \n",
       "7  @theweeknd cuts ties with H&amp;M over 'monkey...   \n",
       "8  A peek inside Classified, where CEOs and celeb...   \n",
       "9  Montreal, Canada to Phoenix, Arizona for only ...   \n",
       "\n",
       "                                     Processed_tweet  \\\n",
       "0  kudos staff helping crazy reservation nice sen...   \n",
       "1  painful experience continues ask time lengthy ...   \n",
       "2  shittiest airline company experienced fuck nev...   \n",
       "3                       oh joy came home lostluggage   \n",
       "4  rt offer customer free checked bag travel tofr...   \n",
       "5  can’t understand 1 million miler 2mm board grp...   \n",
       "6                                               knee   \n",
       "7  cut tie hampm monkey ad blm equality4all monke...   \n",
       "8  peek inside classified ceo celebrity dine hidd...   \n",
       "9  montreal canada phoenix arizona 271 cad roundt...   \n",
       "\n",
       "                                      emoji_enc_text emojis  \\\n",
       "0  kudos staff helping crazy reservation nice sen...          \n",
       "1  painful experience continues ask time lengthy ...          \n",
       "2  shittiest airline company experienced fuck nev...          \n",
       "3                       oh joy came home lostluggage          \n",
       "4  rt offer customer free checked bag travel tofr...          \n",
       "5  can’t understand 1 million miler 2mm board grp...          \n",
       "6                                               knee          \n",
       "7  cut tie hampm monkey ad blm equality4all monke...          \n",
       "8  peek inside classified ceo celebrity dine hidd...          \n",
       "9  montreal canada phoenix arizona 271 cad roundt...          \n",
       "\n",
       "  sentiment_predicted_nb sentiment_predicted_lr  \n",
       "0               positive               positive  \n",
       "1               negative               negative  \n",
       "2               negative               negative  \n",
       "3               negative               negative  \n",
       "4                neutral               negative  \n",
       "5               negative               negative  \n",
       "6               negative                neutral  \n",
       "7               negative               negative  \n",
       "8                neutral                neutral  \n",
       "9               negative                neutral  "
      ]
     },
     "execution_count": 5,
     "metadata": {},
     "output_type": "execute_result"
    }
   ],
   "source": [
    "air_df.head(10)"
   ]
  },
  {
   "cell_type": "code",
   "execution_count": 22,
   "metadata": {},
   "outputs": [],
   "source": [
    "#!pip install gensim"
   ]
  },
  {
   "cell_type": "code",
   "execution_count": 7,
   "metadata": {},
   "outputs": [],
   "source": [
    "import gensim\n",
    "import re\n",
    "from gensim import corpora\n",
    "from gensim.models.ldamodel import LdaModel\n",
    "from nltk.stem.wordnet import WordNetLemmatizer\n",
    "from nltk.corpus import stopwords\n",
    "import string"
   ]
  },
  {
   "cell_type": "code",
   "execution_count": 9,
   "metadata": {},
   "outputs": [],
   "source": [
    "def tokenize(text):\n",
    "    return(text.split())"
   ]
  },
  {
   "cell_type": "markdown",
   "metadata": {},
   "source": [
    "## Gensim LDA"
   ]
  },
  {
   "cell_type": "code",
   "execution_count": 10,
   "metadata": {},
   "outputs": [],
   "source": [
    "doc_clean = air_df['emoji_enc_text']\n",
    "# Corpus is in string format and doc2bow array expects tokens. Let's tokenize doc strings.\n",
    "doc_clean = doc_clean.apply(tokenize)\n",
    "# Creating the term dictionary of our courpus, where every unique term is assigned an index. \n",
    "dictionary = corpora.Dictionary(doc_clean)\n",
    "# Converting list of documents (corpus) into Document Term Matrix using dictionary prepared above.\n",
    "doc_term_matrix = [dictionary.doc2bow(doc) for doc in doc_clean]"
   ]
  },
  {
   "cell_type": "code",
   "execution_count": 11,
   "metadata": {},
   "outputs": [],
   "source": [
    "corpora.MmCorpus.serialize('corpus.mm', doc_term_matrix)"
   ]
  },
  {
   "cell_type": "code",
   "execution_count": 12,
   "metadata": {},
   "outputs": [],
   "source": [
    "# Creating the object for LDA model.\n",
    "Lda = LdaModel"
   ]
  },
  {
   "cell_type": "code",
   "execution_count": 13,
   "metadata": {},
   "outputs": [],
   "source": [
    "lda_model = Lda(doc_term_matrix, num_topics=10, id2word = dictionary, passes=50)"
   ]
  },
  {
   "cell_type": "code",
   "execution_count": 14,
   "metadata": {},
   "outputs": [],
   "source": [
    "# Pickle lda model.\n",
    "gu.pickle_obj(data_out_dir+'lda_transf_PulledTweets_allclasses.obj', Lda)\n",
    "\n",
    "# Pickle lda dictionary.\n",
    "gu.pickle_obj(data_out_dir+'lda_dictionary_PulledTweets_allclasses.obj', dictionary)\n",
    "\n",
    "# Pickle lda transformed corpus.\n",
    "gu.pickle_obj(data_out_dir+'lda_model_PulledTweets_allclasses.obj', lda_model)"
   ]
  },
  {
   "cell_type": "code",
   "execution_count": 15,
   "metadata": {},
   "outputs": [
    {
     "name": "stdout",
     "output_type": "stream",
     "text": [
      "[(0, '0.015*\"customer\" + 0.014*\"hour\" + 0.013*\"bag\" + 0.012*\"airline\" + 0.012*\"help\" + 0.011*\"year\" + 0.011*\"service\" + 0.009*\"airport\" + 0.008*\"2\" + 0.008*\"worst\"'), (1, '0.016*\"rt\" + 0.014*\"bonus\" + 0.012*\"airline\" + 0.011*\"employee\" + 0.011*\"travel\" + 0.010*\"passenger\" + 0.008*\"united\" + 0.007*\"2017\" + 0.007*\"state\" + 0.007*\"tax\"'), (2, '0.024*\"hour\" + 0.015*\"delayed\" + 0.014*\"plane\" + 0.014*\"delay\" + 0.013*\"waiting\" + 0.010*\"gate\" + 0.010*\"airport\" + 0.010*\"day\" + 0.010*\"time\" + 0.009*\"jfk\"'), (3, '0.014*\"rt\" + 0.011*\"detroit\" + 0.011*\"bird\" + 0.008*\"return\" + 0.006*\"plane\" + 0.006*\"3\" + 0.006*\"cockpit\" + 0.006*\"join\" + 0.006*\"today\" + 0.005*\"turn\"'), (4, '0.017*\"rt\" + 0.014*\"airline\" + 0.013*\"747\" + 0.011*\"attendant\" + 0.011*\"atl\" + 0.010*\"boeing\" + 0.008*\"denver\" + 0.007*\"opening\" + 0.007*\"sell\" + 0.006*\"parttime\"'), (5, '0.055*\"job\" + 0.030*\"agent\" + 0.026*\"apply\" + 0.019*\"ramp\" + 0.011*\"hiring\" + 0.010*\"2018\" + 0.009*\"year\" + 0.008*\"new\" + 0.008*\"looking\" + 0.008*\"needed\"'), (6, '0.016*\"customer\" + 0.012*\"service\" + 0.011*\"check\" + 0.009*\"airline\" + 0.009*\"fly\" + 0.009*\"thanks\" + 0.009*\"thank\" + 0.008*\"bag\" + 0.007*\"plane\" + 0.007*\"rt\"'), (7, '0.069*\"line\" + 0.065*\"air\" + 0.046*\"dal\" + 0.016*\"del\" + 0.011*\"stock\" + 0.011*\"holding\" + 0.010*\"position\" + 0.009*\"stake\" + 0.009*\"nysedal\" + 0.008*\"declined\"'), (8, '0.019*\"management\" + 0.017*\"lagos\" + 0.016*\"anambra\" + 0.016*\"adamawa\" + 0.016*\"borno\" + 0.014*\"plateau\" + 0.012*\"jigawa\" + 0.011*\"benue\" + 0.011*\"katsina\" + 0.009*\"gombe\"'), (9, '0.017*\"share\" + 0.012*\"rt\" + 0.011*\"price\" + 0.010*\"million\" + 0.009*\"mile\" + 0.007*\"raised\" + 0.006*\"airline\" + 0.006*\"news\" + 0.005*\"jan\" + 0.005*\"hotel\"')]\n"
     ]
    }
   ],
   "source": [
    "print(lda_model.print_topics(num_topics=10, num_words=10))"
   ]
  },
  {
   "cell_type": "code",
   "execution_count": 16,
   "metadata": {},
   "outputs": [],
   "source": [
    "topics_df = pd.DataFrame(lda_model.print_topics(num_topics=10, num_words=10))"
   ]
  },
  {
   "cell_type": "code",
   "execution_count": 17,
   "metadata": {},
   "outputs": [],
   "source": [
    "topics_df.drop(0, axis = 1, inplace=True)"
   ]
  },
  {
   "cell_type": "code",
   "execution_count": 18,
   "metadata": {},
   "outputs": [
    {
     "data": {
      "text/html": [
       "<div>\n",
       "<table border=\"1\" class=\"dataframe\">\n",
       "  <thead>\n",
       "    <tr style=\"text-align: right;\">\n",
       "      <th></th>\n",
       "      <th>1</th>\n",
       "    </tr>\n",
       "  </thead>\n",
       "  <tbody>\n",
       "    <tr>\n",
       "      <th>0</th>\n",
       "      <td>0.015*\"customer\" + 0.014*\"hour\" + 0.013*\"bag\" ...</td>\n",
       "    </tr>\n",
       "    <tr>\n",
       "      <th>1</th>\n",
       "      <td>0.016*\"rt\" + 0.014*\"bonus\" + 0.012*\"airline\" +...</td>\n",
       "    </tr>\n",
       "    <tr>\n",
       "      <th>2</th>\n",
       "      <td>0.024*\"hour\" + 0.015*\"delayed\" + 0.014*\"plane\"...</td>\n",
       "    </tr>\n",
       "    <tr>\n",
       "      <th>3</th>\n",
       "      <td>0.014*\"rt\" + 0.011*\"detroit\" + 0.011*\"bird\" + ...</td>\n",
       "    </tr>\n",
       "    <tr>\n",
       "      <th>4</th>\n",
       "      <td>0.017*\"rt\" + 0.014*\"airline\" + 0.013*\"747\" + 0...</td>\n",
       "    </tr>\n",
       "    <tr>\n",
       "      <th>5</th>\n",
       "      <td>0.055*\"job\" + 0.030*\"agent\" + 0.026*\"apply\" + ...</td>\n",
       "    </tr>\n",
       "    <tr>\n",
       "      <th>6</th>\n",
       "      <td>0.016*\"customer\" + 0.012*\"service\" + 0.011*\"ch...</td>\n",
       "    </tr>\n",
       "    <tr>\n",
       "      <th>7</th>\n",
       "      <td>0.069*\"line\" + 0.065*\"air\" + 0.046*\"dal\" + 0.0...</td>\n",
       "    </tr>\n",
       "    <tr>\n",
       "      <th>8</th>\n",
       "      <td>0.019*\"management\" + 0.017*\"lagos\" + 0.016*\"an...</td>\n",
       "    </tr>\n",
       "    <tr>\n",
       "      <th>9</th>\n",
       "      <td>0.017*\"share\" + 0.012*\"rt\" + 0.011*\"price\" + 0...</td>\n",
       "    </tr>\n",
       "  </tbody>\n",
       "</table>\n",
       "</div>"
      ],
      "text/plain": [
       "                                                   1\n",
       "0  0.015*\"customer\" + 0.014*\"hour\" + 0.013*\"bag\" ...\n",
       "1  0.016*\"rt\" + 0.014*\"bonus\" + 0.012*\"airline\" +...\n",
       "2  0.024*\"hour\" + 0.015*\"delayed\" + 0.014*\"plane\"...\n",
       "3  0.014*\"rt\" + 0.011*\"detroit\" + 0.011*\"bird\" + ...\n",
       "4  0.017*\"rt\" + 0.014*\"airline\" + 0.013*\"747\" + 0...\n",
       "5  0.055*\"job\" + 0.030*\"agent\" + 0.026*\"apply\" + ...\n",
       "6  0.016*\"customer\" + 0.012*\"service\" + 0.011*\"ch...\n",
       "7  0.069*\"line\" + 0.065*\"air\" + 0.046*\"dal\" + 0.0...\n",
       "8  0.019*\"management\" + 0.017*\"lagos\" + 0.016*\"an...\n",
       "9  0.017*\"share\" + 0.012*\"rt\" + 0.011*\"price\" + 0..."
      ]
     },
     "execution_count": 18,
     "metadata": {},
     "output_type": "execute_result"
    }
   ],
   "source": [
    "topics_df[:15]"
   ]
  },
  {
   "cell_type": "code",
   "execution_count": 19,
   "metadata": {},
   "outputs": [],
   "source": [
    "topic = topics_df.iloc[0,:]"
   ]
  },
  {
   "cell_type": "code",
   "execution_count": 20,
   "metadata": {},
   "outputs": [],
   "source": [
    "topic_lst=topic.tolist()"
   ]
  },
  {
   "cell_type": "code",
   "execution_count": 21,
   "metadata": {},
   "outputs": [
    {
     "data": {
      "text/plain": [
       "['0.015*\"customer\" + 0.014*\"hour\" + 0.013*\"bag\" + 0.012*\"airline\" + 0.012*\"help\" + 0.011*\"year\" + 0.011*\"service\" + 0.009*\"airport\" + 0.008*\"2\" + 0.008*\"worst\"']"
      ]
     },
     "execution_count": 21,
     "metadata": {},
     "output_type": "execute_result"
    }
   ],
   "source": [
    "topic_lst"
   ]
  },
  {
   "cell_type": "code",
   "execution_count": 26,
   "metadata": {},
   "outputs": [],
   "source": [
    "#!pip install pyLDAvis"
   ]
  },
  {
   "cell_type": "code",
   "execution_count": 27,
   "metadata": {},
   "outputs": [],
   "source": [
    "import pyLDAvis.gensim\n",
    "pyLDAvis.enable_notebook()"
   ]
  },
  {
   "cell_type": "code",
   "execution_count": 28,
   "metadata": {},
   "outputs": [
    {
     "data": {
      "text/html": [
       "\n",
       "<link rel=\"stylesheet\" type=\"text/css\" href=\"https://cdn.rawgit.com/bmabey/pyLDAvis/files/ldavis.v1.0.0.css\">\n",
       "\n",
       "\n",
       "<div id=\"ldavis_el12851400725681496009731871655\"></div>\n",
       "<script type=\"text/javascript\">\n",
       "\n",
       "var ldavis_el12851400725681496009731871655_data = {\"mdsDat\": {\"Freq\": [18.55847488778645, 14.009170482093907, 11.208935572907945, 9.500590976413921, 8.621502652384839, 8.563423810591775, 8.079702925509881, 7.676626249906987, 7.032351918596447, 6.749220523807847], \"cluster\": [1, 1, 1, 1, 1, 1, 1, 1, 1, 1], \"topics\": [1, 2, 3, 4, 5, 6, 7, 8, 9, 10], \"x\": [0.20420243947506, 0.15760883601716533, 0.13826041319199148, -0.012458719518243764, 0.051851473239199204, 0.02546790707491119, -0.23836387643095586, -0.16391836158980577, -0.04699435191353928, -0.11565575954578267], \"y\": [-0.06934366310727677, -0.04466360909141583, -0.03451337054795991, 0.11050052698303645, -0.0015091376803514067, 0.03577984556086362, -0.2456745770888184, 0.18529035773288854, 0.08367198804004808, -0.019538360801014076]}, \"tinfo\": {\"Category\": [\"Default\", \"Default\", \"Default\", \"Default\", \"Default\", \"Default\", \"Default\", \"Default\", \"Default\", \"Default\", \"Default\", \"Default\", \"Default\", \"Default\", \"Default\", \"Default\", \"Default\", \"Default\", \"Default\", \"Default\", \"Default\", \"Default\", \"Default\", \"Default\", \"Default\", \"Default\", \"Default\", \"Default\", \"Default\", \"Default\", \"Topic1\", \"Topic1\", \"Topic1\", \"Topic1\", \"Topic1\", \"Topic1\", \"Topic1\", \"Topic1\", \"Topic1\", \"Topic1\", \"Topic1\", \"Topic1\", \"Topic1\", \"Topic1\", \"Topic1\", \"Topic1\", \"Topic1\", \"Topic1\", \"Topic1\", \"Topic1\", \"Topic1\", \"Topic1\", \"Topic1\", \"Topic1\", \"Topic1\", \"Topic1\", \"Topic1\", \"Topic1\", \"Topic1\", \"Topic1\", \"Topic1\", \"Topic1\", \"Topic1\", \"Topic1\", \"Topic1\", \"Topic1\", \"Topic1\", \"Topic1\", \"Topic1\", \"Topic1\", \"Topic1\", \"Topic1\", \"Topic1\", \"Topic1\", \"Topic1\", \"Topic1\", \"Topic1\", \"Topic1\", \"Topic1\", \"Topic1\", \"Topic1\", \"Topic1\", \"Topic1\", \"Topic1\", \"Topic1\", \"Topic1\", \"Topic1\", \"Topic1\", \"Topic1\", \"Topic1\", \"Topic1\", \"Topic1\", \"Topic1\", \"Topic2\", \"Topic2\", \"Topic2\", \"Topic2\", \"Topic2\", \"Topic2\", \"Topic2\", \"Topic2\", \"Topic2\", \"Topic2\", \"Topic2\", \"Topic2\", \"Topic2\", \"Topic2\", \"Topic2\", \"Topic2\", \"Topic2\", \"Topic2\", \"Topic2\", \"Topic2\", \"Topic2\", \"Topic2\", \"Topic2\", \"Topic2\", \"Topic2\", \"Topic2\", \"Topic2\", \"Topic2\", \"Topic2\", \"Topic2\", \"Topic2\", \"Topic2\", \"Topic2\", \"Topic2\", \"Topic2\", \"Topic2\", \"Topic2\", \"Topic2\", \"Topic2\", \"Topic2\", \"Topic2\", \"Topic2\", \"Topic2\", \"Topic2\", \"Topic2\", \"Topic2\", \"Topic2\", \"Topic2\", \"Topic2\", \"Topic2\", \"Topic2\", \"Topic2\", \"Topic2\", \"Topic2\", \"Topic2\", \"Topic2\", \"Topic2\", \"Topic2\", \"Topic2\", \"Topic2\", \"Topic2\", \"Topic2\", \"Topic2\", \"Topic2\", \"Topic2\", \"Topic2\", \"Topic2\", \"Topic2\", \"Topic2\", \"Topic2\", \"Topic2\", \"Topic2\", \"Topic3\", \"Topic3\", \"Topic3\", \"Topic3\", \"Topic3\", \"Topic3\", \"Topic3\", \"Topic3\", \"Topic3\", \"Topic3\", \"Topic3\", \"Topic3\", \"Topic3\", \"Topic3\", \"Topic3\", \"Topic3\", \"Topic3\", \"Topic3\", \"Topic3\", \"Topic3\", \"Topic3\", \"Topic3\", \"Topic3\", \"Topic3\", \"Topic3\", \"Topic3\", \"Topic3\", \"Topic3\", \"Topic3\", \"Topic3\", \"Topic3\", \"Topic3\", \"Topic3\", \"Topic3\", \"Topic3\", \"Topic3\", \"Topic3\", \"Topic3\", \"Topic3\", \"Topic3\", \"Topic3\", \"Topic3\", \"Topic3\", \"Topic3\", \"Topic3\", \"Topic3\", \"Topic3\", \"Topic3\", \"Topic3\", \"Topic3\", \"Topic3\", \"Topic3\", \"Topic3\", \"Topic3\", \"Topic3\", \"Topic3\", \"Topic3\", \"Topic3\", \"Topic3\", \"Topic3\", \"Topic3\", \"Topic3\", \"Topic3\", \"Topic3\", \"Topic3\", \"Topic3\", \"Topic3\", \"Topic3\", \"Topic4\", \"Topic4\", \"Topic4\", \"Topic4\", \"Topic4\", \"Topic4\", \"Topic4\", \"Topic4\", \"Topic4\", \"Topic4\", \"Topic4\", \"Topic4\", \"Topic4\", \"Topic4\", \"Topic4\", \"Topic4\", \"Topic4\", \"Topic4\", \"Topic4\", \"Topic4\", \"Topic4\", \"Topic4\", \"Topic4\", \"Topic4\", \"Topic4\", \"Topic4\", \"Topic4\", \"Topic4\", \"Topic4\", \"Topic4\", \"Topic4\", \"Topic4\", \"Topic4\", \"Topic4\", \"Topic4\", \"Topic4\", \"Topic4\", \"Topic4\", \"Topic4\", \"Topic4\", \"Topic4\", \"Topic4\", \"Topic4\", \"Topic4\", \"Topic4\", \"Topic4\", \"Topic4\", \"Topic4\", \"Topic4\", \"Topic4\", \"Topic5\", \"Topic5\", \"Topic5\", \"Topic5\", \"Topic5\", \"Topic5\", \"Topic5\", \"Topic5\", \"Topic5\", \"Topic5\", \"Topic5\", \"Topic5\", \"Topic5\", \"Topic5\", \"Topic5\", \"Topic5\", \"Topic5\", \"Topic5\", \"Topic5\", \"Topic5\", \"Topic5\", \"Topic5\", \"Topic5\", \"Topic5\", \"Topic5\", \"Topic5\", \"Topic5\", \"Topic5\", \"Topic5\", \"Topic5\", \"Topic5\", \"Topic5\", \"Topic5\", \"Topic5\", \"Topic5\", \"Topic5\", \"Topic5\", \"Topic5\", \"Topic5\", \"Topic5\", \"Topic5\", \"Topic5\", \"Topic5\", \"Topic5\", \"Topic5\", \"Topic5\", \"Topic5\", \"Topic5\", \"Topic5\", \"Topic5\", \"Topic5\", \"Topic5\", \"Topic6\", \"Topic6\", \"Topic6\", \"Topic6\", \"Topic6\", \"Topic6\", \"Topic6\", \"Topic6\", \"Topic6\", \"Topic6\", \"Topic6\", \"Topic6\", \"Topic6\", \"Topic6\", \"Topic6\", \"Topic6\", \"Topic6\", \"Topic6\", \"Topic6\", \"Topic6\", \"Topic6\", \"Topic6\", \"Topic6\", \"Topic6\", \"Topic6\", \"Topic6\", \"Topic6\", \"Topic6\", \"Topic6\", \"Topic6\", \"Topic6\", \"Topic6\", \"Topic6\", \"Topic6\", \"Topic6\", \"Topic6\", \"Topic6\", \"Topic6\", \"Topic6\", \"Topic6\", \"Topic6\", \"Topic6\", \"Topic6\", \"Topic6\", \"Topic6\", \"Topic6\", \"Topic6\", \"Topic6\", \"Topic6\", \"Topic6\", \"Topic6\", \"Topic6\", \"Topic6\", \"Topic6\", \"Topic7\", \"Topic7\", \"Topic7\", \"Topic7\", \"Topic7\", \"Topic7\", \"Topic7\", \"Topic7\", \"Topic7\", \"Topic7\", \"Topic7\", \"Topic7\", \"Topic7\", \"Topic7\", \"Topic7\", \"Topic7\", \"Topic7\", \"Topic7\", \"Topic7\", \"Topic7\", \"Topic7\", \"Topic7\", \"Topic7\", \"Topic7\", \"Topic7\", \"Topic7\", \"Topic7\", \"Topic7\", \"Topic7\", \"Topic7\", \"Topic7\", \"Topic7\", \"Topic7\", \"Topic7\", \"Topic7\", \"Topic8\", \"Topic8\", \"Topic8\", \"Topic8\", \"Topic8\", \"Topic8\", \"Topic8\", \"Topic8\", \"Topic8\", \"Topic8\", \"Topic8\", \"Topic8\", \"Topic8\", \"Topic8\", \"Topic8\", \"Topic8\", \"Topic8\", \"Topic8\", \"Topic8\", \"Topic8\", \"Topic8\", \"Topic8\", \"Topic8\", \"Topic8\", \"Topic8\", \"Topic8\", \"Topic8\", \"Topic8\", \"Topic8\", \"Topic8\", \"Topic8\", \"Topic8\", \"Topic8\", \"Topic8\", \"Topic8\", \"Topic8\", \"Topic9\", \"Topic9\", \"Topic9\", \"Topic9\", \"Topic9\", \"Topic9\", \"Topic9\", \"Topic9\", \"Topic9\", \"Topic9\", \"Topic9\", \"Topic9\", \"Topic9\", \"Topic9\", \"Topic9\", \"Topic9\", \"Topic9\", \"Topic9\", \"Topic9\", \"Topic9\", \"Topic9\", \"Topic9\", \"Topic9\", \"Topic9\", \"Topic9\", \"Topic9\", \"Topic9\", \"Topic9\", \"Topic9\", \"Topic9\", \"Topic9\", \"Topic9\", \"Topic9\", \"Topic9\", \"Topic9\", \"Topic9\", \"Topic9\", \"Topic9\", \"Topic9\", \"Topic9\", \"Topic9\", \"Topic9\", \"Topic9\", \"Topic9\", \"Topic9\", \"Topic9\", \"Topic9\", \"Topic9\", \"Topic9\", \"Topic9\", \"Topic9\", \"Topic9\", \"Topic10\", \"Topic10\", \"Topic10\", \"Topic10\", \"Topic10\", \"Topic10\", \"Topic10\", \"Topic10\", \"Topic10\", \"Topic10\", \"Topic10\", \"Topic10\", \"Topic10\", \"Topic10\", \"Topic10\", \"Topic10\", \"Topic10\", \"Topic10\", \"Topic10\", \"Topic10\", \"Topic10\", \"Topic10\", \"Topic10\", \"Topic10\", \"Topic10\", \"Topic10\", \"Topic10\", \"Topic10\", \"Topic10\", \"Topic10\", \"Topic10\", \"Topic10\", \"Topic10\", \"Topic10\", \"Topic10\", \"Topic10\", \"Topic10\", \"Topic10\", \"Topic10\", \"Topic10\", \"Topic10\", \"Topic10\", \"Topic10\", \"Topic10\", \"Topic10\", \"Topic10\", \"Topic10\", \"Topic10\", \"Topic10\", \"Topic10\", \"Topic10\"], \"Freq\": [339.0, 337.0, 315.0, 228.0, 200.0, 153.0, 415.0, 279.0, 109.0, 192.0, 89.0, 151.0, 81.0, 80.0, 176.0, 196.0, 77.0, 76.0, 76.0, 71.0, 119.0, 175.0, 73.0, 275.0, 65.0, 257.0, 472.0, 176.0, 138.0, 417.0, 42.08759254136141, 36.1470927761491, 36.12782597573564, 32.54983926691206, 31.657631948187305, 30.753267165638295, 30.0729343361752, 29.04370379866674, 25.790753546090226, 24.648793738216504, 19.39523788234239, 63.965651497319755, 18.01483994633561, 16.759240893992438, 16.52725650150897, 40.64618831551951, 16.30161832612099, 15.57509841046188, 15.333143638888714, 15.216010041411106, 14.796188112516097, 14.43696993447928, 14.395465150194008, 14.074051544739264, 14.020051006544893, 13.71825429240537, 12.269765642809968, 143.03081012667693, 11.92118262321562, 11.785567635250208, 53.16179382107081, 30.902481939495118, 42.41366222468931, 168.62627850968155, 51.5584194494909, 34.98579536296044, 89.68936591372851, 36.02651465133474, 97.91545838828617, 156.30911029653353, 41.17702315151986, 101.76672054797217, 113.93389775575088, 265.0290400035481, 35.06431275389272, 59.62423060633099, 158.51131056635958, 110.72207203891465, 104.83753436990806, 78.0886069385488, 113.56942559178397, 41.30504890300827, 109.21373882434914, 57.31719712385641, 73.75430849616805, 60.279202169045945, 53.223194782671584, 48.20741227557775, 73.42900455473762, 59.99583046371342, 44.79079255962774, 57.54076753388084, 51.46429613379197, 24.323326880585185, 20.028376259044546, 14.809287643801062, 14.449772964328366, 13.655439975331813, 30.17546642220845, 42.40416782024825, 12.382830303700427, 11.520476503095118, 11.089052157207982, 10.81196556105478, 10.183280564567552, 10.129171143718237, 10.071848889400037, 9.83451789063166, 9.611482318169836, 9.527828884316, 9.094142885786722, 8.899959468475215, 8.623310356115372, 8.457867248549997, 8.328540308712922, 8.271054245417798, 8.24579648482763, 8.105701208045174, 8.02284009495284, 7.940283834820585, 7.8002276544404765, 7.717339817225018, 7.699510373080928, 21.050215667323297, 27.67314820460041, 34.1146457210784, 46.374810320075945, 103.23522428114254, 23.219515678644715, 51.98646838574924, 45.33631089548535, 11.705698431119112, 64.2786465046844, 106.3616695475717, 27.204025029026646, 17.51385402520997, 95.04407070984436, 18.547218459031445, 128.3717602896907, 28.305644852870962, 18.436164880717016, 19.981607064013232, 34.393926664674765, 33.01965150020411, 70.4932562158414, 92.44477559833176, 34.9704629991241, 121.59720695519727, 60.77472200934934, 41.84928792335257, 43.84995079950415, 51.050435187909294, 105.91795408461229, 73.31293230358553, 60.64991837479655, 62.28340367661527, 49.86018233526907, 49.059456342151904, 53.130442975397756, 53.29062934896645, 37.99526553770775, 40.961409615817026, 34.74097602538372, 36.413704217336225, 34.81313115781796, 33.19763972866883, 19.12034526513846, 18.2322032598423, 17.641950639425882, 16.01544285707312, 15.274829557540793, 14.814667149260492, 14.516302601066645, 14.284384890717472, 13.992815177915352, 11.854066296117344, 11.720273769825477, 11.710041919795048, 11.260303010748533, 11.07038656961096, 10.673555511712506, 9.500690896970504, 9.037265700600003, 8.90370838014862, 8.531516915903167, 8.5068290139799, 8.39801819892719, 8.001084980916204, 7.973066976099905, 7.9202533656758085, 7.892292380457202, 7.839573802695926, 7.811471060421946, 7.3056256591845745, 7.252920544383866, 35.730814550057055, 33.54794279484996, 18.36526957820244, 13.902831917245262, 14.177709142822817, 73.64975616157523, 15.551813340477555, 36.436653814385345, 58.40116987387255, 20.502980228159124, 21.727732676801576, 41.11315729998071, 19.142652598858053, 110.0664752910561, 44.37148835829338, 32.70611179002435, 36.571850448270396, 34.13470930041855, 60.986254703449205, 60.06896776434346, 78.6062797236845, 41.72651711236214, 32.49618780560746, 38.1310228373811, 54.660582897051334, 41.474607697510784, 30.33011465743175, 24.64311778091319, 61.91542072540762, 48.79338666916868, 37.54939126336029, 42.02848656623234, 32.133736397362334, 47.75155625768016, 29.4912645104633, 26.41505246330372, 29.420376479509443, 28.91601279587323, 314.28093495777466, 152.5429882315188, 108.33351429017506, 64.98135895833484, 46.75934328524474, 38.987319852033785, 33.92626607430408, 33.39271341989972, 30.642049309219342, 28.157706424945946, 25.788830264552303, 24.944877388137332, 19.84257456311163, 19.25458702067243, 19.087248203501325, 17.16996896492966, 14.363758392590771, 14.100836326105469, 13.475620464634655, 13.407121753795911, 12.953045271004209, 12.774679321290977, 12.754661598703244, 12.668738837065346, 11.708798354444559, 11.534583353577231, 11.534539051729912, 11.527233274362702, 10.649360621422822, 10.570603347968952, 171.33172924529472, 47.263235181627955, 37.71578434000496, 24.674660284126595, 59.88721572809743, 21.17132658219492, 45.30464245670964, 44.830459647635564, 15.290416105551907, 49.14385665526228, 48.60814260770077, 16.54002220315711, 43.17350880376062, 40.44491238296671, 42.20743318652606, 28.731074357769398, 35.68324780446815, 25.554111022567238, 23.620109850352435, 21.76068748190105, 59.02889341133879, 29.805092038430182, 29.597597872780042, 26.951282193009238, 25.17962410596691, 24.809182696115446, 22.82384167897075, 18.81456270858385, 18.173037578335645, 18.109122747977093, 17.304304387483388, 15.622512520634508, 15.504467930011938, 15.229773284844256, 15.047821173427446, 14.020137851792715, 13.416662658579217, 12.982597582681025, 12.522914920384931, 11.545946574219021, 11.012791826224275, 10.997050679474828, 10.463964154080342, 9.70090838016232, 9.356309934941764, 9.330836103308695, 9.241367645239979, 8.68266292431723, 8.535702915530578, 8.462568288051074, 27.844508515615818, 22.678600636058526, 20.811542988637314, 56.04609412099631, 17.632997220757442, 43.53985840811441, 24.734664124459222, 13.196837257931948, 74.3540577287369, 15.770871092726503, 26.52116062705826, 30.01057607389407, 29.174634806813565, 30.433332035538324, 20.27117613718643, 27.552513349978447, 25.767983120179778, 25.948215047461442, 23.555653329360435, 21.867448538087046, 19.06022620081915, 17.434732598314, 73.23870548290749, 38.07054133404432, 31.254148027618665, 30.876064268640658, 23.18521825610971, 22.63465099511461, 18.414301260477988, 17.797796952799015, 16.388720655792888, 15.951824647453032, 15.240870793209243, 14.1515125157058, 13.531656358743195, 13.251507101541863, 12.7360979564081, 12.7360979564081, 11.578222797320887, 11.47065626655587, 11.30105269280414, 11.12484706501216, 10.541067454815684, 10.5021799528561, 9.911542362221002, 9.810566995011197, 9.810543398960284, 8.98866874456006, 8.988587065922284, 8.988607031811517, 8.757426235552417, 8.730927265349443, 35.60164659517085, 36.195347437236094, 26.82685366614599, 14.074334068355881, 11.146053259487118, 15.305647398209725, 59.25033243305697, 38.75053595943551, 27.048540379560553, 18.39398808577607, 52.356050377646206, 55.492815001902926, 82.06948518545403, 19.909585426983654, 40.55918415245167, 63.45429682792838, 28.875707237355304, 16.69257123859656, 22.02836559256209, 15.008901041811901, 19.073308711148854, 22.885301558512207, 17.343479798561525, 16.162826584992338, 339.0886357814681, 227.59373252793355, 79.93687848120081, 51.996892864858886, 50.89561192037026, 46.25379966852221, 40.078672828291275, 38.84644325949873, 38.68194230406692, 37.756360125807106, 34.20462872424717, 33.90354827146385, 20.864645210810934, 19.99204941092478, 19.84151831814714, 17.062010006826302, 16.88079225432173, 16.596428598611173, 16.55187254598436, 16.29535956284538, 15.815811717081338, 15.66523838133883, 15.277720830510011, 15.213663370233975, 320.7030726242994, 13.501889380782647, 12.735212677661396, 12.269659811990099, 12.119125294107203, 11.98814584385594, 56.175411678805546, 45.81526289144078, 24.03717407541181, 28.670937329898635, 14.1640763977342, 88.54819730789826, 80.95860075785377, 76.63327104112132, 75.46700524502572, 75.46700524502572, 64.33656225007746, 54.00256943420683, 52.67400408566486, 52.67400408566486, 43.506268387929545, 42.841987883148626, 42.841987883148626, 42.177707378367714, 40.84914636880589, 39.84519748107726, 34.01392707683125, 32.34569551483163, 30.058237248420753, 27.695738489835463, 26.367177480273636, 25.200916023158182, 25.03862080969196, 24.064519766403336, 22.7061109124015, 22.51366846486503, 17.686353456817884, 17.229476203124705, 16.06330803408244, 15.191537498610828, 14.734760041461058, 25.121291398457117, 18.197237996416693, 29.868749646365263, 25.335059933422375, 23.62272914668572, 24.708532894911638, 46.22332329371168, 35.240571609622464, 31.248234912767504, 27.339892201322417, 24.378567117582143, 22.041070727505492, 18.902416837429147, 17.108137730510236, 16.595811782852063, 14.18076956498952, 13.662296552596882, 12.80866243740766, 12.169196787607351, 11.756268260607836, 11.49235388385906, 11.483174028699507, 11.309575594334527, 9.840887208631594, 9.530470376600114, 9.195259588508229, 9.195259588508229, 9.012076860679956, 8.900285939961769, 8.748083981164609, 8.158383619989328, 8.15835082769443, 8.155337911387463, 8.021790793563488, 7.7826907438461905, 7.733190277845107, 29.91870013361015, 13.442323851011071, 53.92136818107367, 20.994092247893324, 40.85594406202856, 46.875261940044, 11.126028176438757, 72.47289553862619, 58.25933169132712, 15.590497404466326, 16.818905714688597, 19.9530581170108, 15.019014156812643, 18.25883724517803, 15.953287506273112, 17.202331113339213, 20.11319183634959, 16.885394576858516, 18.1849671355384, 15.141720936908152, 15.286332969995348, 14.459428549971403, 70.96693771427918, 27.98887661957244, 19.745721062194566, 17.68285692589835, 16.531747197143225, 16.055849963955822, 15.519757217395082, 14.389882529369558, 14.126277527897223, 13.596220736280236, 13.332644345749332, 13.332644345749332, 13.329672622632767, 12.157238205531566, 11.32419059046924, 10.654670718548111, 10.203236793981695, 10.148695756333039, 10.024444159889363, 9.757984740160328, 9.548596519000437, 9.52474929931825, 9.464079798015216, 8.879484829843715, 8.700697917939669, 8.676466357944268, 8.303881326865724, 8.303881326865724, 8.303881326865724, 8.303881326865724, 8.303881326865724, 46.07889394556985, 20.41813731508649, 11.813561669674236, 19.41081473358368, 14.809236912706229, 36.98227782011715, 42.15214141885276, 22.403919760377182, 21.053828563558433, 24.733966219522575, 12.670802696810059, 51.013194126529, 22.352669934691065, 12.161888437212044, 24.974219924297515, 18.00682624529846, 17.798080816622704, 15.923495748899075, 16.0593099804728, 13.892276267522861], \"Term\": [\"line\", \"air\", \"job\", \"dal\", \"agent\", \"apply\", \"hour\", \"customer\", \"ramp\", \"delayed\", \"management\", \"waiting\", \"lagos\", \"del\", \"bag\", \"delay\", \"anambra\", \"adamawa\", \"borno\", \"share\", \"check\", \"year\", \"bonus\", \"plane\", \"plateau\", \"service\", \"rt\", \"jfk\", \"help\", \"airline\", \"daily\", \"later\", \"twice\", \"manager\", \"voucher\", \"orlando\", \"supposed\", \"fuel\", \"blue\", \"50\", \"spent\", \"stuck\", \"category\", \"suitcase\", \"key\", \"didn\\u2019t\", \"arrived\", \"ice\", \"seattle\", \"waited\", \"entertainment\", \"senior\", \"original\", \"rescheduled\", \"behavior\", \"specialist\", \"badservice\", \"waiting\", \"vow\", \"tsa\", \"min\", \"horrible\", \"late\", \"delayed\", \"sitting\", \"tarmac\", \"luggage\", \"finally\", \"got\", \"delay\", \"hr\", \"dallas\", \"gate\", \"hour\", \"vacation\", \"4\", \"plane\", \"day\", \"jfk\", \"3\", \"airport\", \"connection\", \"time\", \"going\", \"2\", \"cancelled\", \"pilot\", \"5\", \"just\", \"home\", \"minute\", \"airline\", \"new\", \"expected\", \"safe\", \"shout\", \"pick\", \"visit\", \"terrible\", \"customerservice\", \"health\", \"assistance\", \"what\\u2019s\", \"fact\", \"welcome\", \"bear\", \"resolution\", \"deltasucks\", \"filed\", \"85\", \"happening\", \"6am\", \"efficient\", \"diamond\", \"ring\", \"they\\u2019re\", \"fine\", \"one\", \"upcoming\", \"alternative\", \"trapped\", \"chris\", \"b737\", \"contact\", \"called\", \"book\", \"hold\", \"help\", \"talk\", \"change\", \"phone\", \"lose\", \"worst\", \"bag\", \"away\", \"blizzard2018\", \"year\", \"sale\", \"customer\", \"care\", \"rude\", \"offer\", \"lost\", \"ticket\", \"2\", \"service\", \"trip\", \"hour\", \"like\", \"wait\", \"it\\u2019s\", \"cancelled\", \"airline\", \"airport\", \"jfk\", \"time\", \"fly\", \"thanks\", \"travel\", \"just\", \"need\", \"day\", \"experience\", \"rt\", \"want\", \"small\", \"size\", \"security\", \"fll\", \"oil\", \"wonderful\", \"review\", \"space\", \"tshirt\", \"software\", \"engineer\", \"gift\", \"snack\", \"discrimination\", \"marriott\", \"airfare\", \"large\", \"party\", \"project\", \"believe\", \"custom\", \"busy\", \"cheer\", \"explanation\", \"35\", \"fuck\", \"frustrating\", \"thankful\", \"camera\", \"closed\", \"suck\", \"thing\", \"coast\", \"EMOJI_3\", \"desk\", \"check\", \"didnt\", \"dont\", \"thank\", \"team\", \"oh\", \"good\", \"tweet\", \"customer\", \"great\", \"best\", \"better\", \"did\", \"fly\", \"thanks\", \"service\", \"know\", \"don\\u2019t\", \"way\", \"bag\", \"people\", \"business\", \"board\", \"airline\", \"plane\", \"like\", \"just\", \"seat\", \"rt\", \"employee\", \"crew\", \"home\", \"flying\", \"job\", \"apply\", \"ramp\", \"hiring\", \"needed\", \"weekly\", \"video\", \"investment\", \"oakland\", \"sr\", \"arizona\", \"prompt\", \"eastboston\", \"watch\", \"wanted\", \"economy\", \"k\", \"investor\", \"beach\", \"asap\", \"sanjose\", \"upped\", \"nashville\", \"owl\", \"lol\", \"kansascity\", \"fulltime\", \"fund\", \"EMOJI_38\", \"comfort\", \"agent\", \"looking\", \"happy\", \"operation\", \"2018\", \"beautiful\", \"work\", \"check\", \"white\", \"year\", \"new\", \"latest\", \"service\", \"customer\", \"rt\", \"flying\", \"airline\", \"passenger\", \"seat\", \"avgeek\", \"detroit\", \"cockpit\", \"join\", \"EMOJI_53\", \"crypto\", \"photo\", \"cold\", \"blockchain\", \"surprise\", \"hodl\", \"holder\", \"qanon\", \"real\", \"virgin\", \"police\", \"lounge\", \"EMOJI_5\", \"EMOJI_224\", \"xrp\", \"rock\", \"increase\", \"fort\", \"america\", \"tip\", \"minneapolis\", \"leader\", \"happynewyear\", \"policy\", \"quick\", \"xvg\", \"turn\", \"force\", \"value\", \"bird\", \"airbus\", \"return\", \"blockfolio\", \"trx\", \"rt\", \"won\\u2019t\", \"minute\", \"3\", \"today\", \"plane\", \"atlanta\", \"airport\", \"travel\", \"just\", \"passenger\", \"hour\", \"2\", \"fly\", \"bonus\", \"state\", \"group\", \"place\", \"market\", \"grayson\", \"charged\", \"govt\", \"reply\", \"corporate\", \"district\", \"EMOJI_35\", \"south\", \"tourism\", \"bjp\", \"convert\", \"EMOJI_45\", \"lifestyle\", \"announced\", \"trust\", \"poll\", \"taxreform\", \"history\", \"boot\", \"performance\", \"hear\", \"page\", \"heard\", \"faeces\", \"office\", \"1000\", \"tax\", \"hope\", \"wifi\", \"losangeles\", \"bathroom\", \"employee\", \"2017\", \"winter\", \"nice\", \"passenger\", \"travel\", \"rt\", \"cut\", \"united\", \"airline\", \"american\", \"land\", \"want\", \"18\", \"avgeek\", \"plane\", \"boston\", \"people\", \"line\", \"dal\", \"del\", \"holding\", \"position\", \"stake\", \"declined\", \"capital\", \"eps\", \"analyst\", \"097\", \"lp\", \"partner\", \"lowered\", \"trimmed\", \"bz\", \"EMOJI_11\", \"boosted\", \"shareholder\", \"lifted\", \"lancia\", \"press\", \"register\", \"valuation\", \"air\", \"integrale\", \"target\", \"hf\", \"shield\", \"EMOJI_7\", \"stock\", \"nysedal\", \"herald\", \"time\", \"cut\", \"management\", \"lagos\", \"anambra\", \"borno\", \"adamawa\", \"plateau\", \"jigawa\", \"benue\", \"katsina\", \"gombe\", \"crossriver\", \"bauchi\", \"kebbi\", \"kaduna\", \"ebonyi\", \"yobe\", \"ekiti\", \"asset\", \"akwaibom\", \"sokoto\", \"abia\", \"kano\", \"llc\", \"abakaliki\", \"river\", \"zamfara\", \"surreybc\", \"ladner\", \"kwara\", \"enugu\", \"start\", \"EMOJI_4\", \"new\", \"2018\", \"year\", \"rt\", \"atl\", \"denver\", \"opening\", \"parttime\", \"queen\", \"\\u2022\", \"managed\", \"israeli\", \"ride\", \"jewish\", \"lincolnian\", \"jew\", \"sue\", \"boneyard\", \"lga\", \"israel\", \"nonstop\", \"officer\", \"sends\", \"midair\", \"marries\", \"9771\", \"21\", \"slc\", \"automotive\", \"b747\", \"tech\", \"sandiego\", \"mess\", \"vice\", \"sell\", \"delta\", \"747\", \"snow\", \"boeing\", \"attendant\", \"upgraded\", \"rt\", \"airline\", \"final\", \"chicago\", \"bird\", \"online\", \"avgeek\", \"love\", \"southwest\", \"new\", \"american\", \"travel\", \"pilot\", \"united\", \"million\", \"share\", \"raised\", \"post\", \"advisor\", \"http\", \"china\", \"increased\", \"rating\", \"favorite\", \"EMOJI_16\", \"dispatch\", \"tribunal\", \"offering\", \"ledger\", \"a350\", \"somewhat\", \"btc\", \"amex\", \"guitar\", \"medium\", \"expert\", \"shanghai\", \"insider\", \"featuring\", \"grand\", \"selling\", \"www\", \"manuel\", \"index\", \"imprimermonlivre\", \"belleli\", \"price\", \"gazette\", \"case\", \"buy\", \"understand\", \"mile\", \"million\", \"jan\", \"card\", \"news\", \"skymiles\", \"rt\", \"hotel\", \"EMOJI_17\", \"airline\", \"just\", \"service\", \"2018\", \"air\", \"new\"], \"Total\": [339.0, 337.0, 315.0, 228.0, 200.0, 153.0, 415.0, 279.0, 109.0, 192.0, 89.0, 151.0, 81.0, 80.0, 176.0, 196.0, 77.0, 76.0, 76.0, 71.0, 119.0, 175.0, 73.0, 275.0, 65.0, 257.0, 472.0, 176.0, 138.0, 417.0, 42.81354122459136, 36.872424704415536, 36.85314161111526, 33.275184872585214, 32.38295555018867, 31.478633980000286, 30.798245314092153, 29.76901642595466, 26.516221595657083, 25.37422062114357, 20.120602743438006, 66.45207679181982, 18.740130006169696, 17.48455996483467, 17.253486570925464, 42.44065267629136, 17.026934529885622, 16.300625631130455, 16.058532905535074, 15.941325472045307, 15.52159732365516, 15.162264326056013, 15.120784003054728, 14.799341719829016, 14.746055683942174, 14.443613523112612, 12.995090604097767, 151.60052145957488, 12.646972377691364, 12.510893253487096, 57.57970625932621, 33.34082817259696, 46.42491974693705, 192.81736272585394, 56.93483369293826, 38.117063933081035, 102.81983238950657, 39.50474246946339, 115.9740894577788, 196.05236557675826, 46.949235382734614, 127.53914113709773, 151.64406062946344, 415.9336629648132, 42.09504623342093, 79.62190246157894, 275.21884676075683, 178.92180636059373, 176.04049130326274, 119.4306927831173, 238.1132556226205, 52.8849632422811, 272.6686798960433, 95.00621748133631, 165.24902851887813, 122.59012815229258, 96.57243915176156, 78.63440083524411, 221.42000314285667, 137.76851820799192, 84.69087304581628, 417.47938783562296, 204.17235825789064, 25.053656909489966, 20.75843626006951, 15.5393616025086, 15.17989356730399, 14.385537490545294, 31.91671762714782, 44.873585062764384, 13.113002372661237, 12.250527825538583, 11.819084774168784, 11.54227502849698, 10.913323302386113, 10.859336687715414, 10.801918925361251, 10.564570613895027, 10.341736325201804, 10.2589334346349, 9.824182597962592, 9.630085861652324, 9.353324257468348, 9.187945813374327, 9.058537982781278, 9.001107098600173, 8.975845763547264, 8.835734787133292, 8.753019888737475, 8.67035620061368, 8.530248548646808, 8.447542350422648, 8.429546467654603, 23.240472037303693, 30.807444155874368, 38.88492215149153, 56.0862181830333, 138.2566352095735, 27.536088977663415, 66.39496554491166, 60.14362163988239, 13.29169219788479, 94.16149515246668, 176.45272040029573, 36.196720346169286, 21.726374094745516, 175.80897883870148, 23.452839692848677, 279.4393187408137, 41.58881172391407, 24.07309929348411, 26.857977846456492, 58.098592090612605, 55.42437346757197, 165.24902851887813, 257.174025338539, 62.78058725277126, 415.9336629648132, 146.1793953327936, 83.24983594275234, 90.50249454654845, 122.59012815229258, 417.47938783562296, 238.1132556226205, 176.04049130326274, 272.6686798960433, 164.58826861801805, 164.36527157488513, 214.45569384996512, 221.42000314285667, 104.47748550335818, 178.92180636059373, 79.3924756285156, 472.11367793687197, 88.51073753730658, 33.92984110913713, 19.852791138808414, 18.964391367425247, 18.374099035833492, 16.74801282000872, 16.00698573419584, 15.546890548085557, 15.248412526127693, 15.016481205257325, 14.725038121166833, 12.586130510069033, 12.452574854690681, 12.44214288680969, 11.992492877471914, 11.802813972736457, 11.405949948621284, 10.232856231532022, 9.769398448417574, 9.635862887994083, 9.263651289600128, 9.23897624608115, 9.130121971474628, 8.733217178495252, 8.705163301272322, 8.652433779764685, 8.62437231880825, 8.571635265232771, 8.543572358648278, 8.037810842311908, 7.985082807088786, 39.34837032663853, 37.3893095910311, 21.866089014955858, 16.099955711957058, 17.093112325111193, 119.12656944814772, 19.265429421631204, 54.95943166672779, 101.00517506422969, 28.028521059583042, 30.459372376128105, 71.42851178646919, 26.15612045624899, 279.4393187408137, 82.03284150436653, 56.76095892038941, 67.52638689823395, 64.61758086162169, 164.58826861801805, 164.36527157488513, 257.174025338539, 98.36117406585261, 66.39270689731545, 89.30657650893599, 176.45272040029573, 107.19469863339528, 69.36590542590348, 46.09649930724781, 417.47938783562296, 275.21884676075683, 146.1793953327936, 221.42000314285667, 121.09147345933056, 472.11367793687197, 111.79443731360048, 76.17750407508386, 137.76851820799192, 141.25108450852264, 315.02364255498685, 153.2774249328789, 109.0679534866769, 65.71604493256044, 47.4938197860755, 39.72202339101765, 34.66077858128467, 34.12752080604626, 31.376467138753142, 28.899000760116387, 26.523468659834162, 25.679420611963767, 20.576989423484243, 19.989182870692233, 19.82171806434825, 17.904606183880183, 15.098589974434327, 14.835473959791832, 14.21016781736396, 14.141711055074381, 13.687459810147306, 13.50944367616482, 13.489087978481802, 13.403516556798305, 12.443354693914774, 12.268997155204227, 12.268995053205309, 12.262056663968252, 11.383795890065903, 11.30517797717857, 200.60042669643218, 58.31584798961295, 59.560495170753995, 35.54038569447869, 125.7826208140629, 31.184773865881944, 105.87580756778485, 119.12656944814772, 18.831249851494963, 175.80897883870148, 204.17235825789064, 22.3875753404796, 257.174025338539, 279.4393187408137, 472.11367793687197, 141.25108450852264, 417.47938783562296, 158.2753914381927, 121.09147345933056, 81.48319165629401, 59.76900721222144, 30.545167287375314, 30.337732454414617, 27.691358953997863, 25.919730051862246, 25.549497247915923, 23.564008352394946, 19.55465331240162, 18.913134488899548, 18.84920544463507, 18.0447721819699, 16.362617266896144, 16.244616891904233, 15.969897392363839, 15.788030749247426, 14.760278167262866, 14.156831263592556, 13.722673148441059, 13.263014237230063, 12.286273705856372, 11.753159367211543, 11.73718608703942, 11.204092963300079, 10.441192019421125, 10.096484131990898, 10.070977681819947, 9.98155147432788, 9.422964606744944, 9.276076566675403, 9.20266181906906, 30.68074923353197, 25.44129395184047, 24.435880026374953, 76.66139022942386, 22.05792132556841, 67.51521033892072, 36.460557587549324, 16.293478105401622, 472.11367793687197, 24.52354340593335, 84.69087304581628, 119.4306927831173, 169.4695671443825, 275.21884676075683, 68.99754685543996, 238.1132556226205, 214.45569384996512, 221.42000314285667, 158.2753914381927, 415.9336629648132, 165.24902851887813, 164.58826861801805, 73.97709726492263, 38.80896347644633, 31.992752142179665, 31.614507551254427, 23.92396905361635, 23.373066641803305, 19.152688826047033, 18.536147398842118, 17.12723950216008, 16.6902232523435, 15.979235459231429, 14.88990908114373, 14.270217554922269, 13.989901265429848, 13.474435846379945, 13.474435846379945, 12.316657938737178, 12.209009767089507, 12.039477799373117, 11.863359339674663, 11.279445271202071, 11.240541722924114, 10.650053665740272, 10.548971217700235, 10.548967088694264, 9.727125087186446, 9.727111470581358, 9.727136159366973, 9.495767009395621, 9.469364217264355, 38.83655904963851, 40.03966495585176, 33.53776725923274, 16.26650860275314, 12.539017100617516, 18.751499562815333, 111.79443731360048, 64.58782526754848, 43.40132140522915, 26.245453086369476, 158.2753914381927, 214.45569384996512, 472.11367793687197, 34.74210182084999, 149.87480681785283, 417.47938783562296, 101.77725079356968, 31.212177451317245, 88.51073753730658, 21.774263669152997, 81.48319165629401, 275.21884676075683, 54.15396399313967, 107.19469863339528, 339.8389038841178, 228.34396741950084, 80.68710351063514, 52.74714601092729, 51.64584795566888, 47.00403510950004, 40.82889902955105, 39.59667120490185, 39.43216227231757, 38.50662492168439, 34.95484546123124, 34.65377551518654, 21.614937287279194, 20.74228164353161, 20.591743674304137, 17.812238242908027, 17.63108591376108, 17.34666077250904, 17.302117765450625, 17.04558628863322, 16.566038352766395, 16.415506692458703, 16.02803576787159, 15.96389490455049, 337.4366241235286, 14.252110387968619, 13.485462608485783, 13.019879978009799, 12.869346459119539, 12.738403264451414, 63.78169494589262, 58.79611646220559, 32.52515345808009, 272.6686798960433, 34.74210182084999, 89.29319169641263, 81.70335191793129, 77.37801948682946, 76.21175249690285, 76.21175249690285, 65.0813097081508, 54.7473168970114, 53.41875129714039, 53.41875135960755, 44.25101574013507, 43.58673487499818, 43.58673532195963, 42.92245481643649, 41.593893261838446, 40.58994497592672, 34.75867439584247, 33.090442820991555, 30.803119585492286, 28.440486924280286, 27.111924063994834, 25.945668396957707, 25.783367483122372, 24.809538127550532, 23.450857607282483, 23.258425052596678, 18.4311003399157, 17.97432562343683, 16.808063620993195, 15.93628421793063, 15.479507514837621, 60.39054663669328, 26.90250648509226, 204.17235825789064, 125.7826208140629, 175.80897883870148, 472.11367793687197, 46.96578056516499, 35.98294294447729, 31.99064962751059, 28.082270312652774, 25.12091234339071, 22.783374906695844, 19.644760020784293, 17.85044304202996, 17.33829238662746, 14.923063490470327, 14.40463329895123, 13.550967945615255, 12.911530122043962, 12.498553831438008, 12.234725826482205, 12.225480340884756, 12.051876590655029, 10.583237986840869, 10.272788246874224, 9.937540665902242, 9.937540665902242, 9.754358597559571, 9.642589554426253, 9.490538292610887, 8.90068947303019, 8.900689260637664, 8.897705329516281, 8.764123354114314, 8.525092716551992, 8.475482000669764, 33.522513452845345, 14.94408761999187, 69.65055893397785, 25.126448909196654, 74.34462035906813, 100.30106612954393, 13.795134981341151, 472.11367793687197, 417.47938783562296, 31.574677928610623, 44.16077962811621, 76.66139022942386, 35.74969193233947, 81.48319165629401, 60.61604678487058, 87.27058315411199, 204.17235825789064, 101.77725079356968, 214.45569384996512, 96.57243915176156, 149.87480681785283, 77.52334021286345, 71.71124248031548, 28.733143582481684, 20.490114418129192, 18.427106173385848, 17.27590103087357, 16.80028862885408, 16.264060232729648, 15.134140641844093, 14.870524244525624, 14.340401200791707, 14.076826721525599, 14.076826721525599, 14.073923171306106, 12.901416119077435, 12.068347613173177, 11.39885349405475, 10.947447945280315, 10.892944914064794, 10.768693015468486, 10.502199811694803, 10.293131466981894, 10.268931447679392, 10.208257542163992, 9.623638609629255, 9.444881023345353, 9.420679888143015, 9.048035183794092, 9.048035183794092, 9.048035183794092, 9.048035183794092, 9.048035183794092, 55.24330255321357, 24.12632404971022, 13.312537898031962, 23.850705259029525, 17.623234341763716, 54.70057364208442, 77.52334021286345, 33.56706818476741, 32.42102834206974, 49.51207403888313, 17.230784416895045, 472.11367793687197, 70.64356458734788, 18.26746568446326, 417.47938783562296, 221.42000314285667, 257.174025338539, 125.7826208140629, 337.4366241235286, 204.17235825789064], \"loglift\": [30.0, 29.0, 28.0, 27.0, 26.0, 25.0, 24.0, 23.0, 22.0, 21.0, 20.0, 19.0, 18.0, 17.0, 16.0, 15.0, 14.0, 13.0, 12.0, 11.0, 10.0, 9.0, 8.0, 7.0, 6.0, 5.0, 4.0, 3.0, 2.0, 1.0, 1.6671, 1.6644, 1.6644, 1.6622, 1.6616, 1.6609, 1.6604, 1.6596, 1.6565, 1.6552, 1.6475, 1.6461, 1.6448, 1.6419, 1.6412, 1.641, 1.6407, 1.6387, 1.638, 1.6377, 1.6364, 1.6352, 1.6351, 1.634, 1.6338, 1.6327, 1.6268, 1.6261, 1.6251, 1.6245, 1.6044, 1.6083, 1.5939, 1.5502, 1.5851, 1.5985, 1.5476, 1.5921, 1.515, 1.4577, 1.5531, 1.4585, 1.3983, 1.2336, 1.5015, 1.395, 1.1325, 1.2043, 1.1659, 1.2594, 0.9439, 1.4371, 0.7693, 1.1789, 0.8775, 0.9744, 1.0884, 1.1949, 0.5805, 0.8529, 1.0472, -0.2975, 0.3062, 1.9359, 1.9297, 1.9173, 1.9162, 1.9134, 1.9094, 1.9089, 1.9082, 1.904, 1.9017, 1.9001, 1.8962, 1.8959, 1.8955, 1.8939, 1.8922, 1.8915, 1.8882, 1.8866, 1.8842, 1.8827, 1.8814, 1.8809, 1.8806, 1.8792, 1.8784, 1.8775, 1.876, 1.8751, 1.8749, 1.8665, 1.8582, 1.8346, 1.7753, 1.6734, 1.795, 1.7208, 1.6828, 1.8384, 1.5837, 1.4593, 1.6799, 1.7499, 1.3504, 1.7308, 1.1876, 1.5807, 1.6987, 1.6697, 1.4412, 1.4475, 1.1135, 0.9423, 1.3803, 0.7356, 1.0878, 1.2777, 1.2409, 1.0894, 0.5939, 0.7874, 0.8999, 0.4889, 0.7712, 0.7564, 0.5701, 0.5412, 0.9539, 0.4911, 1.139, -0.5968, 1.0323, 2.1666, 2.1509, 2.1491, 2.1478, 2.1437, 2.1416, 2.1402, 2.1393, 2.1385, 2.1375, 2.1285, 2.1279, 2.1278, 2.1255, 2.1244, 2.1221, 2.1142, 2.1106, 2.1094, 2.1061, 2.1059, 2.1049, 2.1009, 2.1006, 2.1, 2.0998, 2.0992, 2.0989, 2.0929, 2.0923, 2.092, 2.08, 2.014, 2.0417, 2.0015, 1.7076, 1.9743, 1.7774, 1.6406, 1.8758, 1.8507, 1.6361, 1.8763, 1.2568, 1.5739, 1.6372, 1.5752, 1.5503, 1.1957, 1.1819, 1.0032, 1.3309, 1.474, 1.3374, 1.0165, 1.2389, 1.3612, 1.5622, 0.28, 0.4585, 0.8293, 0.5267, 0.8618, -0.1027, 0.8559, 1.1293, 0.6446, 0.6023, 2.3515, 2.349, 2.3471, 2.3426, 2.3382, 2.3351, 2.3324, 2.332, 2.3301, 2.3278, 2.3257, 2.3248, 2.3175, 2.3164, 2.3161, 2.3119, 2.3039, 2.303, 2.3007, 2.3005, 2.2987, 2.2979, 2.2978, 2.2974, 2.293, 2.2921, 2.2921, 2.292, 2.2871, 2.2866, 2.1961, 2.1437, 1.8969, 1.9889, 1.6117, 1.9665, 1.505, 1.3765, 2.1455, 1.0792, 0.9186, 2.0511, 0.5693, 0.421, -0.0608, 0.7613, -0.1057, 0.5303, 0.7194, 1.0335, 2.4385, 2.4264, 2.4262, 2.4238, 2.4219, 2.4215, 2.419, 2.4123, 2.411, 2.4109, 2.409, 2.4046, 2.4043, 2.4035, 2.4029, 2.3995, 2.3972, 2.3955, 2.3935, 2.3888, 2.3858, 2.3858, 2.3826, 2.3774, 2.3748, 2.3746, 2.3739, 2.3691, 2.3677, 2.3671, 2.3539, 2.336, 2.2904, 2.1377, 2.227, 2.0122, 2.0629, 2.2401, 0.6025, 2.0094, 1.2898, 1.0697, 0.6915, 0.2489, 1.226, 0.2943, 0.3319, 0.307, 0.5459, -0.4946, 0.2911, 0.2059, 2.4476, 2.4385, 2.4343, 2.434, 2.4263, 2.4256, 2.4184, 2.417, 2.4136, 2.4124, 2.4104, 2.4068, 2.4045, 2.4034, 2.4013, 2.4013, 2.3958, 2.3953, 2.3944, 2.3934, 2.39, 2.3897, 2.3858, 2.3851, 2.3851, 2.3787, 2.3787, 2.3787, 2.3767, 2.3765, 2.3707, 2.3567, 2.2344, 2.3129, 2.3399, 2.2546, 1.8228, 1.9468, 1.9848, 2.1022, 1.3514, 1.1058, 0.708, 1.9009, 1.1506, 0.5738, 1.1979, 1.8318, 1.0669, 2.0856, 1.0056, -0.0294, 1.3191, 0.5657, 2.5136, 2.5125, 2.5065, 2.5015, 2.5012, 2.4997, 2.4973, 2.4967, 2.4966, 2.4961, 2.4941, 2.4939, 2.4805, 2.479, 2.4787, 2.4728, 2.4723, 2.4716, 2.4715, 2.4708, 2.4695, 2.469, 2.4679, 2.4677, 2.465, 2.4617, 2.4586, 2.4565, 2.4558, 2.4551, 2.3888, 2.2664, 2.2134, 0.2634, 1.6186, 2.5586, 2.5578, 2.5573, 2.5572, 2.5572, 2.5555, 2.5533, 2.553, 2.553, 2.55, 2.5498, 2.5498, 2.5495, 2.5489, 2.5485, 2.5453, 2.5442, 2.5425, 2.5405, 2.5391, 2.5379, 2.5377, 2.5365, 2.5347, 2.5344, 2.5257, 2.5247, 2.5217, 2.5191, 2.5177, 1.6899, 2.176, 0.6448, 0.9646, 0.5598, -0.3831, 2.6387, 2.6338, 2.6312, 2.6279, 2.6247, 2.6215, 2.6161, 2.6122, 2.6109, 2.6036, 2.6017, 2.5983, 2.5954, 2.5934, 2.5921, 2.592, 2.5911, 2.5819, 2.5796, 2.577, 2.577, 2.5755, 2.5745, 2.5732, 2.5676, 2.5676, 2.5675, 2.5661, 2.5635, 2.563, 2.5409, 2.5487, 2.3987, 2.475, 2.056, 1.894, 2.4396, 0.7806, 0.6853, 1.949, 1.6893, 1.3086, 1.7874, 1.1589, 1.3198, 1.0307, 0.3371, 0.8583, 0.1871, 0.8018, 0.3718, 0.9754, 2.6853, 2.6695, 2.6587, 2.6545, 2.6517, 2.6504, 2.6489, 2.6453, 2.6444, 2.6425, 2.6414, 2.6414, 2.6414, 2.6363, 2.6321, 2.6282, 2.6253, 2.625, 2.6241, 2.6222, 2.6207, 2.6205, 2.62, 2.6153, 2.6137, 2.6135, 2.6099, 2.6099, 2.6099, 2.6099, 2.6099, 2.5144, 2.5289, 2.5763, 2.4898, 2.5218, 2.3043, 2.0864, 2.2914, 2.264, 2.0017, 2.3883, 0.4706, 1.545, 2.2889, -0.1206, 0.1864, 0.0251, 0.629, -0.3493, 0.0081], \"logprob\": [30.0, 29.0, 28.0, 27.0, 26.0, 25.0, 24.0, 23.0, 22.0, 21.0, 20.0, 19.0, 18.0, 17.0, 16.0, 15.0, 14.0, 13.0, 12.0, 11.0, 10.0, 9.0, 8.0, 7.0, 6.0, 5.0, 4.0, 3.0, 2.0, 1.0, -5.5894999504089355, -5.741700172424316, -5.742199897766113, -5.846499919891357, -5.874300003051758, -5.903299808502197, -5.9257001876831055, -5.9604997634887695, -6.0792999267578125, -6.124599933624268, -6.364299774169922, -5.170899868011475, -6.4380998611450195, -6.510300159454346, -6.5243000984191895, -5.6244001388549805, -6.538000106811523, -6.583600044250488, -6.599299907684326, -6.606900215148926, -6.634900093078613, -6.6595001220703125, -6.662399768829346, -6.684999942779541, -6.688799858093262, -6.710599899291992, -6.822199821472168, -4.366199970245361, -6.85099983215332, -6.862400054931641, -5.355999946594238, -5.898499965667725, -5.5817999839782715, -4.201600074768066, -5.386600017547607, -5.7743000984191895, -4.832900047302246, -5.744999885559082, -4.745200157165527, -4.277500152587891, -5.611400127410889, -4.706600189208984, -4.593699932098389, -3.749500036239624, -5.77209997177124, -5.241199970245361, -4.263500213623047, -4.622300148010254, -4.6768999099731445, -4.971399784088135, -4.59689998626709, -5.60830020904541, -4.636000156402588, -5.280700206756592, -5.028600215911865, -5.230299949645996, -5.354800224304199, -5.453800201416016, -5.0329999923706055, -5.235000133514404, -5.527299880981445, -5.276800155639648, -5.388400077819824, -5.856599807739258, -6.050899982452393, -6.352799892425537, -6.377399921417236, -6.433899879455566, -5.640999794006348, -5.30079984664917, -6.531799793243408, -6.604000091552734, -6.642099857330322, -6.667399883270264, -6.72730016708374, -6.732699871063232, -6.73829984664917, -6.762199878692627, -6.785099983215332, -6.793900012969971, -6.840400218963623, -6.861999988555908, -6.893599987030029, -6.913000106811523, -6.928400039672852, -6.935299873352051, -6.938399791717529, -6.95550012588501, -6.965799808502197, -6.976099967956543, -6.993899822235107, -7.0046000480651855, -7.006899833679199, -6.001200199127197, -5.72760009765625, -5.5183000564575195, -5.211299896240234, -4.411099910736084, -5.90310001373291, -5.097099781036377, -5.234000205993652, -6.5879998207092285, -4.884799957275391, -4.381199836730957, -5.744699954986572, -6.185100078582764, -4.49370002746582, -6.127799987792969, -4.1930999755859375, -5.704999923706055, -6.133800029754639, -6.053299903869629, -5.510200023651123, -5.551000118255615, -4.792600154876709, -4.521500110626221, -5.493599891662598, -4.247399806976318, -4.940899848937988, -5.314000129699707, -5.267300128936768, -5.115300178527832, -4.38539981842041, -4.753300189971924, -4.942999839782715, -4.916399955749512, -5.138899803161621, -5.15500020980835, -5.075300216674805, -5.072299957275391, -5.410600185394287, -5.335400104522705, -5.500199794769287, -5.453100204467773, -5.4980998039245605, -5.3225998878479, -5.874300003051758, -5.921899795532227, -5.954800128936768, -6.051499843597412, -6.098899841308594, -6.129499912261963, -6.149799823760986, -6.165900230407715, -6.186500072479248, -6.352399826049805, -6.363800048828125, -6.36460018157959, -6.403800010681152, -6.42080020904541, -6.457300186157227, -6.573699951171875, -6.623700141906738, -6.638599872589111, -6.681300163269043, -6.684199810028076, -6.6971001625061035, -6.745500087738037, -6.749000072479248, -6.75570011138916, -6.759200096130371, -6.765900135040283, -6.769499778747559, -6.836400032043457, -6.843699932098389, -5.249100208282471, -5.312099933624268, -5.914599895477295, -6.192999839782715, -6.173399925231934, -4.5258002281188965, -6.080900192260742, -5.229499816894531, -4.757699966430664, -5.804500102996826, -5.746500015258789, -5.108699798583984, -5.873199939727783, -4.124000072479248, -5.03249979019165, -5.337500095367432, -5.225800037384033, -5.2947998046875, -4.714399814605713, -4.729599952697754, -4.460599899291992, -5.093900203704834, -5.343999862670898, -5.184000015258789, -4.82390022277832, -5.099999904632568, -5.412899971008301, -5.62060022354126, -4.6992998123168945, -4.9375, -5.199399948120117, -5.086699962615967, -5.355199813842773, -4.959099769592285, -5.440999984741211, -5.55109977722168, -5.443399906158447, -5.460700035095215, -2.90939998626709, -3.6322999000549316, -3.9744999408721924, -4.485599994659424, -4.814700126647949, -4.996500015258789, -5.135499954223633, -5.151400089263916, -5.237299919128418, -5.321899890899658, -5.409800052642822, -5.442999839782715, -5.671899795532227, -5.702000141143799, -5.710700035095215, -5.8165998458862305, -5.994999885559082, -6.013500213623047, -6.058800220489502, -6.063899993896484, -6.098400115966797, -6.112299919128418, -6.113800048828125, -6.12060022354126, -6.199399948120117, -6.214399814605713, -6.214399814605713, -6.215000152587891, -6.2941999435424805, -6.301599979400635, -3.5160999298095703, -4.803999900817871, -5.029600143432617, -5.45389986038208, -4.567299842834473, -5.607100009918213, -4.84630012512207, -4.856800079345703, -5.932499885559082, -4.764999866485596, -4.775899887084961, -5.853899955749512, -4.894499778747559, -4.959799766540527, -4.917099952697754, -5.301700115203857, -5.085000038146973, -5.418900012969971, -5.497600078582764, -5.579599857330322, -4.484600067138672, -5.167900085449219, -5.174900054931641, -5.268599987030029, -5.336599826812744, -5.351399898529053, -5.434800148010254, -5.627999782562256, -5.662700176239014, -5.666200160980225, -5.711699962615967, -5.813899993896484, -5.821499824523926, -5.839399814605713, -5.851399898529053, -5.922100067138672, -5.966100215911865, -5.999000072479248, -6.035099983215332, -6.116300106048584, -6.163599967956543, -6.164999961853027, -6.214700222015381, -6.29040002822876, -6.326600074768066, -6.3292999267578125, -6.338900089263916, -6.401299953460693, -6.418399810791016, -6.427000045776367, -5.236000061035156, -5.441199779510498, -5.527100086212158, -4.536399841308594, -5.69290018081665, -4.788899898529053, -5.354400157928467, -5.982600212097168, -4.253799915313721, -5.804500102996826, -5.2846999168396, -5.161099910736084, -5.189300060272217, -5.14709997177124, -5.553400039672852, -5.246500015258789, -5.313499927520752, -5.30649995803833, -5.403299808502197, -5.47760009765625, -5.614999771118164, -5.70419979095459, -4.2621002197265625, -4.916399955749512, -5.113699913024902, -5.125899791717529, -5.412300109863281, -5.436399936676025, -5.6427001953125, -5.676799774169922, -5.759300231933594, -5.786300182342529, -5.831900119781494, -5.906000137329102, -5.950799942016602, -5.971799850463867, -6.01140022277832, -6.01140022277832, -6.1066999435424805, -6.116099834442139, -6.13100004196167, -6.146699905395508, -6.2006001472473145, -6.2042999267578125, -6.262199878692627, -6.27239990234375, -6.27239990234375, -6.359899997711182, -6.359899997711182, -6.359899997711182, -6.386000156402588, -6.388999938964844, -4.983500003814697, -4.966899871826172, -5.266499996185303, -5.911499977111816, -6.144800186157227, -5.827600002288818, -4.474100112915039, -4.89870023727417, -5.258200168609619, -5.643799781799316, -4.597799777984619, -4.539599895477295, -4.1483001708984375, -5.564700126647949, -4.853099822998047, -4.4054999351501465, -5.19290018081665, -5.740900039672852, -5.463500022888184, -5.8471999168396, -5.607600212097168, -5.4253997802734375, -5.702600002288818, -5.773200035095215, -2.6714999675750732, -3.070199966430664, -4.116499900817871, -4.546500205993652, -4.56790018081665, -4.663599967956543, -4.8069000244140625, -4.838099956512451, -4.842299938201904, -4.866600036621094, -4.965400218963623, -4.9741997718811035, -5.459700107574463, -5.502399921417236, -5.509900093078613, -5.660900115966797, -5.671500205993652, -5.688499927520752, -5.691199779510498, -5.7067999839782715, -5.736700057983398, -5.746300220489502, -5.771299839019775, -5.7754998207092285, -2.7272000312805176, -5.894899845123291, -5.9532999992370605, -5.990600109100342, -6.002900123596191, -6.013800144195557, -4.469200134277344, -4.673099994659424, -5.3180999755859375, -5.1417999267578125, -5.8470001220703125, -3.9630000591278076, -4.052599906921387, -4.107500076293945, -4.122799873352051, -4.122799873352051, -4.282400131225586, -4.457499980926514, -4.482399940490723, -4.482399940490723, -4.673600196838379, -4.689000129699707, -4.689000129699707, -4.704699993133545, -4.736700057983398, -4.761499881744385, -4.9197998046875, -4.970099925994873, -5.043399810791016, -5.12529993057251, -5.1743998527526855, -5.219699859619141, -5.226099967956543, -5.2657999992370605, -5.32390022277832, -5.332399845123291, -5.573800086975098, -5.599899768829346, -5.670000076293945, -5.725800037384033, -5.75629997253418, -5.222799777984619, -5.545300006866455, -5.049699783325195, -5.214399814605713, -5.284299850463867, -5.2393999099731445, -4.525400161743164, -4.7967000007629395, -4.916900157928467, -5.05049991607666, -5.165200233459473, -5.265999794006348, -5.419600009918213, -5.5192999839782715, -5.549699783325195, -5.706999778747559, -5.744200229644775, -5.808800220489502, -5.860000133514404, -5.894499778747559, -5.917200088500977, -5.918000221252441, -5.933199882507324, -6.072299957275391, -6.104400157928467, -6.140200138092041, -6.140200138092041, -6.160299777984619, -6.172800064086914, -6.190100193023682, -6.259799957275391, -6.259799957275391, -6.260200023651123, -6.276700019836426, -6.307000160217285, -6.313399791717529, -4.960400104522705, -5.760499954223633, -4.371399879455566, -5.314599990844727, -4.648799896240234, -4.51140022277832, -5.9496002197265625, -4.075699806213379, -4.294000148773193, -5.612199783325195, -5.536399841308594, -5.365499973297119, -5.649600028991699, -5.45419979095459, -5.589200019836426, -5.513800144195557, -5.357500076293945, -5.532400131225586, -5.4583001136779785, -5.64139986038208, -5.631899833679199, -5.6875, -4.055600166320801, -4.986000061035156, -5.33489990234375, -5.445199966430664, -5.512499809265137, -5.5416998863220215, -5.575699806213379, -5.651299953460693, -5.6697998046875, -5.708000183105469, -5.72760009765625, -5.72760009765625, -5.727799892425537, -5.819900035858154, -5.8907999992370605, -5.9517998695373535, -5.995100021362305, -6.000400066375732, -6.012800216674805, -6.039700031280518, -6.061399936676025, -6.063899993896484, -6.070300102233887, -6.133999824523926, -6.154399871826172, -6.157199859619141, -6.201099872589111, -6.201099872589111, -6.201099872589111, -6.201099872589111, -6.201099872589111, -4.487400054931641, -5.301400184631348, -5.848499774932861, -5.3520002365112305, -5.622499942779541, -4.707399845123291, -4.576499938964844, -5.208600044250488, -5.270699977874756, -5.109600067138672, -5.778500080108643, -4.385700225830078, -5.2108001708984375, -5.819499969482422, -5.099899768829346, -5.427000045776367, -5.438700199127197, -5.550000190734863, -5.541500091552734, -5.686500072479248]}, \"token.table\": {\"Topic\": [7, 1, 6, 4, 6, 8, 9, 1, 2, 5, 8, 2, 4, 6, 8, 2, 4, 8, 10, 9, 1, 2, 5, 7, 3, 1, 2, 1, 2, 3, 5, 1, 2, 4, 9, 2, 9, 7, 10, 1, 10, 5, 3, 4, 6, 4, 4, 8, 10, 6, 5, 5, 7, 10, 8, 8, 8, 10, 1, 4, 7, 10, 2, 5, 3, 1, 2, 3, 4, 5, 6, 9, 10, 1, 2, 4, 5, 6, 9, 10, 8, 2, 5, 1, 2, 3, 4, 5, 6, 9, 10, 7, 8, 6, 4, 4, 1, 4, 8, 2, 9, 1, 2, 5, 9, 1, 2, 3, 6, 9, 9, 2, 4, 5, 6, 7, 9, 2, 5, 6, 2, 9, 1, 2, 3, 5, 2, 6, 8, 4, 2, 2, 4, 6, 10, 1, 3, 10, 8, 2, 3, 9, 10, 1, 3, 8, 10, 5, 9, 6, 2, 10, 5, 5, 10, 1, 2, 3, 6, 7, 4, 5, 6, 9, 9, 6, 2, 8, 7, 6, 8, 1, 6, 10, 10, 1, 3, 4, 5, 6, 10, 3, 7, 10, 7, 2, 6, 3, 1, 2, 3, 9, 7, 2, 6, 10, 2, 3, 5, 10, 1, 2, 3, 5, 6, 6, 3, 4, 3, 2, 4, 5, 6, 9, 10, 2, 3, 3, 8, 5, 5, 4, 1, 2, 5, 2, 6, 6, 6, 1, 2, 3, 9, 10, 8, 5, 3, 2, 3, 4, 2, 4, 6, 7, 1, 7, 1, 3, 1, 2, 3, 5, 6, 7, 7, 1, 2, 3, 1, 2, 3, 6, 9, 2, 9, 2, 3, 5, 2, 1, 3, 5, 8, 3, 10, 1, 3, 3, 10, 6, 2, 3, 10, 1, 2, 3, 4, 5, 6, 4, 8, 4, 2, 8, 1, 2, 3, 6, 3, 1, 8, 7, 2, 1, 2, 3, 5, 8, 10, 3, 2, 6, 10, 10, 2, 3, 4, 5, 9, 1, 3, 2, 3, 1, 2, 3, 5, 6, 9, 1, 2, 3, 4, 5, 6, 9, 5, 9, 5, 3, 3, 1, 4, 4, 1, 2, 3, 4, 5, 8, 10, 3, 1, 3, 6, 7, 8, 2, 3, 6, 8, 1, 3, 6, 10, 6, 10, 6, 2, 3, 4, 5, 6, 8, 6, 10, 2, 1, 2, 4, 5, 7, 5, 2, 6, 6, 1, 2, 3, 5, 5, 7, 7, 4, 6, 5, 2, 3, 7, 8, 5, 7, 1, 2, 3, 5, 7, 9, 10, 2, 6, 1, 5, 1, 2, 6, 7, 10, 1, 2, 3, 5, 1, 2, 10, 1, 10, 5, 10, 10, 10, 7, 4, 4, 9, 9, 1, 2, 3, 4, 5, 6, 6, 10, 9, 9, 1, 2, 9, 8, 4, 5, 1, 2, 3, 4, 5, 6, 7, 10, 4, 8, 8, 4, 8, 8, 1, 1, 2, 3, 6, 8, 9, 8, 8, 8, 7, 1, 5, 6, 3, 1, 2, 1, 3, 4, 9, 5, 10, 9, 6, 7, 1, 2, 3, 5, 6, 9, 7, 8, 4, 2, 4, 4, 6, 2, 6, 1, 2, 3, 5, 5, 2, 3, 5, 6, 8, 9, 7, 7, 1, 2, 3, 9, 8, 1, 10, 6, 9, 3, 10, 9, 9, 2, 10, 4, 9, 10, 1, 3, 5, 1, 2, 3, 5, 4, 1, 2, 3, 4, 5, 6, 7, 8, 4, 1, 2, 3, 4, 5, 7, 8, 9, 10, 6, 9, 10, 3, 6, 9, 7, 10, 4, 1, 2, 10, 6, 9, 3, 6, 3, 2, 2, 3, 9, 9, 1, 4, 5, 9, 1, 1, 4, 6, 7, 9, 3, 1, 3, 4, 5, 6, 9, 1, 2, 3, 4, 6, 6, 1, 2, 10, 5, 2, 1, 2, 3, 4, 5, 9, 6, 1, 3, 4, 5, 6, 8, 5, 5, 6, 7, 10, 7, 2, 9, 10, 3, 4, 5, 9, 5, 10, 4, 10, 5, 7, 6, 1, 2, 1, 5, 3, 9, 2, 8, 5, 1, 2, 3, 4, 5, 6, 7, 8, 9, 10, 1, 2, 4, 2, 1, 2, 9, 4, 1, 2, 3, 4, 6, 1, 3, 4, 9, 10, 9, 1, 1, 2, 3, 4, 7, 8, 10, 10, 10, 7, 7, 2, 1, 3, 3, 8, 10, 9, 3, 3, 3, 9, 3, 8, 10, 6, 1, 2, 3, 8, 9, 3, 1, 1, 4, 7, 1, 4, 6, 8, 6, 7, 10, 1, 6, 3, 5, 9, 1, 1, 5, 8, 2, 8, 7, 1, 4, 6, 7, 6, 2, 3, 5, 8, 9, 2, 6, 1, 3, 4, 5, 6, 10, 3, 1, 2, 3, 4, 9, 10, 2, 3, 10, 2, 3, 5, 9, 1, 2, 3, 4, 5, 7, 8, 9, 10, 5, 1, 2, 3, 4, 5, 7, 8, 9, 6, 2, 1, 2, 3, 4, 5, 6, 8, 9, 10, 10, 7, 1, 2, 6, 8, 6, 5, 10, 1, 3, 1, 5, 1, 3, 1, 4, 10, 1, 2, 3, 4, 5, 6, 9, 2, 2, 9, 4, 1, 4, 9, 7, 2, 5, 9, 4, 5, 2, 1, 1, 1, 2, 6, 1, 1, 3, 1, 2, 3, 6, 9, 4, 4, 1, 2, 3, 5, 6, 8, 9, 4, 2, 2, 3, 4, 6, 8, 5, 6, 9, 3, 3, 5, 9, 1, 2, 3, 4, 6, 9, 1, 2, 3, 10, 5, 5, 2, 4, 5, 8, 8, 8, 9], \"Freq\": [0.972683459227698, 0.07724680232781653, 0.9269616279337983, 0.0918515560566737, 0.6888866704250527, 0.0918515560566737, 0.0918515560566737, 0.44780898661407986, 0.4236030954457512, 0.11497798304956104, 0.006051472792082161, 0.23224191150366233, 0.03096558820048831, 0.6038289699095221, 0.12386235280195323, 0.19080537394333513, 0.47701343485833786, 0.19875559785764077, 0.1272035826288901, 0.9333592339693351, 0.6530984471608631, 0.07535751313394574, 0.2511917104464858, 0.01674611402976572, 0.924595345497989, 0.7535614968375395, 0.23862780733188751, 0.6104198606481439, 0.22890744774305397, 0.02543416086033933, 0.12717080430169664, 0.9852519363360566, 0.9345711065608076, 0.21536079867239233, 0.7752988752206124, 0.974760199363345, 0.9226644591733276, 0.9642060666683885, 0.97626278400266, 0.27371065512675746, 0.6569055723042179, 0.9473372905829825, 0.8695676094066849, 0.12422394420095498, 0.9402340822704759, 0.9662857720067852, 0.0743425153008802, 0.6690826377079218, 0.22302754590264057, 0.9742902709231491, 0.9182845905236149, 0.9750334046391014, 0.9420332949803805, 0.9114752369241482, 0.9807743659173269, 0.9635519739754096, 0.9841001885247017, 0.976821853124029, 0.14456599359026082, 0.8524408587563655, 0.9512897446558395, 0.04741631126010415, 0.18134075015325243, 0.816033375689636, 0.9644089312639537, 0.13892901467709526, 0.2539047509615879, 0.1485103260341363, 0.08623180221336946, 0.02395327839260263, 0.15090565387339655, 0.13892901467709526, 0.05988319598150657, 0.4787637702147739, 0.30657680022524997, 0.04199682194866438, 0.11759110145626026, 0.0335974575589315, 0.01679872877946575, 0.004199682194866438, 0.9845119766952994, 0.9226841221856338, 0.8925309735251051, 0.2554598380018601, 0.09825378384686928, 0.029476135154060785, 0.11790454061624314, 0.03930151353874771, 0.2849359731559209, 0.16703143253967778, 0.9180253897261669, 0.9868431750974079, 0.9951146399282835, 0.9136608898911511, 0.9981900470144226, 0.9802639441112437, 0.939687644415197, 0.919266413333717, 0.9739273295594859, 0.9795496300970551, 0.9794365056101864, 0.304358646895057, 0.304358646895057, 0.28986537799529233, 0.10145288229835232, 0.21933964262738626, 0.08972985380211256, 0.1794597076042251, 0.029909951267370852, 0.46858923652214335, 0.8988067749403736, 0.1227246969188592, 0.26999433322149025, 0.09817975753508737, 0.2331769241458325, 0.049089878767543685, 0.22090445445394657, 0.7459239329360242, 0.055253624661927715, 0.16576087398578315, 0.9490427546365827, 0.8988067963881331, 0.9234256509312846, 0.6007274909648962, 0.3116982264440499, 0.0850086072120136, 0.15998720475396383, 0.7999360237698192, 0.9865386724280765, 0.9148378940405469, 0.9208665582044678, 0.0641338625253949, 0.6734055565166464, 0.03206693126269745, 0.22446851883888214, 0.9494064243393169, 0.9715391608170617, 0.8841698598087655, 0.992160968068851, 0.17617743234439695, 0.5813855267365099, 0.08808871617219848, 0.14094194587551756, 0.355416617153963, 0.547933951445693, 0.029618051429496917, 0.05923610285899383, 0.7304850568507733, 0.2608875203038476, 0.9647899287369862, 0.8284861487473544, 0.18410803305496765, 0.971635737870645, 0.685672454129914, 0.3016958798171621, 0.9805318569316214, 0.2603234558011919, 0.5423405329191499, 0.15185534921736196, 0.06508086395029798, 0.2690174474414478, 0.08070523423243434, 0.10760697897657912, 0.551485767254968, 0.9601110785966309, 0.9867918950452529, 0.8743749021160337, 0.1028676355430628, 0.9800157057859558, 0.9479597387867444, 0.9841001885247017, 0.6463054118149849, 0.31391977145299266, 0.01846586890899957, 0.9134549029128949, 0.0864978257424923, 0.4324891287124615, 0.23066086864664612, 0.0864978257424923, 0.10091413003290768, 0.05766521716166153, 0.8762204957386677, 0.16770992541135274, 0.7966221457039255, 0.9543999899489655, 0.9088712409354788, 0.0649193743525342, 0.8708838933047841, 0.48943582084735693, 0.41602044772025343, 0.06525810944631426, 0.02447179104236785, 0.9849312786467771, 0.18506507371372796, 0.15422089476143996, 0.6477277579980479, 0.6732579951039972, 0.31258406915542725, 0.07511715704845681, 0.9014058845814817, 0.9605056098369633, 0.7831919118148432, 0.10542968043661351, 0.07530691459758107, 0.03012276583903243, 0.9398158223883732, 0.6211880384267258, 0.37774948282706294, 0.9160427178771264, 0.11322263877824768, 0.22644527755649535, 0.11322263877824768, 0.13586716653389722, 0.38495697184604205, 0.952364590482118, 0.9470209994981255, 0.8766346159598651, 0.82319247798216, 0.13719874633036, 0.9821520935784614, 0.9760648382074766, 0.9730054690165317, 0.7752676278163853, 0.1701806987889626, 0.03781793306421392, 0.9035961045151117, 0.08605677185858207, 0.9647899287369862, 0.958645055736652, 0.47258046108358753, 0.09189064521069758, 0.341308110782591, 0.039381705090298966, 0.039381705090298966, 0.9865386825445662, 0.964516217953583, 0.9741339040478089, 0.45806009181808416, 0.39364539140616606, 0.14314377869315129, 0.9359626591290818, 0.04456965043471818, 0.575670410015242, 0.4029692870106694, 0.9809980393744193, 0.9984936435002509, 0.799754483922355, 0.19601825586332233, 0.6203827373411035, 0.2291503804593265, 0.03353420201843803, 0.04471226935791737, 0.07265743770661572, 0.9796982272543986, 0.9914843453198865, 0.795705777591972, 0.137718307660149, 0.061208136737844004, 0.8764770848996765, 0.10372509880469544, 0.02074501976093909, 0.06691609587876225, 0.8699092464239092, 0.946560003758934, 0.9726830863725072, 0.1170061930185666, 0.8190433511299662, 0.9871336793416874, 0.8707060492623816, 0.29403762484838963, 0.5261725918339604, 0.12380531572563774, 0.046426993397114154, 0.8305031593033279, 0.155719342369374, 0.9660548887577276, 0.023562314359944575, 0.9172404863932563, 0.9235035890667769, 0.9387182533401052, 0.23653810830562402, 0.6550286076155742, 0.09097619550216308, 0.2560522201074375, 0.1054332671030625, 0.481980649614, 0.030123790600875, 0.1054332671030625, 0.0150618953004375, 0.9719594829151376, 0.9854657360024359, 0.9494763428701037, 0.9622247398098885, 0.9670465932749679, 0.0805049000314177, 0.11628485560093668, 0.2594046778790126, 0.5277543446504049, 0.953430443963685, 0.9663953836207155, 0.9690230768402679, 0.9890403607762347, 0.9579439874467645, 0.1385521727710063, 0.44084782245320187, 0.23931738933173816, 0.1511478248410978, 0.03778695621027445, 0.9715216435423762, 0.9189948221684414, 0.9530183584121721, 0.9477907357135993, 0.9414597474701609, 0.9351972123095673, 0.9669556141777638, 0.19002569126962485, 0.1266837941797499, 0.1583547427246874, 0.5067351767189996, 0.9112829941323499, 0.07594024951102916, 0.8912809122110396, 0.9796398704990151, 0.12759111069293463, 0.3037883587927015, 0.37062179772709586, 0.1032880419895185, 0.03645460305512418, 0.05468190458268627, 0.2902632581028161, 0.09203469159357584, 0.20530815817028458, 0.20530815817028458, 0.09203469159357584, 0.08495509993253156, 0.028318366644177185, 0.904042068125082, 0.07861235375000714, 0.93719226383797, 0.9333108272173725, 0.9276037379037309, 0.9741672208798884, 0.9780752170785958, 0.9786286533205886, 0.7517604021337486, 0.013188778984802607, 0.09891584238601957, 0.04616072644680913, 0.08572706340121695, 0.1243455071654827, 0.8289700477698847, 0.9636561225311403, 0.5999607342666545, 0.11578189608654736, 0.15788440375438276, 0.11578189608654736, 0.9943274581173648, 0.1960001636580652, 0.5740004792843338, 0.1680001402783416, 0.056000046759447204, 0.845016334753614, 0.10347138792901397, 0.017245231321502328, 0.025867846982253494, 0.9710755753444424, 0.9528971278467436, 0.9840386095876668, 0.03657071905573712, 0.5363705461508111, 0.207234074649177, 0.10971215716721136, 0.048760958740982824, 0.048760958740982824, 0.9689694672790964, 0.9286177984306627, 0.9161067508930955, 0.10073791332322875, 0.11752756554376687, 0.6380067843804487, 0.08394826110269062, 0.0671586088821525, 0.9016634361048592, 0.9151222320388128, 0.9252476882255489, 0.9252466350368952, 0.07232925916967171, 0.7449913694476187, 0.1229597405884419, 0.0506304814187702, 0.24596348208812502, 0.737890446264375, 0.9216674823629445, 0.9891039557646042, 0.9389624046842691, 0.9549474142488709, 0.8201658355691293, 0.1069781524655386, 0.03565938415517953, 0.017829692077589766, 0.9421011154125946, 0.9858353282133501, 0.4355131403055144, 0.23953222716803294, 0.21049801781433197, 0.0362927616921262, 0.01451710467685048, 0.02903420935370096, 0.0362927616921262, 0.17890278603290855, 0.8050625371480884, 0.9297909409904551, 0.05998651232196484, 0.5520672721968622, 0.07077785540985414, 0.014155571081970826, 0.04246671324591248, 0.3114225638033582, 0.6371208286221792, 0.2933160041203995, 0.016829606793793413, 0.05289304992335073, 0.8732836576733171, 0.10649800703333136, 0.9840297168650995, 0.981557417614921, 0.8841698598087655, 0.9359185608158539, 0.9837641874814104, 0.8841698598087655, 0.8816391987395079, 0.9823106626944563, 0.9669615378024616, 0.9436840398860061, 0.8997601479275645, 0.9523573146040387, 0.1657412878524028, 0.4861744443670482, 0.17679070704256297, 0.011049419190160186, 0.06629651514096112, 0.08839535352128149, 0.32770213768600004, 0.6554042753720001, 0.9593410634704118, 0.9381451743430709, 0.5964536864369335, 0.3465111892633614, 0.05680511299399367, 0.9863497073579474, 0.9967505849824965, 0.9888675775316401, 0.32969017687576113, 0.2393641010193882, 0.1896847592983831, 0.004516303792818646, 0.11742389861328478, 0.009032607585637292, 0.027097822756911874, 0.08129346827073562, 0.9272389026859784, 0.9857216236503802, 0.9696173324281571, 0.9780750495088244, 0.9921609669086315, 0.9785088056966571, 0.9853080958516162, 0.13216597019568438, 0.23383210111544162, 0.42699774986298034, 0.0914995178277815, 0.060999678551854335, 0.060999678551854335, 0.9412482731151861, 0.9519240503121414, 0.9913913945827121, 0.9658313991122766, 0.320387772227598, 0.1281551088910392, 0.5446592127869166, 0.977244258468668, 0.9046865396632379, 0.0646204671188027, 0.9763393725416961, 0.17867053216645076, 0.7593497617074156, 0.04466763304161269, 0.8936570295699028, 0.9301304515134192, 0.8990802210042479, 0.9009739700308455, 0.938659411830823, 0.2189091008835305, 0.41729547355922997, 0.2599545572991924, 0.013681818805220656, 0.08893182223393425, 0.9719095036608332, 0.9975314660136619, 0.9673698831720066, 0.9643701634470333, 0.17147997233584208, 0.8059558699784578, 0.07975106756579449, 0.8772617432237394, 0.902819582438845, 0.07523496520323708, 0.2409696947245315, 0.5852121157595765, 0.08606060525876125, 0.08606060525876125, 0.9484916098025101, 0.08248640855358405, 0.4124320427679203, 0.04949184513215043, 0.08248640855358405, 0.09898369026430086, 0.263956507371469, 0.9642140794205691, 0.9811340754227478, 0.8753175132503433, 0.0778060011778083, 0.04862875073613018, 0.9671790329786604, 0.9967165279811091, 0.9917300272368453, 0.8841698598087655, 0.9613789396088237, 0.9056566712608143, 0.9319811381768033, 0.9521814647693548, 0.9384062163297658, 0.9056566712608143, 0.31078284683509944, 0.6764097254646282, 0.25798681977690896, 0.18059077384383626, 0.5417723215315088, 0.920463188215997, 0.06946891986535826, 0.8913994101653002, 0.531344150575184, 0.035422943371678936, 0.11807647790559646, 0.31880649034511044, 0.9637419535507509, 0.33500040541150855, 0.36371472587535214, 0.12442872200998889, 0.06700008108230171, 0.02871432046384359, 0.03828576061845812, 0.02871432046384359, 0.01914288030922906, 0.9896024411534008, 0.24978895495531167, 0.07836516233892131, 0.014693467938547745, 0.2399933096629465, 0.07836516233892131, 0.02938693587709549, 0.14693467938547744, 0.09795645292365164, 0.06856951704655614, 0.30295640591060896, 0.18177384354636536, 0.5049273431843483, 0.26671286553766665, 0.6858330828111427, 0.9127209291646208, 0.782364597661293, 0.20409511243338077, 0.9880016084319395, 0.22339730989061077, 0.7446576996353692, 0.9236941144104283, 0.9504333969530268, 0.9448904023923431, 0.7222735822765028, 0.26264493900963737, 0.9553372195228393, 0.9054142290067035, 0.4755285732860164, 0.08391680705047348, 0.41958403525236737, 0.9690331506535375, 0.19695903303287654, 0.703425117974559, 0.05627400943796472, 0.05627400943796472, 0.9258779172542703, 0.9847949571031455, 0.9698947246352569, 0.9252489834438075, 0.9715503552424787, 0.9614607259098583, 0.9212440302767875, 0.2653602661687379, 0.0315905078772307, 0.16427064096159966, 0.15163443781070737, 0.3285412819231993, 0.0631810157544614, 0.13060347366505362, 0.2985222255201226, 0.382481601447657, 0.02798645864251149, 0.1492611127600613, 0.9479601098307897, 0.08313433517419583, 0.7482090165677625, 0.14964180331355248, 0.9784928351981272, 0.9222726060579657, 0.5488108249674798, 0.05177460612900752, 0.05177460612900752, 0.12425905470961805, 0.07248444858061054, 0.15532381838702256, 0.98056248226362, 0.5777220632648609, 0.1780401327042653, 0.0508686093440758, 0.10900416288016242, 0.08356985820812453, 0.9833852497283814, 0.950086824521482, 0.9551134250846929, 0.975225264675424, 0.9874946780576969, 0.9760804450317979, 0.9746881591751544, 0.10861045090887625, 0.054305225454438125, 0.8326801236347179, 0.934010799511651, 0.9735422141242847, 0.977838675745978, 0.955379313933014, 0.9702377869898986, 0.9744843935931649, 0.9902083659540989, 0.9250607835169491, 0.9849416644583264, 0.9358601526250458, 0.9341844024533018, 0.9459880219700575, 0.9257614382312694, 0.3406639760809737, 0.6517049977201237, 0.9648231557047334, 0.9804887137046796, 0.8831447210583676, 0.9888889702543369, 0.9766997128087813, 0.061425883966610466, 0.0762528214757923, 0.10167042863438973, 0.08896162505509102, 0.15674191081135083, 0.1736869822504158, 0.025417607158597432, 0.05295334824707799, 0.1525056429515846, 0.1080248304240391, 0.041540143535679724, 0.747722583642235, 0.1661605741427189, 0.963463709377357, 0.17055503949143072, 0.8101364375842959, 0.9128123460567682, 0.9497744782682283, 0.32207057099770475, 0.17342261515261023, 0.2642630326135013, 0.19819727446012597, 0.033032879076687664, 0.9340828385904283, 0.9491472545181828, 0.08949209623615989, 0.8949209623615988, 0.9553450607452985, 0.9734455495121076, 0.92334493707126, 0.06999151635280873, 0.3577344169143557, 0.30718498843732717, 0.16720195573170973, 0.019442087875780202, 0.007776835150312081, 0.06999151635280873, 0.9738111556154008, 0.9900818552891381, 0.9825386828626319, 0.9324482822899295, 0.9652906202773781, 0.9133248773579831, 0.0878196997459599, 0.9570442698537552, 0.23214265254679523, 0.7544636207770845, 0.9483129115033645, 0.972595182330909, 0.9644640886355341, 0.11939609973703667, 0.8357726981592567, 0.9507615453895083, 0.9589876372709567, 0.9650093323628751, 0.9810642301785328, 0.11458614848878575, 0.28646537122196436, 0.2979239860708429, 0.09166891879102859, 0.19479645243093577, 0.9837089581815782, 0.9692865277513315, 0.9443057070542545, 0.9688916316664796, 0.9786393847430109, 0.24838324597787304, 0.2815010121082561, 0.04967664919557461, 0.4139720766297884, 0.9791552413674408, 0.8779948549110526, 0.10974935686388157, 0.9631000728615051, 0.030096877276922035, 0.914904472565368, 0.07624203938044732, 0.929401851412816, 0.9722864077901172, 0.9740814677605382, 0.951719558202503, 0.945793480999009, 0.8352674927313397, 0.14526391177936343, 0.9640010415230172, 0.9182239235804361, 0.05246993849031064, 0.8991084226027878, 0.07492570188356565, 0.9786005222120612, 0.10703383148980992, 0.7492368204286695, 0.07135588765987329, 0.07135588765987329, 0.8991082198981876, 0.9399462798919682, 0.031331542663065606, 0.1485072422325037, 0.5742280032990142, 0.07920386252400197, 0.029701448446500738, 0.06930337970850173, 0.09900482815500246, 0.936376455207517, 0.2129403593876212, 0.2981165031426697, 0.36504061609306493, 0.018252030804653246, 0.04867208214574199, 0.05475609241395974, 0.8887795592660083, 0.9093508377634199, 0.08023683862618411, 0.5954059186489107, 0.16238343235879382, 0.16238343235879382, 0.07217041438168614, 0.3997525496568105, 0.227382184208461, 0.08068400084816359, 0.03300709125606692, 0.06234672792812641, 0.10635618293621563, 0.018337272920037177, 0.04767690959209666, 0.018337272920037177, 0.9577450526146357, 0.2419313431364898, 0.15932064060207865, 0.15932064060207865, 0.10031299593464212, 0.17112216953556597, 0.011801528933487307, 0.1298168182683604, 0.023603057866974614, 0.9292417261102498, 0.9378390271253088, 0.1585409060007829, 0.24713729464827927, 0.027977806941314635, 0.06994451735328658, 0.12123716341236342, 0.25646323029538415, 0.023314839117762196, 0.08393342082394391, 0.009325935647104877, 0.9235035890667769, 0.9712630613675248, 0.19114188836247778, 0.5574971743905602, 0.1592849069687315, 0.09557094418123889, 0.9272247164605958, 0.7978652511086772, 0.12274850017056572, 0.9591641265626899, 0.9323089616426616, 0.06518745630286421, 0.9126243882400991, 0.22939181710973247, 0.7264074208474861, 0.9768502338248974, 0.113486546295329, 0.8511490972149676, 0.21351153458960265, 0.09341129638295116, 0.13344470911850165, 0.1201002382066515, 0.06005011910332575, 0.2735616536929284, 0.10008353183887625, 0.9139702755952392, 0.14497864665370325, 0.7973825565953678, 0.9622898108629263, 0.8314517533944911, 0.11877882191349873, 0.023755764382699746, 0.9396203175782789, 0.12277028683894091, 0.8593920078725864, 0.9438991197630778, 0.9809358413650449, 0.9392671494040028, 0.9731996464644659, 0.9881741631150639, 0.9488436948883836, 0.4444453202940058, 0.5045054987121147, 0.04804814273448711, 0.9409506145711651, 0.9432685232427235, 0.052770267034557956, 0.203365156599369, 0.3954322489432175, 0.022596128511040998, 0.24855741362145098, 0.12427870681072549, 0.958544558969073, 0.9505140916919343, 0.23514505673497343, 0.10077645288641719, 0.42550057885376147, 0.10077645288641719, 0.06718430192427813, 0.02239476730809271, 0.04478953461618542, 0.9818230963737632, 0.9163111659867694, 0.9306981217396006, 0.15930965940435643, 0.7965482970217821, 0.8606641008157381, 0.12295201440224829, 0.1152038656453806, 0.6221008744850552, 0.25344850441983735, 0.9370908582716726, 0.1631085660741922, 0.6524342642967688, 0.1631085660741922, 0.20779062285701996, 0.06611519818177908, 0.10389531142850998, 0.42502627402572263, 0.1133403397401927, 0.08500525480514452, 0.031860156799150094, 0.6796833450485353, 0.28674141119235086, 0.8841698598087655, 0.9801693466865348, 0.8693137004581657, 0.5403592047887334, 0.2787115898383994, 0.04550393303484071, 0.13651179910452213, 0.9781730917812788, 0.9766101680331, 0.9656163799303669], \"Term\": [\"097\", \"1000\", \"1000\", \"18\", \"18\", \"18\", \"18\", \"2\", \"2\", \"2\", \"2\", \"2017\", \"2017\", \"2017\", \"2017\", \"2018\", \"2018\", \"2018\", \"2018\", \"21\", \"3\", \"3\", \"3\", \"3\", \"35\", \"4\", \"4\", \"5\", \"5\", \"5\", \"5\", \"50\", \"6am\", \"747\", \"747\", \"85\", \"9771\", \"EMOJI_11\", \"EMOJI_16\", \"EMOJI_17\", \"EMOJI_17\", \"EMOJI_224\", \"EMOJI_3\", \"EMOJI_3\", \"EMOJI_35\", \"EMOJI_38\", \"EMOJI_4\", \"EMOJI_4\", \"EMOJI_4\", \"EMOJI_45\", \"EMOJI_5\", \"EMOJI_53\", \"EMOJI_7\", \"a350\", \"abakaliki\", \"abia\", \"adamawa\", \"advisor\", \"agent\", \"agent\", \"air\", \"air\", \"airbus\", \"airbus\", \"airfare\", \"airline\", \"airline\", \"airline\", \"airline\", \"airline\", \"airline\", \"airline\", \"airline\", \"airport\", \"airport\", \"airport\", \"airport\", \"airport\", \"airport\", \"airport\", \"akwaibom\", \"alternative\", \"america\", \"american\", \"american\", \"american\", \"american\", \"american\", \"american\", \"american\", \"amex\", \"analyst\", \"anambra\", \"announced\", \"apply\", \"arizona\", \"arrived\", \"asap\", \"asset\", \"assistance\", \"atl\", \"atlanta\", \"atlanta\", \"atlanta\", \"atlanta\", \"attendant\", \"attendant\", \"attendant\", \"attendant\", \"attendant\", \"automotive\", \"avgeek\", \"avgeek\", \"avgeek\", \"avgeek\", \"avgeek\", \"avgeek\", \"away\", \"away\", \"away\", \"b737\", \"b747\", \"badservice\", \"bag\", \"bag\", \"bag\", \"bathroom\", \"bathroom\", \"bauchi\", \"beach\", \"bear\", \"beautiful\", \"beautiful\", \"beautiful\", \"beautiful\", \"behavior\", \"believe\", \"belleli\", \"benue\", \"best\", \"best\", \"best\", \"best\", \"better\", \"better\", \"better\", \"better\", \"bird\", \"bird\", \"bjp\", \"blizzard2018\", \"blizzard2018\", \"blockchain\", \"blockfolio\", \"blockfolio\", \"blue\", \"board\", \"board\", \"board\", \"board\", \"boeing\", \"boeing\", \"boeing\", \"boeing\", \"boneyard\", \"bonus\", \"book\", \"book\", \"boosted\", \"boot\", \"borno\", \"boston\", \"boston\", \"boston\", \"btc\", \"business\", \"business\", \"business\", \"business\", \"business\", \"business\", \"busy\", \"buy\", \"buy\", \"bz\", \"called\", \"called\", \"camera\", \"cancelled\", \"cancelled\", \"cancelled\", \"cancelled\", \"capital\", \"card\", \"card\", \"card\", \"care\", \"care\", \"case\", \"case\", \"category\", \"change\", \"change\", \"change\", \"change\", \"charged\", \"check\", \"check\", \"cheer\", \"chicago\", \"chicago\", \"chicago\", \"chicago\", \"chicago\", \"china\", \"chris\", \"closed\", \"coast\", \"coast\", \"cockpit\", \"cold\", \"comfort\", \"connection\", \"connection\", \"connection\", \"contact\", \"contact\", \"convert\", \"corporate\", \"crew\", \"crew\", \"crew\", \"crew\", \"crew\", \"crossriver\", \"crypto\", \"custom\", \"customer\", \"customer\", \"customer\", \"customerservice\", \"customerservice\", \"cut\", \"cut\", \"daily\", \"dal\", \"dallas\", \"dallas\", \"day\", \"day\", \"day\", \"day\", \"day\", \"declined\", \"del\", \"delay\", \"delay\", \"delay\", \"delayed\", \"delayed\", \"delayed\", \"delta\", \"delta\", \"deltasucks\", \"denver\", \"desk\", \"desk\", \"detroit\", \"diamond\", \"did\", \"did\", \"did\", \"did\", \"didnt\", \"didnt\", \"didn\\u2019t\", \"didn\\u2019t\", \"discrimination\", \"dispatch\", \"district\", \"dont\", \"dont\", \"dont\", \"don\\u2019t\", \"don\\u2019t\", \"don\\u2019t\", \"don\\u2019t\", \"don\\u2019t\", \"don\\u2019t\", \"eastboston\", \"ebonyi\", \"economy\", \"efficient\", \"ekiti\", \"employee\", \"employee\", \"employee\", \"employee\", \"engineer\", \"entertainment\", \"enugu\", \"eps\", \"expected\", \"experience\", \"experience\", \"experience\", \"experience\", \"experience\", \"expert\", \"explanation\", \"fact\", \"faeces\", \"favorite\", \"featuring\", \"filed\", \"final\", \"final\", \"final\", \"final\", \"finally\", \"finally\", \"fine\", \"fll\", \"fly\", \"fly\", \"fly\", \"fly\", \"fly\", \"fly\", \"flying\", \"flying\", \"flying\", \"flying\", \"flying\", \"flying\", \"flying\", \"force\", \"force\", \"fort\", \"frustrating\", \"fuck\", \"fuel\", \"fulltime\", \"fund\", \"gate\", \"gate\", \"gate\", \"gate\", \"gate\", \"gazette\", \"gazette\", \"gift\", \"going\", \"going\", \"going\", \"going\", \"gombe\", \"good\", \"good\", \"good\", \"good\", \"got\", \"got\", \"got\", \"got\", \"govt\", \"grand\", \"grayson\", \"great\", \"great\", \"great\", \"great\", \"great\", \"great\", \"group\", \"guitar\", \"happening\", \"happy\", \"happy\", \"happy\", \"happy\", \"happy\", \"happynewyear\", \"health\", \"hear\", \"heard\", \"help\", \"help\", \"help\", \"help\", \"herald\", \"herald\", \"hf\", \"hiring\", \"history\", \"hodl\", \"hold\", \"hold\", \"hold\", \"hold\", \"holder\", \"holding\", \"home\", \"home\", \"home\", \"home\", \"home\", \"home\", \"home\", \"hope\", \"hope\", \"horrible\", \"horrible\", \"hotel\", \"hotel\", \"hotel\", \"hotel\", \"hotel\", \"hour\", \"hour\", \"hour\", \"hour\", \"hr\", \"hr\", \"http\", \"ice\", \"imprimermonlivre\", \"increase\", \"increased\", \"index\", \"insider\", \"integrale\", \"investment\", \"investor\", \"israel\", \"israeli\", \"it\\u2019s\", \"it\\u2019s\", \"it\\u2019s\", \"it\\u2019s\", \"it\\u2019s\", \"it\\u2019s\", \"jan\", \"jan\", \"jew\", \"jewish\", \"jfk\", \"jfk\", \"jfk\", \"jigawa\", \"job\", \"join\", \"just\", \"just\", \"just\", \"just\", \"just\", \"just\", \"just\", \"just\", \"k\", \"kaduna\", \"kano\", \"kansascity\", \"katsina\", \"kebbi\", \"key\", \"know\", \"know\", \"know\", \"know\", \"know\", \"know\", \"kwara\", \"ladner\", \"lagos\", \"lancia\", \"land\", \"land\", \"land\", \"large\", \"late\", \"late\", \"later\", \"latest\", \"latest\", \"latest\", \"leader\", \"ledger\", \"lga\", \"lifestyle\", \"lifted\", \"like\", \"like\", \"like\", \"like\", \"like\", \"lincolnian\", \"line\", \"llc\", \"lol\", \"looking\", \"looking\", \"losangeles\", \"losangeles\", \"lose\", \"lose\", \"lost\", \"lost\", \"lost\", \"lost\", \"lounge\", \"love\", \"love\", \"love\", \"love\", \"love\", \"love\", \"lowered\", \"lp\", \"luggage\", \"luggage\", \"luggage\", \"managed\", \"management\", \"manager\", \"manuel\", \"market\", \"marries\", \"marriott\", \"medium\", \"mess\", \"midair\", \"mile\", \"mile\", \"million\", \"million\", \"million\", \"min\", \"min\", \"minneapolis\", \"minute\", \"minute\", \"minute\", \"minute\", \"nashville\", \"need\", \"need\", \"need\", \"need\", \"need\", \"need\", \"need\", \"need\", \"needed\", \"new\", \"new\", \"new\", \"new\", \"new\", \"new\", \"new\", \"new\", \"new\", \"news\", \"news\", \"news\", \"nice\", \"nice\", \"nonstop\", \"nysedal\", \"nysedal\", \"oakland\", \"offer\", \"offer\", \"offering\", \"office\", \"officer\", \"oh\", \"oh\", \"oil\", \"one\", \"online\", \"online\", \"online\", \"opening\", \"operation\", \"operation\", \"operation\", \"operation\", \"original\", \"orlando\", \"owl\", \"page\", \"partner\", \"parttime\", \"party\", \"passenger\", \"passenger\", \"passenger\", \"passenger\", \"passenger\", \"passenger\", \"people\", \"people\", \"people\", \"people\", \"people\", \"performance\", \"phone\", \"phone\", \"phone\", \"photo\", \"pick\", \"pilot\", \"pilot\", \"pilot\", \"pilot\", \"pilot\", \"pilot\", \"place\", \"plane\", \"plane\", \"plane\", \"plane\", \"plane\", \"plateau\", \"police\", \"policy\", \"poll\", \"position\", \"post\", \"press\", \"price\", \"price\", \"price\", \"project\", \"prompt\", \"qanon\", \"queen\", \"quick\", \"raised\", \"ramp\", \"rating\", \"real\", \"register\", \"reply\", \"rescheduled\", \"resolution\", \"return\", \"return\", \"review\", \"ride\", \"ring\", \"river\", \"rock\", \"rt\", \"rt\", \"rt\", \"rt\", \"rt\", \"rt\", \"rt\", \"rt\", \"rt\", \"rt\", \"rude\", \"rude\", \"rude\", \"safe\", \"sale\", \"sale\", \"sandiego\", \"sanjose\", \"seat\", \"seat\", \"seat\", \"seat\", \"seat\", \"seattle\", \"security\", \"sell\", \"sell\", \"selling\", \"sends\", \"senior\", \"service\", \"service\", \"service\", \"service\", \"service\", \"service\", \"service\", \"shanghai\", \"share\", \"shareholder\", \"shield\", \"shout\", \"sitting\", \"sitting\", \"size\", \"skymiles\", \"skymiles\", \"slc\", \"small\", \"snack\", \"snow\", \"snow\", \"software\", \"sokoto\", \"somewhat\", \"south\", \"southwest\", \"southwest\", \"southwest\", \"southwest\", \"southwest\", \"space\", \"specialist\", \"spent\", \"sr\", \"stake\", \"start\", \"start\", \"start\", \"start\", \"state\", \"stock\", \"stock\", \"stuck\", \"stuck\", \"suck\", \"suck\", \"sue\", \"suitcase\", \"supposed\", \"surprise\", \"surreybc\", \"talk\", \"talk\", \"target\", \"tarmac\", \"tarmac\", \"tax\", \"tax\", \"taxreform\", \"team\", \"team\", \"team\", \"team\", \"tech\", \"terrible\", \"terrible\", \"thank\", \"thank\", \"thank\", \"thank\", \"thank\", \"thank\", \"thankful\", \"thanks\", \"thanks\", \"thanks\", \"thanks\", \"thanks\", \"thanks\", \"they\\u2019re\", \"thing\", \"thing\", \"ticket\", \"ticket\", \"ticket\", \"ticket\", \"time\", \"time\", \"time\", \"time\", \"time\", \"time\", \"time\", \"time\", \"time\", \"tip\", \"today\", \"today\", \"today\", \"today\", \"today\", \"today\", \"today\", \"today\", \"tourism\", \"trapped\", \"travel\", \"travel\", \"travel\", \"travel\", \"travel\", \"travel\", \"travel\", \"travel\", \"travel\", \"tribunal\", \"trimmed\", \"trip\", \"trip\", \"trip\", \"trip\", \"trust\", \"trx\", \"trx\", \"tsa\", \"tshirt\", \"turn\", \"turn\", \"tweet\", \"tweet\", \"twice\", \"understand\", \"understand\", \"united\", \"united\", \"united\", \"united\", \"united\", \"united\", \"united\", \"upcoming\", \"upgraded\", \"upgraded\", \"upped\", \"vacation\", \"vacation\", \"vacation\", \"valuation\", \"value\", \"value\", \"vice\", \"video\", \"virgin\", \"visit\", \"voucher\", \"vow\", \"wait\", \"wait\", \"wait\", \"waited\", \"waiting\", \"waiting\", \"want\", \"want\", \"want\", \"want\", \"want\", \"wanted\", \"watch\", \"way\", \"way\", \"way\", \"way\", \"way\", \"way\", \"way\", \"weekly\", \"welcome\", \"what\\u2019s\", \"white\", \"white\", \"wifi\", \"wifi\", \"winter\", \"winter\", \"winter\", \"wonderful\", \"won\\u2019t\", \"won\\u2019t\", \"won\\u2019t\", \"work\", \"work\", \"work\", \"work\", \"work\", \"work\", \"worst\", \"worst\", \"worst\", \"www\", \"xrp\", \"xvg\", \"year\", \"year\", \"year\", \"year\", \"yobe\", \"zamfara\", \"\\u2022\"]}, \"R\": 30, \"lambda.step\": 0.01, \"plot.opts\": {\"xlab\": \"PC1\", \"ylab\": \"PC2\"}, \"topic.order\": [3, 1, 7, 6, 4, 2, 8, 9, 5, 10]};\n",
       "\n",
       "function LDAvis_load_lib(url, callback){\n",
       "  var s = document.createElement('script');\n",
       "  s.src = url;\n",
       "  s.async = true;\n",
       "  s.onreadystatechange = s.onload = callback;\n",
       "  s.onerror = function(){console.warn(\"failed to load library \" + url);};\n",
       "  document.getElementsByTagName(\"head\")[0].appendChild(s);\n",
       "}\n",
       "\n",
       "if(typeof(LDAvis) !== \"undefined\"){\n",
       "   // already loaded: just create the visualization\n",
       "   !function(LDAvis){\n",
       "       new LDAvis(\"#\" + \"ldavis_el12851400725681496009731871655\", ldavis_el12851400725681496009731871655_data);\n",
       "   }(LDAvis);\n",
       "}else if(typeof define === \"function\" && define.amd){\n",
       "   // require.js is available: use it to load d3/LDAvis\n",
       "   require.config({paths: {d3: \"https://cdnjs.cloudflare.com/ajax/libs/d3/3.5.5/d3.min\"}});\n",
       "   require([\"d3\"], function(d3){\n",
       "      window.d3 = d3;\n",
       "      LDAvis_load_lib(\"https://cdn.rawgit.com/bmabey/pyLDAvis/files/ldavis.v1.0.0.js\", function(){\n",
       "        new LDAvis(\"#\" + \"ldavis_el12851400725681496009731871655\", ldavis_el12851400725681496009731871655_data);\n",
       "      });\n",
       "    });\n",
       "}else{\n",
       "    // require.js not available: dynamically load d3 & LDAvis\n",
       "    LDAvis_load_lib(\"https://cdnjs.cloudflare.com/ajax/libs/d3/3.5.5/d3.min.js\", function(){\n",
       "         LDAvis_load_lib(\"https://cdn.rawgit.com/bmabey/pyLDAvis/files/ldavis.v1.0.0.js\", function(){\n",
       "                 new LDAvis(\"#\" + \"ldavis_el12851400725681496009731871655\", ldavis_el12851400725681496009731871655_data);\n",
       "            })\n",
       "         });\n",
       "}\n",
       "</script>"
      ],
      "text/plain": [
       "PreparedData(topic_coordinates=            Freq  cluster  topics         x         y\n",
       "topic                                                \n",
       "2      18.558475        1       1  0.204202 -0.069344\n",
       "0      14.009170        1       2  0.157609 -0.044664\n",
       "6      11.208936        1       3  0.138260 -0.034513\n",
       "5       9.500591        1       4 -0.012459  0.110501\n",
       "3       8.621503        1       5  0.051851 -0.001509\n",
       "1       8.563424        1       6  0.025468  0.035780\n",
       "7       8.079703        1       7 -0.238364 -0.245675\n",
       "8       7.676626        1       8 -0.163918  0.185290\n",
       "4       7.032352        1       9 -0.046994  0.083672\n",
       "9       6.749221        1      10 -0.115656 -0.019538, topic_info=      Category        Freq              Term       Total  loglift  logprob\n",
       "term                                                                      \n",
       "420    Default  339.000000              line  339.000000  30.0000  30.0000\n",
       "1746   Default  337.000000               air  337.000000  29.0000  29.0000\n",
       "1519   Default  315.000000               job  315.000000  28.0000  28.0000\n",
       "6207   Default  228.000000               dal  228.000000  27.0000  27.0000\n",
       "241    Default  200.000000             agent  200.000000  26.0000  26.0000\n",
       "5760   Default  153.000000             apply  153.000000  25.0000  25.0000\n",
       "212    Default  415.000000              hour  415.000000  24.0000  24.0000\n",
       "34     Default  279.000000          customer  279.000000  23.0000  23.0000\n",
       "842    Default  109.000000              ramp  109.000000  22.0000  22.0000\n",
       "287    Default  192.000000           delayed  192.000000  21.0000  21.0000\n",
       "335    Default   89.000000        management   89.000000  20.0000  20.0000\n",
       "427    Default  151.000000           waiting  151.000000  19.0000  19.0000\n",
       "8059   Default   81.000000             lagos   81.000000  18.0000  18.0000\n",
       "8110   Default   80.000000               del   80.000000  17.0000  17.0000\n",
       "31     Default  176.000000               bag  176.000000  16.0000  16.0000\n",
       "244    Default  196.000000             delay  196.000000  15.0000  15.0000\n",
       "8050   Default   77.000000           anambra   77.000000  14.0000  14.0000\n",
       "8049   Default   76.000000           adamawa   76.000000  13.0000  13.0000\n",
       "8052   Default   76.000000             borno   76.000000  12.0000  12.0000\n",
       "2308   Default   71.000000             share   71.000000  11.0000  11.0000\n",
       "720    Default  119.000000             check  119.000000  10.0000  10.0000\n",
       "58     Default  175.000000              year  175.000000   9.0000   9.0000\n",
       "2456   Default   73.000000             bonus   73.000000   8.0000   8.0000\n",
       "115    Default  275.000000             plane  275.000000   7.0000   7.0000\n",
       "8182   Default   65.000000           plateau   65.000000   6.0000   6.0000\n",
       "130    Default  257.000000           service  257.000000   5.0000   5.0000\n",
       "39     Default  472.000000                rt  472.000000   4.0000   4.0000\n",
       "1910   Default  176.000000               jfk  176.000000   3.0000   3.0000\n",
       "480    Default  138.000000              help  138.000000   2.0000   2.0000\n",
       "19     Default  417.000000           airline  417.000000   1.0000   1.0000\n",
       "...        ...         ...               ...         ...      ...      ...\n",
       "525    Topic10    9.524749          shanghai   10.268931   2.6205  -6.0639\n",
       "8674   Topic10    9.464080           insider   10.208258   2.6200  -6.0703\n",
       "1070   Topic10    8.879485         featuring    9.623639   2.6153  -6.1340\n",
       "3472   Topic10    8.700698             grand    9.444881   2.6137  -6.1544\n",
       "2675   Topic10    8.676466           selling    9.420680   2.6135  -6.1572\n",
       "11505  Topic10    8.303881               www    9.048035   2.6099  -6.2011\n",
       "11504  Topic10    8.303881            manuel    9.048035   2.6099  -6.2011\n",
       "11503  Topic10    8.303881             index    9.048035   2.6099  -6.2011\n",
       "11502  Topic10    8.303881  imprimermonlivre    9.048035   2.6099  -6.2011\n",
       "11500  Topic10    8.303881           belleli    9.048035   2.6099  -6.2011\n",
       "296    Topic10   46.078894             price   55.243303   2.5144  -4.4874\n",
       "8673   Topic10   20.418137           gazette   24.126324   2.5289  -5.3014\n",
       "2238   Topic10   11.813562              case   13.312538   2.5763  -5.8485\n",
       "2966   Topic10   19.410815               buy   23.850705   2.4898  -5.3520\n",
       "56     Topic10   14.809237        understand   17.623234   2.5218  -5.6225\n",
       "1194   Topic10   36.982278              mile   54.700574   2.3043  -4.7074\n",
       "53     Topic10   42.152141           million   77.523340   2.0864  -4.5765\n",
       "138    Topic10   22.403920               jan   33.567068   2.2914  -5.2086\n",
       "1645   Topic10   21.053829              card   32.421028   2.2640  -5.2707\n",
       "776    Topic10   24.733966              news   49.512074   2.0017  -5.1096\n",
       "7841   Topic10   12.670803          skymiles   17.230784   2.3883  -5.7785\n",
       "39     Topic10   51.013194                rt  472.113678   0.4706  -4.3857\n",
       "359    Topic10   22.352670             hotel   70.643565   1.5450  -5.2108\n",
       "2121   Topic10   12.161888          EMOJI_17   18.267466   2.2889  -5.8195\n",
       "19     Topic10   24.974220           airline  417.479388  -0.1206  -5.0999\n",
       "213    Topic10   18.006826              just  221.420003   0.1864  -5.4270\n",
       "130    Topic10   17.798081           service  257.174025   0.0251  -5.4387\n",
       "737    Topic10   15.923496              2018  125.782621   0.6290  -5.5500\n",
       "1746   Topic10   16.059310               air  337.436624  -0.3493  -5.5415\n",
       "168    Topic10   13.892276               new  204.172358   0.0081  -5.6865\n",
       "\n",
       "[563 rows x 6 columns], token_table=       Topic      Freq       Term\n",
       "term                             \n",
       "8365       7  0.972683        097\n",
       "2455       1  0.077247       1000\n",
       "2455       6  0.926962       1000\n",
       "757        4  0.091852         18\n",
       "757        6  0.688887         18\n",
       "757        8  0.091852         18\n",
       "757        9  0.091852         18\n",
       "511        1  0.447809          2\n",
       "511        2  0.423603          2\n",
       "511        5  0.114978          2\n",
       "511        8  0.006051          2\n",
       "819        2  0.232242       2017\n",
       "819        4  0.030966       2017\n",
       "819        6  0.603829       2017\n",
       "819        8  0.123862       2017\n",
       "737        2  0.190805       2018\n",
       "737        4  0.477013       2018\n",
       "737        8  0.198756       2018\n",
       "737       10  0.127204       2018\n",
       "3856       9  0.933359         21\n",
       "133        1  0.653098          3\n",
       "133        2  0.075358          3\n",
       "133        5  0.251192          3\n",
       "133        7  0.016746          3\n",
       "631        3  0.924595         35\n",
       "254        1  0.753561          4\n",
       "254        2  0.238628          4\n",
       "210        1  0.610420          5\n",
       "210        2  0.228907          5\n",
       "210        3  0.025434          5\n",
       "...      ...       ...        ...\n",
       "410        3  0.159310      white\n",
       "410        4  0.796548      white\n",
       "1830       6  0.860664       wifi\n",
       "1830       8  0.122952       wifi\n",
       "1974       5  0.115204     winter\n",
       "1974       6  0.622101     winter\n",
       "1974       9  0.253449     winter\n",
       "3849       3  0.937091  wonderful\n",
       "503        3  0.163109      won’t\n",
       "503        5  0.652434      won’t\n",
       "503        9  0.163109      won’t\n",
       "1130       1  0.207791       work\n",
       "1130       2  0.066115       work\n",
       "1130       3  0.103895       work\n",
       "1130       4  0.425026       work\n",
       "1130       6  0.113340       work\n",
       "1130       9  0.085005       work\n",
       "941        1  0.031860      worst\n",
       "941        2  0.679683      worst\n",
       "941        3  0.286741      worst\n",
       "11505     10  0.884170        www\n",
       "5032       5  0.980169        xrp\n",
       "5033       5  0.869314        xvg\n",
       "58         2  0.540359       year\n",
       "58         4  0.278712       year\n",
       "58         5  0.045504       year\n",
       "58         8  0.136512       year\n",
       "8065       8  0.978173       yobe\n",
       "8066       8  0.976610    zamfara\n",
       "1183       9  0.965616          •\n",
       "\n",
       "[896 rows x 3 columns], R=30, lambda_step=0.01, plot_opts={'xlab': 'PC1', 'ylab': 'PC2'}, topic_order=[3, 1, 7, 6, 4, 2, 8, 9, 5, 10])"
      ]
     },
     "execution_count": 28,
     "metadata": {},
     "output_type": "execute_result"
    }
   ],
   "source": [
    "vis_data = pyLDAvis.gensim.prepare(lda_model, doc_term_matrix, dictionary)\n",
    "vis_data"
   ]
  },
  {
   "cell_type": "code",
   "execution_count": 29,
   "metadata": {},
   "outputs": [
    {
     "data": {
      "text/plain": [
       "'data/images/LDA_analysis_NB5/'"
      ]
     },
     "execution_count": 29,
     "metadata": {},
     "output_type": "execute_result"
    }
   ],
   "source": [
    "img_out_dir"
   ]
  },
  {
   "cell_type": "code",
   "execution_count": 30,
   "metadata": {},
   "outputs": [],
   "source": [
    "pyLDAvis.save_html(vis_data,img_out_dir+'lda_vis_pulled_tweets_allclasses.html')"
   ]
  },
  {
   "cell_type": "code",
   "execution_count": null,
   "metadata": {},
   "outputs": [],
   "source": [
    "# credit: https://markroxor.github.io/gensim/static/notebooks/gensim_news_classification.html"
   ]
  },
  {
   "cell_type": "markdown",
   "metadata": {},
   "source": [
    "## Sklearn LDA"
   ]
  },
  {
   "cell_type": "code",
   "execution_count": 57,
   "metadata": {},
   "outputs": [],
   "source": [
    "filename = 'data/processed_dataset_df/pulledTweetsProcessedAndClassified_df'\n",
    "air_df = gu.read_pickle_obj(filename)"
   ]
  },
  {
   "cell_type": "code",
   "execution_count": 31,
   "metadata": {},
   "outputs": [
    {
     "data": {
      "text/plain": [
       "Index(['airline', 'date', 'text', 'Processed_tweet', 'emoji_enc_text',\n",
       "       'emojis', 'sentiment_predicted_nb', 'sentiment_predicted_lr'],\n",
       "      dtype='object')"
      ]
     },
     "execution_count": 31,
     "metadata": {},
     "output_type": "execute_result"
    }
   ],
   "source": [
    "air_df.columns"
   ]
  },
  {
   "cell_type": "code",
   "execution_count": 32,
   "metadata": {},
   "outputs": [],
   "source": [
    "def display_topics(model, feature_names, file2saveTopicPlot, no_words = 10, plot = False, plot_dim=(5,2)):\n",
    "    \n",
    "    topics_tokens = []\n",
    "    \n",
    "    for topic_idx, topic in enumerate(model.components_):\n",
    "\n",
    "        topic = zip(feature_names, topic)\n",
    "        topic = sorted(topic, key=lambda pair: pair[1])\n",
    "        \n",
    "        topic_words = [(token, counts)\n",
    "                       for token, counts in topic[:-no_words - 1:-1]]\n",
    "        \n",
    "        topics_tokens.append(topic_words)\n",
    "        \n",
    "        if not plot:\n",
    "            print (\"Topic %d:\" % (topic_idx))\n",
    "            print (topic_words)\n",
    "        \n",
    "    \n",
    "    if plot:\n",
    "        \n",
    "        plot_matrix = np.arange(10).reshape(5,2)\n",
    "    \n",
    "        fig, ax = plt.subplots(figsize=(10, 10), nrows=5, ncols=2)\n",
    "        \n",
    "        topics = [\n",
    "            {key: value for key, value in topic} \n",
    "                  for topic in topics_tokens\n",
    "        ]\n",
    "        \n",
    "        row = 0\n",
    "        \n",
    "        for topic_id, topic in enumerate(topics):\n",
    "            \n",
    "            column = (0 if topic_id % 2 == 0 else 1)\n",
    "                \n",
    "            chart = pd.DataFrame([topic]).iloc[0].sort_values(axis=0)\n",
    "            chart.plot(kind=\"barh\", title=\"Topic %d\" % topic_id, ax=ax[row, column])\n",
    "                \n",
    "            row += 1 if column == 1 else 0\n",
    "        \n",
    "        plt.tight_layout()\n",
    "        plt.savefig(file2saveTopicPlot)"
   ]
  },
  {
   "cell_type": "code",
   "execution_count": 34,
   "metadata": {},
   "outputs": [],
   "source": [
    "def LDA_diff_corpuses(cleaned_corpus, file2save_model, file2saveVectorizer, file2saveTopicPlot):\n",
    "    vectorizer = CountVectorizer(ngram_range=(1,2))\n",
    "    X = vectorizer.fit_transform(cleaned_corpus)\n",
    "\n",
    "    lda   = LatentDirichletAllocation(n_topics=10, learning_method=\"batch\", random_state=42)\n",
    "    model = lda.fit(X)  \n",
    "            \n",
    "    # save data.\n",
    "    gu.pickle_obj(file2save_model, model)\n",
    "    gu.pickle_obj(file2saveVectorizer, vectorizer)\n",
    "\n",
    "    display_topics(model, vectorizer.get_feature_names(), file2saveTopicPlot, no_words=10, plot=True)"
   ]
  },
  {
   "cell_type": "code",
   "execution_count": 36,
   "metadata": {},
   "outputs": [
    {
     "data": {
      "image/png": "[encoded data removed]",
      "text/plain": [
       "<matplotlib.figure.Figure at 0x7f65307d32b0>"
      ]
     },
     "metadata": {},
     "output_type": "display_data"
    }
   ],
   "source": [
    "# All classes corpus.\n",
    "file2save_model = data_out_dir+'LDASKL_model_pulledTweets_corpus.obj'\n",
    "file2saveVectorizer = data_out_dir+'CV_pulledTweets_corpus.obj'\n",
    "file2saveTopicPlot = img_out_dir+'TopicPlot_pulledTweets_corpus'\n",
    "LDA_diff_corpuses(air_df['emoji_enc_text'], file2save_model, file2saveVectorizer, file2saveTopicPlot)"
   ]
  },
  {
   "cell_type": "markdown",
   "metadata": {},
   "source": [
    "## Let's display topics by document (text, tweet...)"
   ]
  },
  {
   "cell_type": "code",
   "execution_count": 38,
   "metadata": {},
   "outputs": [],
   "source": [
    "# read in pickled models.\n",
    "lDA_model_allcl = gu.read_pickle_obj(data_out_dir+'LDASKL_model_all_classes_corpus.obj')\n",
    "vect_allcl = gu.read_pickle_obj(data_out_dir+'CV_pulledTweets_corpus.obj')\n",
    "\n",
    "# lDA_model_pos = gu.read_pickle_obj(data_out_dir+'LDASKL_model_positive_class_corpus.obj')\n",
    "# vect_pos = gu.read_pickle_obj(data_out_dir+'CV_positive_class_corpus.obj')\n",
    "\n",
    "# lDA_model_neg = gu.read_pickle_obj(data_out_dir+'LDASKL_model_negative_class_corpus.obj')\n",
    "# vect_neg = gu.read_pickle_obj(data_out_dir+'CV_negative_class_corpus.obj')\n",
    "\n",
    "# lDA_model_net = gu.read_pickle_obj(data_out_dir+'LDASKL_model_neutral_class_corpus.obj')\n",
    "# vect_neut = gu.read_pickle_obj(data_out_dir+'CV_neutral_class_corpus.obj')"
   ]
  },
  {
   "cell_type": "code",
   "execution_count": 102,
   "metadata": {},
   "outputs": [],
   "source": [
    "# all classes data."
   ]
  },
  {
   "cell_type": "code",
   "execution_count": null,
   "metadata": {},
   "outputs": [],
   "source": [
    "### Need to look into the following code."
   ]
  },
  {
   "cell_type": "code",
   "execution_count": null,
   "metadata": {},
   "outputs": [],
   "source": [
    "cleaned_corpus = air_df['emoji_enc_text']\n",
    "dtm = vect_allcl.transform(cleaned_corpus)\n",
    "comp = lDA_model_allcl.transform(dtm)"
   ]
  },
  {
   "cell_type": "code",
   "execution_count": 123,
   "metadata": {},
   "outputs": [
    {
     "data": {
      "text/html": [
       "<div>\n",
       "<table border=\"1\" class=\"dataframe\">\n",
       "  <thead>\n",
       "    <tr style=\"text-align: right;\">\n",
       "      <th></th>\n",
       "      <th>topic 0</th>\n",
       "      <th>topic 1</th>\n",
       "      <th>topic 2</th>\n",
       "      <th>topic 3</th>\n",
       "      <th>topic 4</th>\n",
       "      <th>topic 5</th>\n",
       "      <th>topic 6</th>\n",
       "      <th>topic 7</th>\n",
       "      <th>topic 8</th>\n",
       "      <th>topic 9</th>\n",
       "    </tr>\n",
       "  </thead>\n",
       "  <tbody>\n",
       "    <tr>\n",
       "      <th>0</th>\n",
       "      <td>0.050006</td>\n",
       "      <td>0.050009</td>\n",
       "      <td>0.050009</td>\n",
       "      <td>0.050012</td>\n",
       "      <td>0.050006</td>\n",
       "      <td>0.549939</td>\n",
       "      <td>0.050008</td>\n",
       "      <td>0.050004</td>\n",
       "      <td>0.050003</td>\n",
       "      <td>0.050004</td>\n",
       "    </tr>\n",
       "    <tr>\n",
       "      <th>1</th>\n",
       "      <td>0.005001</td>\n",
       "      <td>0.005000</td>\n",
       "      <td>0.954994</td>\n",
       "      <td>0.005001</td>\n",
       "      <td>0.005000</td>\n",
       "      <td>0.005001</td>\n",
       "      <td>0.005000</td>\n",
       "      <td>0.005000</td>\n",
       "      <td>0.005001</td>\n",
       "      <td>0.005001</td>\n",
       "    </tr>\n",
       "    <tr>\n",
       "      <th>2</th>\n",
       "      <td>0.012501</td>\n",
       "      <td>0.012501</td>\n",
       "      <td>0.012502</td>\n",
       "      <td>0.012501</td>\n",
       "      <td>0.012501</td>\n",
       "      <td>0.012502</td>\n",
       "      <td>0.887486</td>\n",
       "      <td>0.012502</td>\n",
       "      <td>0.012501</td>\n",
       "      <td>0.012502</td>\n",
       "    </tr>\n",
       "    <tr>\n",
       "      <th>3</th>\n",
       "      <td>0.003847</td>\n",
       "      <td>0.003847</td>\n",
       "      <td>0.965379</td>\n",
       "      <td>0.003847</td>\n",
       "      <td>0.003847</td>\n",
       "      <td>0.003847</td>\n",
       "      <td>0.003847</td>\n",
       "      <td>0.003847</td>\n",
       "      <td>0.003847</td>\n",
       "      <td>0.003847</td>\n",
       "    </tr>\n",
       "    <tr>\n",
       "      <th>4</th>\n",
       "      <td>0.008335</td>\n",
       "      <td>0.924987</td>\n",
       "      <td>0.008335</td>\n",
       "      <td>0.008335</td>\n",
       "      <td>0.008335</td>\n",
       "      <td>0.008335</td>\n",
       "      <td>0.008335</td>\n",
       "      <td>0.008334</td>\n",
       "      <td>0.008335</td>\n",
       "      <td>0.008334</td>\n",
       "    </tr>\n",
       "  </tbody>\n",
       "</table>\n",
       "</div>"
      ],
      "text/plain": [
       "    topic 0   topic 1   topic 2   topic 3   topic 4   topic 5   topic 6  \\\n",
       "0  0.050006  0.050009  0.050009  0.050012  0.050006  0.549939  0.050008   \n",
       "1  0.005001  0.005000  0.954994  0.005001  0.005000  0.005001  0.005000   \n",
       "2  0.012501  0.012501  0.012502  0.012501  0.012501  0.012502  0.887486   \n",
       "3  0.003847  0.003847  0.965379  0.003847  0.003847  0.003847  0.003847   \n",
       "4  0.008335  0.924987  0.008335  0.008335  0.008335  0.008335  0.008335   \n",
       "\n",
       "    topic 7   topic 8   topic 9  \n",
       "0  0.050004  0.050003  0.050004  \n",
       "1  0.005000  0.005001  0.005001  \n",
       "2  0.012502  0.012501  0.012502  \n",
       "3  0.003847  0.003847  0.003847  \n",
       "4  0.008334  0.008335  0.008334  "
      ]
     },
     "execution_count": 123,
     "metadata": {},
     "output_type": "execute_result"
    }
   ],
   "source": [
    "document_topics = pd.DataFrame(comp, columns=[\"topic %d\" % i for i in range(comp.shape[1])])\n",
    "document_topics.head(5)"
   ]
  },
  {
   "cell_type": "markdown",
   "metadata": {},
   "source": [
    "## Let's take a look at the highest rated topic 0 documents¶"
   ]
  },
  {
   "cell_type": "code",
   "execution_count": 119,
   "metadata": {},
   "outputs": [
    {
     "data": {
      "text/html": [
       "<div>\n",
       "<table border=\"1\" class=\"dataframe\">\n",
       "  <thead>\n",
       "    <tr style=\"text-align: right;\">\n",
       "      <th></th>\n",
       "      <th>topic 0</th>\n",
       "      <th>topic 1</th>\n",
       "      <th>topic 2</th>\n",
       "      <th>topic 3</th>\n",
       "      <th>topic 4</th>\n",
       "      <th>topic 5</th>\n",
       "      <th>topic 6</th>\n",
       "      <th>topic 7</th>\n",
       "      <th>topic 8</th>\n",
       "      <th>topic 9</th>\n",
       "    </tr>\n",
       "  </thead>\n",
       "  <tbody>\n",
       "    <tr>\n",
       "      <th>27</th>\n",
       "      <td>0.962496</td>\n",
       "      <td>0.004167</td>\n",
       "      <td>0.004167</td>\n",
       "      <td>0.004167</td>\n",
       "      <td>0.004167</td>\n",
       "      <td>0.004167</td>\n",
       "      <td>0.004167</td>\n",
       "      <td>0.004167</td>\n",
       "      <td>0.004167</td>\n",
       "      <td>0.004167</td>\n",
       "    </tr>\n",
       "    <tr>\n",
       "      <th>32</th>\n",
       "      <td>0.887479</td>\n",
       "      <td>0.012502</td>\n",
       "      <td>0.012503</td>\n",
       "      <td>0.012503</td>\n",
       "      <td>0.012502</td>\n",
       "      <td>0.012502</td>\n",
       "      <td>0.012502</td>\n",
       "      <td>0.012501</td>\n",
       "      <td>0.012503</td>\n",
       "      <td>0.012502</td>\n",
       "    </tr>\n",
       "    <tr>\n",
       "      <th>42</th>\n",
       "      <td>0.943745</td>\n",
       "      <td>0.006251</td>\n",
       "      <td>0.006251</td>\n",
       "      <td>0.006250</td>\n",
       "      <td>0.006250</td>\n",
       "      <td>0.006251</td>\n",
       "      <td>0.006251</td>\n",
       "      <td>0.006250</td>\n",
       "      <td>0.006251</td>\n",
       "      <td>0.006250</td>\n",
       "    </tr>\n",
       "    <tr>\n",
       "      <th>64</th>\n",
       "      <td>0.959085</td>\n",
       "      <td>0.004546</td>\n",
       "      <td>0.004546</td>\n",
       "      <td>0.004546</td>\n",
       "      <td>0.004546</td>\n",
       "      <td>0.004546</td>\n",
       "      <td>0.004547</td>\n",
       "      <td>0.004546</td>\n",
       "      <td>0.004546</td>\n",
       "      <td>0.004546</td>\n",
       "    </tr>\n",
       "    <tr>\n",
       "      <th>80</th>\n",
       "      <td>0.959086</td>\n",
       "      <td>0.004546</td>\n",
       "      <td>0.004546</td>\n",
       "      <td>0.004546</td>\n",
       "      <td>0.004546</td>\n",
       "      <td>0.004546</td>\n",
       "      <td>0.004546</td>\n",
       "      <td>0.004546</td>\n",
       "      <td>0.004546</td>\n",
       "      <td>0.004546</td>\n",
       "    </tr>\n",
       "  </tbody>\n",
       "</table>\n",
       "</div>"
      ],
      "text/plain": [
       "     topic 0   topic 1   topic 2   topic 3   topic 4   topic 5   topic 6  \\\n",
       "27  0.962496  0.004167  0.004167  0.004167  0.004167  0.004167  0.004167   \n",
       "32  0.887479  0.012502  0.012503  0.012503  0.012502  0.012502  0.012502   \n",
       "42  0.943745  0.006251  0.006251  0.006250  0.006250  0.006251  0.006251   \n",
       "64  0.959085  0.004546  0.004546  0.004546  0.004546  0.004546  0.004547   \n",
       "80  0.959086  0.004546  0.004546  0.004546  0.004546  0.004546  0.004546   \n",
       "\n",
       "     topic 7   topic 8   topic 9  \n",
       "27  0.004167  0.004167  0.004167  \n",
       "32  0.012501  0.012503  0.012502  \n",
       "42  0.006250  0.006251  0.006250  \n",
       "64  0.004546  0.004546  0.004546  \n",
       "80  0.004546  0.004546  0.004546  "
      ]
     },
     "execution_count": 119,
     "metadata": {},
     "output_type": "execute_result"
    }
   ],
   "source": [
    "top_topics = document_topics['topic 0'] > .8\n",
    "top_docs_topic_0 = document_topics[top_topics]\n",
    "top_docs_topic_0.head(5)"
   ]
  },
  {
   "cell_type": "code",
   "execution_count": 121,
   "metadata": {},
   "outputs": [
    {
     "data": {
      "text/plain": [
       "27     plz help win bid upgrade flight 227 laxgtsea e...\n",
       "32                                wish flew atlanta soon\n",
       "42     heyyyy guyyyys trying get hour someone call pl...\n",
       "64     website btw new website isnt great user experi...\n",
       "80     beautiful frontend design right cool still boo...\n",
       "93           another delayed flight likingyoulessandless\n",
       "118    normal receive reply central baggage baggageis...\n",
       "120                             jump dallasaustin market\n",
       "123             begin dallasaustin flight april 889 ketr\n",
       "124    congrats got business ewr sfolax fuck fl1289 s...\n",
       "Name: lemma_stopw_clean_text, dtype: object"
      ]
     },
     "execution_count": 121,
     "metadata": {},
     "output_type": "execute_result"
    }
   ],
   "source": [
    "cleaned_corpus[top_docs_topic_0.index.values[:10]]"
   ]
  },
  {
   "cell_type": "markdown",
   "metadata": {},
   "source": [
    "## Let's check out the documents within the source content¶"
   ]
  },
  {
   "cell_type": "code",
   "execution_count": 124,
   "metadata": {},
   "outputs": [
    {
     "data": {
      "text/plain": [
       "27     plz help win bid upgrade flight 227 laxgtsea e...\n",
       "32                                wish flew atlanta soon\n",
       "42     heyyyy guyyyys trying get hour someone call pl...\n",
       "64     website btw new website isnt great user experi...\n",
       "80     beautiful frontend design right cool still boo...\n",
       "93           another delayed flight likingyoulessandless\n",
       "118    normal receive reply central baggage baggageis...\n",
       "120                             jump dallasaustin market\n",
       "123             begin dallasaustin flight april 889 ketr\n",
       "124    congrats got business ewr sfolax fuck fl1289 s...\n",
       "Name: lemma_stopw_clean_text, dtype: object"
      ]
     },
     "execution_count": 124,
     "metadata": {},
     "output_type": "execute_result"
    }
   ],
   "source": [
    "top_documents = top_docs_topic_0.index.values\n",
    "cleaned_corpus[top_documents].head(10)"
   ]
  },
  {
   "cell_type": "code",
   "execution_count": null,
   "metadata": {},
   "outputs": [],
   "source": [
    "# Note: In sklearn we get pseudocounts. In Gensim, we get probabilities."
   ]
  },
  {
   "cell_type": "code",
   "execution_count": null,
   "metadata": {},
   "outputs": [],
   "source": [
    "# Credits: Dave's LDA lesson."
   ]
  },
  {
   "cell_type": "code",
   "execution_count": null,
   "metadata": {},
   "outputs": [],
   "source": [
    "# I can cotinue to look into this and study it with unclassified data.\n",
    "# pull tweets, use unsupervised learning method LDA, to identify topics within the corpus of tweets."
   ]
  }
 ],
 "metadata": {
  "kernelspec": {
   "display_name": "Python 3",
   "language": "python",
   "name": "python3"
  },
  "language_info": {
   "codemirror_mode": {
    "name": "ipython",
    "version": 3
   },
   "file_extension": ".py",
   "mimetype": "text/x-python",
   "name": "python",
   "nbconvert_exporter": "python",
   "pygments_lexer": "ipython3",
   "version": "3.6.2"
  }
 },
 "nbformat": 4,
 "nbformat_minor": 2
}
