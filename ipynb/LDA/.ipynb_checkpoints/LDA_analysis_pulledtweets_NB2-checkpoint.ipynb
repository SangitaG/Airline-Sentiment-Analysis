{
 "cells": [
  {
   "cell_type": "code",
   "execution_count": 1,
   "metadata": {},
   "outputs": [
    {
     "name": "stdout",
     "output_type": "stream",
     "text": [
      "/home/jovyan/GA_DSI/Projects/capstone\n"
     ]
    }
   ],
   "source": [
    "cd /home/jovyan/GA_DSI/Projects/capstone"
   ]
  },
  {
   "cell_type": "code",
   "execution_count": 2,
   "metadata": {},
   "outputs": [],
   "source": [
    "from sklearn.decomposition import LatentDirichletAllocation\n",
    "from sklearn.feature_extraction.text import CountVectorizer, TfidfVectorizer\n",
    "import pandas as pd\n",
    "import numpy as np\n",
    "import seaborn as sns\n",
    "import matplotlib.pyplot as plt\n",
    "\n",
    "import lib.general_utilities as gu\n",
    "\n",
    "# storing data directories for this notebook.\n",
    "img_out_dir = 'data/images/LDA_analysis_NB5/'\n",
    "data_out_dir = 'data/pickled/LDA_analysis_NB5/'\n",
    "\n",
    "%matplotlib inline"
   ]
  },
  {
   "cell_type": "code",
   "execution_count": 45,
   "metadata": {},
   "outputs": [],
   "source": [
    "filename = 'data/pulled_tweets/PT_all_airlines_df'\n",
    "air_df = gu.read_pickle_obj(filename)"
   ]
  },
  {
   "cell_type": "code",
   "execution_count": 46,
   "metadata": {},
   "outputs": [
    {
     "data": {
      "text/plain": [
       "Index(['date', 'text'], dtype='object')"
      ]
     },
     "execution_count": 46,
     "metadata": {},
     "output_type": "execute_result"
    }
   ],
   "source": [
    "air_df.columns"
   ]
  },
  {
   "cell_type": "code",
   "execution_count": 47,
   "metadata": {},
   "outputs": [
    {
     "data": {
      "text/html": [
       "<div>\n",
       "<table border=\"1\" class=\"dataframe\">\n",
       "  <thead>\n",
       "    <tr style=\"text-align: right;\">\n",
       "      <th></th>\n",
       "      <th>date</th>\n",
       "      <th>text</th>\n",
       "    </tr>\n",
       "  </thead>\n",
       "  <tbody>\n",
       "    <tr>\n",
       "      <th>4</th>\n",
       "      <td>2017-12-13 18:59:51</td>\n",
       "      <td>This is amazing.  I am so happy!  12 global up...</td>\n",
       "    </tr>\n",
       "    <tr>\n",
       "      <th>5</th>\n",
       "      <td>2017-12-13 18:53:36</td>\n",
       "      <td>@united YESSSSSSSSSSSSSSSSSSSSSSSSSSS!  I don'...</td>\n",
       "    </tr>\n",
       "    <tr>\n",
       "      <th>6</th>\n",
       "      <td>2017-12-13 18:39:43</td>\n",
       "      <td>RT @ARIELnolastname: First US carrier since Pa...</td>\n",
       "    </tr>\n",
       "    <tr>\n",
       "      <th>7</th>\n",
       "      <td>2017-12-13 18:35:45</td>\n",
       "      <td>Being nagged over and over and over about bag ...</td>\n",
       "    </tr>\n",
       "    <tr>\n",
       "      <th>8</th>\n",
       "      <td>2017-12-13 18:25:37</td>\n",
       "      <td>Wow - don’t fly business with #UnitedAirlines....</td>\n",
       "    </tr>\n",
       "    <tr>\n",
       "      <th>9</th>\n",
       "      <td>2017-12-13 18:15:36</td>\n",
       "      <td>First US carrier since Pan Am to fly non-stop ...</td>\n",
       "    </tr>\n",
       "    <tr>\n",
       "      <th>10</th>\n",
       "      <td>2017-12-13 18:06:22</td>\n",
       "      <td>United Airlines Announces Service Between San ...</td>\n",
       "    </tr>\n",
       "    <tr>\n",
       "      <th>11</th>\n",
       "      <td>2017-12-13 16:09:20</td>\n",
       "      <td>2017: #Trump, Woman's March, #Protests, #TheWa...</td>\n",
       "    </tr>\n",
       "    <tr>\n",
       "      <th>12</th>\n",
       "      <td>2017-12-13 16:05:19</td>\n",
       "      <td>#SIU #Aviation #Alumni #jobs\\n#AirEvac Lifetea...</td>\n",
       "    </tr>\n",
       "    <tr>\n",
       "      <th>13</th>\n",
       "      <td>2017-12-13 15:58:52</td>\n",
       "      <td>@chefkelcheung @AmericanAir Hi there. This is ...</td>\n",
       "    </tr>\n",
       "  </tbody>\n",
       "</table>\n",
       "</div>"
      ],
      "text/plain": [
       "                   date                                               text\n",
       "4   2017-12-13 18:59:51  This is amazing.  I am so happy!  12 global up...\n",
       "5   2017-12-13 18:53:36  @united YESSSSSSSSSSSSSSSSSSSSSSSSSSS!  I don'...\n",
       "6   2017-12-13 18:39:43  RT @ARIELnolastname: First US carrier since Pa...\n",
       "7   2017-12-13 18:35:45  Being nagged over and over and over about bag ...\n",
       "8   2017-12-13 18:25:37  Wow - don’t fly business with #UnitedAirlines....\n",
       "9   2017-12-13 18:15:36  First US carrier since Pan Am to fly non-stop ...\n",
       "10  2017-12-13 18:06:22  United Airlines Announces Service Between San ...\n",
       "11  2017-12-13 16:09:20  2017: #Trump, Woman's March, #Protests, #TheWa...\n",
       "12  2017-12-13 16:05:19  #SIU #Aviation #Alumni #jobs\\n#AirEvac Lifetea...\n",
       "13  2017-12-13 15:58:52  @chefkelcheung @AmericanAir Hi there. This is ..."
      ]
     },
     "execution_count": 47,
     "metadata": {},
     "output_type": "execute_result"
    }
   ],
   "source": [
    "air_df.head(10)"
   ]
  },
  {
   "cell_type": "code",
   "execution_count": 22,
   "metadata": {},
   "outputs": [],
   "source": [
    "#!pip install gensim"
   ]
  },
  {
   "cell_type": "code",
   "execution_count": 23,
   "metadata": {},
   "outputs": [],
   "source": [
    "import gensim\n",
    "import re\n",
    "from gensim import corpora\n",
    "from gensim.models.ldamodel import LdaModel\n",
    "from nltk.stem.wordnet import WordNetLemmatizer\n",
    "from nltk.corpus import stopwords\n",
    "import string"
   ]
  },
  {
   "cell_type": "code",
   "execution_count": 24,
   "metadata": {},
   "outputs": [],
   "source": [
    "import nltk\n",
    "#nltk.download('wordnet')"
   ]
  },
  {
   "cell_type": "code",
   "execution_count": 25,
   "metadata": {},
   "outputs": [],
   "source": [
    "# load stopwords and exclude punctuation sets.\n",
    "stop = set(stopwords.words('english'))\n",
    "exclude_punctuation = set(string.punctuation) \n",
    "lemma = WordNetLemmatizer()"
   ]
  },
  {
   "cell_type": "code",
   "execution_count": 26,
   "metadata": {},
   "outputs": [],
   "source": [
    "def tokenize(text):\n",
    "    return(text.split())"
   ]
  },
  {
   "cell_type": "code",
   "execution_count": 27,
   "metadata": {},
   "outputs": [],
   "source": [
    "def process_doc(text):\n",
    "    \n",
    "    rem_stop = \" \".join([i for i in text.lower().split() if i not in stop])\n",
    "    text = \" \".join(lemma.lemmatize(word) for word in rem_stop.split())\n",
    "    \n",
    "    return(text)"
   ]
  },
  {
   "cell_type": "code",
   "execution_count": 30,
   "metadata": {},
   "outputs": [],
   "source": [
    "def cleaner(text):\n",
    "    # convert text to lowercase.\n",
    "    text = text.lower()\n",
    "    # remove www.* or https?://* to URL\n",
    "    text = re.sub('((www\\.[^\\s]+)|(https?://[^\\s]+))','',text)\n",
    "    # remove @username to AT_USER\n",
    "    text = re.sub('@[^\\s]+','',text)\n",
    "    # remove additional white spaces\n",
    "    text = re.sub('[\\s]+', ' ', text)\n",
    "    # Replace #word with word\n",
    "    text = re.sub(r'#([^\\s]+)', r'\\1', text)\n",
    "    # remove some punctuation symbols.\n",
    "    text= ''.join(ch for ch in text if ch not in exclude_punctuation)\n",
    "    # clean numbers.\n",
    "    text = re.sub('&#39;','',text).lower()\n",
    "    # trim\n",
    "    text = text.strip('\\'\"')\n",
    "    # trim any leading or trailing white spaces.\n",
    "    text = text.strip()\n",
    "\n",
    "    return(text)"
   ]
  },
  {
   "cell_type": "code",
   "execution_count": 48,
   "metadata": {},
   "outputs": [],
   "source": [
    "air_df['clean_text'] = air_df['text'].apply(cleaner)"
   ]
  },
  {
   "cell_type": "code",
   "execution_count": 49,
   "metadata": {},
   "outputs": [],
   "source": [
    "# Corpus of documents, each doc is a tweet. \n",
    "# I used stemming earlier, where it finds the stem of the words by truncating the ends.\n",
    "# Lemmatization is a more elegant way of doing this 'normalization\". It finds the root of\n",
    "# the word.\n",
    "air_df['lemma_stopw_clean_text'] = air_df['clean_text'].apply(process_doc)"
   ]
  },
  {
   "cell_type": "code",
   "execution_count": 50,
   "metadata": {},
   "outputs": [
    {
     "data": {
      "text/html": [
       "<div>\n",
       "<table border=\"1\" class=\"dataframe\">\n",
       "  <thead>\n",
       "    <tr style=\"text-align: right;\">\n",
       "      <th></th>\n",
       "      <th>text</th>\n",
       "      <th>clean_text</th>\n",
       "      <th>lemma_stopw_clean_text</th>\n",
       "    </tr>\n",
       "  </thead>\n",
       "  <tbody>\n",
       "    <tr>\n",
       "      <th>4</th>\n",
       "      <td>This is amazing.  I am so happy!  12 global up...</td>\n",
       "      <td>this is amazing i am so happy 12 global upgrad...</td>\n",
       "      <td>amazing happy 12 global upgrade use next year ...</td>\n",
       "    </tr>\n",
       "    <tr>\n",
       "      <th>5</th>\n",
       "      <td>@united YESSSSSSSSSSSSSSSSSSSSSSSSSSS!  I don'...</td>\n",
       "      <td>yesssssssssssssssssssssssssss i dont know how ...</td>\n",
       "      <td>yes dont know today get better amazing thankyo...</td>\n",
       "    </tr>\n",
       "    <tr>\n",
       "      <th>6</th>\n",
       "      <td>RT @ARIELnolastname: First US carrier since Pa...</td>\n",
       "      <td>rt first us carrier since pan am to fly nonsto...</td>\n",
       "      <td>rt first u carrier since pan fly nonstop tahit...</td>\n",
       "    </tr>\n",
       "    <tr>\n",
       "      <th>7</th>\n",
       "      <td>Being nagged over and over and over about bag ...</td>\n",
       "      <td>being nagged over and over and over about bag ...</td>\n",
       "      <td>nagged bag stowage boarding horrible im sure l...</td>\n",
       "    </tr>\n",
       "    <tr>\n",
       "      <th>8</th>\n",
       "      <td>Wow - don’t fly business with #UnitedAirlines....</td>\n",
       "      <td>wow  don’t fly business with unitedairlines ap...</td>\n",
       "      <td>wow don’t fly business unitedairlines apparent...</td>\n",
       "    </tr>\n",
       "    <tr>\n",
       "      <th>9</th>\n",
       "      <td>First US carrier since Pan Am to fly non-stop ...</td>\n",
       "      <td>first us carrier since pan am to fly nonstop t...</td>\n",
       "      <td>first u carrier since pan fly nonstop tahitiit...</td>\n",
       "    </tr>\n",
       "    <tr>\n",
       "      <th>10</th>\n",
       "      <td>United Airlines Announces Service Between San ...</td>\n",
       "      <td>united airlines announces service between san ...</td>\n",
       "      <td>united airline announces service san francisco...</td>\n",
       "    </tr>\n",
       "    <tr>\n",
       "      <th>11</th>\n",
       "      <td>2017: #Trump, Woman's March, #Protests, #TheWa...</td>\n",
       "      <td>2017 trump womans march protests thewall trave...</td>\n",
       "      <td>2017 trump woman march protest thewall travelb...</td>\n",
       "    </tr>\n",
       "    <tr>\n",
       "      <th>12</th>\n",
       "      <td>#SIU #Aviation #Alumni #jobs\\n#AirEvac Lifetea...</td>\n",
       "      <td>siu aviation alumni jobs airevac lifeteam colu...</td>\n",
       "      <td>siu aviation alumnus job airevac lifeteam colu...</td>\n",
       "    </tr>\n",
       "    <tr>\n",
       "      <th>13</th>\n",
       "      <td>@chefkelcheung @AmericanAir Hi there. This is ...</td>\n",
       "      <td>hi there this is unitedairlines hold my beer</td>\n",
       "      <td>hi unitedairlines hold beer</td>\n",
       "    </tr>\n",
       "    <tr>\n",
       "      <th>14</th>\n",
       "      <td>Biggest stories of 2017: United Airlines https...</td>\n",
       "      <td>biggest stories of 2017 united airlines commen...</td>\n",
       "      <td>biggest story 2017 united airline comment unit...</td>\n",
       "    </tr>\n",
       "    <tr>\n",
       "      <th>15</th>\n",
       "      <td>Note from the captain is a nice touch #unitedA...</td>\n",
       "      <td>note from the captain is a nice touch unitedai...</td>\n",
       "      <td>note captain nice touch unitedairlines starall...</td>\n",
       "    </tr>\n",
       "    <tr>\n",
       "      <th>16</th>\n",
       "      <td>I think airlines should give a $5 credit if yo...</td>\n",
       "      <td>i think airlines should give a 5 credit if you...</td>\n",
       "      <td>think airline give 5 credit check bag charge 1...</td>\n",
       "    </tr>\n",
       "    <tr>\n",
       "      <th>17</th>\n",
       "      <td>RT @UditSheth: #GujaratModel of success being ...</td>\n",
       "      <td>rt gujaratmodel of success being followed by u...</td>\n",
       "      <td>rt gujaratmodel success followed unitedairline...</td>\n",
       "    </tr>\n",
       "    <tr>\n",
       "      <th>18</th>\n",
       "      <td>RT @UditSheth: #GujaratModel of success being ...</td>\n",
       "      <td>rt gujaratmodel of success being followed by u...</td>\n",
       "      <td>rt gujaratmodel success followed unitedairline...</td>\n",
       "    </tr>\n",
       "  </tbody>\n",
       "</table>\n",
       "</div>"
      ],
      "text/plain": [
       "                                                 text  \\\n",
       "4   This is amazing.  I am so happy!  12 global up...   \n",
       "5   @united YESSSSSSSSSSSSSSSSSSSSSSSSSSS!  I don'...   \n",
       "6   RT @ARIELnolastname: First US carrier since Pa...   \n",
       "7   Being nagged over and over and over about bag ...   \n",
       "8   Wow - don’t fly business with #UnitedAirlines....   \n",
       "9   First US carrier since Pan Am to fly non-stop ...   \n",
       "10  United Airlines Announces Service Between San ...   \n",
       "11  2017: #Trump, Woman's March, #Protests, #TheWa...   \n",
       "12  #SIU #Aviation #Alumni #jobs\\n#AirEvac Lifetea...   \n",
       "13  @chefkelcheung @AmericanAir Hi there. This is ...   \n",
       "14  Biggest stories of 2017: United Airlines https...   \n",
       "15  Note from the captain is a nice touch #unitedA...   \n",
       "16  I think airlines should give a $5 credit if yo...   \n",
       "17  RT @UditSheth: #GujaratModel of success being ...   \n",
       "18  RT @UditSheth: #GujaratModel of success being ...   \n",
       "\n",
       "                                           clean_text  \\\n",
       "4   this is amazing i am so happy 12 global upgrad...   \n",
       "5   yesssssssssssssssssssssssssss i dont know how ...   \n",
       "6   rt first us carrier since pan am to fly nonsto...   \n",
       "7   being nagged over and over and over about bag ...   \n",
       "8   wow  don’t fly business with unitedairlines ap...   \n",
       "9   first us carrier since pan am to fly nonstop t...   \n",
       "10  united airlines announces service between san ...   \n",
       "11  2017 trump womans march protests thewall trave...   \n",
       "12  siu aviation alumni jobs airevac lifeteam colu...   \n",
       "13       hi there this is unitedairlines hold my beer   \n",
       "14  biggest stories of 2017 united airlines commen...   \n",
       "15  note from the captain is a nice touch unitedai...   \n",
       "16  i think airlines should give a 5 credit if you...   \n",
       "17  rt gujaratmodel of success being followed by u...   \n",
       "18  rt gujaratmodel of success being followed by u...   \n",
       "\n",
       "                               lemma_stopw_clean_text  \n",
       "4   amazing happy 12 global upgrade use next year ...  \n",
       "5   yes dont know today get better amazing thankyo...  \n",
       "6   rt first u carrier since pan fly nonstop tahit...  \n",
       "7   nagged bag stowage boarding horrible im sure l...  \n",
       "8   wow don’t fly business unitedairlines apparent...  \n",
       "9   first u carrier since pan fly nonstop tahitiit...  \n",
       "10  united airline announces service san francisco...  \n",
       "11  2017 trump woman march protest thewall travelb...  \n",
       "12  siu aviation alumnus job airevac lifeteam colu...  \n",
       "13                        hi unitedairlines hold beer  \n",
       "14  biggest story 2017 united airline comment unit...  \n",
       "15  note captain nice touch unitedairlines starall...  \n",
       "16  think airline give 5 credit check bag charge 1...  \n",
       "17  rt gujaratmodel success followed unitedairline...  \n",
       "18  rt gujaratmodel success followed unitedairline...  "
      ]
     },
     "execution_count": 50,
     "metadata": {},
     "output_type": "execute_result"
    }
   ],
   "source": [
    "air_df[['text', 'clean_text', 'lemma_stopw_clean_text']][:15]"
   ]
  },
  {
   "cell_type": "code",
   "execution_count": 52,
   "metadata": {},
   "outputs": [],
   "source": [
    "# pickle this dataframe that has an added column with 'lemmatized' text.\n",
    "filename = 'data/processed_dataset_df/pulledTweetsCleanedLemma_df'\n",
    "gu.pickle_obj(filename, air_df)"
   ]
  },
  {
   "cell_type": "markdown",
   "metadata": {},
   "source": [
    "## Gensim LDA"
   ]
  },
  {
   "cell_type": "code",
   "execution_count": 53,
   "metadata": {},
   "outputs": [],
   "source": [
    "doc_clean = air_df['lemma_stopw_clean_text']\n",
    "# Corpus is in string format and doc2bow array expects tokens. Let's tokenize doc strings.\n",
    "doc_clean = doc_clean.apply(tokenize)\n",
    "# Creating the term dictionary of our courpus, where every unique term is assigned an index. \n",
    "dictionary = corpora.Dictionary(doc_clean)\n",
    "# Converting list of documents (corpus) into Document Term Matrix using dictionary prepared above.\n",
    "doc_term_matrix = [dictionary.doc2bow(doc) for doc in doc_clean]"
   ]
  },
  {
   "cell_type": "code",
   "execution_count": 54,
   "metadata": {},
   "outputs": [],
   "source": [
    "corpora.MmCorpus.serialize('corpus.mm', doc_term_matrix)"
   ]
  },
  {
   "cell_type": "code",
   "execution_count": 55,
   "metadata": {},
   "outputs": [],
   "source": [
    "# Creating the object for LDA model.\n",
    "Lda = LdaModel"
   ]
  },
  {
   "cell_type": "code",
   "execution_count": 56,
   "metadata": {},
   "outputs": [],
   "source": [
    "lda_model = Lda(doc_term_matrix, num_topics=10, id2word = dictionary, passes=50)"
   ]
  },
  {
   "cell_type": "code",
   "execution_count": 57,
   "metadata": {},
   "outputs": [],
   "source": [
    "# Pickle lda model.\n",
    "gu.pickle_obj(data_out_dir+'lda_transf_PulledTweets.obj', Lda)\n",
    "\n",
    "# Pickle lda dictionary.\n",
    "gu.pickle_obj(data_out_dir+'lda_dictionary_PulledTweets.obj', dictionary)\n",
    "\n",
    "# Pickle lda transformed corpus.\n",
    "gu.pickle_obj(data_out_dir+'lda_model_PulledTweets.obj', lda_model)"
   ]
  },
  {
   "cell_type": "code",
   "execution_count": 58,
   "metadata": {},
   "outputs": [
    {
     "name": "stdout",
     "output_type": "stream",
     "text": [
      "[(0, '0.041*\"americanairlines\" + 0.017*\"unitedairlines\" + 0.011*\"flight\" + 0.011*\"rt\" + 0.008*\"united\" + 0.008*\"airline\" + 0.008*\"first\" + 0.008*\"plane\" + 0.007*\"travel\" + 0.006*\"airport\"'), (1, '0.067*\"southwestairlines\" + 0.060*\"job\" + 0.037*\"agent\" + 0.029*\"apply\" + 0.026*\"dallas\" + 0.023*\"ramp\" + 0.016*\"parttime\" + 0.013*\"americanairlines\" + 0.011*\"unitedairlines\" + 0.010*\"hiring\"'), (2, '0.029*\"americanairlines\" + 0.025*\"airline\" + 0.018*\"flight\" + 0.017*\"unitedairlines\" + 0.015*\"rt\" + 0.010*\"southwestairlines\" + 0.009*\"jetblue\" + 0.008*\"travel\" + 0.008*\"american\" + 0.007*\"customer\"'), (3, '0.033*\"americanairlines\" + 0.031*\"flight\" + 0.024*\"rt\" + 0.023*\"unitedairlines\" + 0.010*\"terminal\" + 0.010*\"united\" + 0.010*\"starting\" + 0.009*\"houston\" + 0.008*\"b\" + 0.008*\"change\"'), (4, '0.034*\"americanairlines\" + 0.025*\"jetblue\" + 0.022*\"one\" + 0.020*\"way\" + 0.019*\"travel\" + 0.015*\"rt\" + 0.014*\"suzzstravels\" + 0.014*\"departing\" + 0.012*\"jfk\" + 0.008*\"flight\"'), (5, '0.048*\"jetblue\" + 0.023*\"flight\" + 0.019*\"americanairlines\" + 0.014*\"rt\" + 0.012*\"unitedairlines\" + 0.010*\"game\" + 0.009*\"getpacking\" + 0.009*\"southwestairlines\" + 0.009*\"board\" + 0.009*\"free\"'), (6, '0.026*\"americanairlines\" + 0.012*\"plane\" + 0.012*\"southwestairlines\" + 0.011*\"home\" + 0.010*\"rt\" + 0.010*\"u\" + 0.010*\"flight\" + 0.007*\"back\" + 0.007*\"get\" + 0.007*\"bag\"'), (7, '0.024*\"americanairlines\" + 0.017*\"flight\" + 0.015*\"rt\" + 0.014*\"golf\" + 0.013*\"southwestairlines\" + 0.011*\"jetblue\" + 0.010*\"2018\" + 0.009*\"fort\" + 0.009*\"plane\" + 0.008*\"passenger\"'), (8, '0.025*\"americanairlines\" + 0.013*\"american\" + 0.011*\"flight\" + 0.011*\"lax\" + 0.011*\"virginamerica\" + 0.011*\"airline\" + 0.011*\"plane\" + 0.010*\"rt\" + 0.009*\"jetblue\" + 0.009*\"unitedairlines\"'), (9, '0.026*\"americanairlines\" + 0.020*\"southwestairlines\" + 0.013*\"airline\" + 0.009*\"sr\" + 0.009*\"jetblue\" + 0.008*\"new\" + 0.008*\"last\" + 0.008*\"flight\" + 0.006*\"gate\" + 0.005*\"first\"')]\n"
     ]
    }
   ],
   "source": [
    "print(lda_model.print_topics(num_topics=10, num_words=10))"
   ]
  },
  {
   "cell_type": "code",
   "execution_count": 59,
   "metadata": {},
   "outputs": [],
   "source": [
    "topics_df = pd.DataFrame(lda_model.print_topics(num_topics=10, num_words=10))"
   ]
  },
  {
   "cell_type": "code",
   "execution_count": 60,
   "metadata": {},
   "outputs": [],
   "source": [
    "topics_df.drop(0, axis = 1, inplace=True)"
   ]
  },
  {
   "cell_type": "code",
   "execution_count": 61,
   "metadata": {},
   "outputs": [
    {
     "data": {
      "text/html": [
       "<div>\n",
       "<table border=\"1\" class=\"dataframe\">\n",
       "  <thead>\n",
       "    <tr style=\"text-align: right;\">\n",
       "      <th></th>\n",
       "      <th>1</th>\n",
       "    </tr>\n",
       "  </thead>\n",
       "  <tbody>\n",
       "    <tr>\n",
       "      <th>0</th>\n",
       "      <td>0.041*\"americanairlines\" + 0.017*\"unitedairlin...</td>\n",
       "    </tr>\n",
       "    <tr>\n",
       "      <th>1</th>\n",
       "      <td>0.067*\"southwestairlines\" + 0.060*\"job\" + 0.03...</td>\n",
       "    </tr>\n",
       "    <tr>\n",
       "      <th>2</th>\n",
       "      <td>0.029*\"americanairlines\" + 0.025*\"airline\" + 0...</td>\n",
       "    </tr>\n",
       "    <tr>\n",
       "      <th>3</th>\n",
       "      <td>0.033*\"americanairlines\" + 0.031*\"flight\" + 0....</td>\n",
       "    </tr>\n",
       "    <tr>\n",
       "      <th>4</th>\n",
       "      <td>0.034*\"americanairlines\" + 0.025*\"jetblue\" + 0...</td>\n",
       "    </tr>\n",
       "    <tr>\n",
       "      <th>5</th>\n",
       "      <td>0.048*\"jetblue\" + 0.023*\"flight\" + 0.019*\"amer...</td>\n",
       "    </tr>\n",
       "    <tr>\n",
       "      <th>6</th>\n",
       "      <td>0.026*\"americanairlines\" + 0.012*\"plane\" + 0.0...</td>\n",
       "    </tr>\n",
       "    <tr>\n",
       "      <th>7</th>\n",
       "      <td>0.024*\"americanairlines\" + 0.017*\"flight\" + 0....</td>\n",
       "    </tr>\n",
       "    <tr>\n",
       "      <th>8</th>\n",
       "      <td>0.025*\"americanairlines\" + 0.013*\"american\" + ...</td>\n",
       "    </tr>\n",
       "    <tr>\n",
       "      <th>9</th>\n",
       "      <td>0.026*\"americanairlines\" + 0.020*\"southwestair...</td>\n",
       "    </tr>\n",
       "  </tbody>\n",
       "</table>\n",
       "</div>"
      ],
      "text/plain": [
       "                                                   1\n",
       "0  0.041*\"americanairlines\" + 0.017*\"unitedairlin...\n",
       "1  0.067*\"southwestairlines\" + 0.060*\"job\" + 0.03...\n",
       "2  0.029*\"americanairlines\" + 0.025*\"airline\" + 0...\n",
       "3  0.033*\"americanairlines\" + 0.031*\"flight\" + 0....\n",
       "4  0.034*\"americanairlines\" + 0.025*\"jetblue\" + 0...\n",
       "5  0.048*\"jetblue\" + 0.023*\"flight\" + 0.019*\"amer...\n",
       "6  0.026*\"americanairlines\" + 0.012*\"plane\" + 0.0...\n",
       "7  0.024*\"americanairlines\" + 0.017*\"flight\" + 0....\n",
       "8  0.025*\"americanairlines\" + 0.013*\"american\" + ...\n",
       "9  0.026*\"americanairlines\" + 0.020*\"southwestair..."
      ]
     },
     "execution_count": 61,
     "metadata": {},
     "output_type": "execute_result"
    }
   ],
   "source": [
    "topics_df[:15]"
   ]
  },
  {
   "cell_type": "code",
   "execution_count": 62,
   "metadata": {},
   "outputs": [],
   "source": [
    "topic = topics_df.iloc[0,:]"
   ]
  },
  {
   "cell_type": "code",
   "execution_count": 63,
   "metadata": {},
   "outputs": [],
   "source": [
    "topic_lst=topic.tolist()"
   ]
  },
  {
   "cell_type": "code",
   "execution_count": 64,
   "metadata": {},
   "outputs": [
    {
     "data": {
      "text/plain": [
       "['0.041*\"americanairlines\" + 0.017*\"unitedairlines\" + 0.011*\"flight\" + 0.011*\"rt\" + 0.008*\"united\" + 0.008*\"airline\" + 0.008*\"first\" + 0.008*\"plane\" + 0.007*\"travel\" + 0.006*\"airport\"']"
      ]
     },
     "execution_count": 64,
     "metadata": {},
     "output_type": "execute_result"
    }
   ],
   "source": [
    "topic_lst"
   ]
  },
  {
   "cell_type": "code",
   "execution_count": 185,
   "metadata": {},
   "outputs": [],
   "source": [
    "#!pip install pyLDAvis"
   ]
  },
  {
   "cell_type": "code",
   "execution_count": 65,
   "metadata": {},
   "outputs": [],
   "source": [
    "import pyLDAvis.gensim\n",
    "pyLDAvis.enable_notebook()"
   ]
  },
  {
   "cell_type": "code",
   "execution_count": 66,
   "metadata": {},
   "outputs": [
    {
     "data": {
      "text/html": [
       "\n",
       "<link rel=\"stylesheet\" type=\"text/css\" href=\"https://cdn.rawgit.com/bmabey/pyLDAvis/files/ldavis.v1.0.0.css\">\n",
       "\n",
       "\n",
       "<div id=\"ldavis_el3401396636569018722607151153\"></div>\n",
       "<script type=\"text/javascript\">\n",
       "\n",
       "var ldavis_el3401396636569018722607151153_data = {\"mdsDat\": {\"Freq\": [15.03448551737334, 14.572270311843944, 12.791314712883473, 11.198890566894296, 10.921881164046797, 8.210338989910111, 7.400445706748123, 7.001835788231246, 6.734212448097096, 6.134324793971577], \"cluster\": [1, 1, 1, 1, 1, 1, 1, 1, 1, 1], \"topics\": [1, 2, 3, 4, 5, 6, 7, 8, 9, 10], \"x\": [-0.05199084275127028, -0.042867539295104784, 0.28613767161166265, -0.03929114714444964, -0.013744251366880487, -0.07820601656495324, -0.05722964103928421, -0.009916628338263404, -0.0011183033391839211, 0.008226698227727121], \"y\": [-0.15610904138651233, 0.06776785453993002, -0.004162284516478478, -0.07704445102347822, -0.04154285678609145, 0.1119660146213756, -0.0301774797891585, 0.08755027058815339, 0.0068765230794600755, 0.03487545067279967]}, \"tinfo\": {\"Category\": [\"Default\", \"Default\", \"Default\", \"Default\", \"Default\", \"Default\", \"Default\", \"Default\", \"Default\", \"Default\", \"Default\", \"Default\", \"Default\", \"Default\", \"Default\", \"Default\", \"Default\", \"Default\", \"Default\", \"Default\", \"Default\", \"Default\", \"Default\", \"Default\", \"Default\", \"Default\", \"Default\", \"Default\", \"Default\", \"Default\", \"Topic1\", \"Topic1\", \"Topic1\", \"Topic1\", \"Topic1\", \"Topic1\", \"Topic1\", \"Topic1\", \"Topic1\", \"Topic1\", \"Topic1\", \"Topic1\", \"Topic1\", \"Topic1\", \"Topic1\", \"Topic1\", \"Topic1\", \"Topic1\", \"Topic1\", \"Topic1\", \"Topic1\", \"Topic1\", \"Topic1\", \"Topic1\", \"Topic1\", \"Topic1\", \"Topic1\", \"Topic1\", \"Topic1\", \"Topic1\", \"Topic1\", \"Topic1\", \"Topic1\", \"Topic1\", \"Topic1\", \"Topic1\", \"Topic1\", \"Topic1\", \"Topic1\", \"Topic1\", \"Topic1\", \"Topic1\", \"Topic1\", \"Topic1\", \"Topic1\", \"Topic1\", \"Topic1\", \"Topic1\", \"Topic1\", \"Topic1\", \"Topic1\", \"Topic1\", \"Topic1\", \"Topic1\", \"Topic1\", \"Topic1\", \"Topic1\", \"Topic2\", \"Topic2\", \"Topic2\", \"Topic2\", \"Topic2\", \"Topic2\", \"Topic2\", \"Topic2\", \"Topic2\", \"Topic2\", \"Topic2\", \"Topic2\", \"Topic2\", \"Topic2\", \"Topic2\", \"Topic2\", \"Topic2\", \"Topic2\", \"Topic2\", \"Topic2\", \"Topic2\", \"Topic2\", \"Topic2\", \"Topic2\", \"Topic2\", \"Topic2\", \"Topic2\", \"Topic2\", \"Topic2\", \"Topic2\", \"Topic2\", \"Topic2\", \"Topic2\", \"Topic2\", \"Topic2\", \"Topic2\", \"Topic2\", \"Topic2\", \"Topic2\", \"Topic2\", \"Topic2\", \"Topic2\", \"Topic2\", \"Topic2\", \"Topic2\", \"Topic2\", \"Topic2\", \"Topic2\", \"Topic2\", \"Topic2\", \"Topic2\", \"Topic2\", \"Topic2\", \"Topic2\", \"Topic2\", \"Topic2\", \"Topic2\", \"Topic2\", \"Topic2\", \"Topic2\", \"Topic2\", \"Topic2\", \"Topic2\", \"Topic2\", \"Topic2\", \"Topic2\", \"Topic2\", \"Topic3\", \"Topic3\", \"Topic3\", \"Topic3\", \"Topic3\", \"Topic3\", \"Topic3\", \"Topic3\", \"Topic3\", \"Topic3\", \"Topic3\", \"Topic3\", \"Topic3\", \"Topic3\", \"Topic3\", \"Topic3\", \"Topic3\", \"Topic3\", \"Topic3\", \"Topic3\", \"Topic3\", \"Topic3\", \"Topic3\", \"Topic3\", \"Topic3\", \"Topic3\", \"Topic3\", \"Topic3\", \"Topic3\", \"Topic3\", \"Topic3\", \"Topic3\", \"Topic3\", \"Topic3\", \"Topic3\", \"Topic3\", \"Topic3\", \"Topic3\", \"Topic3\", \"Topic3\", \"Topic3\", \"Topic3\", \"Topic3\", \"Topic3\", \"Topic3\", \"Topic3\", \"Topic3\", \"Topic4\", \"Topic4\", \"Topic4\", \"Topic4\", \"Topic4\", \"Topic4\", \"Topic4\", \"Topic4\", \"Topic4\", \"Topic4\", \"Topic4\", \"Topic4\", \"Topic4\", \"Topic4\", \"Topic4\", \"Topic4\", \"Topic4\", \"Topic4\", \"Topic4\", \"Topic4\", \"Topic4\", \"Topic4\", \"Topic4\", \"Topic4\", \"Topic4\", \"Topic4\", \"Topic4\", \"Topic4\", \"Topic4\", \"Topic4\", \"Topic4\", \"Topic4\", \"Topic4\", \"Topic4\", \"Topic4\", \"Topic4\", \"Topic4\", \"Topic4\", \"Topic4\", \"Topic4\", \"Topic4\", \"Topic4\", \"Topic4\", \"Topic4\", \"Topic4\", \"Topic4\", \"Topic4\", \"Topic4\", \"Topic4\", \"Topic4\", \"Topic4\", \"Topic4\", \"Topic4\", \"Topic4\", \"Topic4\", \"Topic4\", \"Topic4\", \"Topic4\", \"Topic4\", \"Topic4\", \"Topic4\", \"Topic4\", \"Topic4\", \"Topic4\", \"Topic5\", \"Topic5\", \"Topic5\", \"Topic5\", \"Topic5\", \"Topic5\", \"Topic5\", \"Topic5\", \"Topic5\", \"Topic5\", \"Topic5\", \"Topic5\", \"Topic5\", \"Topic5\", \"Topic5\", \"Topic5\", \"Topic5\", \"Topic5\", \"Topic5\", \"Topic5\", \"Topic5\", \"Topic5\", \"Topic5\", \"Topic5\", \"Topic5\", \"Topic5\", \"Topic5\", \"Topic5\", \"Topic5\", \"Topic5\", \"Topic5\", \"Topic5\", \"Topic5\", \"Topic5\", \"Topic5\", \"Topic5\", \"Topic5\", \"Topic5\", \"Topic5\", \"Topic5\", \"Topic5\", \"Topic5\", \"Topic5\", \"Topic5\", \"Topic5\", \"Topic5\", \"Topic5\", \"Topic5\", \"Topic5\", \"Topic5\", \"Topic5\", \"Topic5\", \"Topic5\", \"Topic5\", \"Topic5\", \"Topic5\", \"Topic5\", \"Topic5\", \"Topic5\", \"Topic5\", \"Topic5\", \"Topic5\", \"Topic5\", \"Topic5\", \"Topic5\", \"Topic5\", \"Topic5\", \"Topic5\", \"Topic5\", \"Topic5\", \"Topic6\", \"Topic6\", \"Topic6\", \"Topic6\", \"Topic6\", \"Topic6\", \"Topic6\", \"Topic6\", \"Topic6\", \"Topic6\", \"Topic6\", \"Topic6\", \"Topic6\", \"Topic6\", \"Topic6\", \"Topic6\", \"Topic6\", \"Topic6\", \"Topic6\", \"Topic6\", \"Topic6\", \"Topic6\", \"Topic6\", \"Topic6\", \"Topic6\", \"Topic6\", \"Topic6\", \"Topic6\", \"Topic6\", \"Topic6\", \"Topic6\", \"Topic6\", \"Topic6\", \"Topic6\", \"Topic6\", \"Topic6\", \"Topic6\", \"Topic6\", \"Topic6\", \"Topic6\", \"Topic6\", \"Topic6\", \"Topic6\", \"Topic6\", \"Topic6\", \"Topic6\", \"Topic6\", \"Topic6\", \"Topic6\", \"Topic6\", \"Topic6\", \"Topic6\", \"Topic6\", \"Topic6\", \"Topic6\", \"Topic6\", \"Topic6\", \"Topic7\", \"Topic7\", \"Topic7\", \"Topic7\", \"Topic7\", \"Topic7\", \"Topic7\", \"Topic7\", \"Topic7\", \"Topic7\", \"Topic7\", \"Topic7\", \"Topic7\", \"Topic7\", \"Topic7\", \"Topic7\", \"Topic7\", \"Topic7\", \"Topic7\", \"Topic7\", \"Topic7\", \"Topic7\", \"Topic7\", \"Topic7\", \"Topic7\", \"Topic7\", \"Topic7\", \"Topic7\", \"Topic7\", \"Topic7\", \"Topic7\", \"Topic7\", \"Topic7\", \"Topic7\", \"Topic7\", \"Topic7\", \"Topic7\", \"Topic7\", \"Topic7\", \"Topic7\", \"Topic7\", \"Topic7\", \"Topic7\", \"Topic7\", \"Topic7\", \"Topic7\", \"Topic7\", \"Topic7\", \"Topic7\", \"Topic7\", \"Topic7\", \"Topic7\", \"Topic7\", \"Topic7\", \"Topic7\", \"Topic7\", \"Topic7\", \"Topic7\", \"Topic7\", \"Topic7\", \"Topic7\", \"Topic7\", \"Topic7\", \"Topic8\", \"Topic8\", \"Topic8\", \"Topic8\", \"Topic8\", \"Topic8\", \"Topic8\", \"Topic8\", \"Topic8\", \"Topic8\", \"Topic8\", \"Topic8\", \"Topic8\", \"Topic8\", \"Topic8\", \"Topic8\", \"Topic8\", \"Topic8\", \"Topic8\", \"Topic8\", \"Topic8\", \"Topic8\", \"Topic8\", \"Topic8\", \"Topic8\", \"Topic8\", \"Topic8\", \"Topic8\", \"Topic8\", \"Topic8\", \"Topic8\", \"Topic8\", \"Topic8\", \"Topic8\", \"Topic8\", \"Topic8\", \"Topic8\", \"Topic8\", \"Topic8\", \"Topic8\", \"Topic8\", \"Topic8\", \"Topic8\", \"Topic8\", \"Topic8\", \"Topic8\", \"Topic8\", \"Topic8\", \"Topic8\", \"Topic8\", \"Topic8\", \"Topic8\", \"Topic8\", \"Topic8\", \"Topic8\", \"Topic9\", \"Topic9\", \"Topic9\", \"Topic9\", \"Topic9\", \"Topic9\", \"Topic9\", \"Topic9\", \"Topic9\", \"Topic9\", \"Topic9\", \"Topic9\", \"Topic9\", \"Topic9\", \"Topic9\", \"Topic9\", \"Topic9\", \"Topic9\", \"Topic9\", \"Topic9\", \"Topic9\", \"Topic9\", \"Topic9\", \"Topic9\", \"Topic9\", \"Topic9\", \"Topic9\", \"Topic9\", \"Topic9\", \"Topic9\", \"Topic9\", \"Topic9\", \"Topic9\", \"Topic9\", \"Topic9\", \"Topic9\", \"Topic9\", \"Topic9\", \"Topic9\", \"Topic9\", \"Topic9\", \"Topic9\", \"Topic9\", \"Topic9\", \"Topic9\", \"Topic9\", \"Topic9\", \"Topic9\", \"Topic9\", \"Topic9\", \"Topic9\", \"Topic9\", \"Topic9\", \"Topic9\", \"Topic9\", \"Topic9\", \"Topic9\", \"Topic9\", \"Topic9\", \"Topic9\", \"Topic9\", \"Topic9\", \"Topic9\", \"Topic9\", \"Topic9\", \"Topic9\", \"Topic9\", \"Topic9\", \"Topic10\", \"Topic10\", \"Topic10\", \"Topic10\", \"Topic10\", \"Topic10\", \"Topic10\", \"Topic10\", \"Topic10\", \"Topic10\", \"Topic10\", \"Topic10\", \"Topic10\", \"Topic10\", \"Topic10\", \"Topic10\", \"Topic10\", \"Topic10\", \"Topic10\", \"Topic10\", \"Topic10\", \"Topic10\", \"Topic10\", \"Topic10\", \"Topic10\", \"Topic10\", \"Topic10\", \"Topic10\", \"Topic10\", \"Topic10\", \"Topic10\", \"Topic10\", \"Topic10\", \"Topic10\", \"Topic10\", \"Topic10\", \"Topic10\", \"Topic10\", \"Topic10\", \"Topic10\", \"Topic10\", \"Topic10\", \"Topic10\", \"Topic10\", \"Topic10\", \"Topic10\", \"Topic10\", \"Topic10\", \"Topic10\", \"Topic10\", \"Topic10\", \"Topic10\", \"Topic10\", \"Topic10\", \"Topic10\", \"Topic10\", \"Topic10\", \"Topic10\", \"Topic10\", \"Topic10\", \"Topic10\", \"Topic10\", \"Topic10\", \"Topic10\", \"Topic10\", \"Topic10\"], \"Freq\": [156.0, 302.0, 105.0, 75.0, 70.0, 61.0, 279.0, 41.0, 58.0, 41.0, 24.0, 24.0, 166.0, 23.0, 542.0, 81.0, 29.0, 31.0, 117.0, 26.0, 236.0, 27.0, 74.0, 28.0, 70.0, 30.0, 31.0, 80.0, 43.0, 23.0, 28.991766720295782, 23.040374477562043, 23.04036880032906, 18.789384479149575, 15.388585667740019, 9.437205489126374, 9.437204069818128, 9.437204069818128, 9.437204069818128, 9.437204069818128, 9.437204069818128, 9.437204069818128, 9.437204069818128, 19.63962250332461, 7.7368067930757185, 7.7368067930757185, 7.7368067930757185, 7.7368039544592255, 7.7368039544592255, 7.7368039544592255, 7.7368039544592255, 7.7368039544592255, 7.7368039544592255, 6.886607799877452, 6.036411645295678, 6.036411645295678, 6.036408097025063, 6.036408097025063, 5.186209103826798, 5.186209103826798, 26.38899951784247, 25.59053643917939, 23.74231607963624, 9.437216843592342, 31.951961156998006, 24.740938523023377, 24.881245659006535, 95.47028012944217, 70.50411441945093, 73.21242138308928, 25.200334538909967, 101.60883371198156, 29.35054513599505, 13.51240351643912, 10.287417965752978, 23.831970942930166, 17.320560826197774, 20.51402141177416, 16.16554622647366, 15.87775877063121, 12.838023461197253, 17.434301350429163, 12.964576080966799, 12.344379537330633, 10.185346993921577, 12.221126809233425, 11.426782563100723, 27.178361578175803, 29.659267688944805, 10.24482976240981, 13.614421646595996, 6.011416027773589, 25.479126910870665, 11.091518287165782, 5.1642147207178475, 5.163904162423622, 4.318071650507435, 4.318068555242045, 4.31806580389503, 4.31806580389503, 4.318061676874509, 22.093997482258644, 3.4713910358741273, 3.471390348037374, 3.471389316282244, 3.4713865649352296, 3.4713332575868296, 3.4713332575868296, 3.4713332575868296, 3.4713105589739626, 3.4464885940487764, 6.01143941422321, 2.624710249281631, 2.624710249281631, 2.624710249281631, 2.624710249281631, 2.624710249281631, 3.933974321531609, 2.624710249281631, 2.624710249281631, 5.164766365794191, 2.624710249281631, 8.551490543919307, 12.881930531010616, 21.8246736257345, 12.665211053724107, 143.10861862254566, 15.781482979130892, 25.359220456645645, 6.653246820057942, 9.398040125651065, 10.226456954885862, 12.659499257322668, 13.841982806791885, 12.539962859271057, 69.41702443179891, 20.13186197803397, 15.38490657185387, 21.962082773990232, 6.7385770963557485, 41.16026413737386, 9.375894533533922, 17.413064774704335, 54.746990724925105, 35.38131560935919, 10.21488135016045, 18.16512759727509, 25.96836593423828, 18.793381179881216, 14.42688341449556, 13.674695405635658, 11.639412589691972, 12.6648409975507, 11.782179986257818, 155.90931868095697, 74.32377426559209, 60.45487794478495, 40.8743708563766, 25.372999222948525, 18.846249665025436, 67.02764704427335, 14.7668871915772, 11.50356554459752, 10.687711887610535, 18.846290721556876, 9.055999743456391, 8.240141860061758, 8.240126161976207, 15.694321633115743, 7.4242894106198145, 6.608432130997701, 94.68965415902753, 13.127961173339846, 5.7925808891008, 5.7925808891008, 5.792577870238194, 5.792575455148109, 5.792126852164863, 17.214595483033328, 4.976678930312119, 4.976665949202913, 4.976428364715823, 4.160865726084053, 4.160856669496234, 10.68774086869155, 14.532928962250116, 172.89863697597292, 25.159249259905767, 18.78574803576679, 9.0560540829833, 19.72858833695609, 23.967808038205415, 9.57476230121029, 19.203846016152298, 29.310757719456372, 17.7045629217065, 16.84440685220447, 33.14821993983375, 13.011068398146836, 10.656507716170248, 11.367368954356932, 12.41541456316863, 11.593198674580858, 9.126285647950652, 8.304350978448905, 8.304350978448905, 8.304350978448905, 6.659912857985706, 6.659904928876138, 6.659891713693524, 9.126568981465896, 4.192182604462654, 8.30440489639397, 8.304343049339337, 3.371073090963322, 3.371073090963322, 3.371071240837756, 3.3710667476756675, 3.3710667476756675, 3.3710667476756675, 3.3710667476756675, 3.3710667476756675, 3.3710107153013844, 3.368792414747805, 5.780346777104475, 2.548859052501116, 2.5488585238938115, 2.5488585238938115, 2.548857995286507, 2.54885720237555, 2.54885720237555, 5.01528021003443, 4.193293737016836, 5.703085533470213, 4.179941116503689, 8.138190144155919, 7.262634606894372, 8.298822803257833, 6.659796564378703, 18.670610867779864, 93.76124278505014, 13.555279038782441, 13.096488072580861, 5.837395663234336, 10.053047374804775, 39.61401747338077, 19.168298873880072, 10.827693892055333, 17.875092819716123, 13.796237278063144, 11.594279147911374, 11.061955734001888, 23.97778168810381, 24.449462214819743, 19.038299536684626, 15.99824404008693, 11.237971394273757, 9.776360567808968, 9.861767650006476, 11.281192441923674, 9.21545112808357, 8.831399948673507, 8.751317527854818, 8.903624621909936, 8.493740932133408, 16.45315552774716, 16.45315552774716, 6.630402100241525, 5.8118316675584385, 5.811832183090412, 5.8118316675584385, 5.8118316675584385, 5.8118316675584385, 5.8118316675584385, 5.811805890959728, 4.993263812535222, 4.993263812535222, 4.993263812535222, 4.993121010178368, 3.3561288757867516, 3.3561206272751645, 3.356117534083319, 3.3560469062028533, 3.3560463906708793, 3.355990713217665, 5.811847133517665, 2.53756153629551, 2.53756153629551, 2.537561020763536, 2.5375605052315615, 2.5375605052315615, 2.5375602474655747, 2.5375597319336003, 2.537548647996155, 2.5375349863988386, 4.993284949346164, 4.993280309558397, 4.988958605018653, 4.988940045867582, 4.174673531871129, 5.811856928625174, 6.63042478364839, 4.174648786336367, 4.174536400365991, 7.101151873973409, 11.541890684432746, 55.24141627014324, 5.8118326986223865, 6.6304412806715645, 63.79257812029478, 38.7252483002532, 11.111188465520899, 40.764185506737654, 32.40658941587618, 17.47920850536391, 16.47273543212739, 18.42888851419433, 22.889258782231316, 10.550865011271243, 19.327702014194088, 7.260184723971473, 7.44897356398856, 10.67641973039654, 10.683725849534945, 7.790948605884276, 8.738598965332258, 7.449014806546497, 7.584697666836985, 7.448939023346289, 6.539799417903245, 6.550967902592379, 6.627709476740263, 7.285809756281208, 6.9784227855987195, 6.849772812500309, 23.770075610553945, 23.770018254275634, 11.134788231756819, 8.765746062605983, 6.396615533783155, 5.606932356297543, 5.606928480873333, 5.606928093330912, 5.606916467058281, 4.817224763639407, 4.817209649484988, 4.817205774060778, 4.817193372703305, 4.027515620811587, 4.027493530893589, 4.027418347663913, 4.026923455992277, 7.1863719567863384, 7.186360330513708, 3.2378072530686093, 3.2378062842125566, 3.2378062842125566, 3.2378062842125566, 3.2378062842125566, 3.2378062842125566, 3.2378062842125566, 3.2378062842125566, 3.2378039589580303, 3.2378039589580303, 3.2378039589580303, 32.54062254867145, 8.765768540066402, 19.310643573979593, 36.00401785747001, 10.345203102503724, 4.817248403727088, 5.60693506909449, 5.606943982570173, 10.933506449130457, 11.133725590438399, 5.594456203137832, 31.02513016044695, 41.387533945764964, 56.38430951684252, 11.396718853102222, 9.27985983832344, 24.923370852098564, 11.94827310211386, 6.385762408282652, 8.05377637926393, 10.755357073614434, 10.514270033840859, 12.735263247315846, 12.945555391230789, 9.183343948539532, 6.9096031112251435, 6.697776299322984, 5.523849905319514, 4.745853493579987, 4.745853493579987, 4.745853493579987, 4.745850349753667, 3.967844855849216, 3.9678413627088602, 3.18983027977984, 3.189828533209662, 2.411826707102584, 2.4118263577885486, 2.4118235632762643, 2.4118235632762643, 2.4118235632762643, 2.4118233886192466, 2.4118219913631043, 2.4118219913631043, 2.4118219913631043, 2.4118219913631043, 4.745872356537906, 1.6338184186858482, 1.6338184186858482, 1.6338182440288305, 1.6338182440288305, 1.6338182440288305, 1.6338182440288305, 1.6338182440288305, 1.6338182440288305, 1.6338180693718127, 1.6338180693718127, 4.745673247537645, 6.3019186250644, 5.52402281576711, 9.284142491353514, 17.104547393272178, 12.390481826241036, 16.33940294352851, 6.193859026795892, 7.079930406621491, 4.7464193823175735, 5.523931994117868, 18.811907769146902, 15.781678373580583, 10.322419777260096, 4.746086486041697, 37.38085505126533, 4.74596387681522, 10.738895025166016, 16.06482534451457, 10.203731251517954, 17.231446196105825, 15.429038868414802, 13.323446519454656, 13.856456422759532, 6.936781514854179, 6.735084097588772, 5.523906494193273, 5.526474301668582, 5.471337177041643, 5.398627111228422, 5.2974364241549186, 5.26112907261416, 5.163721456545634, 13.181019826925473, 10.097805062789364, 10.097805062789364, 10.097805062789364, 10.097805062789364, 6.2436413533319, 5.4728530304989205, 13.951919197404736, 20.11862898878424, 11.63949209510371, 10.868717653226517, 2.38955597212494, 2.3895553111270456, 2.3895553111270456, 2.3895553111270456, 2.389553658632309, 2.3895366379365246, 2.3895361421881036, 2.389533332947052, 10.09785397663356, 6.243669776241365, 3.931225487995082, 1.6187317901561817, 1.6187317901561817, 1.6187317901561817, 1.6187317901561817, 1.6187317901561817, 1.6187317901561817, 1.6187317901561817, 1.6187317901561817, 8.556225773131827, 5.47288707189049, 10.773874370327746, 3.452140163010014, 3.930915810481488, 3.8684237475354273, 2.3895635736007272, 4.452847679988849, 7.785487025140938, 11.697544896190008, 7.624347636413002, 4.702037276253318, 3.930997443721464, 34.180650605483315, 12.321858729583424, 24.073308004073567, 21.124665140289952, 18.87198167168947, 7.215944138287405, 15.28229379580572, 6.877443150503612, 9.001157336905761, 6.273412037504306, 6.552291015200153, 6.077783761632702, 3.144288958962251, 3.1442800586958954, 3.1442800586958954, 3.1442800586958954, 3.1442800586958954, 3.1442800586958954, 2.3773887670852947, 2.3773887670852947, 2.3773855884187394, 2.3773854294854115, 2.377371284419239, 2.377371284419239, 2.377371284419239, 2.377371284419239, 2.3773706486859276, 2.377368105752683, 1.6104900056082887, 1.6104900056082887, 1.6104900056082887, 1.6104900056082887, 1.6104900056082887, 1.6104900056082887, 1.6104900056082887, 1.6104900056082887, 1.6104900056082887, 1.6104900056082887, 1.6104898466749609, 1.610489687741633, 1.610489687741633, 1.610489687741633, 14.615375318782316, 4.624188376065724, 5.444430248212657, 3.1442495434969615, 5.3002735876484035, 3.1324814841747153, 2.3773960780183727, 3.911269412169737, 10.229360295463279, 7.10207561324036, 3.1443058058949958, 3.0992272282697018, 16.84156969861587, 13.496245655476269, 7.367864903155686, 9.480742363214345, 35.96162538483862, 8.242870432056257, 10.143553463260723, 6.643127021272563, 16.394003275850466, 3.9112710015030148, 13.606034255374416, 4.467493465272796, 13.056908164690075, 7.221122397348429, 5.688774982077095, 4.272582400081519, 5.4450564455241155, 7.136463699505766, 4.9262122396486205, 4.533077302981791, 4.796837967901316, 3.9111947135056795, 5.308687518021151, 4.006233029119091, 4.141765331584614, 3.9922055736091044, 11.310072602973138, 5.3179434547099715, 3.8199587987679937, 3.819949533139045, 3.070939542562873, 2.321940410145625, 2.321940410145625, 2.321917825175063, 2.3215583477269504, 3.268738425194406, 1.572928247937668, 1.572928247937668, 1.5729281031622158, 1.5729281031622158, 1.5729281031622158, 1.5729281031622158, 1.5729281031622158, 1.5729281031622158, 1.5729281031622158, 1.5729281031622158, 1.5729281031622158, 1.5729281031622158, 1.5729281031622158, 1.5729281031622158, 1.5729281031622158, 1.5729281031622158, 1.572926800183145, 1.572926800183145, 1.572926800183145, 1.572926800183145, 4.568879028563727, 3.8199703808041794, 3.820003679158213, 3.0701383552097297, 2.321588461021033, 2.321947214591884, 2.3219528608345246, 2.321914350564207, 2.3198772151746008, 10.198506369515275, 4.5687994020649505, 6.709077456719271, 3.070963864838863, 3.647189275435496, 3.816109798592592, 7.042638361561049, 24.718414057151563, 4.148994891622936, 10.382595885464738, 31.869663542145513, 15.915172422851205, 6.776676590018725, 5.182678012301187, 6.639878844222576, 11.000549635132902, 10.078266302650157, 3.8006990307948483, 3.7630779713056604, 4.36761277384911, 5.253580342320793, 5.603784054059565, 6.551696116213955, 4.324068661054572, 4.200827688613747, 4.2639827946287605, 3.82005464011743], \"Term\": [\"job\", \"southwestairlines\", \"agent\", \"apply\", \"dallas\", \"ramp\", \"jetblue\", \"parttime\", \"one\", \"way\", \"suzzstravels\", \"departing\", \"airline\", \"golf\", \"americanairlines\", \"plane\", \"starting\", \"game\", \"travel\", \"hiring\", \"unitedairlines\", \"getpacking\", \"united\", \"jfk\", \"new\", \"b\", \"houston\", \"american\", \"terminal\", \"\\ud83d\\udeeb\", \"starting\", \"\\ud83d\\udeeb\", \"depart\", \"33l\", \"\\u2013\", \"a319\", \"fisted\", \"usedhole\", \"professionalhole\", \"deep\\u2026\", \"gayfist\", \"fistingslut\", \"lademence\", \"iah\", \"scimitar\", \"b757200\", \"boeing757\", \"excludes\", \"121317\", \"31418\", \"110\", \"226\", \"214\", \"fbi\", \"n753us\", \"airbus319\", \"rolling\", \"n12125\", \"okemo\", \"b777200er\", \"houston\", \"b\", \"tomorrow\", \"flt\", \"terminal\", \"big\", \"avgeek\", \"flight\", \"unitedairlines\", \"rt\", \"change\", \"americanairlines\", \"united\", \"15\", \"husband\", \"get\", \"hour\", \"travel\", \"customer\", \"service\", \"boeing\", \"jetblue\", \"amp\", \"time\", \"book\", \"american\", \"fly\", \"getpacking\", \"game\", \"1k\", \"flyer\", \"sold\", \"board\", \"excited\", \"bot\", \"35000\", \"post\", \"nycgtmia\", \"puerto\", \"rico\", \"none\", \"amazon\", \"happen\", \"shopping\", \"1999\", \"threatening\", \"cuba\", \"70\", \"havana\", \"captain\", \"snack\", \"standby\", \"fantasy\", \"whyifly\", \"hundred\", \"fangirl\", \"dhokla\", \"movie\", \"longhauls\", \"success\", \"update\", \"shady\", \"sale\", \"come\", \"people\", \"sure\", \"jetblue\", \"like\", \"free\", \"live\", \"york\", \"everyone\", \"crew\", \"im\", \"great\", \"flight\", \"ticket\", \"got\", \"new\", \"hope\", \"rt\", \"buy\", \"time\", \"americanairlines\", \"unitedairlines\", \"trip\", \"travel\", \"southwestairlines\", \"airline\", \"get\", \"customer\", \"passenger\", \"service\", \"amp\", \"job\", \"apply\", \"ramp\", \"parttime\", \"hiring\", \"consultant\", \"dallas\", \"operation\", \"fortlauderdale\", \"network\", \"needed\", \"market\", \"fulltime\", \"opening\", \"manager\", \"provisioning\", \"analysis\", \"agent\", \"wanted\", \"sanjose\", \"indianapolis\", \"senior\", \"coordinator\", \"associate\", \"denver\", \"tour\", \"material\", \"tampa\", \"dev\", \"jacksonville\", \"seattle\", \"orlando\", \"southwestairlines\", \"work\", \"business\", \"austin\", \"check\", \"new\", \"looking\", \"united\", \"unitedairlines\", \"customer\", \"service\", \"americanairlines\", \"airline\", \"amp\", \"flight\", \"alliance\", \"planespotting\", \"firstclass\", \"dontgo\", \"queenoftheskies\", \"747\", \"twa\", \"airliner\", \"dc10\", \"star\", \"worldwide\", \"queen\", \"businessclass\", \"hog\", \"boeing767\", \"pig\", \"depend\", \"nationwide\", \"demonstrates\", \"annualleave\", \"rota\", \"dinner\", \"shame\", \"classic\", \"seriously\\u2026\", \"\\ud83e\\udd1e\\ud83c\\udffbamericanairlines\", \"\\ud83e\\udd1e\\ud83c\\udffbplease\", \"\\u2022\", \"coasttocoast\", \"transcon\", \"priority\", \"oneworld\", \"tried\", \"ohare\", \"sit\", \"guess\", \"next\", \"dca\", \"first\", \"americanairlines\", \"seat\", \"via\", \"economy\", \"international\", \"unitedairlines\", \"united\", \"take\", \"plane\", \"airport\", \"boeing\", \"thank\", \"rt\", \"flight\", \"airline\", \"travel\", \"bag\", \"avgeek\", \"hour\", \"southwestairlines\", \"flying\", \"american\", \"service\", \"jetblue\", \"aa\", \"integration\", \"channel\", \"file\", \"meat\", \"count\", \"petition\", \"southkorea\", \"rescued\", \"trade\", \"damaged\", \"dobetterunited\", \"baggagedo\", \"wheel\", \"1213\", \"q70\", \"youll\", \"funeral\", \"geminijets\", \"retailer\", \"nofrills\", \"expected\", \"gt\", \"ladygaga\", \"mini\", \"southwes\", \"familyvacations\", \"forever\", \"aircraft\", \"1200scale\", \"risk\", \"saying\", \"sister\", \"broke\", \"dobetter\", \"snafu\", \"election\", \"scheduling\", \"global\", \"million\", \"missing\", \"dog\", \"airline\", \"union\", \"read\", \"americanairlines\", \"unitedairlines\", \"pilot\", \"flight\", \"rt\", \"american\", \"customer\", \"travel\", \"southwestairlines\", \"today\", \"jetblue\", \"worst\", \"smart\", \"time\", \"service\", \"take\", \"fly\", \"holiday\", \"luggage\", \"via\", \"don\\u2019t\", \"move\", \"better\", \"flying\", \"attendant\", \"bag\", \"suzzstravels\", \"departing\", \"naacp\", \"fl\", \"antiracism\", \"1211\", \"delivers\", \"1400th\", \"steal\", \"leader\", \"john\", \"thief\", \"robbery\", \"meeting\", \"sticking\", \"advisory\", \"personal\", \"737\", \"training\", \"tie\", \"or\\u2026\", \"metro\\u2019s\", \"rms\", \"wfm\", \"workforce\", \"holidaysarecoming\", \"tool\", \"retrieve\", \"phoenixairport\", \"retweet\", \"way\", \"40\", \"jfk\", \"one\", \"money\", \"embraer\", \"calling\", \"ejet\", \"boston\", \"help\", \"cancel\", \"travel\", \"jetblue\", \"americanairlines\", \"southwest\", \"employee\", \"rt\", \"airport\", \"credit\", \"need\", \"american\", \"get\", \"airline\", \"flight\", \"southwestairlines\", \"aa\", \"hour\", \"7878\", \"de\", \"n808an\", \"removable\", \"providing\", \"avgeek\\u2026\", \"cus\\u2026\", \"fails\", \"vx\", \"scammer\", \"\\ud83e\\udd2c\", \"kate\", \"president\", \"resource\", \"gebo\", \"allowing\", \"christmasparty\", \"vxfll\", \"disco\\u2026\", \"outstanding\", \"gun\", \"canc\\u2026\", \"embraer145\", \"setting\", \"righter\", \"conflict\", \"eagle\", \"banned\", \"checkinforgood\", \"important\", \"anyone\", \"battery\", \"787\", \"dont\", \"lax\", \"never\", \"virginamerica\", \"customerservice\", \"hr\", \"planeporn\", \"nyc\", \"american\", \"plane\", \"thank\", \"dreamliner\", \"americanairlines\", \"happy\", \"amp\", \"airline\", \"fly\", \"flight\", \"rt\", \"unitedairlines\", \"jetblue\", \"today\", \"boeing\", \"smart\", \"employee\", \"flying\", \"big\", \"make\", \"love\", \"even\", \"fort\", \"keepcolonial\", \"rescue\", \"tournment\", \"att\", \"around\", \"biting\", \"2018\", \"golf\", \"talk\", \"others\", \"miramar\", \"dukeofcambridge\", \"prince\", \"princewilliam\", \"threatened\", \"xl\", \"retrofit\", \"delivered\", \"colonial\", \"turn\", \"bathroom\", \"737800\", \"match\", \"vodka\", \"you\\u2019ll\", \"i\\u2026\", \"ferried\", \"kpae\", \"n8553w\", \"man\", \"force\", \"worth\", \"smoking\", \"wifi\", \"tell\", \"william\", \"kill\", \"https\\u2026\", \"passenger\", \"i\\u2019m\", \"status\", \"supervisor\", \"americanairlines\", \"plane\", \"flight\", \"rt\", \"southwestairlines\", \"make\", \"jetblue\", \"luggage\", \"get\", \"flying\", \"new\", \"bag\", \"impose\", \"lasvegasbowl\", \"goducks\", \"fortybucksoneway\", \"copd\", \"sweetdeal\", \"restriction\", \"bea\\u2026\", \"segment\", \"premier\", \"b787\", \"\\u2753\\u2753\", \"boeing787\", \"wingflex\", \"lake\", \"salt\", \"workday\", \"football\", \"listen\", \"contract\", \"\\u201cyou\", \"apps\", \"google\", \"fitbit\", \"tuesdaythoughts\", \"craft\", \"ladder\", \"yr\", \"forth\", \"\\u201cplease\", \"home\", \"website\", \"dreamliner\", \"clearly\", \"bad\", \"wing\", \"there\\u2019s\", \"sweet\", \"back\", \"want\", \"show\", \"else\", \"plane\", \"u\", \"go\", \"bag\", \"americanairlines\", \"check\", \"get\", \"love\", \"southwestairlines\", \"tonight\", \"rt\", \"landing\", \"flight\", \"fly\", \"got\", \"enough\", \"free\", \"jetblue\", \"passenger\", \"aa\", \"service\", \"smart\", \"unitedairlines\", \"gate\", \"travel\", \"amp\", \"sr\", \"tech\", \"systemwide\", \"administrative\", \"introduce\", \"\\ud83d\\ude0eworkholidayparty\", \"hollywood\", \"analyst\", \"wonder\", \"you\\u2019re\", \"haha\", \"redo\", \"730am\", \"location\", \"expert\", \"opened\", \"jfkairport\", \"nofilter\", \"839am\", \"pledged\", \"stair\", \"2019\", \"cro\", \"glorious\", \"wakey\", \"\\ud83d\\udc4f\\ud83d\\udc4f\", \"adoption\", \"highlighted\", \"airlines\\u2019s\", \"invitationonly\", \"alaskaairlines\", \"assistant\", \"field\", \"making\", \"phoenix\", \"bonus\", \"horizon\", \"commercial\", \"congratulation\", \"last\", \"news\", \"chicago\", \"swa\", \"late\", \"fun\", \"gate\", \"southwestairlines\", \"best\", \"new\", \"americanairlines\", \"airline\", \"first\", \"take\", \"u\", \"jetblue\", \"flight\", \"landing\", \"night\", \"virginamerica\", \"american\", \"travel\", \"rt\", \"today\", \"got\", \"check\", \"thanks\"], \"Total\": [156.0, 302.0, 105.0, 75.0, 70.0, 61.0, 279.0, 41.0, 58.0, 41.0, 24.0, 24.0, 166.0, 23.0, 542.0, 81.0, 29.0, 31.0, 117.0, 26.0, 236.0, 27.0, 74.0, 28.0, 70.0, 30.0, 31.0, 80.0, 43.0, 23.0, 29.70755742903814, 23.756164562952346, 23.756161638155906, 19.505168263073827, 16.10437423820937, 10.152984568179315, 10.15298466463849, 10.152984672738036, 10.152984673576752, 10.152984674415466, 10.152984675883216, 10.152984681466618, 10.152984698923783, 21.20205015497802, 8.45258746009847, 8.452587461929456, 8.452587465955286, 8.452586953223618, 8.452587146256901, 8.45258725753722, 8.452587317419672, 8.452587470829727, 8.452587524642611, 7.6023884774225525, 6.752189205483372, 6.752189205483372, 6.752188748680068, 6.752188761200931, 5.901989584414389, 5.901989781371898, 31.00229560299442, 30.974796068710962, 29.427805962630675, 10.971551931392638, 43.62792306016221, 38.961730622731665, 40.896414976447716, 318.8538052959058, 236.5852775276588, 259.11202269665176, 50.710894125720905, 542.8349693826606, 74.57683870830562, 20.928696875697806, 14.074711836365363, 76.45435228820938, 45.74390921077081, 117.24965572241702, 75.71649236432037, 77.98365289781955, 40.74348356750584, 279.8797283337644, 63.309579735355726, 60.87300739279709, 17.274695469185552, 80.43279763010898, 67.23582690030302, 27.894582872704124, 31.20783161727816, 10.960967101769898, 15.136546695072852, 6.727561803193236, 28.623179579977005, 12.626217437734226, 5.880865086119959, 5.88088544322603, 5.034201789798634, 5.034200884951609, 5.034200667960112, 5.034200785854853, 5.0342001474682405, 25.973069672982128, 4.187520929034826, 4.18752078757139, 4.187520852284405, 4.1875206246594985, 4.187517361007357, 4.1875173639764744, 4.187517368443753, 4.187517282586118, 4.185844954602661, 7.5497770775221476, 3.340839606042348, 3.340839606042348, 3.340839606042348, 3.340839606042348, 3.340839606042348, 5.00835632938071, 3.340839606042348, 3.340839606042348, 6.658892134294435, 3.340839606042348, 11.536461467914007, 18.27177944657142, 32.94467212148292, 18.26909919250644, 279.8797283337644, 23.894625110764974, 41.424634762485056, 9.120992477359147, 15.758441357289296, 17.951873831396647, 24.115919020051336, 28.213486243891303, 24.73900623697052, 318.8538052959058, 51.01652784010968, 36.57527563572364, 70.38548672338345, 10.774587792250792, 259.11202269665176, 19.611744817729946, 60.87300739279709, 542.8349693826606, 236.5852775276588, 26.215124046444235, 117.24965572241702, 302.3962286660057, 166.50937542148787, 76.45435228820938, 75.71649236432037, 40.626254587572156, 77.98365289781955, 63.309579735355726, 156.62944842813795, 75.04371413876265, 61.1741859642268, 41.59362707859551, 26.092346497530038, 19.565498539013515, 70.24174294145435, 15.486216502840968, 12.222791180400126, 11.406934125948727, 20.336325497500134, 9.775220565235516, 8.959364232469367, 8.959361943754141, 17.12027106838994, 8.143507170403476, 7.327649906189317, 105.01870591811657, 14.624926719756594, 6.511794131775128, 6.511794138361637, 6.511794117289404, 6.5117933013444045, 6.51179565204878, 19.550884567870458, 5.695936319109839, 5.69593382833986, 5.6959394503337295, 4.880080441933967, 4.880080058217909, 12.95184310535107, 17.84927875473184, 302.3962286660057, 38.99417460337879, 34.81497698694285, 12.926524467768445, 47.952917234162776, 70.38548672338345, 16.86504763890207, 74.57683870830562, 236.5852775276588, 75.71649236432037, 77.98365289781955, 542.8349693826606, 166.50937542148787, 63.309579735355726, 318.8538052959058, 13.133994102249952, 12.311780450962612, 9.845124805511634, 9.022928679863625, 9.022928679863625, 9.022928679863625, 7.378501942167253, 7.37850135412103, 7.37850060639608, 10.615966590830364, 4.911900349344031, 9.800941636872484, 9.812638101460662, 4.089649229671744, 4.089649229671744, 4.089649605733677, 4.089649594833222, 4.089649594833222, 4.089649840735844, 4.089649859692254, 4.089649874177918, 4.089647659842745, 4.089726089083654, 7.343731838162884, 3.2674367751518822, 3.267436778411288, 3.2674368428527845, 3.267436458065982, 3.267436297421748, 3.267436297421748, 6.504899304293348, 5.701571657992841, 8.060293225906342, 5.727613001430448, 12.358369498385807, 11.368740688310881, 13.857589264412315, 10.508880668569786, 45.73176778653133, 542.8349693826606, 33.322533488602474, 34.44562028477316, 9.646102962935348, 23.57592307807136, 236.5852775276588, 74.57683870830562, 29.7985838352037, 81.85859151490719, 57.25970220825737, 40.74348356750584, 39.61672216476594, 259.11202269665176, 318.8538052959058, 166.50937542148787, 117.24965572241702, 47.285982634236625, 40.896414976447716, 45.74390921077081, 302.3962286660057, 45.804765427163105, 80.43279763010898, 77.98365289781955, 279.8797283337644, 50.507928327690074, 17.17216514160984, 17.172165165595974, 7.349344313951918, 6.530775568694651, 6.530776195852426, 6.530775713470103, 6.530775727042801, 6.530775754188199, 6.53077577228513, 6.53077420615147, 5.71220788311366, 5.71220788311366, 5.71220788311366, 5.712202662760165, 4.075070985161986, 4.075070639360807, 4.075070606589617, 4.075070730465745, 4.0750702362246605, 4.075064594694586, 7.301601667383037, 3.2565021378885124, 3.2565025907179033, 3.256502616495596, 3.256502731267205, 3.256502731267205, 3.2565024056596084, 3.256502574006224, 3.2565020757003817, 3.25650215786139, 6.479112046822273, 6.528063145710996, 6.534439887602184, 6.53444052270825, 5.6426533333331435, 8.15546652971259, 9.756153178176486, 5.743836838548314, 5.743826635112429, 10.609138527830776, 18.807613095545197, 166.50937542148787, 8.864802012525102, 10.750136513310098, 542.8349693826606, 236.5852775276588, 31.020847465931638, 318.8538052959058, 259.11202269665176, 80.43279763010898, 75.71649236432037, 117.24965572241702, 302.3962286660057, 41.170519478412906, 279.8797283337644, 17.119755587391616, 19.141828672688863, 60.87300739279709, 77.98365289781955, 29.7985838352037, 67.23582690030302, 27.8545238498009, 32.36625503457929, 34.44562028477316, 15.506062137239233, 16.075924863438313, 17.673660239551783, 45.804765427163105, 32.87998385083656, 47.285982634236625, 24.49208361196119, 24.492081071799273, 11.856732796132464, 9.487599903555552, 7.118469968610208, 6.328762086516202, 6.328762127782251, 6.328761896965821, 6.328762508606723, 5.539052716013734, 5.539052522544946, 5.539053228796507, 5.539053953433179, 4.749343574205854, 4.7493439771729475, 4.7493508336090215, 4.749378878943392, 8.657195592008955, 8.75485748040391, 3.9596342220889937, 3.959634224478598, 3.9596344297765262, 3.9596344297765262, 3.9596344297765262, 3.9596344297765262, 3.9596344297765262, 3.9596344297765262, 3.9596342257309085, 3.9596343875010565, 3.9596344688282907, 41.26110619546158, 11.75252911851581, 28.65884620461794, 58.132129554602486, 14.397513920857694, 6.354909156485057, 7.8704150440561005, 7.8847793803065995, 20.142660519225817, 21.417105409938355, 8.775478006278037, 117.24965572241702, 279.8797283337644, 542.8349693826606, 34.500477243408525, 23.699717809582317, 259.11202269665176, 57.25970220825737, 12.863950638254831, 28.60042751520637, 80.43279763010898, 76.45435228820938, 166.50937542148787, 318.8538052959058, 302.3962286660057, 50.507928327690074, 45.74390921077081, 6.246859317318443, 5.46885005743388, 5.46885005743388, 5.46885005743388, 5.468849950858309, 4.6908414197031085, 4.6908409638135025, 3.9128333273327023, 3.912832742364738, 3.134823893596889, 3.134823742395712, 3.1348241710725175, 3.134824198793382, 3.1348242597792826, 3.134824151652339, 3.1348236889565024, 3.134823807198984, 3.134823807198984, 3.134823807198984, 6.291062828713448, 2.3568149825397406, 2.3568149825397406, 2.356814807882723, 2.356814807882723, 2.356814807882723, 2.356814807882723, 2.356814807882723, 2.356814807882723, 2.3568150874976075, 2.3568151370545425, 7.040085319428946, 9.47785837883591, 8.547571259910367, 16.63078512633125, 34.30701482252607, 25.614946265214094, 36.844838562373205, 11.92557672868432, 14.517521389262892, 9.596394596635138, 11.986887928765716, 80.43279763010898, 81.85859151490719, 39.61672216476594, 10.83717813178407, 542.8349693826606, 11.985012156916547, 63.309579735355726, 166.50937542148787, 67.23582690030302, 318.8538052959058, 259.11202269665176, 236.5852775276588, 279.8797283337644, 41.170519478412906, 40.74348356750584, 19.141828672688863, 23.699717809582317, 45.804765427163105, 38.961730622731665, 33.0612552166168, 33.52399997886241, 23.531125380436627, 13.904827035674117, 10.821520026683798, 10.821520026683798, 10.821520026683798, 10.821520026683798, 6.96739556407781, 6.196571163111777, 16.173674213157103, 23.39282832457899, 14.686681048518409, 13.995039004560635, 3.113271702488024, 3.1132718871388705, 3.1132718871388705, 3.1132718871388705, 3.113272256176283, 3.1132732783394363, 3.1132732981229894, 3.113274226163896, 13.372112213720523, 8.632641405655063, 5.505117122061779, 2.3424467540506155, 2.3424467540506155, 2.3424467540506155, 2.3424467540506155, 2.3424467540506155, 2.3424467540506155, 2.3424467540506155, 2.3424467540506155, 13.425084876466213, 8.501603482203711, 18.98520231823139, 5.503163010099227, 7.030132597542625, 7.09083664374002, 3.862285471180387, 8.836992177349341, 20.041739389201872, 40.626254587572156, 20.7890437871972, 10.191750933914996, 7.9119274999172875, 542.8349693826606, 81.85859151490719, 318.8538052959058, 259.11202269665176, 302.3962286660057, 33.0612552166168, 279.8797283337644, 32.36625503457929, 76.45435228820938, 45.804765427163105, 70.38548672338345, 47.285982634236625, 3.8683979464349245, 3.868398960153964, 3.868398960153964, 3.868398960153964, 3.868398960153964, 3.868398960153964, 3.1014977545579683, 3.101497760663234, 3.1014981546052547, 3.101498163515112, 3.1014995717241374, 3.1014995717241374, 3.1014995717241374, 3.1014995717241374, 3.101499982859191, 3.101500298747453, 2.3345974364799313, 2.3345974364799313, 2.3345974364799313, 2.3345974364799313, 2.3345974364799313, 2.3345974364799313, 2.3345974364799313, 2.3345974364799313, 2.3345976602592353, 2.3345978138377568, 2.334597686898989, 2.3345976558700987, 2.3345976940839597, 2.3345977601215795, 35.523878778173255, 8.671969481595324, 10.83717813178407, 5.568795049012637, 11.096750207434605, 5.566534916139808, 3.879506668495448, 7.927863963754025, 32.99823849278443, 21.80942462546859, 6.346789901380415, 6.283873103215591, 81.85859151490719, 62.77536602724652, 29.887533098813016, 47.285982634236625, 542.8349693826606, 47.952917234162776, 76.45435228820938, 33.52399997886241, 302.3962286660057, 10.39438569820328, 259.11202269665176, 16.529483504678833, 318.8538052959058, 67.23582690030302, 36.57527563572364, 16.163417537078786, 41.424634762485056, 279.8797283337644, 40.626254587572156, 50.507928327690074, 77.98365289781955, 19.141828672688863, 236.5852775276588, 31.10111805068876, 117.24965572241702, 63.309579735355726, 12.036003546734811, 6.043898000228715, 4.545865833537741, 4.545866457894181, 3.79685359701806, 3.047838009263053, 3.047838009263053, 3.0478400724795325, 3.047871868844961, 4.598910793968239, 2.2988243392728642, 2.2988243392728642, 2.298824194497412, 2.298824194497412, 2.298824194497412, 2.298824194497412, 2.298824194497412, 2.298824194497412, 2.298824194497412, 2.298824194497412, 2.298824194497412, 2.298824194497412, 2.298824194497412, 2.298824194497412, 2.298824194497412, 2.298824194497412, 2.2988244481193725, 2.2988244481193725, 2.2988244481193725, 2.2988244481193725, 6.9319272627994435, 6.159445626114612, 6.906078354627823, 5.462177623485633, 3.8375789871560064, 3.8664063407862233, 3.8980350440777958, 3.8980366604617425, 3.894719934443776, 31.27456303093735, 10.335592969752966, 19.78563225577208, 6.263489736213478, 9.439110051933502, 10.261574214852377, 31.10111805068876, 302.3962286660057, 13.270986407413034, 70.38548672338345, 542.8349693826606, 166.50937542148787, 45.73176778653133, 29.7985838352037, 62.77536602724652, 279.8797283337644, 318.8538052959058, 16.529483504678833, 16.979151195950546, 36.844838562373205, 80.43279763010898, 117.24965572241702, 259.11202269665176, 41.170519478412906, 36.57527563572364, 47.952917234162776, 31.69462737005367], \"loglift\": [30.0, 29.0, 28.0, 27.0, 26.0, 25.0, 24.0, 23.0, 22.0, 21.0, 20.0, 19.0, 18.0, 17.0, 16.0, 15.0, 14.0, 13.0, 12.0, 11.0, 10.0, 9.0, 8.0, 7.0, 6.0, 5.0, 4.0, 3.0, 2.0, 1.0, 1.8704, 1.8642, 1.8642, 1.8574, 1.8494, 1.8217, 1.8217, 1.8217, 1.8217, 1.8217, 1.8217, 1.8217, 1.8217, 1.8183, 1.8063, 1.8063, 1.8063, 1.8063, 1.8063, 1.8063, 1.8063, 1.8063, 1.8063, 1.7959, 1.7828, 1.7828, 1.7828, 1.7828, 1.7655, 1.7655, 1.7337, 1.7039, 1.6801, 1.7442, 1.5834, 1.4407, 1.3979, 0.6889, 0.6842, 0.6309, 1.1955, 0.2191, 0.9623, 1.4573, 1.5814, 0.7292, 0.9237, 0.1516, 0.3507, 0.3032, 0.7399, -0.8811, 0.309, 0.2992, 1.3665, 0.0106, 0.1226, 1.9, 1.8752, 1.8585, 1.8201, 1.8135, 1.8097, 1.7965, 1.7961, 1.796, 1.7726, 1.7726, 1.7726, 1.7726, 1.7726, 1.7643, 1.7385, 1.7385, 1.7385, 1.7385, 1.7385, 1.7385, 1.7385, 1.7385, 1.7317, 1.6982, 1.6848, 1.6848, 1.6848, 1.6848, 1.6848, 1.6846, 1.6848, 1.6848, 1.672, 1.6848, 1.6266, 1.5765, 1.5143, 1.5597, 1.2553, 1.5112, 1.4353, 1.6106, 1.4092, 1.3633, 1.2816, 1.214, 1.2466, 0.4014, 0.9962, 1.0601, 0.7614, 1.4567, 0.0863, 1.1881, 0.6745, -0.368, 0.0259, 0.9836, 0.0612, -0.5288, -0.2555, 0.2584, 0.2146, 0.676, 0.1084, 0.2446, 2.0518, 2.0468, 2.0446, 2.039, 2.0284, 2.0189, 2.0096, 2.0088, 1.9958, 1.9913, 1.9803, 1.98, 1.9727, 1.9727, 1.9694, 1.9639, 1.9531, 1.9529, 1.9484, 1.9394, 1.9394, 1.9394, 1.9394, 1.9393, 1.9291, 1.9214, 1.9214, 1.9214, 1.897, 1.897, 1.8643, 1.8509, 1.4974, 1.6182, 1.4395, 1.7006, 1.1683, 0.9791, 1.4903, 0.6997, -0.032, 0.6032, 0.5239, -0.7394, -0.4928, 0.2745, -1.2776, 2.1331, 2.1292, 2.1135, 2.1064, 2.1064, 2.1064, 2.0869, 2.0869, 2.0869, 2.0382, 2.0309, 2.0237, 2.0225, 1.9961, 1.9961, 1.9961, 1.9961, 1.9961, 1.9961, 1.9961, 1.9961, 1.9961, 1.9954, 1.95, 1.941, 1.941, 1.941, 1.941, 1.941, 1.941, 1.9293, 1.8821, 1.8434, 1.8744, 1.7716, 1.7412, 1.6766, 1.7332, 1.2935, 0.4333, 1.2899, 1.2223, 1.6871, 1.337, 0.4022, 0.8308, 1.177, 0.6678, 0.7662, 0.9326, 0.9136, -0.1908, -0.3788, 0.0208, 0.1975, 0.7524, 0.7583, 0.655, -1.0992, 0.5858, -0.0198, 0.0021, -1.2585, 0.4066, 2.1716, 2.1716, 2.1115, 2.0978, 2.0978, 2.0978, 2.0978, 2.0978, 2.0978, 2.0978, 2.0799, 2.0799, 2.0799, 2.0799, 2.0203, 2.0203, 2.0203, 2.0203, 2.0203, 2.0203, 1.9862, 1.965, 1.965, 1.965, 1.965, 1.965, 1.965, 1.965, 1.9649, 1.9649, 1.9539, 1.9464, 1.9445, 1.9445, 1.9131, 1.8756, 1.8282, 1.8953, 1.8953, 1.8129, 1.7261, 1.1111, 1.7922, 1.7312, 0.0732, 0.4046, 1.1877, 0.1575, 0.1355, 0.688, 0.6891, 0.364, -0.3667, 0.8529, -0.4584, 1.3566, 1.2706, 0.4736, 0.2266, 0.8729, 0.1739, 0.8955, 0.7634, 0.6831, 1.3511, 1.3167, 1.2336, 0.3759, 0.6644, 0.2824, 2.4699, 2.4699, 2.437, 2.4206, 2.3929, 2.3787, 2.3787, 2.3787, 2.3787, 2.3602, 2.3601, 2.3601, 2.3601, 2.3349, 2.3349, 2.3349, 2.3348, 2.3136, 2.3024, 2.2985, 2.2985, 2.2985, 2.2985, 2.2985, 2.2985, 2.2985, 2.2985, 2.2985, 2.2985, 2.2985, 2.2623, 2.2066, 2.105, 2.0207, 2.1692, 2.2228, 2.1607, 2.1588, 1.8888, 1.8456, 2.0496, 1.1703, 0.5884, 0.2352, 1.3921, 1.5622, 0.1583, 0.9328, 1.7994, 1.2325, 0.4878, 0.5158, -0.0709, -0.7042, -0.9946, 0.5106, 0.5785, 2.4806, 2.4618, 2.4618, 2.4618, 2.4618, 2.4362, 2.4362, 2.3993, 2.3993, 2.3414, 2.3414, 2.3414, 2.3414, 2.3414, 2.3414, 2.3414, 2.3414, 2.3414, 2.3414, 2.3218, 2.2372, 2.2372, 2.2372, 2.2372, 2.2372, 2.2372, 2.2372, 2.2372, 2.2372, 2.2372, 2.2092, 2.1955, 2.1671, 2.0207, 1.9076, 1.8774, 1.7905, 1.9485, 1.8855, 1.8996, 1.8289, 1.1507, 0.9575, 1.2587, 1.778, -0.072, 1.6773, 0.8295, 0.2652, 0.7182, -0.3144, -0.2174, -0.2732, -0.402, 0.8227, 0.8037, 1.3608, 1.1477, 0.4788, 0.6272, 0.7725, 0.7517, 1.087, 2.6055, 2.5898, 2.5898, 2.5898, 2.5898, 2.5493, 2.5348, 2.5112, 2.5082, 2.4265, 2.4062, 2.3944, 2.3944, 2.3944, 2.3944, 2.3944, 2.3944, 2.3944, 2.3944, 2.3781, 2.335, 2.3223, 2.2894, 2.2894, 2.2894, 2.2894, 2.2894, 2.2894, 2.2894, 2.2894, 2.2085, 2.2185, 2.0925, 2.1927, 2.0777, 2.053, 2.1788, 1.9736, 1.7134, 1.414, 1.6559, 1.8854, 1.9595, -0.1061, 0.7654, 0.0754, 0.1522, -0.1151, 1.1369, -0.2487, 1.1101, 0.5197, 0.6709, 0.2848, 0.6074, 2.4907, 2.4907, 2.4907, 2.4907, 2.4907, 2.4907, 2.4321, 2.4321, 2.4321, 2.4321, 2.4321, 2.4321, 2.4321, 2.4321, 2.4321, 2.4321, 2.3267, 2.3267, 2.3267, 2.3267, 2.3267, 2.3267, 2.3267, 2.3267, 2.3267, 2.3267, 2.3267, 2.3267, 2.3267, 2.3267, 1.8098, 2.0692, 2.0096, 2.1264, 1.9591, 2.123, 2.2083, 1.9914, 1.5268, 1.576, 1.9956, 1.9911, 1.1168, 1.1608, 1.2977, 1.091, -0.0164, 0.9371, 0.6781, 1.0793, -0.2169, 1.7206, -0.2488, 1.3897, -0.4974, 0.4668, 0.8371, 1.3674, 0.6688, -0.9712, 0.5881, 0.2872, -0.0906, 1.1099, -1.099, 0.6486, -0.6452, -0.0657, 2.7291, 2.6633, 2.6173, 2.6173, 2.5791, 2.5192, 2.5192, 2.5192, 2.5191, 2.4499, 2.4118, 2.4118, 2.4118, 2.4118, 2.4118, 2.4118, 2.4118, 2.4118, 2.4118, 2.4118, 2.4118, 2.4118, 2.4118, 2.4118, 2.4118, 2.4118, 2.4118, 2.4118, 2.4118, 2.4118, 2.3744, 2.3135, 2.1991, 2.2151, 2.2887, 2.2814, 2.2732, 2.2732, 2.2732, 1.6707, 1.9749, 1.7098, 2.0785, 1.8404, 1.8021, 1.306, 0.2871, 1.6286, 0.8774, -0.0439, 0.4435, 0.882, 1.0421, 0.5448, -0.4451, -0.6631, 1.3213, 1.2845, 0.6588, 0.0628, -0.2496, -0.8863, 0.5377, 0.6272, 0.3713, 0.6754], \"logprob\": [30.0, 29.0, 28.0, 27.0, 26.0, 25.0, 24.0, 23.0, 22.0, 21.0, 20.0, 19.0, 18.0, 17.0, 16.0, 15.0, 14.0, 13.0, 12.0, 11.0, 10.0, 9.0, 8.0, 7.0, 6.0, 5.0, 4.0, 3.0, 2.0, 1.0, -4.655200004577637, -4.885000228881836, -4.885000228881836, -5.088900089263916, -5.288599967956543, -5.777599811553955, -5.777599811553955, -5.777599811553955, -5.777599811553955, -5.777599811553955, -5.777599811553955, -5.777599811553955, -5.777599811553955, -5.0447001457214355, -5.976200103759766, -5.976200103759766, -5.976200103759766, -5.976200103759766, -5.976200103759766, -5.976200103759766, -5.976200103759766, -5.976200103759766, -5.976200103759766, -6.092599868774414, -6.224400043487549, -6.224400043487549, -6.224400043487549, -6.224400043487549, -6.376200199127197, -6.376200199127197, -4.749300003051758, -4.78000020980835, -4.855000019073486, -5.777599811553955, -4.558000087738037, -4.813799858093262, -4.80810022354126, -3.463399887084961, -3.7665998935699463, -3.7288999557495117, -4.795400142669678, -3.401099920272827, -4.642899990081787, -5.418600082397461, -5.691299915313721, -4.851200103759766, -5.170300006866455, -5.001100063323975, -5.239299774169922, -5.257299900054932, -5.469799995422363, -5.16379976272583, -5.460000038146973, -5.508999824523926, -5.701300144195557, -5.519100189208984, -5.586299896240234, -4.688600063323975, -4.601200103759766, -5.6641998291015625, -5.379899978637695, -6.197299957275391, -4.7530999183654785, -5.584799766540527, -6.3491997718811035, -6.349299907684326, -6.528200149536133, -6.528200149536133, -6.528200149536133, -6.528200149536133, -6.528200149536133, -4.895699977874756, -6.746399879455566, -6.746399879455566, -6.746399879455566, -6.746399879455566, -6.746500015258789, -6.746500015258789, -6.746500015258789, -6.746500015258789, -6.753600120544434, -6.197299957275391, -7.026000022888184, -7.026000022888184, -7.026000022888184, -7.026000022888184, -7.026000022888184, -6.621300220489502, -7.026000022888184, -7.026000022888184, -6.349100112915039, -7.026000022888184, -5.844900131225586, -5.435200214385986, -4.9079999923706055, -5.452099800109863, -3.027400016784668, -5.2322001457214355, -4.757900238037109, -6.095900058746338, -5.750500202178955, -5.665999889373779, -5.452600002288818, -5.36329984664917, -5.462100028991699, -3.7509000301361084, -4.988699913024902, -5.257599830627441, -4.901700019836426, -6.083099842071533, -4.273499965667725, -5.752900123596191, -5.133800029754639, -3.988300085067749, -4.424799919128418, -5.667200088500977, -5.0914998054504395, -4.734099864959717, -5.057499885559082, -5.321899890899658, -5.375400066375732, -5.536600112915039, -5.452199935913086, -5.524400234222412, -2.8113999366760254, -3.5522000789642334, -3.758699893951416, -4.150100231170654, -4.626999855041504, -4.924300193786621, -3.6554999351501465, -5.168300151824951, -5.418000221252441, -5.491499900817871, -4.924300193786621, -5.657199859619141, -5.7515997886657715, -5.7515997886657715, -5.1072998046875, -5.855899810791016, -5.972300052642822, -3.309999942779541, -5.285900115966797, -6.104100227355957, -6.104100227355957, -6.104100227355957, -6.104100227355957, -6.104100227355957, -5.014900207519531, -6.255899906158447, -6.255899906158447, -6.255899906158447, -6.434899806976318, -6.434899806976318, -5.491499900817871, -5.184199810028076, -2.707900047302246, -4.63539981842041, -4.927499771118164, -5.657199859619141, -4.878600120544434, -4.683899879455566, -5.601500034332275, -4.9054999351501465, -4.482699871063232, -4.986800193786621, -5.036600112915039, -4.3597002029418945, -5.2947998046875, -5.494500160217285, -5.429900169372559, -5.208799839019775, -5.277299880981445, -5.516499996185303, -5.610899925231934, -5.610899925231934, -5.610899925231934, -5.831600189208984, -5.831600189208984, -5.831600189208984, -5.516499996185303, -6.29449987411499, -5.610899925231934, -5.610899925231934, -6.512499809265137, -6.512499809265137, -6.512499809265137, -6.512499809265137, -6.512499809265137, -6.512499809265137, -6.512499809265137, -6.512499809265137, -6.512499809265137, -6.5131001472473145, -5.973199844360352, -6.791999816894531, -6.791999816894531, -6.791999816894531, -6.791999816894531, -6.791999816894531, -6.791999816894531, -6.115200042724609, -6.2941999435424805, -5.986700057983398, -6.297399997711182, -5.631100177764893, -5.744900226593018, -5.611599922180176, -5.831600189208984, -4.8007001876831055, -3.1868999004364014, -5.1209001541137695, -5.155300140380859, -5.963399887084961, -5.4197998046875, -4.048500061035156, -4.774400234222412, -5.345600128173828, -4.844299793243408, -5.103300094604492, -5.277200222015381, -5.32420015335083, -4.550600051879883, -4.531099796295166, -4.781199932098389, -4.9552001953125, -5.3084001541137695, -5.447700023651123, -5.439000129699707, -5.304599761962891, -5.506800174713135, -5.5493998527526855, -5.558499813079834, -5.541200160980225, -5.588399887084961, -4.902100086212158, -4.902100086212158, -5.810999870300293, -5.942699909210205, -5.942699909210205, -5.942699909210205, -5.942699909210205, -5.942699909210205, -5.942699909210205, -5.942800045013428, -6.094600200653076, -6.094600200653076, -6.094600200653076, -6.094600200653076, -6.4918999671936035, -6.4918999671936035, -6.4918999671936035, -6.4918999671936035, -6.4918999671936035, -6.4918999671936035, -5.942699909210205, -6.771399974822998, -6.771399974822998, -6.771399974822998, -6.771399974822998, -6.771399974822998, -6.771399974822998, -6.771399974822998, -6.771399974822998, -6.771399974822998, -6.0945000648498535, -6.094600200653076, -6.095399856567383, -6.095399856567383, -6.273600101470947, -5.942699909210205, -5.810999870300293, -6.273600101470947, -6.273600101470947, -5.742400169372559, -5.256700038909912, -3.6909000873565674, -5.942699909210205, -5.810999870300293, -3.546999931335449, -4.046199798583984, -5.2947001457214355, -3.994800090789795, -4.224299907684326, -4.841599941253662, -4.900899887084961, -4.788700103759766, -4.572000026702881, -5.346399784088135, -4.741099834442139, -5.720200061798096, -5.6946001052856445, -5.33459997177124, -5.333899974822998, -5.649700164794922, -5.534900188446045, -5.6946001052856445, -5.676499843597412, -5.6946001052856445, -5.824699878692627, -5.822999954223633, -5.811399936676025, -5.716700077056885, -5.759799957275391, -5.77839994430542, -4.248799800872803, -4.248799800872803, -5.007199764251709, -5.246399879455566, -5.561500072479248, -5.693299770355225, -5.693299770355225, -5.693299770355225, -5.693299770355225, -5.845099925994873, -5.845099925994873, -5.845099925994873, -5.845099925994873, -6.024099826812744, -6.024099826812744, -6.024099826812744, -6.0243000984191895, -5.445099830627441, -5.445099830627441, -6.242400169372559, -6.242400169372559, -6.242400169372559, -6.242400169372559, -6.242400169372559, -6.242400169372559, -6.242400169372559, -6.242400169372559, -6.242400169372559, -6.242400169372559, -6.242400169372559, -3.934799909591675, -5.246399879455566, -4.456600189208984, -3.8336000442504883, -5.080699920654297, -5.845099925994873, -5.693299770355225, -5.693299770355225, -5.025400161743164, -5.007299900054932, -5.695499897003174, -3.9825000762939453, -3.6942999362945557, -3.3850998878479004, -4.98390007019043, -5.1894001960754395, -4.201499938964844, -4.936699867248535, -5.563199996948242, -5.331099987030029, -5.041900157928467, -5.064499855041504, -4.872900009155273, -4.856500148773193, -5.199900150299072, -5.484399795532227, -5.515500068664551, -5.604300022125244, -5.756100177764893, -5.756100177764893, -5.756100177764893, -5.756100177764893, -5.935200214385986, -5.935200214385986, -6.15339994430542, -6.15339994430542, -6.433000087738037, -6.433000087738037, -6.433000087738037, -6.433000087738037, -6.433000087738037, -6.433000087738037, -6.433000087738037, -6.433000087738037, -6.433000087738037, -6.433000087738037, -5.756100177764893, -6.822500228881836, -6.822500228881836, -6.822500228881836, -6.822500228881836, -6.822500228881836, -6.822500228881836, -6.822500228881836, -6.822500228881836, -6.822500228881836, -6.822500228881836, -5.756199836730957, -5.472599983215332, -5.604300022125244, -5.085100173950195, -4.474100112915039, -4.796500205993652, -4.519800186157227, -5.4899001121521, -5.356200218200684, -5.75600004196167, -5.604300022125244, -4.378900051116943, -4.554599761962891, -4.979100227355957, -5.756100177764893, -3.6923000812530518, -5.756100177764893, -4.939499855041504, -4.536799907684326, -4.990699768066406, -4.466700077056885, -4.577199935913086, -4.723899841308594, -4.684700012207031, -5.3765997886657715, -5.406099796295166, -5.604300022125244, -5.603899955749512, -5.613900184631348, -5.627299785614014, -5.646200180053711, -5.65310001373291, -5.671800136566162, -4.679299831390381, -4.945700168609619, -4.945700168609619, -4.945700168609619, -4.945700168609619, -5.426499843597412, -5.558199882507324, -4.622399806976318, -4.256400108337402, -4.803599834442139, -4.872200012207031, -6.386899948120117, -6.386899948120117, -6.386899948120117, -6.386899948120117, -6.386899948120117, -6.386899948120117, -6.386899948120117, -6.386899948120117, -4.945700168609619, -5.426499843597412, -5.889100074768066, -6.776400089263916, -6.776400089263916, -6.776400089263916, -6.776400089263916, -6.776400089263916, -6.776400089263916, -6.776400089263916, -6.776400089263916, -5.111400127410889, -5.558199882507324, -4.880899906158447, -6.019100189208984, -5.889200210571289, -5.905200004577637, -6.386899948120117, -5.764500141143799, -5.2058000564575195, -4.798699855804443, -5.2266998291015625, -5.710100173950195, -5.889200210571289, -3.7263998985290527, -4.746699810028076, -4.076900005340576, -4.207600116729736, -4.320400238037109, -5.281799793243408, -4.531400203704834, -5.329800128936768, -5.060699939727783, -5.4217000007629395, -5.378200054168701, -5.453400135040283, -6.073500156402588, -6.073500156402588, -6.073500156402588, -6.073500156402588, -6.073500156402588, -6.073500156402588, -6.353099822998047, -6.353099822998047, -6.353099822998047, -6.353099822998047, -6.353099822998047, -6.353099822998047, -6.353099822998047, -6.353099822998047, -6.353099822998047, -6.353099822998047, -6.742499828338623, -6.742499828338623, -6.742499828338623, -6.742499828338623, -6.742499828338623, -6.742499828338623, -6.742499828338623, -6.742499828338623, -6.742499828338623, -6.742499828338623, -6.742499828338623, -6.742499828338623, -6.742499828338623, -6.742499828338623, -4.5370001792907715, -5.68779993057251, -5.524499893188477, -6.073500156402588, -5.551300048828125, -6.077300071716309, -6.353099822998047, -5.855199813842773, -4.893799781799316, -5.258699893951416, -6.073500156402588, -6.087900161743164, -4.395199775695801, -4.616700172424316, -5.22189998626709, -4.969799995422363, -3.6366000175476074, -5.1097002029418945, -4.902200222015381, -5.325500011444092, -4.4222002029418945, -5.855199813842773, -4.60860013961792, -5.7221999168396, -4.649799823760986, -5.242099761962891, -5.480599880218506, -5.766900062561035, -5.524400234222412, -5.253900051116943, -5.624499797821045, -5.707699775695801, -5.651100158691406, -5.855199813842773, -5.549699783325195, -5.831200122833252, -5.797999858856201, -5.834700107574463, -4.700099945068359, -5.454699993133545, -5.7855000495910645, -5.7855000495910645, -6.003799915313721, -6.283400058746338, -6.283400058746338, -6.283400058746338, -6.2835001945495605, -5.941400051116943, -6.672800064086914, -6.672800064086914, -6.672800064086914, -6.672800064086914, -6.672800064086914, -6.672800064086914, -6.672800064086914, -6.672800064086914, -6.672800064086914, -6.672800064086914, -6.672800064086914, -6.672800064086914, -6.672800064086914, -6.672800064086914, -6.672800064086914, -6.672800064086914, -6.672800064086914, -6.672800064086914, -6.672800064086914, -6.672800064086914, -5.606500148773193, -5.7855000495910645, -5.7855000495910645, -6.0040998458862305, -6.2835001945495605, -6.283400058746338, -6.283400058746338, -6.283400058746338, -6.284299850463867, -4.803500175476074, -5.606500148773193, -5.222300052642822, -6.003799915313721, -5.8317999839782715, -5.786499977111816, -5.173799991607666, -3.9182000160217285, -5.702899932861328, -4.785600185394287, -3.664099931716919, -4.358500003814697, -5.212299823760986, -5.480500221252441, -5.232699871063232, -4.727799892425537, -4.815400123596191, -5.790599822998047, -5.80049991607666, -5.651599884033203, -5.466899871826172, -5.402299880981445, -5.246099948883057, -5.661600112915039, -5.690499782562256, -5.675600051879883, -5.7855000495910645]}, \"token.table\": {\"Topic\": [1, 5, 6, 5, 1, 6, 1, 2, 4, 6, 7, 10, 2, 2, 8, 10, 10, 1, 1, 1, 1, 2, 6, 9, 10, 2, 10, 6, 10, 8, 4, 7, 9, 7, 10, 1, 1, 2, 4, 5, 6, 7, 8, 9, 10, 10, 10, 6, 3, 5, 9, 10, 1, 5, 1, 2, 3, 4, 5, 6, 7, 8, 9, 10, 4, 10, 1, 3, 4, 5, 6, 7, 9, 10, 5, 10, 4, 7, 2, 6, 1, 2, 4, 5, 6, 7, 8, 9, 10, 1, 2, 3, 4, 5, 6, 7, 8, 9, 10, 1, 2, 3, 4, 5, 6, 7, 8, 9, 10, 3, 10, 4, 6, 4, 7, 10, 3, 9, 8, 2, 9, 10, 3, 8, 1, 2, 3, 4, 5, 7, 8, 10, 2, 3, 8, 9, 1, 3, 4, 6, 7, 7, 1, 7, 1, 1, 9, 1, 2, 3, 5, 6, 9, 10, 1, 5, 6, 9, 1, 2, 4, 5, 6, 7, 8, 9, 5, 7, 1, 8, 3, 5, 7, 9, 1, 2, 7, 8, 9, 10, 1, 2, 4, 5, 6, 7, 9, 10, 1, 3, 5, 7, 8, 10, 8, 2, 4, 7, 1, 2, 4, 5, 7, 8, 10, 1, 4, 9, 5, 10, 1, 2, 5, 7, 10, 1, 2, 4, 6, 7, 2, 4, 5, 1, 2, 3, 4, 5, 7, 10, 4, 6, 2, 3, 5, 6, 7, 9, 6, 8, 2, 4, 6, 7, 7, 2, 1, 2, 3, 4, 5, 6, 7, 10, 5, 2, 3, 4, 5, 6, 8, 9, 10, 7, 1, 4, 5, 9, 10, 7, 4, 6, 1, 9, 4, 1, 8, 2, 4, 5, 10, 1, 10, 7, 2, 10, 3, 9, 3, 9, 5, 9, 2, 5, 6, 7, 1, 2, 3, 4, 6, 10, 10, 2, 1, 2, 3, 4, 5, 6, 7, 8, 9, 1, 4, 5, 6, 7, 8, 7, 1, 3, 5, 4, 4, 5, 7, 9, 7, 1, 8, 6, 4, 1, 3, 9, 1, 6, 4, 3, 2, 4, 7, 4, 5, 5, 2, 4, 5, 9, 1, 3, 4, 5, 7, 9, 4, 2, 4, 5, 10, 7, 9, 8, 7, 4, 7, 9, 6, 7, 2, 5, 7, 2, 6, 7, 9, 3, 6, 7, 1, 3, 4, 5, 6, 7, 9, 10, 1, 2, 4, 5, 6, 9, 2, 3, 4, 5, 7, 9, 2, 5, 7, 8, 9, 10, 2, 5, 1, 5, 8, 10, 7, 5, 2, 2, 1, 8, 5, 8, 10, 5, 1, 2, 4, 5, 6, 8, 9, 10, 4, 1, 1, 9, 6, 1, 2, 3, 4, 5, 6, 7, 8, 9, 10, 1, 5, 1, 2, 3, 4, 5, 6, 7, 8, 9, 10, 2, 6, 1, 2, 4, 5, 6, 7, 8, 9, 10, 9, 7, 8, 10, 5, 8, 9, 3, 9, 1, 2, 4, 5, 6, 9, 3, 1, 3, 5, 7, 10, 5, 2, 7, 1, 3, 4, 5, 6, 9, 10, 1, 7, 5, 1, 2, 4, 6, 7, 8, 9, 2, 1, 5, 10, 1, 2, 3, 4, 5, 6, 9, 10, 9, 1, 8, 9, 1, 2, 4, 5, 6, 9, 10, 1, 2, 5, 6, 9, 10, 5, 3, 4, 6, 7, 7, 10, 2, 1, 2, 4, 5, 7, 8, 9, 2, 1, 5, 6, 7, 9, 10, 10, 3, 4, 1, 2, 3, 4, 5, 9, 6, 10, 1, 2, 4, 7, 8, 9, 10, 1, 2, 3, 9, 1, 10, 1, 3, 4, 5, 6, 7, 8, 9, 10, 1, 8, 9, 1, 2, 7, 9, 1, 2, 4, 8, 10, 2, 1, 8, 9, 1, 2, 1, 2, 3, 4, 5, 7, 9, 7, 9, 3, 5, 1, 3, 4, 5, 6, 8, 10, 10, 10, 1, 2, 4, 5, 7, 8, 9, 8, 3, 1, 2, 3, 4, 5, 6, 7, 8, 9, 10, 2, 6, 7, 10, 3, 6, 7, 8, 2, 8, 8, 9, 1, 5, 9, 1, 2, 3, 6, 7, 9, 10, 1, 2, 3, 4, 6, 9, 10, 9, 3, 4, 7, 10, 1, 2, 6, 7, 8, 10, 6, 1, 2, 5, 8, 9, 10, 9, 2, 6, 8, 10, 2, 2, 3, 8, 10, 1, 2, 4, 5, 6, 7, 8, 9, 10, 1, 2, 3, 4, 5, 6, 8, 9, 1, 2, 4, 7, 8, 10, 2, 5, 10, 1, 3, 4, 8, 3, 5, 3, 8, 3, 5, 6, 6, 1, 5, 5, 8, 2, 5, 10, 2, 5, 6, 1, 4, 5, 6, 8, 9, 2, 1, 1, 7, 8, 6, 4, 1, 2, 4, 5, 6, 7, 8, 3, 8, 3, 2, 5, 7, 8, 9, 1, 2, 3, 5, 7, 8, 9, 10, 1, 6, 10, 1, 4, 5, 7, 8, 9, 1, 2, 3, 4, 5, 6, 10, 10, 5, 2, 1, 2, 6, 7, 9, 2, 3, 4, 1, 2, 4, 6, 7, 8, 10, 4, 6, 10, 3, 3, 3, 6, 6, 2, 7, 8, 4, 7, 3, 1, 2, 3, 4, 5, 6, 7, 8, 9, 10, 1, 2, 6, 8, 10, 6, 5, 6, 10, 6, 4, 1, 2, 4, 5, 8, 9, 10, 1, 2, 4, 5, 6, 7, 8, 9, 10, 1, 5, 6, 7, 4, 10, 2, 9, 7, 8, 8, 4, 8, 1, 7, 3, 2, 5, 4, 7, 4, 3, 1, 5, 10, 7, 8, 5, 7, 9, 5, 6, 8, 6, 2, 7, 5, 6, 6, 1, 4, 1, 2, 3, 4, 5, 6, 7, 8, 9, 10, 2, 8, 10, 9, 3, 5, 9, 7, 1, 5, 6, 9, 1, 2, 3, 4, 5, 6, 9, 10, 3, 7, 9, 9, 3, 4, 1, 2, 3, 4, 5, 6, 7, 8, 9, 7, 2, 4, 2, 2, 3, 9, 3, 5, 2, 4, 5, 2, 5, 7, 9, 5, 8, 2, 5, 10, 2, 5, 5, 1, 2, 3, 4, 5, 6, 7, 8, 10, 2, 3, 4, 5, 6, 8, 9, 10, 10, 10, 2, 4, 4, 8, 1, 1, 5, 8, 10, 6, 6, 2, 1, 6, 8, 9, 2, 4, 5, 8, 6, 4, 10, 1, 2, 9, 10, 9, 10, 2, 4, 5, 7, 8, 10, 6, 8, 9, 3, 10, 4, 6, 8, 1, 2, 4, 5, 7, 1, 2, 4, 6, 7, 8, 9, 10, 1, 2, 3, 4, 5, 6, 7, 8, 9, 10, 7, 9, 6, 8, 2, 1, 2, 3, 4, 5, 6, 8, 9, 6, 1, 2, 4, 5, 6, 7, 8, 9, 10, 1, 2, 3, 4, 5, 7, 9, 10, 1, 2, 4, 5, 10, 1, 2, 7, 9, 10, 6, 3, 8, 5, 2, 6, 4, 1, 2, 3, 4, 5, 6, 8, 9, 10, 4, 9, 10, 1, 2, 5, 6, 7, 9, 9, 2, 5, 8, 4, 1, 2, 3, 4, 5, 6, 8, 9, 10, 5, 7, 1, 3, 4, 5, 9, 1, 2, 3, 4, 5, 7, 8, 9, 10, 2, 7, 1, 1, 2, 4, 5, 7, 8, 1, 5, 6, 7, 8, 9, 10, 8, 7, 7, 10, 2, 3, 5, 7, 9, 3, 8, 2, 5, 6, 9, 1, 4, 5, 7, 9, 6, 5, 2, 5, 6, 8, 9, 8, 10, 1, 2, 9, 9, 10, 1, 2, 3, 5, 7, 8, 10, 9, 6, 4, 1, 2, 3, 5, 8, 9, 10, 2, 3, 4, 8, 9, 8, 2, 3, 10, 5, 8, 4, 10, 9, 1, 9, 9, 4, 9, 10, 10, 1, 4, 4, 7], \"Freq\": [0.9464557655042558, 0.9212338669720591, 0.94805270256301, 0.8753190835816694, 0.9464557846697479, 0.9480527309577821, 0.6689379698674245, 0.19112513424783556, 0.04778128356195889, 0.04778128356195889, 0.04778128356195889, 0.04778128356195889, 0.7164143429550732, 0.9123282559971622, 0.865604179699079, 0.12365773995701128, 0.8700099837070213, 0.9464557423010242, 0.9464557483265773, 0.9464557722094327, 0.9741007995285954, 0.8502121063690011, 0.7657926144442161, 0.08508806827157957, 0.17017613654315913, 0.71641493974635, 0.8700099837070213, 0.8085759326566869, 0.11551084752238384, 0.8538080946948108, 0.8866300825200487, 0.7019537851811859, 0.2339845950603953, 0.9604826513966683, 0.8700099837070213, 0.8864388534783251, 0.1979887184269579, 0.1979887184269579, 0.1583909747415663, 0.059396615528087365, 0.13859210289887053, 0.019798871842695787, 0.09899435921347895, 0.09899435921347895, 0.019798871842695787, 0.8799202609776954, 0.8700098877215982, 0.842220366559109, 0.9046007486901602, 0.06665479200874865, 0.019044226288213898, 0.019044226288213898, 0.8886006919248459, 0.9212337260060357, 0.060056678338302805, 0.11410768884277532, 0.07807368183979364, 0.11410768884277532, 0.3303117308606654, 0.07807368183979364, 0.09609068534128448, 0.02402267133532112, 0.01201133566766056, 0.09609068534128448, 0.9487021366595494, 0.8700098877215982, 0.13971431375775348, 0.17464289219719184, 0.24450004907606857, 0.05239286765915755, 0.2095714706366302, 0.06985715687887674, 0.06985715687887674, 0.05239286765915755, 0.28852004993374736, 0.7213001248343683, 0.9136596153902878, 0.6379944132251169, 0.8470311856470697, 0.11550425258823678, 0.14919287098759268, 0.04973095699586423, 0.11189465324069452, 0.21135656723242296, 0.13676013173862664, 0.2362220457303551, 0.024865478497932116, 0.012432739248966058, 0.062163696244830285, 0.18790241188035392, 0.10131992797470064, 0.06079195678482039, 0.17316496781130655, 0.11789955255237894, 0.10316210848333157, 0.06816067881934407, 0.06263413729345131, 0.06631849831071315, 0.05894977627618947, 0.20534017212469424, 0.18954477426894853, 0.17374937641320282, 0.06318159142298285, 0.015795397855745713, 0.015795397855745713, 0.17374937641320282, 0.06318159142298285, 0.06318159142298285, 0.04738619356723713, 0.9552858132711052, 0.6562024097192622, 0.7335591316919611, 0.8428777569418369, 0.14204373308377954, 0.7102186654188977, 0.14204373308377954, 0.9860919178809203, 0.856678744158808, 0.8611539196847865, 0.16235227335399038, 0.16235227335399038, 0.6494090934159615, 0.9214048352565002, 0.9240845995148476, 0.27372276217742164, 0.12165456096774295, 0.060827280483871475, 0.18248184145161442, 0.21289548169355016, 0.060827280483871475, 0.060827280483871475, 0.030413640241935738, 0.07736031463781647, 0.6962428317403483, 0.07736031463781647, 0.15472062927563293, 0.6113005263272471, 0.04890404210617977, 0.24452021053089884, 0.07335606315926965, 0.024452021053089884, 0.852725479739873, 0.8393921284364411, 0.16142156316085404, 0.9464557493231611, 0.8471719174745447, 0.6448493555290711, 0.3030464793503039, 0.03030464793503039, 0.09091394380509117, 0.09091394380509117, 0.15152323967515194, 0.3030464793503039, 0.03030464793503039, 0.18023294772013876, 0.18023294772013876, 0.18023294772013876, 0.4505823693003469, 0.021147916238415373, 0.12688749743049224, 0.2326270786225691, 0.1480354136689076, 0.10573958119207685, 0.04229583247683075, 0.12688749743049224, 0.19033124614573835, 0.8753182836326602, 0.8486029506054944, 0.1816491779970486, 0.7265967119881944, 0.10550906755823694, 0.21101813511647388, 0.6330544053494216, 0.6448497320766448, 0.15070469809861467, 0.07535234904930734, 0.15070469809861467, 0.07535234904930734, 0.226057047147922, 0.30140939619722934, 0.113162750267441, 0.0565813751337205, 0.0565813751337205, 0.3960696259360435, 0.113162750267441, 0.226325500534882, 0.0565813751337205, 0.0565813751337205, 0.6416552755850662, 0.07699863307020795, 0.1026648440936106, 0.12833105511701323, 0.02566621102340265, 0.02566621102340265, 0.8068978582486115, 0.8734179908331513, 0.0698734392666521, 0.03493671963332605, 0.31906942808316696, 0.024543802160243613, 0.29452562592292336, 0.09817520864097445, 0.17180661512170528, 0.04908760432048723, 0.07363140648073084, 0.9464557488723796, 0.7335592446985472, 0.6448493555290711, 0.25863810263580644, 0.5172762052716129, 0.5788814059175695, 0.05788814059175695, 0.05788814059175695, 0.17366442177527083, 0.1157762811835139, 0.1489376240609602, 0.1489376240609602, 0.04964587468698673, 0.546104621556854, 0.09929174937397346, 0.8502150494492757, 0.15303530481584254, 0.7651765240792127, 0.02872327045843069, 0.05744654091686138, 0.5457421387101832, 0.11489308183372277, 0.08616981137529207, 0.05744654091686138, 0.11489308183372277, 0.8152751499934721, 0.10190939374918401, 0.4589086837323915, 0.050989853748043504, 0.10197970749608701, 0.050989853748043504, 0.2549492687402175, 0.050989853748043504, 0.7623486139439779, 0.2541162046479926, 0.11395390647490578, 0.11395390647490578, 0.6837234388494347, 0.11395390647490578, 0.8486028877178847, 0.7164149536708937, 0.49299071592034566, 0.07887851454725531, 0.07887851454725531, 0.11831777182088296, 0.11831777182088296, 0.039439257273627654, 0.039439257273627654, 0.039439257273627654, 0.9317403976555979, 0.10426894312986414, 0.41707577251945654, 0.020853788625972827, 0.06256136587791848, 0.08341515450389131, 0.041707577251945654, 0.16683030900778262, 0.08341515450389131, 0.8486028499263968, 0.10108345157464141, 0.2527086289366035, 0.20216690314928282, 0.10108345157464141, 0.35379208051124494, 0.6379943891605929, 0.8170232971770612, 0.13617054952951022, 0.35914412047802075, 0.5387161807170311, 0.9181510294071302, 0.22434750412293392, 0.747825013743113, 0.7114796912918827, 0.10945841404490503, 0.054729207022452514, 0.10945841404490503, 0.2565394035779912, 0.5130788071559824, 0.8486029506054944, 0.2567578713828148, 0.5135157427656296, 0.9710971566665724, 0.856678744158808, 0.9214051678761453, 0.775514633030663, 0.9187269353695642, 0.8566786056876649, 0.1554732333978644, 0.2332098500967966, 0.4664197001935932, 0.0777366166989322, 0.16586554286710675, 0.5390630143180969, 0.04146638571677669, 0.12439915715033006, 0.08293277143355338, 0.04146638571677669, 0.8700099837070213, 0.7164149402543167, 0.2113145960725939, 0.18490027156351965, 0.23772892058166814, 0.013207162254537119, 0.2113145960725939, 0.013207162254537119, 0.052828649018148474, 0.026414324509074237, 0.03962148676361136, 0.1677067738945862, 0.0838533869472931, 0.0838533869472931, 0.0838533869472931, 0.5031203216837585, 0.0838533869472931, 0.8527255626138578, 0.02847309756631432, 0.9538487684715298, 0.9187272152738762, 0.9487022327994423, 0.6661032911845473, 0.0951576130263639, 0.0951576130263639, 0.1903152260527278, 0.9142689866224133, 0.8864388442030376, 0.6424104832115458, 0.948052696381329, 0.733559135092166, 0.05114858084955299, 0.8695258744424008, 0.05114858084955299, 0.9681698731607635, 0.9799085643087363, 0.7335591791996403, 0.8196586198925047, 0.8979778599888798, 0.7335595262784461, 0.6379943891605929, 0.15303528994178406, 0.7651764497089203, 0.8753182836326602, 0.053169958086646395, 0.265849790433232, 0.6380394970397568, 0.053169958086646395, 0.060129452241957974, 0.060129452241957974, 0.12025890448391595, 0.060129452241957974, 0.5411650701776218, 0.12025890448391595, 0.8866300825200487, 0.19347271882751096, 0.25796362510334797, 0.4514363439308589, 0.12898181255167399, 0.4613747175877486, 0.4613747175877486, 0.6424109658594647, 0.8486029506054944, 0.6220128504801047, 0.20733761682670157, 0.20733761682670157, 0.7609597822084769, 0.253653260736159, 0.12261714230041004, 0.7357028538024603, 0.12261714230041004, 0.159137522921696, 0.159137522921696, 0.159137522921696, 0.477412568765088, 0.15735866168590626, 0.7867933084295313, 0.8486029506054944, 0.04219459522828909, 0.04219459522828909, 0.04219459522828909, 0.08438919045657818, 0.3797513570546018, 0.25316757136973456, 0.08438919045657818, 0.08438919045657818, 0.1237362083490086, 0.1856043125235129, 0.2474724166980172, 0.0618681041745043, 0.1237362083490086, 0.2474724166980172, 0.2124845250349528, 0.04249690500699056, 0.16998762002796225, 0.25498143004194335, 0.2124845250349528, 0.08499381001398112, 0.5570449131895444, 0.1114089826379089, 0.05570449131895445, 0.1114089826379089, 0.05570449131895445, 0.1114089826379089, 0.8712031179762376, 0.07920028345238524, 0.9464558062841327, 0.8217375136749219, 0.13695625227915365, 0.8700099837070213, 0.766707842893231, 0.9212336815183964, 0.8979778599888798, 0.8979778599888798, 0.9207632602291351, 0.8538080946948108, 0.14479997889538732, 0.28959995779077463, 0.5791999155815493, 0.9524659209000826, 0.04373327550633258, 0.06559991325949888, 0.41546611731015953, 0.13119982651899775, 0.04373327550633258, 0.08746655101266516, 0.06559991325949888, 0.15306646427216405, 0.9141580404304773, 0.8864388450566478, 0.8864388435874142, 0.856678744158808, 0.9486066119448376, 0.29794218673927125, 0.21640011457904965, 0.03449856899086299, 0.0752696050709738, 0.12858557532958023, 0.040771036080110803, 0.05331597025860644, 0.0752696050709738, 0.040771036080110803, 0.03136233544623908, 0.8203032767177191, 0.091144808524191, 0.16360325301436018, 0.14873023001305472, 0.14873023001305472, 0.05949209200522188, 0.13385720701174925, 0.01487302300130547, 0.14873023001305472, 0.04461906900391641, 0.1041111610091383, 0.02974604600261094, 0.9249137390470434, 0.06606526707478882, 0.02183178956761955, 0.15282252697333684, 0.19648610610857592, 0.15282252697333684, 0.1309907374057173, 0.10915894783809774, 0.1309907374057173, 0.0436635791352391, 0.0436635791352391, 0.856678744158808, 0.23524973896825138, 0.5881243474206285, 0.11762486948412569, 0.9212337736297009, 0.9349271275829106, 0.8566786496312172, 0.9817724792061094, 0.775514633030663, 0.048280449820917636, 0.6035056227614705, 0.024140224910458818, 0.1689815743732117, 0.024140224910458818, 0.12070112455229408, 0.8929205011006737, 0.0974509348236864, 0.1949018696473728, 0.2923528044710592, 0.0974509348236864, 0.3898037392947456, 0.736183563334788, 0.9612971630938484, 0.032043238769794945, 0.19291910953880081, 0.06430636984626693, 0.09645955476940041, 0.12861273969253387, 0.12861273969253387, 0.12861273969253387, 0.22507229446193427, 0.886438844074891, 0.6379943190579979, 0.7361835409558956, 0.3139128026293047, 0.18311580153376106, 0.03923910032866309, 0.143876701205098, 0.06539850054777181, 0.11771730098598926, 0.13079700109554362, 0.9679298709435262, 0.17409965291645332, 0.6963986116658133, 0.8700099837070213, 0.16729383396980915, 0.16729383396980915, 0.10037630038188548, 0.1338350671758473, 0.03345876679396183, 0.10037630038188548, 0.2342113675577328, 0.06691753358792366, 0.775514633030663, 0.12824443279686198, 0.8549628853124133, 0.856678744158808, 0.08202262178086918, 0.41011310890434594, 0.08202262178086918, 0.05468174785391279, 0.08202262178086918, 0.16404524356173836, 0.10936349570782558, 0.16168798219640332, 0.5254859421383108, 0.12126598664730248, 0.04042199554910083, 0.16168798219640332, 0.04042199554910083, 0.9212338493796212, 0.08796048985690919, 0.6157234289983643, 0.17592097971381837, 0.08796048985690919, 0.8486028877178847, 0.8700099289154974, 0.716414329824368, 0.08343754573689775, 0.08343754573689775, 0.1668750914737955, 0.1668750914737955, 0.4171877286844888, 0.08343754573689775, 0.08343754573689775, 0.7164149389820724, 0.09338330095120714, 0.09338330095120714, 0.5136081552316393, 0.1867666019024143, 0.04669165047560357, 0.04669165047560357, 0.8700098877215982, 0.958135367486652, 0.7335592446985472, 0.07180162227092945, 0.17950405567732364, 0.1077024334063942, 0.2513056779482531, 0.2513056779482531, 0.1077024334063942, 0.7576457001787698, 0.6562028539317241, 0.1407503958456283, 0.05630015833825132, 0.11260031667650264, 0.02815007916912566, 0.1407503958456283, 0.4222511875368849, 0.08445023750737697, 0.0928109751650278, 0.6496768261551946, 0.0928109751650278, 0.1856219503300556, 0.2565395099562482, 0.5130790199124964, 0.3716341758565138, 0.043721667747825155, 0.21860833873912577, 0.043721667747825155, 0.15302583711738804, 0.043721667747825155, 0.021860833873912577, 0.08744333549565031, 0.043721667747825155, 0.8386475741328244, 0.09676702778455668, 0.032255675928185554, 0.3444114092160375, 0.06888228184320751, 0.48217597290245257, 0.06888228184320751, 0.24947934422767268, 0.1496876065366036, 0.09979173769106907, 0.3991669507642763, 0.09979173769106907, 0.8979778599888798, 0.7104941199693071, 0.07104941199693071, 0.14209882399386142, 0.9433050037052293, 0.047165250185261465, 0.106332126914998, 0.4962165922699906, 0.03544404230499933, 0.17722021152499665, 0.07088808460999867, 0.07088808460999867, 0.03544404230499933, 0.8486028320827588, 0.7755148362553467, 0.9214050494399684, 0.9317403989570557, 0.08483230935972375, 0.04241615467986187, 0.4241615467986187, 0.25449692807917124, 0.08483230935972375, 0.04241615467986187, 0.04241615467986187, 0.7901279107406496, 0.8700098877215982, 0.04810226050973271, 0.19240904203893083, 0.09620452101946542, 0.14430678152919812, 0.04810226050973271, 0.38481808407786167, 0.09620452101946542, 0.8538080946948108, 0.8196586843414831, 0.06074037623663485, 0.5109337530493402, 0.007145926616074688, 0.0321566697723361, 0.06788630285270954, 0.14649149562953112, 0.05002148631252282, 0.05359444962056016, 0.02501074315626141, 0.039302596388410785, 0.13957296017574708, 0.6629715608347986, 0.13957296017574708, 0.8700099837070213, 0.9959812893778609, 0.9026814567381507, 0.6379943151056348, 0.9240845995148476, 0.45264270010928104, 0.45264270010928104, 0.8538080946948108, 0.8566786522677361, 0.8864388420632605, 0.92123372127846, 0.6448492700477957, 0.12099591614183712, 0.12099591614183712, 0.06049795807091856, 0.06049795807091856, 0.12099591614183712, 0.24199183228367424, 0.24199183228367424, 0.22382407047783454, 0.22382407047783454, 0.06394973442223843, 0.06394973442223843, 0.031974867211119216, 0.06394973442223843, 0.3197486721111922, 0.775514633030663, 0.21188438200170376, 0.3178265730025556, 0.10594219100085188, 0.4237687640034075, 0.20403990368184943, 0.11659423067534253, 0.0874456730065069, 0.4955254803702057, 0.05829711533767126, 0.05829711533767126, 0.9026814252091697, 0.04185041595607547, 0.6696066552972075, 0.08370083191215094, 0.04185041595607547, 0.08370083191215094, 0.08370083191215094, 0.856678744158808, 0.7674603413363137, 0.10963719161947338, 0.10963719161947338, 0.8700099837070213, 0.8979778599888798, 0.11858845837984255, 0.5929422918992128, 0.11858845837984255, 0.17788268756976383, 0.05965875197652554, 0.23863500790610215, 0.02982937598826277, 0.05965875197652554, 0.05965875197652554, 0.14914687994131384, 0.14914687994131384, 0.20880563191783938, 0.02982937598826277, 0.1853782587324283, 0.061792752910809434, 0.061792752910809434, 0.12358550582161887, 0.24717101164323774, 0.030896376455404717, 0.21627463518783302, 0.09268912936621415, 0.2117281982833415, 0.2117281982833415, 0.12098754187619513, 0.15123442734524392, 0.2117281982833415, 0.09074065640714635, 0.1830771660922041, 0.1830771660922041, 0.5492314982766123, 0.07448742478738225, 0.07448742478738225, 0.1489748495747645, 0.6703868230864403, 0.9345646418847681, 0.058410290117798004, 0.9206953377612264, 0.8538080946948108, 0.877819186578806, 0.9187270235959524, 0.8422216538985279, 0.7576457001787698, 0.17409996219017607, 0.6963998487607043, 0.9212337139861951, 0.6424110039614166, 0.18851672025522462, 0.6598085208932861, 0.09425836012761231, 0.13891287141612677, 0.13891287141612677, 0.6945643570806338, 0.06220481922469749, 0.12440963844939498, 0.4354337345728824, 0.12440963844939498, 0.12440963844939498, 0.12440963844939498, 0.7986652180745704, 0.8886007503932476, 0.8886006919248459, 0.9142689866224133, 0.8538080946948108, 0.9277429279327336, 0.7335591791996403, 0.13985804925025216, 0.3146806108130674, 0.03496451231256304, 0.10489353693768913, 0.27971609850050433, 0.10489353693768913, 0.03496451231256304, 0.9342887436737575, 0.04917309177230302, 0.9643257231561437, 0.31231765693236113, 0.07807941423309028, 0.4684764853985417, 0.07807941423309028, 0.03903970711654514, 0.04262242316786226, 0.3125644365643232, 0.34097938534289807, 0.014207474389287418, 0.014207474389287418, 0.09945232072501194, 0.04262242316786226, 0.1420747438928742, 0.38701214450936383, 0.09675303612734096, 0.4837651806367048, 0.14432524747548994, 0.5773009899019598, 0.07216262373774497, 0.07216262373774497, 0.07216262373774497, 0.07216262373774497, 0.17668727755457453, 0.11779151836971634, 0.11779151836971634, 0.17668727755457453, 0.05889575918485817, 0.11779151836971634, 0.23558303673943268, 0.8700099837070213, 0.7361846494177697, 0.7945651509329934, 0.16684897797371323, 0.16684897797371323, 0.08342448898685662, 0.5005469339211397, 0.08342448898685662, 0.7945650345334699, 0.17459280153010584, 0.6983712061204234, 0.8471719457458367, 0.15481971964482152, 0.06880876428658735, 0.6192788785792861, 0.051606573214940506, 0.051606573214940506, 0.051606573214940506, 0.7015609449356889, 0.17539023623392222, 0.8700099837070213, 0.8929207292018219, 0.9686032735786839, 0.8403700903614104, 0.16807401807228206, 0.7576457394609569, 0.0714538916021688, 0.1429077832043376, 0.7859928076238568, 0.15895565299965453, 0.7947782649982726, 0.985727931890292, 0.024614624462721373, 0.29537549355265647, 0.024614624462721373, 0.024614624462721373, 0.049229248925442746, 0.024614624462721373, 0.09845849785088549, 0.29537549355265647, 0.12307312231360687, 0.049229248925442746, 0.06070784352095034, 0.6677862787304537, 0.06070784352095034, 0.15176960880237586, 0.06070784352095034, 0.8422153932031406, 0.9187270032294407, 0.26058095568766143, 0.5211619113753229, 0.7576457082678569, 0.7335591772444291, 0.09670915674675627, 0.16118192791126046, 0.19341831349351254, 0.35460024140477303, 0.03223638558225209, 0.03223638558225209, 0.09670915674675627, 0.06108094345954456, 0.09772950953527129, 0.2198913964543604, 0.03664856607572674, 0.024432377383817823, 0.19545901907054258, 0.14659426430290695, 0.2076752077624515, 0.024432377383817823, 0.20841160498978192, 0.20841160498978192, 0.10420580249489096, 0.5210290124744548, 0.9746762499376574, 0.8700099837070213, 0.7945648917184145, 0.6448496483174703, 0.6379943094639297, 0.6424109658594647, 0.6424109658594647, 0.7686514065943976, 0.1537302813188795, 0.8864388442762643, 0.9142690044394571, 0.8595805042624135, 0.7945650687819767, 0.7361834949436467, 0.8162481010909101, 0.10203101263636376, 0.8866300825200487, 0.9808058587830913, 0.27906622360428646, 0.651154521743335, 0.8700099289154974, 0.9142689866224133, 0.9240845995148476, 0.9187269975013593, 0.6379942970521788, 0.6448497333460246, 0.7361836302432282, 0.7576457392213368, 0.6424106747087741, 0.757645692706514, 0.7945650501742479, 0.8486029506054944, 0.9212338437294818, 0.7576457001787698, 0.9026812235509882, 0.8886007520410167, 0.7335591290936723, 0.28173142735820766, 0.1582327194751577, 0.027015342349417173, 0.09262403091228745, 0.12349870788304994, 0.09648336553363276, 0.057890019320179655, 0.08104602704825152, 0.05403068469883435, 0.027015342349417173, 0.7801352282093962, 0.08668169202326624, 0.17336338404653248, 0.6448492043698025, 0.9214050503719454, 0.7717106856412965, 0.15434213712825928, 0.6379943715770282, 0.10249941567511439, 0.7174959097258007, 0.10249941567511439, 0.10249941567511439, 0.9464557495281808, 0.1200388920418715, 0.09002916903140362, 0.4201361221465502, 0.15004861505233938, 0.1200388920418715, 0.09002916903140362, 0.030009723010467875, 0.8492999730251006, 0.07720908845682734, 0.07720908845682734, 0.6448496501699681, 0.9214050524216446, 0.9181508951647731, 0.20517120454673346, 0.16670160369422093, 0.21799440483090432, 0.11540880255753758, 0.14105520312587927, 0.012823200284170841, 0.0641160014208542, 0.038469600852512525, 0.0641160014208542, 0.8486029506054944, 0.8979778599888798, 0.7335454587063022, 0.7164143540263812, 0.15755996583130977, 0.31511993166261953, 0.47267989749392925, 0.15318479274469185, 0.7659239637234593, 0.1618336464418895, 0.647334585767558, 0.1618336464418895, 0.10448322541166381, 0.36569128894082337, 0.3134496762349914, 0.20896645082332763, 0.18171367959931994, 0.5451410387979598, 0.716701175637494, 0.7088863631530559, 0.17722159078826397, 0.8918535682796851, 0.9187270013200803, 0.9212336815183964, 0.028985106291277596, 0.17391063774766558, 0.11594042516511038, 0.05797021258255519, 0.08695531887383279, 0.31883616920405355, 0.028985106291277596, 0.08695531887383279, 0.08695531887383279, 0.0859799082637264, 0.5720970819086411, 0.036376115034653475, 0.07605914961791181, 0.029762275937443752, 0.06283147142349237, 0.05291071277767778, 0.08267298871512153, 0.9139246226779433, 0.8700099837070213, 0.7947254519426437, 0.13245424199044062, 0.8477796084789707, 0.09419773427544119, 0.976182578095548, 0.19623713461684178, 0.09811856730842089, 0.49059283654210445, 0.19623713461684178, 0.948052639333578, 0.842221582438635, 0.8979778599888798, 0.2527829027782305, 0.12639145138911526, 0.505565805556461, 0.12639145138911526, 0.7115840722640718, 0.05473723632800553, 0.10947447265601105, 0.10947447265601105, 0.9799084626789013, 0.4789662195269464, 0.4789662195269464, 0.12613738133903057, 0.25227476267806115, 0.5045495253561223, 0.12613738133903057, 0.775514633030663, 0.8799203818312142, 0.1006759252919877, 0.36914505940395487, 0.2684691341119672, 0.0671172835279918, 0.0335586417639959, 0.1677932088199795, 0.06808890291117746, 0.8170668349341296, 0.13617780582235492, 0.877818320155606, 0.8272806721441672, 0.28205416377285375, 0.14102708188642687, 0.5641083275457075, 0.7334752093486667, 0.04584220058429167, 0.04584220058429167, 0.09168440116858334, 0.0687633008764375, 0.20193492956656034, 0.10096746478328017, 0.2776605281540205, 0.025241866195820042, 0.25241866195820045, 0.050483732391640085, 0.07572559858746013, 0.025241866195820042, 0.22085762101793552, 0.12620435486739173, 0.12620435486739173, 0.22085762101793552, 0.03155108871684793, 0.03155108871684793, 0.06310217743369587, 0.03155108871684793, 0.06310217743369587, 0.12620435486739173, 0.2577647328514119, 0.5155294657028238, 0.9026813416426349, 0.6424108897101076, 0.7164143818978659, 0.03920298155664723, 0.3920298155664723, 0.17641341700491256, 0.13721043544826533, 0.05880447233497085, 0.09800745389161808, 0.019601490778323617, 0.07840596311329447, 0.7576457399181894, 0.19713170933985957, 0.27926992156480107, 0.11499349711491809, 0.18070406689487128, 0.0821382122249415, 0.0164276424449883, 0.0328552848899766, 0.0328552848899766, 0.04928292733496489, 0.14573534840010952, 0.12144612366675793, 0.024289224733351586, 0.09715689893340634, 0.26718147206686743, 0.17002457313346112, 0.07286767420005476, 0.09715689893340634, 0.8155551939711967, 0.06796293283093306, 0.03398146641546653, 0.03398146641546653, 0.06796293283093306, 0.0962057815665677, 0.28861734469970307, 0.0962057815665677, 0.3848231262662708, 0.0962057815665677, 0.7576457001787698, 0.8778188027181807, 0.9240845995148476, 0.9187269949555456, 0.11422230484486019, 0.7995561339140214, 0.9181510294071302, 0.17910500351247513, 0.1535185744392644, 0.008528809691070244, 0.1364609550571239, 0.1535185744392644, 0.2643931004231776, 0.01705761938214049, 0.03411523876428098, 0.05117285814642147, 0.7443897922615995, 0.12406496537693325, 0.12406496537693325, 0.11443775717730825, 0.3814591905910275, 0.11443775717730825, 0.152583676236411, 0.152583676236411, 0.03814591905910275, 0.8566786620431713, 0.11583939990197217, 0.11583939990197217, 0.695036399411833, 0.9487020610506098, 0.1592981551976882, 0.17522797071745702, 0.0796490775988441, 0.0796490775988441, 0.09557889311861292, 0.03185963103953764, 0.04778944655930646, 0.20708760175699467, 0.11150870863838175, 0.6768340670804136, 0.22561135569347118, 0.3888606771524397, 0.25477078847918466, 0.25477078847918466, 0.053635955469302034, 0.04022696660197652, 0.30010320482304526, 0.14793819956065613, 0.12257736535025793, 0.1690722280693213, 0.16484542236758826, 0.054948474122529414, 0.008453611403466064, 0.02113402850866516, 0.008453611403466064, 0.7508756560643389, 0.1501751312128678, 0.886438844349491, 0.08709380104634559, 0.17418760209269118, 0.37740647120083093, 0.20321886910813972, 0.08709380104634559, 0.05806253403089706, 0.10856337430352841, 0.08142253072764631, 0.05428168715176421, 0.43425349721411366, 0.10856337430352841, 0.08142253072764631, 0.10856337430352841, 0.8538080946948108, 0.7667079575159496, 0.6379943891605929, 0.8700099837070213, 0.36681389524865166, 0.09170347381216291, 0.18340694762432583, 0.04585173690608146, 0.32096215834257025, 0.8888933427911467, 0.06837641098393436, 0.072707696826848, 0.04847179788456533, 0.799784665095328, 0.072707696826848, 0.11531405894846815, 0.11531405894846815, 0.11531405894846815, 0.11531405894846815, 0.5765702947423408, 0.7576457001787698, 0.8753182836326602, 0.8979778599888798, 0.14224482769351304, 0.14224482769351304, 0.5689793107740522, 0.14224482769351304, 0.5178281136709355, 0.25891405683546775, 0.17964497035679497, 0.17964497035679497, 0.5389349110703849, 0.6448493555290711, 0.6561955640077256, 0.025644856191246356, 0.07693456857373908, 0.641121404781159, 0.10257942476498542, 0.10257942476498542, 0.025644856191246356, 0.025644856191246356, 0.856678744158808, 0.7576457001787698, 0.8143487684016609, 0.17523614660769132, 0.11682409773846089, 0.058412048869230446, 0.4088843420846131, 0.058412048869230446, 0.11682409773846089, 0.058412048869230446, 0.10534520341031132, 0.10534520341031132, 0.10534520341031132, 0.5793986187567123, 0.05267260170515566, 0.642410678791026, 0.571122473088807, 0.31729026282711503, 0.063458052565423, 0.736183557414495, 0.8538080946948108, 0.21744279130431557, 0.6523283739129467, 0.8566786636537613, 0.9314239583684585, 0.8566786253987692, 0.856678744158808, 0.9181509842660324, 0.6448493555290711, 0.8700099837070213, 0.6562028539317241, 0.9681697539622376, 0.918150894248879, 0.9181508761407958, 0.6379944023492528], \"Term\": [\"110\", \"1200scale\", \"1211\", \"1213\", \"121317\", \"1400th\", \"15\", \"15\", \"15\", \"15\", \"15\", \"15\", \"1999\", \"1k\", \"2018\", \"2018\", \"2019\", \"214\", \"226\", \"31418\", \"33l\", \"35000\", \"40\", \"40\", \"40\", \"70\", \"730am\", \"737\", \"737\", \"737800\", \"747\", \"787\", \"787\", \"7878\", \"839am\", \"a319\", \"aa\", \"aa\", \"aa\", \"aa\", \"aa\", \"aa\", \"aa\", \"aa\", \"aa\", \"administrative\", \"adoption\", \"advisory\", \"agent\", \"agent\", \"agent\", \"agent\", \"airbus319\", \"aircraft\", \"airline\", \"airline\", \"airline\", \"airline\", \"airline\", \"airline\", \"airline\", \"airline\", \"airline\", \"airline\", \"airliner\", \"airlines\\u2019s\", \"airport\", \"airport\", \"airport\", \"airport\", \"airport\", \"airport\", \"airport\", \"airport\", \"alaskaairlines\", \"alaskaairlines\", \"alliance\", \"allowing\", \"amazon\", \"amazon\", \"american\", \"american\", \"american\", \"american\", \"american\", \"american\", \"american\", \"american\", \"american\", \"americanairlines\", \"americanairlines\", \"americanairlines\", \"americanairlines\", \"americanairlines\", \"americanairlines\", \"americanairlines\", \"americanairlines\", \"americanairlines\", \"americanairlines\", \"amp\", \"amp\", \"amp\", \"amp\", \"amp\", \"amp\", \"amp\", \"amp\", \"amp\", \"amp\", \"analysis\", \"analyst\", \"annualleave\", \"antiracism\", \"anyone\", \"anyone\", \"anyone\", \"apply\", \"apps\", \"around\", \"assistant\", \"assistant\", \"assistant\", \"associate\", \"att\", \"attendant\", \"attendant\", \"attendant\", \"attendant\", \"attendant\", \"attendant\", \"attendant\", \"attendant\", \"austin\", \"austin\", \"austin\", \"austin\", \"avgeek\", \"avgeek\", \"avgeek\", \"avgeek\", \"avgeek\", \"avgeek\\u2026\", \"b\", \"b\", \"b757200\", \"b777200er\", \"b787\", \"back\", \"back\", \"back\", \"back\", \"back\", \"back\", \"back\", \"bad\", \"bad\", \"bad\", \"bad\", \"bag\", \"bag\", \"bag\", \"bag\", \"bag\", \"bag\", \"bag\", \"bag\", \"baggagedo\", \"banned\", \"bathroom\", \"bathroom\", \"battery\", \"battery\", \"battery\", \"bea\\u2026\", \"best\", \"best\", \"best\", \"best\", \"best\", \"best\", \"better\", \"better\", \"better\", \"better\", \"better\", \"better\", \"better\", \"better\", \"big\", \"big\", \"big\", \"big\", \"big\", \"big\", \"biting\", \"board\", \"board\", \"board\", \"boeing\", \"boeing\", \"boeing\", \"boeing\", \"boeing\", \"boeing\", \"boeing\", \"boeing757\", \"boeing767\", \"boeing787\", \"bonus\", \"bonus\", \"book\", \"book\", \"book\", \"book\", \"book\", \"boston\", \"boston\", \"boston\", \"boston\", \"boston\", \"bot\", \"broke\", \"broke\", \"business\", \"business\", \"business\", \"business\", \"business\", \"business\", \"business\", \"businessclass\", \"businessclass\", \"buy\", \"buy\", \"buy\", \"buy\", \"buy\", \"buy\", \"calling\", \"calling\", \"cancel\", \"cancel\", \"cancel\", \"cancel\", \"canc\\u2026\", \"captain\", \"change\", \"change\", \"change\", \"change\", \"change\", \"change\", \"change\", \"change\", \"channel\", \"check\", \"check\", \"check\", \"check\", \"check\", \"check\", \"check\", \"check\", \"checkinforgood\", \"chicago\", \"chicago\", \"chicago\", \"chicago\", \"chicago\", \"christmasparty\", \"classic\", \"classic\", \"clearly\", \"clearly\", \"coasttocoast\", \"colonial\", \"colonial\", \"come\", \"come\", \"come\", \"come\", \"commercial\", \"commercial\", \"conflict\", \"congratulation\", \"congratulation\", \"consultant\", \"contract\", \"coordinator\", \"copd\", \"count\", \"craft\", \"credit\", \"credit\", \"credit\", \"credit\", \"crew\", \"crew\", \"crew\", \"crew\", \"crew\", \"crew\", \"cro\", \"cuba\", \"customer\", \"customer\", \"customer\", \"customer\", \"customer\", \"customer\", \"customer\", \"customer\", \"customer\", \"customerservice\", \"customerservice\", \"customerservice\", \"customerservice\", \"customerservice\", \"customerservice\", \"cus\\u2026\", \"dallas\", \"dallas\", \"damaged\", \"dc10\", \"dca\", \"dca\", \"dca\", \"dca\", \"de\", \"deep\\u2026\", \"delivered\", \"delivers\", \"demonstrates\", \"denver\", \"denver\", \"denver\", \"depart\", \"departing\", \"depend\", \"dev\", \"dhokla\", \"dinner\", \"disco\\u2026\", \"dobetter\", \"dobetter\", \"dobetterunited\", \"dog\", \"dog\", \"dog\", \"dog\", \"dont\", \"dont\", \"dont\", \"dont\", \"dont\", \"dont\", \"dontgo\", \"don\\u2019t\", \"don\\u2019t\", \"don\\u2019t\", \"don\\u2019t\", \"dreamliner\", \"dreamliner\", \"dukeofcambridge\", \"eagle\", \"economy\", \"economy\", \"economy\", \"ejet\", \"ejet\", \"election\", \"election\", \"election\", \"else\", \"else\", \"else\", \"else\", \"embraer\", \"embraer\", \"embraer145\", \"employee\", \"employee\", \"employee\", \"employee\", \"employee\", \"employee\", \"employee\", \"employee\", \"enough\", \"enough\", \"enough\", \"enough\", \"enough\", \"enough\", \"even\", \"even\", \"even\", \"even\", \"even\", \"even\", \"everyone\", \"everyone\", \"everyone\", \"everyone\", \"everyone\", \"everyone\", \"excited\", \"excited\", \"excludes\", \"expected\", \"expected\", \"expert\", \"fails\", \"familyvacations\", \"fangirl\", \"fantasy\", \"fbi\", \"ferried\", \"field\", \"field\", \"field\", \"file\", \"first\", \"first\", \"first\", \"first\", \"first\", \"first\", \"first\", \"first\", \"firstclass\", \"fisted\", \"fistingslut\", \"fitbit\", \"fl\", \"flight\", \"flight\", \"flight\", \"flight\", \"flight\", \"flight\", \"flight\", \"flight\", \"flight\", \"flight\", \"flt\", \"flt\", \"fly\", \"fly\", \"fly\", \"fly\", \"fly\", \"fly\", \"fly\", \"fly\", \"fly\", \"fly\", \"flyer\", \"flyer\", \"flying\", \"flying\", \"flying\", \"flying\", \"flying\", \"flying\", \"flying\", \"flying\", \"flying\", \"football\", \"force\", \"force\", \"force\", \"forever\", \"fort\", \"forth\", \"fortlauderdale\", \"fortybucksoneway\", \"free\", \"free\", \"free\", \"free\", \"free\", \"free\", \"fulltime\", \"fun\", \"fun\", \"fun\", \"fun\", \"fun\", \"funeral\", \"game\", \"game\", \"gate\", \"gate\", \"gate\", \"gate\", \"gate\", \"gate\", \"gate\", \"gayfist\", \"gebo\", \"geminijets\", \"get\", \"get\", \"get\", \"get\", \"get\", \"get\", \"get\", \"getpacking\", \"global\", \"global\", \"glorious\", \"go\", \"go\", \"go\", \"go\", \"go\", \"go\", \"go\", \"go\", \"goducks\", \"golf\", \"golf\", \"google\", \"got\", \"got\", \"got\", \"got\", \"got\", \"got\", \"got\", \"great\", \"great\", \"great\", \"great\", \"great\", \"great\", \"gt\", \"guess\", \"guess\", \"guess\", \"guess\", \"gun\", \"haha\", \"happen\", \"happy\", \"happy\", \"happy\", \"happy\", \"happy\", \"happy\", \"happy\", \"havana\", \"help\", \"help\", \"help\", \"help\", \"help\", \"help\", \"highlighted\", \"hiring\", \"hog\", \"holiday\", \"holiday\", \"holiday\", \"holiday\", \"holiday\", \"holiday\", \"holidaysarecoming\", \"hollywood\", \"home\", \"home\", \"home\", \"home\", \"home\", \"home\", \"home\", \"hope\", \"hope\", \"hope\", \"hope\", \"horizon\", \"horizon\", \"hour\", \"hour\", \"hour\", \"hour\", \"hour\", \"hour\", \"hour\", \"hour\", \"hour\", \"houston\", \"houston\", \"houston\", \"hr\", \"hr\", \"hr\", \"hr\", \"https\\u2026\", \"https\\u2026\", \"https\\u2026\", \"https\\u2026\", \"https\\u2026\", \"hundred\", \"husband\", \"husband\", \"husband\", \"iah\", \"iah\", \"im\", \"im\", \"im\", \"im\", \"im\", \"im\", \"im\", \"important\", \"impose\", \"indianapolis\", \"integration\", \"international\", \"international\", \"international\", \"international\", \"international\", \"international\", \"international\", \"introduce\", \"invitationonly\", \"i\\u2019m\", \"i\\u2019m\", \"i\\u2019m\", \"i\\u2019m\", \"i\\u2019m\", \"i\\u2019m\", \"i\\u2019m\", \"i\\u2026\", \"jacksonville\", \"jetblue\", \"jetblue\", \"jetblue\", \"jetblue\", \"jetblue\", \"jetblue\", \"jetblue\", \"jetblue\", \"jetblue\", \"jetblue\", \"jfk\", \"jfk\", \"jfk\", \"jfkairport\", \"job\", \"john\", \"kate\", \"keepcolonial\", \"kill\", \"kill\", \"kpae\", \"ladder\", \"lademence\", \"ladygaga\", \"lake\", \"landing\", \"landing\", \"landing\", \"landing\", \"landing\", \"landing\", \"landing\", \"last\", \"last\", \"last\", \"last\", \"last\", \"last\", \"last\", \"lasvegasbowl\", \"late\", \"late\", \"late\", \"late\", \"lax\", \"lax\", \"lax\", \"lax\", \"lax\", \"lax\", \"leader\", \"like\", \"like\", \"like\", \"like\", \"like\", \"like\", \"listen\", \"live\", \"live\", \"live\", \"location\", \"longhauls\", \"looking\", \"looking\", \"looking\", \"looking\", \"love\", \"love\", \"love\", \"love\", \"love\", \"love\", \"love\", \"love\", \"love\", \"luggage\", \"luggage\", \"luggage\", \"luggage\", \"luggage\", \"luggage\", \"luggage\", \"luggage\", \"make\", \"make\", \"make\", \"make\", \"make\", \"make\", \"making\", \"making\", \"making\", \"man\", \"man\", \"man\", \"man\", \"manager\", \"manager\", \"market\", \"match\", \"material\", \"meat\", \"meeting\", \"metro\\u2019s\", \"million\", \"million\", \"mini\", \"miramar\", \"missing\", \"missing\", \"missing\", \"money\", \"money\", \"money\", \"move\", \"move\", \"move\", \"move\", \"move\", \"move\", \"movie\", \"n12125\", \"n753us\", \"n808an\", \"n8553w\", \"naacp\", \"nationwide\", \"need\", \"need\", \"need\", \"need\", \"need\", \"need\", \"need\", \"needed\", \"needed\", \"network\", \"never\", \"never\", \"never\", \"never\", \"never\", \"new\", \"new\", \"new\", \"new\", \"new\", \"new\", \"new\", \"new\", \"news\", \"news\", \"news\", \"next\", \"next\", \"next\", \"next\", \"next\", \"next\", \"night\", \"night\", \"night\", \"night\", \"night\", \"night\", \"night\", \"nofilter\", \"nofrills\", \"none\", \"nyc\", \"nyc\", \"nyc\", \"nyc\", \"nyc\", \"nycgtmia\", \"ohare\", \"ohare\", \"okemo\", \"one\", \"one\", \"one\", \"one\", \"one\", \"one\", \"oneworld\", \"oneworld\", \"opened\", \"opening\", \"operation\", \"orlando\", \"orlando\", \"or\\u2026\", \"others\", \"others\", \"others\", \"outstanding\", \"outstanding\", \"parttime\", \"passenger\", \"passenger\", \"passenger\", \"passenger\", \"passenger\", \"passenger\", \"passenger\", \"passenger\", \"passenger\", \"passenger\", \"people\", \"people\", \"people\", \"people\", \"people\", \"personal\", \"petition\", \"phoenix\", \"phoenix\", \"phoenixairport\", \"pig\", \"pilot\", \"pilot\", \"pilot\", \"pilot\", \"pilot\", \"pilot\", \"pilot\", \"plane\", \"plane\", \"plane\", \"plane\", \"plane\", \"plane\", \"plane\", \"plane\", \"plane\", \"planeporn\", \"planeporn\", \"planeporn\", \"planeporn\", \"planespotting\", \"pledged\", \"post\", \"premier\", \"president\", \"prince\", \"princewilliam\", \"priority\", \"priority\", \"professionalhole\", \"providing\", \"provisioning\", \"puerto\", \"q70\", \"queen\", \"queen\", \"queenoftheskies\", \"ramp\", \"read\", \"read\", \"redo\", \"removable\", \"rescue\", \"rescued\", \"resource\", \"restriction\", \"retailer\", \"retrieve\", \"retrofit\", \"retweet\", \"rico\", \"righter\", \"risk\", \"rms\", \"robbery\", \"rolling\", \"rota\", \"rt\", \"rt\", \"rt\", \"rt\", \"rt\", \"rt\", \"rt\", \"rt\", \"rt\", \"rt\", \"sale\", \"sale\", \"sale\", \"salt\", \"sanjose\", \"saying\", \"saying\", \"scammer\", \"scheduling\", \"scheduling\", \"scheduling\", \"scheduling\", \"scimitar\", \"seat\", \"seat\", \"seat\", \"seat\", \"seat\", \"seat\", \"seat\", \"seattle\", \"seattle\", \"seattle\", \"segment\", \"senior\", \"seriously\\u2026\", \"service\", \"service\", \"service\", \"service\", \"service\", \"service\", \"service\", \"service\", \"service\", \"setting\", \"shady\", \"shame\", \"shopping\", \"show\", \"show\", \"show\", \"sister\", \"sister\", \"sit\", \"sit\", \"sit\", \"smart\", \"smart\", \"smart\", \"smart\", \"smoking\", \"smoking\", \"snack\", \"snafu\", \"snafu\", \"sold\", \"southkorea\", \"southwes\", \"southwest\", \"southwest\", \"southwest\", \"southwest\", \"southwest\", \"southwest\", \"southwest\", \"southwest\", \"southwest\", \"southwestairlines\", \"southwestairlines\", \"southwestairlines\", \"southwestairlines\", \"southwestairlines\", \"southwestairlines\", \"southwestairlines\", \"southwestairlines\", \"sr\", \"stair\", \"standby\", \"standby\", \"star\", \"star\", \"starting\", \"status\", \"status\", \"status\", \"status\", \"steal\", \"sticking\", \"success\", \"supervisor\", \"supervisor\", \"supervisor\", \"supervisor\", \"sure\", \"sure\", \"sure\", \"sure\", \"suzzstravels\", \"swa\", \"swa\", \"sweet\", \"sweet\", \"sweet\", \"sweet\", \"sweetdeal\", \"systemwide\", \"take\", \"take\", \"take\", \"take\", \"take\", \"take\", \"talk\", \"talk\", \"talk\", \"tampa\", \"tech\", \"tell\", \"tell\", \"tell\", \"terminal\", \"terminal\", \"terminal\", \"terminal\", \"terminal\", \"thank\", \"thank\", \"thank\", \"thank\", \"thank\", \"thank\", \"thank\", \"thank\", \"thanks\", \"thanks\", \"thanks\", \"thanks\", \"thanks\", \"thanks\", \"thanks\", \"thanks\", \"thanks\", \"thanks\", \"there\\u2019s\", \"there\\u2019s\", \"thief\", \"threatened\", \"threatening\", \"ticket\", \"ticket\", \"ticket\", \"ticket\", \"ticket\", \"ticket\", \"ticket\", \"ticket\", \"tie\", \"time\", \"time\", \"time\", \"time\", \"time\", \"time\", \"time\", \"time\", \"time\", \"today\", \"today\", \"today\", \"today\", \"today\", \"today\", \"today\", \"today\", \"tomorrow\", \"tomorrow\", \"tomorrow\", \"tomorrow\", \"tomorrow\", \"tonight\", \"tonight\", \"tonight\", \"tonight\", \"tonight\", \"tool\", \"tour\", \"tournment\", \"trade\", \"training\", \"training\", \"transcon\", \"travel\", \"travel\", \"travel\", \"travel\", \"travel\", \"travel\", \"travel\", \"travel\", \"travel\", \"tried\", \"tried\", \"tried\", \"trip\", \"trip\", \"trip\", \"trip\", \"trip\", \"trip\", \"tuesdaythoughts\", \"turn\", \"turn\", \"turn\", \"twa\", \"u\", \"u\", \"u\", \"u\", \"u\", \"u\", \"u\", \"u\", \"u\", \"union\", \"union\", \"united\", \"united\", \"united\", \"united\", \"united\", \"unitedairlines\", \"unitedairlines\", \"unitedairlines\", \"unitedairlines\", \"unitedairlines\", \"unitedairlines\", \"unitedairlines\", \"unitedairlines\", \"unitedairlines\", \"update\", \"update\", \"usedhole\", \"via\", \"via\", \"via\", \"via\", \"via\", \"via\", \"virginamerica\", \"virginamerica\", \"virginamerica\", \"virginamerica\", \"virginamerica\", \"virginamerica\", \"virginamerica\", \"vodka\", \"vx\", \"vxfll\", \"wakey\", \"want\", \"want\", \"want\", \"want\", \"want\", \"wanted\", \"wanted\", \"way\", \"way\", \"way\", \"way\", \"website\", \"website\", \"website\", \"website\", \"website\", \"wfm\", \"wheel\", \"whyifly\", \"wifi\", \"wifi\", \"wifi\", \"wifi\", \"william\", \"william\", \"wing\", \"wing\", \"wing\", \"wingflex\", \"wonder\", \"work\", \"work\", \"work\", \"work\", \"work\", \"work\", \"work\", \"workday\", \"workforce\", \"worldwide\", \"worst\", \"worst\", \"worst\", \"worst\", \"worst\", \"worst\", \"worst\", \"worth\", \"worth\", \"worth\", \"worth\", \"worth\", \"xl\", \"york\", \"york\", \"york\", \"youll\", \"you\\u2019ll\", \"you\\u2019re\", \"you\\u2019re\", \"yr\", \"\\u2013\", \"\\u201cplease\", \"\\u201cyou\", \"\\u2022\", \"\\u2753\\u2753\", \"\\ud83d\\udc4f\\ud83d\\udc4f\", \"\\ud83d\\ude0eworkholidayparty\", \"\\ud83d\\udeeb\", \"\\ud83e\\udd1e\\ud83c\\udffbamericanairlines\", \"\\ud83e\\udd1e\\ud83c\\udffbplease\", \"\\ud83e\\udd2c\"]}, \"R\": 30, \"lambda.step\": 0.01, \"plot.opts\": {\"xlab\": \"PC1\", \"ylab\": \"PC2\"}, \"topic.order\": [4, 6, 2, 1, 3, 5, 9, 8, 7, 10]};\n",
       "\n",
       "function LDAvis_load_lib(url, callback){\n",
       "  var s = document.createElement('script');\n",
       "  s.src = url;\n",
       "  s.async = true;\n",
       "  s.onreadystatechange = s.onload = callback;\n",
       "  s.onerror = function(){console.warn(\"failed to load library \" + url);};\n",
       "  document.getElementsByTagName(\"head\")[0].appendChild(s);\n",
       "}\n",
       "\n",
       "if(typeof(LDAvis) !== \"undefined\"){\n",
       "   // already loaded: just create the visualization\n",
       "   !function(LDAvis){\n",
       "       new LDAvis(\"#\" + \"ldavis_el3401396636569018722607151153\", ldavis_el3401396636569018722607151153_data);\n",
       "   }(LDAvis);\n",
       "}else if(typeof define === \"function\" && define.amd){\n",
       "   // require.js is available: use it to load d3/LDAvis\n",
       "   require.config({paths: {d3: \"https://cdnjs.cloudflare.com/ajax/libs/d3/3.5.5/d3.min\"}});\n",
       "   require([\"d3\"], function(d3){\n",
       "      window.d3 = d3;\n",
       "      LDAvis_load_lib(\"https://cdn.rawgit.com/bmabey/pyLDAvis/files/ldavis.v1.0.0.js\", function(){\n",
       "        new LDAvis(\"#\" + \"ldavis_el3401396636569018722607151153\", ldavis_el3401396636569018722607151153_data);\n",
       "      });\n",
       "    });\n",
       "}else{\n",
       "    // require.js not available: dynamically load d3 & LDAvis\n",
       "    LDAvis_load_lib(\"https://cdnjs.cloudflare.com/ajax/libs/d3/3.5.5/d3.min.js\", function(){\n",
       "         LDAvis_load_lib(\"https://cdn.rawgit.com/bmabey/pyLDAvis/files/ldavis.v1.0.0.js\", function(){\n",
       "                 new LDAvis(\"#\" + \"ldavis_el3401396636569018722607151153\", ldavis_el3401396636569018722607151153_data);\n",
       "            })\n",
       "         });\n",
       "}\n",
       "</script>"
      ],
      "text/plain": [
       "PreparedData(topic_coordinates=            Freq  cluster  topics         x         y\n",
       "topic                                                \n",
       "3      15.034486        1       1 -0.051991 -0.156109\n",
       "5      14.572270        1       2 -0.042868  0.067768\n",
       "1      12.791315        1       3  0.286138 -0.004162\n",
       "0      11.198891        1       4 -0.039291 -0.077044\n",
       "2      10.921881        1       5 -0.013744 -0.041543\n",
       "4       8.210339        1       6 -0.078206  0.111966\n",
       "8       7.400446        1       7 -0.057230 -0.030177\n",
       "7       7.001836        1       8 -0.009917  0.087550\n",
       "6       6.734212        1       9 -0.001118  0.006877\n",
       "9       6.134325        1      10  0.008227  0.034875, topic_info=     Category        Freq               Term       Total  loglift  logprob\n",
       "term                                                                      \n",
       "97    Default  156.000000                job  156.000000  30.0000  30.0000\n",
       "131   Default  302.000000  southwestairlines  302.000000  29.0000  29.0000\n",
       "175   Default  105.000000              agent  105.000000  28.0000  28.0000\n",
       "3451  Default   75.000000              apply   75.000000  27.0000  27.0000\n",
       "1620  Default   70.000000             dallas   70.000000  26.0000  26.0000\n",
       "3074  Default   61.000000               ramp   61.000000  25.0000  25.0000\n",
       "292   Default  279.000000            jetblue  279.000000  24.0000  24.0000\n",
       "3502  Default   41.000000           parttime   41.000000  23.0000  23.0000\n",
       "242   Default   58.000000                one   58.000000  22.0000  22.0000\n",
       "528   Default   41.000000                way   41.000000  21.0000  21.0000\n",
       "4358  Default   24.000000       suzzstravels   24.000000  20.0000  20.0000\n",
       "1945  Default   24.000000          departing   24.000000  19.0000  19.0000\n",
       "53    Default  166.000000            airline  166.000000  18.0000  18.0000\n",
       "2356  Default   23.000000               golf   23.000000  17.0000  17.0000\n",
       "122   Default  542.000000   americanairlines  542.000000  16.0000  16.0000\n",
       "256   Default   81.000000              plane   81.000000  15.0000  15.0000\n",
       "2288  Default   29.000000           starting   29.000000  14.0000  14.0000\n",
       "3312  Default   31.000000               game   31.000000  13.0000  13.0000\n",
       "153   Default  117.000000             travel  117.000000  12.0000  12.0000\n",
       "3480  Default   26.000000             hiring   26.000000  11.0000  11.0000\n",
       "9     Default  236.000000     unitedairlines  236.000000  10.0000  10.0000\n",
       "4191  Default   27.000000         getpacking   27.000000   9.0000   9.0000\n",
       "8     Default   74.000000             united   74.000000   8.0000   8.0000\n",
       "1569  Default   28.000000                jfk   28.000000   7.0000   7.0000\n",
       "338   Default   70.000000                new   70.000000   6.0000   6.0000\n",
       "1676  Default   30.000000                  b   30.000000   5.0000   5.0000\n",
       "160   Default   31.000000            houston   31.000000   4.0000   4.0000\n",
       "1510  Default   80.000000           american   80.000000   3.0000   3.0000\n",
       "398   Default   43.000000           terminal   43.000000   2.0000   2.0000\n",
       "1627  Default   23.000000                  🛫   23.000000   1.0000   1.0000\n",
       "...       ...         ...                ...         ...      ...      ...\n",
       "1485  Topic10    2.321953            horizon    3.898035   2.2732  -6.2834\n",
       "1148  Topic10    2.321914         commercial    3.898037   2.2732  -6.2834\n",
       "3254  Topic10    2.319877     congratulation    3.894720   2.2732  -6.2843\n",
       "239   Topic10   10.198506               last   31.274563   1.6707  -4.8035\n",
       "1332  Topic10    4.568799               news   10.335593   1.9749  -5.6065\n",
       "379   Topic10    6.709077            chicago   19.785632   1.7098  -5.2223\n",
       "3538  Topic10    3.070964                swa    6.263490   2.0785  -6.0038\n",
       "521   Topic10    3.647189               late    9.439110   1.8404  -5.8318\n",
       "1442  Topic10    3.816110                fun   10.261574   1.8021  -5.7865\n",
       "185   Topic10    7.042638               gate   31.101118   1.3060  -5.1738\n",
       "131   Topic10   24.718414  southwestairlines  302.396229   0.2871  -3.9182\n",
       "356   Topic10    4.148995               best   13.270986   1.6286  -5.7029\n",
       "338   Topic10   10.382596                new   70.385487   0.8774  -4.7856\n",
       "122   Topic10   31.869664   americanairlines  542.834969  -0.0439  -3.6641\n",
       "53    Topic10   15.915172            airline  166.509375   0.4435  -4.3585\n",
       "22    Topic10    6.776677              first   45.731768   0.8820  -5.2123\n",
       "132   Topic10    5.182678               take   29.798584   1.0421  -5.4805\n",
       "31    Topic10    6.639879                  u   62.775366   0.5448  -5.2327\n",
       "292   Topic10   11.000550            jetblue  279.879728  -0.4451  -4.7278\n",
       "136   Topic10   10.078266             flight  318.853805  -0.6631  -4.8154\n",
       "1336  Topic10    3.800699            landing   16.529484   1.3213  -5.7906\n",
       "570   Topic10    3.763078              night   16.979151   1.2845  -5.8005\n",
       "4043  Topic10    4.367613      virginamerica   36.844839   0.6588  -5.6516\n",
       "1510  Topic10    5.253580           american   80.432798   0.0628  -5.4669\n",
       "153   Topic10    5.603784             travel  117.249656  -0.2496  -5.4023\n",
       "28    Topic10    6.551696                 rt  259.112023  -0.8863  -5.2461\n",
       "19    Topic10    4.324069              today   41.170519   0.5377  -5.6616\n",
       "335   Topic10    4.200828                got   36.575276   0.6272  -5.6905\n",
       "125   Topic10    4.263983              check   47.952917   0.3713  -5.6756\n",
       "212   Topic10    3.820055             thanks   31.694627   0.6754  -5.7855\n",
       "\n",
       "[644 rows x 6 columns], token_table=      Topic      Freq                Term\n",
       "term                                     \n",
       "4219      1  0.946456                 110\n",
       "2674      5  0.921234           1200scale\n",
       "4666      6  0.948053                1211\n",
       "4667      5  0.875319                1213\n",
       "4220      1  0.946456              121317\n",
       "1522      6  0.948053              1400th\n",
       "2312      1  0.668938                  15\n",
       "2312      2  0.191125                  15\n",
       "2312      4  0.047781                  15\n",
       "2312      6  0.047781                  15\n",
       "2312      7  0.047781                  15\n",
       "2312     10  0.047781                  15\n",
       "4332      2  0.716414                1999\n",
       "369       2  0.912328                  1k\n",
       "2198      8  0.865604                2018\n",
       "2198     10  0.123658                2018\n",
       "2810     10  0.870010                2019\n",
       "4221      1  0.946456                 214\n",
       "4222      1  0.946456                 226\n",
       "4223      1  0.946456               31418\n",
       "156       1  0.974101                 33l\n",
       "2582      2  0.850212               35000\n",
       "1368      6  0.765793                  40\n",
       "1368      9  0.085088                  40\n",
       "1368     10  0.170176                  40\n",
       "4716      2  0.716415                  70\n",
       "2259     10  0.870010               730am\n",
       "3379      6  0.808576                 737\n",
       "3379     10  0.115511                 737\n",
       "4026      8  0.853808              737800\n",
       "...     ...       ...                 ...\n",
       "452       3  0.058412               worst\n",
       "452       5  0.408884               worst\n",
       "452       8  0.058412               worst\n",
       "452       9  0.116824               worst\n",
       "452      10  0.058412               worst\n",
       "1474      2  0.105345               worth\n",
       "1474      3  0.105345               worth\n",
       "1474      4  0.105345               worth\n",
       "1474      8  0.579399               worth\n",
       "1474      9  0.052673               worth\n",
       "2945      8  0.642411                  xl\n",
       "440       2  0.571122                york\n",
       "440       3  0.317290                york\n",
       "440      10  0.063458                york\n",
       "2678      5  0.736184               youll\n",
       "4017      8  0.853808              you’ll\n",
       "1229      4  0.217443              you’re\n",
       "1229     10  0.652328              you’re\n",
       "3675      9  0.856679                  yr\n",
       "4225      1  0.931424                   –\n",
       "3869      9  0.856679             “please\n",
       "1931      9  0.856679                “you\n",
       "3952      4  0.918151                   •\n",
       "645       9  0.644849                  ❓❓\n",
       "2263     10  0.870010                  👏👏\n",
       "4094     10  0.656203   😎workholidayparty\n",
       "1627      1  0.968170                   🛫\n",
       "2400      4  0.918151  🤞🏻americanairlines\n",
       "2401      4  0.918151            🤞🏻please\n",
       "2933      7  0.637994                   🤬\n",
       "\n",
       "[1259 rows x 3 columns], R=30, lambda_step=0.01, plot_opts={'xlab': 'PC1', 'ylab': 'PC2'}, topic_order=[4, 6, 2, 1, 3, 5, 9, 8, 7, 10])"
      ]
     },
     "execution_count": 66,
     "metadata": {},
     "output_type": "execute_result"
    }
   ],
   "source": [
    "vis_data = pyLDAvis.gensim.prepare(lda_model, doc_term_matrix, dictionary)\n",
    "vis_data"
   ]
  },
  {
   "cell_type": "code",
   "execution_count": 67,
   "metadata": {},
   "outputs": [
    {
     "data": {
      "text/plain": [
       "'data/images/LDA_analysis_NB5/'"
      ]
     },
     "execution_count": 67,
     "metadata": {},
     "output_type": "execute_result"
    }
   ],
   "source": [
    "img_out_dir"
   ]
  },
  {
   "cell_type": "code",
   "execution_count": 68,
   "metadata": {},
   "outputs": [],
   "source": [
    "pyLDAvis.save_html(vis_data,img_out_dir+'lda_vis_pulled_tweets.html')"
   ]
  },
  {
   "cell_type": "code",
   "execution_count": null,
   "metadata": {},
   "outputs": [],
   "source": [
    "# credit: https://markroxor.github.io/gensim/static/notebooks/gensim_news_classification.html"
   ]
  },
  {
   "cell_type": "markdown",
   "metadata": {},
   "source": [
    "## Sklearn LDA"
   ]
  },
  {
   "cell_type": "code",
   "execution_count": 57,
   "metadata": {},
   "outputs": [],
   "source": [
    "filename = 'data/pulled_tweets/PT_all_airlines_df'\n",
    "air_df = gu.read_pickle_obj(filename)"
   ]
  },
  {
   "cell_type": "code",
   "execution_count": 69,
   "metadata": {},
   "outputs": [
    {
     "data": {
      "text/plain": [
       "Index(['date', 'text', 'clean_text', 'lemma_stopw_clean_text'], dtype='object')"
      ]
     },
     "execution_count": 69,
     "metadata": {},
     "output_type": "execute_result"
    }
   ],
   "source": [
    "air_df.columns"
   ]
  },
  {
   "cell_type": "code",
   "execution_count": 70,
   "metadata": {},
   "outputs": [],
   "source": [
    "def display_topics(model, feature_names, file2saveTopicPlot, no_words = 10, plot = False, plot_dim=(5,2)):\n",
    "    \n",
    "    topics_tokens = []\n",
    "    \n",
    "    for topic_idx, topic in enumerate(model.components_):\n",
    "\n",
    "        topic = zip(feature_names, topic)\n",
    "        topic = sorted(topic, key=lambda pair: pair[1])\n",
    "        \n",
    "        topic_words = [(token, counts)\n",
    "                       for token, counts in topic[:-no_words - 1:-1]]\n",
    "        \n",
    "        topics_tokens.append(topic_words)\n",
    "        \n",
    "        if not plot:\n",
    "            print (\"Topic %d:\" % (topic_idx))\n",
    "            print (topic_words)\n",
    "        \n",
    "    \n",
    "    if plot:\n",
    "        \n",
    "        plot_matrix = np.arange(10).reshape(5,2)\n",
    "    \n",
    "        fig, ax = plt.subplots(figsize=(10, 10), nrows=5, ncols=2)\n",
    "        \n",
    "        topics = [\n",
    "            {key: value for key, value in topic} \n",
    "                  for topic in topics_tokens\n",
    "        ]\n",
    "        \n",
    "        row = 0\n",
    "        \n",
    "        for topic_id, topic in enumerate(topics):\n",
    "            \n",
    "            column = (0 if topic_id % 2 == 0 else 1)\n",
    "                \n",
    "            chart = pd.DataFrame([topic]).iloc[0].sort_values(axis=0)\n",
    "            chart.plot(kind=\"barh\", title=\"Topic %d\" % topic_id, ax=ax[row, column])\n",
    "                \n",
    "            row += 1 if column == 1 else 0\n",
    "        \n",
    "        plt.tight_layout()\n",
    "        plt.savefig(file2saveTopicPlot)"
   ]
  },
  {
   "cell_type": "code",
   "execution_count": 72,
   "metadata": {},
   "outputs": [
    {
     "data": {
      "image/png": "[encoded data removed]",
      "text/plain": [
       "<matplotlib.figure.Figure at 0x7f05faac6400>"
      ]
     },
     "metadata": {},
     "output_type": "display_data"
    }
   ],
   "source": [
    "# All classes corpus.\n",
    "file2save_model = data_out_dir+'LDASKL_model_pulledTweets_corpus.obj'\n",
    "file2saveVectorizer = data_out_dir+'CV_pulledTweets_corpus.obj'\n",
    "file2saveTopicPlot = img_out_dir+'TopicPlot_pulledTweets_corpus'\n",
    "plot_title = \"LDA topics for data: major airlines, hashtag referenced tweets, pulled from twitter\"\n",
    "LDA_diff_corpuses(air_df['lemma_stopw_clean_text'], file2save_model, file2saveVectorizer, file2saveTopicPlot)"
   ]
  },
  {
   "cell_type": "markdown",
   "metadata": {},
   "source": [
    "## Let's display topics by document (text, tweet...)"
   ]
  },
  {
   "cell_type": "code",
   "execution_count": 101,
   "metadata": {},
   "outputs": [],
   "source": [
    "# read in pickled models.\n",
    "# lDA_model_allcl = gu.read_pickle_obj(data_out_dir+'LDASKL_model_all_classes_corpus.obj')\n",
    "# vect_allcl = gu.read_pickle_obj(data_out_dir+'CV_all_classes_corpus.obj')\n",
    "\n",
    "# lDA_model_pos = gu.read_pickle_obj(data_out_dir+'LDASKL_model_positive_class_corpus.obj')\n",
    "# vect_pos = gu.read_pickle_obj(data_out_dir+'CV_positive_class_corpus.obj')\n",
    "\n",
    "# lDA_model_neg = gu.read_pickle_obj(data_out_dir+'LDASKL_model_negative_class_corpus.obj')\n",
    "# vect_neg = gu.read_pickle_obj(data_out_dir+'CV_negative_class_corpus.obj')\n",
    "\n",
    "# lDA_model_net = gu.read_pickle_obj(data_out_dir+'LDASKL_model_neutral_class_corpus.obj')\n",
    "# vect_neut = gu.read_pickle_obj(data_out_dir+'CV_neutral_class_corpus.obj')"
   ]
  },
  {
   "cell_type": "code",
   "execution_count": 102,
   "metadata": {},
   "outputs": [],
   "source": [
    "# all classes data."
   ]
  },
  {
   "cell_type": "code",
   "execution_count": null,
   "metadata": {},
   "outputs": [],
   "source": [
    "cleaned_corpus = air_df['lemma_stopw_clean_text']\n",
    "dtm = vect_allcl.transform(cleaned_corpus)\n",
    "comp = lDA_model_allcl.transform(test2)"
   ]
  },
  {
   "cell_type": "code",
   "execution_count": 123,
   "metadata": {},
   "outputs": [
    {
     "data": {
      "text/html": [
       "<div>\n",
       "<table border=\"1\" class=\"dataframe\">\n",
       "  <thead>\n",
       "    <tr style=\"text-align: right;\">\n",
       "      <th></th>\n",
       "      <th>topic 0</th>\n",
       "      <th>topic 1</th>\n",
       "      <th>topic 2</th>\n",
       "      <th>topic 3</th>\n",
       "      <th>topic 4</th>\n",
       "      <th>topic 5</th>\n",
       "      <th>topic 6</th>\n",
       "      <th>topic 7</th>\n",
       "      <th>topic 8</th>\n",
       "      <th>topic 9</th>\n",
       "    </tr>\n",
       "  </thead>\n",
       "  <tbody>\n",
       "    <tr>\n",
       "      <th>0</th>\n",
       "      <td>0.050006</td>\n",
       "      <td>0.050009</td>\n",
       "      <td>0.050009</td>\n",
       "      <td>0.050012</td>\n",
       "      <td>0.050006</td>\n",
       "      <td>0.549939</td>\n",
       "      <td>0.050008</td>\n",
       "      <td>0.050004</td>\n",
       "      <td>0.050003</td>\n",
       "      <td>0.050004</td>\n",
       "    </tr>\n",
       "    <tr>\n",
       "      <th>1</th>\n",
       "      <td>0.005001</td>\n",
       "      <td>0.005000</td>\n",
       "      <td>0.954994</td>\n",
       "      <td>0.005001</td>\n",
       "      <td>0.005000</td>\n",
       "      <td>0.005001</td>\n",
       "      <td>0.005000</td>\n",
       "      <td>0.005000</td>\n",
       "      <td>0.005001</td>\n",
       "      <td>0.005001</td>\n",
       "    </tr>\n",
       "    <tr>\n",
       "      <th>2</th>\n",
       "      <td>0.012501</td>\n",
       "      <td>0.012501</td>\n",
       "      <td>0.012502</td>\n",
       "      <td>0.012501</td>\n",
       "      <td>0.012501</td>\n",
       "      <td>0.012502</td>\n",
       "      <td>0.887486</td>\n",
       "      <td>0.012502</td>\n",
       "      <td>0.012501</td>\n",
       "      <td>0.012502</td>\n",
       "    </tr>\n",
       "    <tr>\n",
       "      <th>3</th>\n",
       "      <td>0.003847</td>\n",
       "      <td>0.003847</td>\n",
       "      <td>0.965379</td>\n",
       "      <td>0.003847</td>\n",
       "      <td>0.003847</td>\n",
       "      <td>0.003847</td>\n",
       "      <td>0.003847</td>\n",
       "      <td>0.003847</td>\n",
       "      <td>0.003847</td>\n",
       "      <td>0.003847</td>\n",
       "    </tr>\n",
       "    <tr>\n",
       "      <th>4</th>\n",
       "      <td>0.008335</td>\n",
       "      <td>0.924987</td>\n",
       "      <td>0.008335</td>\n",
       "      <td>0.008335</td>\n",
       "      <td>0.008335</td>\n",
       "      <td>0.008335</td>\n",
       "      <td>0.008335</td>\n",
       "      <td>0.008334</td>\n",
       "      <td>0.008335</td>\n",
       "      <td>0.008334</td>\n",
       "    </tr>\n",
       "  </tbody>\n",
       "</table>\n",
       "</div>"
      ],
      "text/plain": [
       "    topic 0   topic 1   topic 2   topic 3   topic 4   topic 5   topic 6  \\\n",
       "0  0.050006  0.050009  0.050009  0.050012  0.050006  0.549939  0.050008   \n",
       "1  0.005001  0.005000  0.954994  0.005001  0.005000  0.005001  0.005000   \n",
       "2  0.012501  0.012501  0.012502  0.012501  0.012501  0.012502  0.887486   \n",
       "3  0.003847  0.003847  0.965379  0.003847  0.003847  0.003847  0.003847   \n",
       "4  0.008335  0.924987  0.008335  0.008335  0.008335  0.008335  0.008335   \n",
       "\n",
       "    topic 7   topic 8   topic 9  \n",
       "0  0.050004  0.050003  0.050004  \n",
       "1  0.005000  0.005001  0.005001  \n",
       "2  0.012502  0.012501  0.012502  \n",
       "3  0.003847  0.003847  0.003847  \n",
       "4  0.008334  0.008335  0.008334  "
      ]
     },
     "execution_count": 123,
     "metadata": {},
     "output_type": "execute_result"
    }
   ],
   "source": [
    "document_topics = pd.DataFrame(comp, columns=[\"topic %d\" % i for i in range(comp.shape[1])])\n",
    "document_topics.head(5)"
   ]
  },
  {
   "cell_type": "markdown",
   "metadata": {},
   "source": [
    "## Let's take a look at the highest rated topic 0 documents¶"
   ]
  },
  {
   "cell_type": "code",
   "execution_count": 119,
   "metadata": {},
   "outputs": [
    {
     "data": {
      "text/html": [
       "<div>\n",
       "<table border=\"1\" class=\"dataframe\">\n",
       "  <thead>\n",
       "    <tr style=\"text-align: right;\">\n",
       "      <th></th>\n",
       "      <th>topic 0</th>\n",
       "      <th>topic 1</th>\n",
       "      <th>topic 2</th>\n",
       "      <th>topic 3</th>\n",
       "      <th>topic 4</th>\n",
       "      <th>topic 5</th>\n",
       "      <th>topic 6</th>\n",
       "      <th>topic 7</th>\n",
       "      <th>topic 8</th>\n",
       "      <th>topic 9</th>\n",
       "    </tr>\n",
       "  </thead>\n",
       "  <tbody>\n",
       "    <tr>\n",
       "      <th>27</th>\n",
       "      <td>0.962496</td>\n",
       "      <td>0.004167</td>\n",
       "      <td>0.004167</td>\n",
       "      <td>0.004167</td>\n",
       "      <td>0.004167</td>\n",
       "      <td>0.004167</td>\n",
       "      <td>0.004167</td>\n",
       "      <td>0.004167</td>\n",
       "      <td>0.004167</td>\n",
       "      <td>0.004167</td>\n",
       "    </tr>\n",
       "    <tr>\n",
       "      <th>32</th>\n",
       "      <td>0.887479</td>\n",
       "      <td>0.012502</td>\n",
       "      <td>0.012503</td>\n",
       "      <td>0.012503</td>\n",
       "      <td>0.012502</td>\n",
       "      <td>0.012502</td>\n",
       "      <td>0.012502</td>\n",
       "      <td>0.012501</td>\n",
       "      <td>0.012503</td>\n",
       "      <td>0.012502</td>\n",
       "    </tr>\n",
       "    <tr>\n",
       "      <th>42</th>\n",
       "      <td>0.943745</td>\n",
       "      <td>0.006251</td>\n",
       "      <td>0.006251</td>\n",
       "      <td>0.006250</td>\n",
       "      <td>0.006250</td>\n",
       "      <td>0.006251</td>\n",
       "      <td>0.006251</td>\n",
       "      <td>0.006250</td>\n",
       "      <td>0.006251</td>\n",
       "      <td>0.006250</td>\n",
       "    </tr>\n",
       "    <tr>\n",
       "      <th>64</th>\n",
       "      <td>0.959085</td>\n",
       "      <td>0.004546</td>\n",
       "      <td>0.004546</td>\n",
       "      <td>0.004546</td>\n",
       "      <td>0.004546</td>\n",
       "      <td>0.004546</td>\n",
       "      <td>0.004547</td>\n",
       "      <td>0.004546</td>\n",
       "      <td>0.004546</td>\n",
       "      <td>0.004546</td>\n",
       "    </tr>\n",
       "    <tr>\n",
       "      <th>80</th>\n",
       "      <td>0.959086</td>\n",
       "      <td>0.004546</td>\n",
       "      <td>0.004546</td>\n",
       "      <td>0.004546</td>\n",
       "      <td>0.004546</td>\n",
       "      <td>0.004546</td>\n",
       "      <td>0.004546</td>\n",
       "      <td>0.004546</td>\n",
       "      <td>0.004546</td>\n",
       "      <td>0.004546</td>\n",
       "    </tr>\n",
       "  </tbody>\n",
       "</table>\n",
       "</div>"
      ],
      "text/plain": [
       "     topic 0   topic 1   topic 2   topic 3   topic 4   topic 5   topic 6  \\\n",
       "27  0.962496  0.004167  0.004167  0.004167  0.004167  0.004167  0.004167   \n",
       "32  0.887479  0.012502  0.012503  0.012503  0.012502  0.012502  0.012502   \n",
       "42  0.943745  0.006251  0.006251  0.006250  0.006250  0.006251  0.006251   \n",
       "64  0.959085  0.004546  0.004546  0.004546  0.004546  0.004546  0.004547   \n",
       "80  0.959086  0.004546  0.004546  0.004546  0.004546  0.004546  0.004546   \n",
       "\n",
       "     topic 7   topic 8   topic 9  \n",
       "27  0.004167  0.004167  0.004167  \n",
       "32  0.012501  0.012503  0.012502  \n",
       "42  0.006250  0.006251  0.006250  \n",
       "64  0.004546  0.004546  0.004546  \n",
       "80  0.004546  0.004546  0.004546  "
      ]
     },
     "execution_count": 119,
     "metadata": {},
     "output_type": "execute_result"
    }
   ],
   "source": [
    "top_topics = document_topics['topic 0'] > .8\n",
    "top_docs_topic_0 = document_topics[top_topics]\n",
    "top_docs_topic_0.head(5)"
   ]
  },
  {
   "cell_type": "code",
   "execution_count": 121,
   "metadata": {},
   "outputs": [
    {
     "data": {
      "text/plain": [
       "27     plz help win bid upgrade flight 227 laxgtsea e...\n",
       "32                                wish flew atlanta soon\n",
       "42     heyyyy guyyyys trying get hour someone call pl...\n",
       "64     website btw new website isnt great user experi...\n",
       "80     beautiful frontend design right cool still boo...\n",
       "93           another delayed flight likingyoulessandless\n",
       "118    normal receive reply central baggage baggageis...\n",
       "120                             jump dallasaustin market\n",
       "123             begin dallasaustin flight april 889 ketr\n",
       "124    congrats got business ewr sfolax fuck fl1289 s...\n",
       "Name: lemma_stopw_clean_text, dtype: object"
      ]
     },
     "execution_count": 121,
     "metadata": {},
     "output_type": "execute_result"
    }
   ],
   "source": [
    "cleaned_corpus[top_docs_topic_0.index.values[:10]]"
   ]
  },
  {
   "cell_type": "markdown",
   "metadata": {},
   "source": [
    "## Let's check out the documents within the source content¶"
   ]
  },
  {
   "cell_type": "code",
   "execution_count": 124,
   "metadata": {},
   "outputs": [
    {
     "data": {
      "text/plain": [
       "27     plz help win bid upgrade flight 227 laxgtsea e...\n",
       "32                                wish flew atlanta soon\n",
       "42     heyyyy guyyyys trying get hour someone call pl...\n",
       "64     website btw new website isnt great user experi...\n",
       "80     beautiful frontend design right cool still boo...\n",
       "93           another delayed flight likingyoulessandless\n",
       "118    normal receive reply central baggage baggageis...\n",
       "120                             jump dallasaustin market\n",
       "123             begin dallasaustin flight april 889 ketr\n",
       "124    congrats got business ewr sfolax fuck fl1289 s...\n",
       "Name: lemma_stopw_clean_text, dtype: object"
      ]
     },
     "execution_count": 124,
     "metadata": {},
     "output_type": "execute_result"
    }
   ],
   "source": [
    "top_documents = top_docs_topic_0.index.values\n",
    "cleaned_corpus[top_documents].head(10)"
   ]
  },
  {
   "cell_type": "code",
   "execution_count": null,
   "metadata": {},
   "outputs": [],
   "source": [
    "# Note: In sklearn we get pseudocounts. In Gensim, we get probabilities."
   ]
  },
  {
   "cell_type": "code",
   "execution_count": null,
   "metadata": {},
   "outputs": [],
   "source": [
    "# Credits: Dave's LDA lesson."
   ]
  },
  {
   "cell_type": "code",
   "execution_count": null,
   "metadata": {},
   "outputs": [],
   "source": [
    "# I can cotinue to look into this and study it with unclassified data.\n",
    "# pull tweets, use unsupervised learning method LDA, to identify topics within the corpus of tweets."
   ]
  }
 ],
 "metadata": {
  "kernelspec": {
   "display_name": "Python 3",
   "language": "python",
   "name": "python3"
  },
  "language_info": {
   "codemirror_mode": {
    "name": "ipython",
    "version": 3
   },
   "file_extension": ".py",
   "mimetype": "text/x-python",
   "name": "python",
   "nbconvert_exporter": "python",
   "pygments_lexer": "ipython3",
   "version": "3.6.2"
  }
 },
 "nbformat": 4,
 "nbformat_minor": 2
}
