{
 "cells": [
  {
   "cell_type": "code",
   "execution_count": 20,
   "metadata": {},
   "outputs": [],
   "source": [
    "#!pip install tweepy"
   ]
  },
  {
   "cell_type": "code",
   "execution_count": 1,
   "metadata": {},
   "outputs": [
    {
     "name": "stdout",
     "output_type": "stream",
     "text": [
      "/home/jovyan/GA_DSI/Projects/capstone\n"
     ]
    }
   ],
   "source": [
    "cd /home/jovyan/GA_DSI/Projects/capstone/"
   ]
  },
  {
   "cell_type": "code",
   "execution_count": 2,
   "metadata": {},
   "outputs": [],
   "source": [
    "import tweepy\n",
    "import twitter\n",
    "from twitter import OAuth \n",
    "from twitter import TwitterStream \n",
    "import csv\n",
    "import pickle\n",
    "import pandas as pd\n",
    "from tqdm import tqdm\n",
    "from time import sleep\n",
    "import pymongo\n",
    "import lib.mongo_utilities as mongo"
   ]
  },
  {
   "cell_type": "markdown",
   "metadata": {},
   "source": [
    "## Data acquisition from twitter."
   ]
  },
  {
   "cell_type": "code",
   "execution_count": 77,
   "metadata": {},
   "outputs": [],
   "source": [
    "####input your credentials here\n",
    "my_auth_dict={\n",
    "               'CONSUMER_KEY':'vSDP5sxilw6chhuD2CwtEyOmw',\n",
    "               'CONSUMER_SECRET':'burFncmKxLlZme9IHwukubgXSi8CqHrTzg7ui0x09M2tQ7nOUb',\n",
    "               'ACCESS_TOKEN':'930880332827521024-isEVd6n420hBVlriG5eRQaFA0PIu6bD',\n",
    "               'ACCESS_SECRET':'klQlKPoVHVBWAa2XL0pmM7DBzLBcb42sUPhlzN8hgugvU'\n",
    "             }\n",
    "\n",
    "# authentication for twitterstream\n",
    "oauth = OAuth(my_auth_dict['ACCESS_TOKEN'],\n",
    "              my_auth_dict['ACCESS_SECRET'],\n",
    "              my_auth_dict['CONSUMER_KEY'],\n",
    "              my_auth_dict['CONSUMER_SECRET'])\n",
    "\n",
    "twitter_stream = TwitterStream(auth=oauth)\n",
    "\n",
    "# authentication for tweepy.\n",
    "consumer_key = my_auth_dict['CONSUMER_KEY']\n",
    "consumer_secret = my_auth_dict['CONSUMER_SECRET']\n",
    "access_token = my_auth_dict['ACCESS_TOKEN']\n",
    "access_token_secret = my_auth_dict['ACCESS_SECRET']\n",
    "\n",
    "auth = tweepy.OAuthHandler(consumer_key, consumer_secret)\n",
    "auth.set_access_token(access_token, access_token_secret)\n",
    "api = tweepy.API(auth,wait_on_rate_limit=True)"
   ]
  },
  {
   "cell_type": "code",
   "execution_count": 11,
   "metadata": {},
   "outputs": [],
   "source": [
    "# Getting extended text from user timeline.\n",
    "# new_tweets = api.user_timeline(screen_name = screen_name,count=200, tweet_mode=\"extended\")\n",
    "# tweets = [[tweet.full_text] for tweet in new_tweets]"
   ]
  },
  {
   "cell_type": "code",
   "execution_count": 11,
   "metadata": {},
   "outputs": [],
   "source": [
    "# airline_twit_handles = ['@VirginAmerica', '@united', '@SouthwestAir',\n",
    "#                        '@JetBlue', '@USAirways', '@AmericanAir', '@Delta']\n",
    "\n",
    "# hashtags: #unitedAIRLINES, #americanAIRLINES, #southWestAIRLINES, #virginAmerica\n",
    "#            USAirways, #JetBlue, #Delta"
   ]
  },
  {
   "cell_type": "code",
   "execution_count": null,
   "metadata": {},
   "outputs": [],
   "source": [
    "# The following method collects tweets for a give airline and stores in a csvfile."
   ]
  },
  {
   "cell_type": "code",
   "execution_count": 7,
   "metadata": {},
   "outputs": [],
   "source": [
    "def pull_tweets_store_csv(airline, filename, date, num_tweets):\n",
    "    '''\n",
    "    This method pulls tweets from twitter and saves them to a csv file.\n",
    "    '''\n",
    "    \n",
    "    # Open/Create a file to append data\n",
    "    csvFile = open(filename, 'a')\n",
    "\n",
    "    #Use csv Writer\n",
    "    csvWriter = csv.writer(csvFile)\n",
    "\n",
    "    for tweet in tweepy.Cursor(api.search,q=\"#\"+airline,count=num_tweets,\n",
    "                               lang=\"en\",\n",
    "                               tweet_mode='extended',\n",
    "                               since=date).items():\n",
    "        \n",
    "        print (tweet.created_at, tweet.full_text)\n",
    "        csvWriter.writerow([airline, tweet.created_at, tweet.full_text.encode('utf-8')])\n",
    "                                                                              "
   ]
  },
  {
   "cell_type": "code",
   "execution_count": 104,
   "metadata": {},
   "outputs": [],
   "source": [
    "def tweepy_pull_tweets_store_db(airline, coll_ref, date, num_tweets):\n",
    "    '''\n",
    "    This method pulls tweets from twitter and saves them to mongo database.\n",
    "    '''\n",
    "    for tweet in tweepy.Cursor(api.search,\n",
    "                               q = \"#\" + airline,\n",
    "                               count = num_tweets,\n",
    "                               lang=\"en\",\n",
    "                               tweet_mode = 'extended',\n",
    "                               since=date).items():\n",
    "        \n",
    "        print (airline, tweet.created_at, tweet.full_text)\n",
    "        \n",
    "        # insert into database. \n",
    "        # coll_ref is handle to the collection in the database.\n",
    "        coll_ref.insert_one({'airline': airline, 'date': tweet.created_at, 'text': tweet.full_text})\n"
   ]
  },
  {
   "cell_type": "code",
   "execution_count": null,
   "metadata": {},
   "outputs": [],
   "source": [
    "# pull 1000 tweets for each airline.\n",
    "filename = \"data/csvfiles/pulled_airline_tweets.csv\"\n",
    "date = \"2017-12-05\"\n",
    "airline_name = [\"UnitedAirlines\", \"AmericanAirlines\", \"SouthWestAirlines\",\n",
    "                \"VirginAmerica\", \"USAirways\", \"JetBlue\", \"Delta\"]\n",
    "    \n",
    "for name in tqdm(airline_name):\n",
    "    pull_tweets_store_csv(name, filename, date, num_tweets=100)\n",
    "    "
   ]
  },
  {
   "cell_type": "code",
   "execution_count": 112,
   "metadata": {},
   "outputs": [],
   "source": [
    "df = pd.read_csv(\"data/csvfiles/test1.csv\", \n",
    "                 encoding='utf-8', \n",
    "                 header=None,\n",
    "                 names=['airline', 'date', 'tweet'])"
   ]
  },
  {
   "cell_type": "code",
   "execution_count": 113,
   "metadata": {},
   "outputs": [
    {
     "data": {
      "text/plain": [
       "(2904, 3)"
      ]
     },
     "execution_count": 113,
     "metadata": {},
     "output_type": "execute_result"
    }
   ],
   "source": [
    "df.shape"
   ]
  },
  {
   "cell_type": "code",
   "execution_count": 116,
   "metadata": {},
   "outputs": [
    {
     "data": {
      "text/plain": [
       "\"b'RT @MADlitMelll: #unitedAIRLINES this is absurd \\\\\\\\U0001f624 https://t.co/eW9UYEqpW0'\""
      ]
     },
     "execution_count": 116,
     "metadata": {},
     "output_type": "execute_result"
    }
   ],
   "source": [
    "df.tweet[0]"
   ]
  },
  {
   "cell_type": "code",
   "execution_count": 45,
   "metadata": {},
   "outputs": [],
   "source": [
    "# Somehow not writing emojis correctly to file, or maybe reading incorrectly... explore."
   ]
  },
  {
   "cell_type": "code",
   "execution_count": null,
   "metadata": {},
   "outputs": [],
   "source": [
    "#*************************** Insert tweets into database. *******************************"
   ]
  },
  {
   "cell_type": "code",
   "execution_count": 106,
   "metadata": {},
   "outputs": [],
   "source": [
    "mongo_IP = '34.213.243.241'\n",
    "mongo_port = 27016\n",
    "mongoDBname = \"airline_database\"\n",
    "collec_name = \"new_airline_tweets\"\n",
    "\n",
    "# Instantiate client to our Mongo Server\n",
    "client = pymongo.MongoClient(mongo_IP,mongo_port)    \n",
    "# get a handle to the twitter database\n",
    "db_ref = client[mongoDBname]    \n",
    "# get a reference to specified collection. If it does not exist, it will be created.\n",
    "coll_ref = db_ref[collec_name]"
   ]
  },
  {
   "cell_type": "code",
   "execution_count": 111,
   "metadata": {},
   "outputs": [
    {
     "data": {
      "text/plain": [
       "(['admin',\n",
       "  'airline_database',\n",
       "  'local',\n",
       "  'test',\n",
       "  'twit_database',\n",
       "  'wiki_database'],\n",
       " ['new_airline_tweets', 'airline_tweets'],\n",
       " 7061)"
      ]
     },
     "execution_count": 111,
     "metadata": {},
     "output_type": "execute_result"
    }
   ],
   "source": [
    "mongo.mongoDB_get_DBnames(), mongo.mongoDB_get_collection_names(mongoDBname), coll_ref.count()"
   ]
  },
  {
   "cell_type": "code",
   "execution_count": 108,
   "metadata": {},
   "outputs": [],
   "source": [
    "# Get tweets since this date.\n",
    "airline_names = [\"UnitedAirlines\", \"AmericanAirlines\", \"SouthWestAirlines\",\n",
    "                \"VirginAmerica\", \"USAirways\", \"JetBlue\", \"Delta\"]\n",
    "date_since = \"2017-12-27\""
   ]
  },
  {
   "cell_type": "code",
   "execution_count": null,
   "metadata": {},
   "outputs": [],
   "source": [
    "# pull tweets and store in database.\n",
    "for airline in airline_names:\n",
    "    print(airline)\n",
    "    tweepy_pull_tweets_store_db(airline, coll_ref, date_since, num_tweets = 100)"
   ]
  },
  {
   "cell_type": "code",
   "execution_count": 110,
   "metadata": {},
   "outputs": [
    {
     "data": {
      "text/plain": [
       "7061"
      ]
     },
     "execution_count": 110,
     "metadata": {},
     "output_type": "execute_result"
    }
   ],
   "source": [
    "coll_ref.count()"
   ]
  },
  {
   "cell_type": "markdown",
   "metadata": {},
   "source": [
    "### Now let's read the stored tweets."
   ]
  },
  {
   "cell_type": "code",
   "execution_count": 112,
   "metadata": {},
   "outputs": [],
   "source": [
    "mongoDBname = \"airline_database\"\n",
    "collec_name = \"new_airline_tweets\""
   ]
  },
  {
   "cell_type": "code",
   "execution_count": 113,
   "metadata": {},
   "outputs": [],
   "source": [
    "airline_tw_collec = mongo.mongoDB_read_collection(mongoDBname, collec_name)"
   ]
  },
  {
   "cell_type": "code",
   "execution_count": 114,
   "metadata": {},
   "outputs": [
    {
     "data": {
      "text/plain": [
       "list"
      ]
     },
     "execution_count": 114,
     "metadata": {},
     "output_type": "execute_result"
    }
   ],
   "source": [
    "type(airline_tw_collec)"
   ]
  },
  {
   "cell_type": "code",
   "execution_count": 115,
   "metadata": {},
   "outputs": [
    {
     "data": {
      "text/html": [
       "<div>\n",
       "<table border=\"1\" class=\"dataframe\">\n",
       "  <thead>\n",
       "    <tr style=\"text-align: right;\">\n",
       "      <th></th>\n",
       "      <th>_id</th>\n",
       "      <th>airline</th>\n",
       "      <th>date</th>\n",
       "      <th>text</th>\n",
       "    </tr>\n",
       "  </thead>\n",
       "  <tbody>\n",
       "    <tr>\n",
       "      <th>0</th>\n",
       "      <td>5a5535a91fac9004a2f202d6</td>\n",
       "      <td>UnitedAirlines</td>\n",
       "      <td>2018-01-09 21:19:36</td>\n",
       "      <td>Kudos to the #unitedairlines staff for helping...</td>\n",
       "    </tr>\n",
       "    <tr>\n",
       "      <th>1</th>\n",
       "      <td>5a5535a91fac9004a2f202d7</td>\n",
       "      <td>UnitedAirlines</td>\n",
       "      <td>2018-01-09 21:06:39</td>\n",
       "      <td>And the painful experience with  @united conti...</td>\n",
       "    </tr>\n",
       "  </tbody>\n",
       "</table>\n",
       "</div>"
      ],
      "text/plain": [
       "                        _id         airline                date  \\\n",
       "0  5a5535a91fac9004a2f202d6  UnitedAirlines 2018-01-09 21:19:36   \n",
       "1  5a5535a91fac9004a2f202d7  UnitedAirlines 2018-01-09 21:06:39   \n",
       "\n",
       "                                                text  \n",
       "0  Kudos to the #unitedairlines staff for helping...  \n",
       "1  And the painful experience with  @united conti...  "
      ]
     },
     "execution_count": 115,
     "metadata": {},
     "output_type": "execute_result"
    }
   ],
   "source": [
    "df = pd.DataFrame(airline_tw_collec)\n",
    "df.head(2)"
   ]
  },
  {
   "cell_type": "code",
   "execution_count": 116,
   "metadata": {},
   "outputs": [
    {
     "data": {
      "text/plain": [
       "(7061, 4)"
      ]
     },
     "execution_count": 116,
     "metadata": {},
     "output_type": "execute_result"
    }
   ],
   "source": [
    "df.shape "
   ]
  },
  {
   "cell_type": "code",
   "execution_count": 117,
   "metadata": {},
   "outputs": [],
   "source": [
    "df.drop('_id', axis = 1,inplace=True)"
   ]
  },
  {
   "cell_type": "code",
   "execution_count": 119,
   "metadata": {},
   "outputs": [
    {
     "data": {
      "text/plain": [
       "(7061, 3)"
      ]
     },
     "execution_count": 119,
     "metadata": {},
     "output_type": "execute_result"
    }
   ],
   "source": [
    "df.shape "
   ]
  },
  {
   "cell_type": "code",
   "execution_count": 120,
   "metadata": {},
   "outputs": [
    {
     "data": {
      "text/html": [
       "<div>\n",
       "<table border=\"1\" class=\"dataframe\">\n",
       "  <thead>\n",
       "    <tr style=\"text-align: right;\">\n",
       "      <th></th>\n",
       "      <th>airline</th>\n",
       "      <th>date</th>\n",
       "      <th>text</th>\n",
       "    </tr>\n",
       "  </thead>\n",
       "  <tbody>\n",
       "    <tr>\n",
       "      <th>0</th>\n",
       "      <td>UnitedAirlines</td>\n",
       "      <td>2018-01-09 21:19:36</td>\n",
       "      <td>Kudos to the #unitedairlines staff for helping...</td>\n",
       "    </tr>\n",
       "    <tr>\n",
       "      <th>1</th>\n",
       "      <td>UnitedAirlines</td>\n",
       "      <td>2018-01-09 21:06:39</td>\n",
       "      <td>And the painful experience with  @united conti...</td>\n",
       "    </tr>\n",
       "    <tr>\n",
       "      <th>2</th>\n",
       "      <td>UnitedAirlines</td>\n",
       "      <td>2018-01-09 21:02:07</td>\n",
       "      <td>@united is the shittiest airline company I hav...</td>\n",
       "    </tr>\n",
       "    <tr>\n",
       "      <th>3</th>\n",
       "      <td>UnitedAirlines</td>\n",
       "      <td>2018-01-09 20:56:00</td>\n",
       "      <td>Oh joy. You came home. #lostluggage #unitedair...</td>\n",
       "    </tr>\n",
       "    <tr>\n",
       "      <th>4</th>\n",
       "      <td>UnitedAirlines</td>\n",
       "      <td>2018-01-09 20:49:48</td>\n",
       "      <td>RT @officiParas: #UnitedAirlines Offers Custom...</td>\n",
       "    </tr>\n",
       "  </tbody>\n",
       "</table>\n",
       "</div>"
      ],
      "text/plain": [
       "          airline                date  \\\n",
       "0  UnitedAirlines 2018-01-09 21:19:36   \n",
       "1  UnitedAirlines 2018-01-09 21:06:39   \n",
       "2  UnitedAirlines 2018-01-09 21:02:07   \n",
       "3  UnitedAirlines 2018-01-09 20:56:00   \n",
       "4  UnitedAirlines 2018-01-09 20:49:48   \n",
       "\n",
       "                                                text  \n",
       "0  Kudos to the #unitedairlines staff for helping...  \n",
       "1  And the painful experience with  @united conti...  \n",
       "2  @united is the shittiest airline company I hav...  \n",
       "3  Oh joy. You came home. #lostluggage #unitedair...  \n",
       "4  RT @officiParas: #UnitedAirlines Offers Custom...  "
      ]
     },
     "execution_count": 120,
     "metadata": {},
     "output_type": "execute_result"
    }
   ],
   "source": [
    "df.head()"
   ]
  },
  {
   "cell_type": "code",
   "execution_count": 121,
   "metadata": {},
   "outputs": [
    {
     "data": {
      "text/plain": [
       "array(['UnitedAirlines', 'AmericanAirlines', 'SouthWestAirlines',\n",
       "       'VirginAmerica', 'USAirways', 'JetBlue', 'Delta'], dtype=object)"
      ]
     },
     "execution_count": 121,
     "metadata": {},
     "output_type": "execute_result"
    }
   ],
   "source": [
    "df.airline.unique()"
   ]
  },
  {
   "cell_type": "code",
   "execution_count": 122,
   "metadata": {},
   "outputs": [],
   "source": [
    "filename = 'data/pulled_tweets/PT_all_airlines_df'\n",
    "filehandler = open(filename,\"wb\")\n",
    "pickle.dump(df, filehandler)"
   ]
  },
  {
   "cell_type": "code",
   "execution_count": null,
   "metadata": {},
   "outputs": [],
   "source": []
  }
 ],
 "metadata": {
  "kernelspec": {
   "display_name": "Python 3",
   "language": "python",
   "name": "python3"
  },
  "language_info": {
   "codemirror_mode": {
    "name": "ipython",
    "version": 3
   },
   "file_extension": ".py",
   "mimetype": "text/x-python",
   "name": "python",
   "nbconvert_exporter": "python",
   "pygments_lexer": "ipython3",
   "version": "3.6.2"
  }
 },
 "nbformat": 4,
 "nbformat_minor": 2
}
